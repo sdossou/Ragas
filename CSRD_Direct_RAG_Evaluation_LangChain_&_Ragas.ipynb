{
  "nbformat": 4,
  "nbformat_minor": 0,
  "metadata": {
    "colab": {
      "provenance": [],
      "include_colab_link": true
    },
    "kernelspec": {
      "name": "python3",
      "display_name": "Python 3"
    },
    "language_info": {
      "name": "python"
    },
    "widgets": {
      "application/vnd.jupyter.widget-state+json": {
        "c660d9c7af9c43e5811ae08b071c15ed": {
          "model_module": "@jupyter-widgets/controls",
          "model_name": "HBoxModel",
          "model_module_version": "1.5.0",
          "state": {
            "_dom_classes": [],
            "_model_module": "@jupyter-widgets/controls",
            "_model_module_version": "1.5.0",
            "_model_name": "HBoxModel",
            "_view_count": null,
            "_view_module": "@jupyter-widgets/controls",
            "_view_module_version": "1.5.0",
            "_view_name": "HBoxView",
            "box_style": "",
            "children": [
              "IPY_MODEL_6a0bc937d32b466a8f3f7750070731ab",
              "IPY_MODEL_e501e334a1b84a20b58b12a3e6729257",
              "IPY_MODEL_b6f40c62b6fe491199479b9fee9d8908"
            ],
            "layout": "IPY_MODEL_d583b07a121b42b9aa0ac29ecaa19ce9"
          }
        },
        "6a0bc937d32b466a8f3f7750070731ab": {
          "model_module": "@jupyter-widgets/controls",
          "model_name": "HTMLModel",
          "model_module_version": "1.5.0",
          "state": {
            "_dom_classes": [],
            "_model_module": "@jupyter-widgets/controls",
            "_model_module_version": "1.5.0",
            "_model_name": "HTMLModel",
            "_view_count": null,
            "_view_module": "@jupyter-widgets/controls",
            "_view_module_version": "1.5.0",
            "_view_name": "HTMLView",
            "description": "",
            "description_tooltip": null,
            "layout": "IPY_MODEL_7c9619e90d8a4a07aef4e9be5e060f42",
            "placeholder": "​",
            "style": "IPY_MODEL_b0afd566d868402baefc6d59730433ec",
            "value": "embedding nodes: 100%"
          }
        },
        "e501e334a1b84a20b58b12a3e6729257": {
          "model_module": "@jupyter-widgets/controls",
          "model_name": "FloatProgressModel",
          "model_module_version": "1.5.0",
          "state": {
            "_dom_classes": [],
            "_model_module": "@jupyter-widgets/controls",
            "_model_module_version": "1.5.0",
            "_model_name": "FloatProgressModel",
            "_view_count": null,
            "_view_module": "@jupyter-widgets/controls",
            "_view_module_version": "1.5.0",
            "_view_name": "ProgressView",
            "bar_style": "",
            "description": "",
            "description_tooltip": null,
            "layout": "IPY_MODEL_20eec9ca7bb14688a5743cc86c62429a",
            "max": 836,
            "min": 0,
            "orientation": "horizontal",
            "style": "IPY_MODEL_1be6e5a2655247d281a18b9c0f340d03",
            "value": 836
          }
        },
        "b6f40c62b6fe491199479b9fee9d8908": {
          "model_module": "@jupyter-widgets/controls",
          "model_name": "HTMLModel",
          "model_module_version": "1.5.0",
          "state": {
            "_dom_classes": [],
            "_model_module": "@jupyter-widgets/controls",
            "_model_module_version": "1.5.0",
            "_model_name": "HTMLModel",
            "_view_count": null,
            "_view_module": "@jupyter-widgets/controls",
            "_view_module_version": "1.5.0",
            "_view_name": "HTMLView",
            "description": "",
            "description_tooltip": null,
            "layout": "IPY_MODEL_492eaa87584f42e6b2ac86607789bf7d",
            "placeholder": "​",
            "style": "IPY_MODEL_3fb95dfb6d98484cadcf698af6f6a44f",
            "value": " 836/836 [02:42&lt;00:00,  6.79s/it]"
          }
        },
        "d583b07a121b42b9aa0ac29ecaa19ce9": {
          "model_module": "@jupyter-widgets/base",
          "model_name": "LayoutModel",
          "model_module_version": "1.2.0",
          "state": {
            "_model_module": "@jupyter-widgets/base",
            "_model_module_version": "1.2.0",
            "_model_name": "LayoutModel",
            "_view_count": null,
            "_view_module": "@jupyter-widgets/base",
            "_view_module_version": "1.2.0",
            "_view_name": "LayoutView",
            "align_content": null,
            "align_items": null,
            "align_self": null,
            "border": null,
            "bottom": null,
            "display": null,
            "flex": null,
            "flex_flow": null,
            "grid_area": null,
            "grid_auto_columns": null,
            "grid_auto_flow": null,
            "grid_auto_rows": null,
            "grid_column": null,
            "grid_gap": null,
            "grid_row": null,
            "grid_template_areas": null,
            "grid_template_columns": null,
            "grid_template_rows": null,
            "height": null,
            "justify_content": null,
            "justify_items": null,
            "left": null,
            "margin": null,
            "max_height": null,
            "max_width": null,
            "min_height": null,
            "min_width": null,
            "object_fit": null,
            "object_position": null,
            "order": null,
            "overflow": null,
            "overflow_x": null,
            "overflow_y": null,
            "padding": null,
            "right": null,
            "top": null,
            "visibility": "hidden",
            "width": null
          }
        },
        "7c9619e90d8a4a07aef4e9be5e060f42": {
          "model_module": "@jupyter-widgets/base",
          "model_name": "LayoutModel",
          "model_module_version": "1.2.0",
          "state": {
            "_model_module": "@jupyter-widgets/base",
            "_model_module_version": "1.2.0",
            "_model_name": "LayoutModel",
            "_view_count": null,
            "_view_module": "@jupyter-widgets/base",
            "_view_module_version": "1.2.0",
            "_view_name": "LayoutView",
            "align_content": null,
            "align_items": null,
            "align_self": null,
            "border": null,
            "bottom": null,
            "display": null,
            "flex": null,
            "flex_flow": null,
            "grid_area": null,
            "grid_auto_columns": null,
            "grid_auto_flow": null,
            "grid_auto_rows": null,
            "grid_column": null,
            "grid_gap": null,
            "grid_row": null,
            "grid_template_areas": null,
            "grid_template_columns": null,
            "grid_template_rows": null,
            "height": null,
            "justify_content": null,
            "justify_items": null,
            "left": null,
            "margin": null,
            "max_height": null,
            "max_width": null,
            "min_height": null,
            "min_width": null,
            "object_fit": null,
            "object_position": null,
            "order": null,
            "overflow": null,
            "overflow_x": null,
            "overflow_y": null,
            "padding": null,
            "right": null,
            "top": null,
            "visibility": null,
            "width": null
          }
        },
        "b0afd566d868402baefc6d59730433ec": {
          "model_module": "@jupyter-widgets/controls",
          "model_name": "DescriptionStyleModel",
          "model_module_version": "1.5.0",
          "state": {
            "_model_module": "@jupyter-widgets/controls",
            "_model_module_version": "1.5.0",
            "_model_name": "DescriptionStyleModel",
            "_view_count": null,
            "_view_module": "@jupyter-widgets/base",
            "_view_module_version": "1.2.0",
            "_view_name": "StyleView",
            "description_width": ""
          }
        },
        "20eec9ca7bb14688a5743cc86c62429a": {
          "model_module": "@jupyter-widgets/base",
          "model_name": "LayoutModel",
          "model_module_version": "1.2.0",
          "state": {
            "_model_module": "@jupyter-widgets/base",
            "_model_module_version": "1.2.0",
            "_model_name": "LayoutModel",
            "_view_count": null,
            "_view_module": "@jupyter-widgets/base",
            "_view_module_version": "1.2.0",
            "_view_name": "LayoutView",
            "align_content": null,
            "align_items": null,
            "align_self": null,
            "border": null,
            "bottom": null,
            "display": null,
            "flex": null,
            "flex_flow": null,
            "grid_area": null,
            "grid_auto_columns": null,
            "grid_auto_flow": null,
            "grid_auto_rows": null,
            "grid_column": null,
            "grid_gap": null,
            "grid_row": null,
            "grid_template_areas": null,
            "grid_template_columns": null,
            "grid_template_rows": null,
            "height": null,
            "justify_content": null,
            "justify_items": null,
            "left": null,
            "margin": null,
            "max_height": null,
            "max_width": null,
            "min_height": null,
            "min_width": null,
            "object_fit": null,
            "object_position": null,
            "order": null,
            "overflow": null,
            "overflow_x": null,
            "overflow_y": null,
            "padding": null,
            "right": null,
            "top": null,
            "visibility": null,
            "width": null
          }
        },
        "1be6e5a2655247d281a18b9c0f340d03": {
          "model_module": "@jupyter-widgets/controls",
          "model_name": "ProgressStyleModel",
          "model_module_version": "1.5.0",
          "state": {
            "_model_module": "@jupyter-widgets/controls",
            "_model_module_version": "1.5.0",
            "_model_name": "ProgressStyleModel",
            "_view_count": null,
            "_view_module": "@jupyter-widgets/base",
            "_view_module_version": "1.2.0",
            "_view_name": "StyleView",
            "bar_color": null,
            "description_width": ""
          }
        },
        "492eaa87584f42e6b2ac86607789bf7d": {
          "model_module": "@jupyter-widgets/base",
          "model_name": "LayoutModel",
          "model_module_version": "1.2.0",
          "state": {
            "_model_module": "@jupyter-widgets/base",
            "_model_module_version": "1.2.0",
            "_model_name": "LayoutModel",
            "_view_count": null,
            "_view_module": "@jupyter-widgets/base",
            "_view_module_version": "1.2.0",
            "_view_name": "LayoutView",
            "align_content": null,
            "align_items": null,
            "align_self": null,
            "border": null,
            "bottom": null,
            "display": null,
            "flex": null,
            "flex_flow": null,
            "grid_area": null,
            "grid_auto_columns": null,
            "grid_auto_flow": null,
            "grid_auto_rows": null,
            "grid_column": null,
            "grid_gap": null,
            "grid_row": null,
            "grid_template_areas": null,
            "grid_template_columns": null,
            "grid_template_rows": null,
            "height": null,
            "justify_content": null,
            "justify_items": null,
            "left": null,
            "margin": null,
            "max_height": null,
            "max_width": null,
            "min_height": null,
            "min_width": null,
            "object_fit": null,
            "object_position": null,
            "order": null,
            "overflow": null,
            "overflow_x": null,
            "overflow_y": null,
            "padding": null,
            "right": null,
            "top": null,
            "visibility": null,
            "width": null
          }
        },
        "3fb95dfb6d98484cadcf698af6f6a44f": {
          "model_module": "@jupyter-widgets/controls",
          "model_name": "DescriptionStyleModel",
          "model_module_version": "1.5.0",
          "state": {
            "_model_module": "@jupyter-widgets/controls",
            "_model_module_version": "1.5.0",
            "_model_name": "DescriptionStyleModel",
            "_view_count": null,
            "_view_module": "@jupyter-widgets/base",
            "_view_module_version": "1.2.0",
            "_view_name": "StyleView",
            "description_width": ""
          }
        },
        "7e312f3ede63459ebb71659c5739cbb9": {
          "model_module": "@jupyter-widgets/controls",
          "model_name": "HBoxModel",
          "model_module_version": "1.5.0",
          "state": {
            "_dom_classes": [],
            "_model_module": "@jupyter-widgets/controls",
            "_model_module_version": "1.5.0",
            "_model_name": "HBoxModel",
            "_view_count": null,
            "_view_module": "@jupyter-widgets/controls",
            "_view_module_version": "1.5.0",
            "_view_name": "HBoxView",
            "box_style": "",
            "children": [
              "IPY_MODEL_ab4e8cf8353e4d07b31a3b1f38b99ded",
              "IPY_MODEL_8ae3621a83f6423cbb819ccdf7d93824",
              "IPY_MODEL_d5381824173c43958ef02b6419ebe8a1"
            ],
            "layout": "IPY_MODEL_c0fa600624cf43cebe847b33ffe90275"
          }
        },
        "ab4e8cf8353e4d07b31a3b1f38b99ded": {
          "model_module": "@jupyter-widgets/controls",
          "model_name": "HTMLModel",
          "model_module_version": "1.5.0",
          "state": {
            "_dom_classes": [],
            "_model_module": "@jupyter-widgets/controls",
            "_model_module_version": "1.5.0",
            "_model_name": "HTMLModel",
            "_view_count": null,
            "_view_module": "@jupyter-widgets/controls",
            "_view_module_version": "1.5.0",
            "_view_name": "HTMLView",
            "description": "",
            "description_tooltip": null,
            "layout": "IPY_MODEL_a18eb219b4374971ae20abb320a44e51",
            "placeholder": "​",
            "style": "IPY_MODEL_a89e41ce0cb04ff49799748cc42bb03f",
            "value": "Generating: 100%"
          }
        },
        "8ae3621a83f6423cbb819ccdf7d93824": {
          "model_module": "@jupyter-widgets/controls",
          "model_name": "FloatProgressModel",
          "model_module_version": "1.5.0",
          "state": {
            "_dom_classes": [],
            "_model_module": "@jupyter-widgets/controls",
            "_model_module_version": "1.5.0",
            "_model_name": "FloatProgressModel",
            "_view_count": null,
            "_view_module": "@jupyter-widgets/controls",
            "_view_module_version": "1.5.0",
            "_view_name": "ProgressView",
            "bar_style": "success",
            "description": "",
            "description_tooltip": null,
            "layout": "IPY_MODEL_57d3dfecdc0a4acb825fee2faaee9a40",
            "max": 10,
            "min": 0,
            "orientation": "horizontal",
            "style": "IPY_MODEL_f28ca793d1ba4b1d80d98d2532a3c692",
            "value": 10
          }
        },
        "d5381824173c43958ef02b6419ebe8a1": {
          "model_module": "@jupyter-widgets/controls",
          "model_name": "HTMLModel",
          "model_module_version": "1.5.0",
          "state": {
            "_dom_classes": [],
            "_model_module": "@jupyter-widgets/controls",
            "_model_module_version": "1.5.0",
            "_model_name": "HTMLModel",
            "_view_count": null,
            "_view_module": "@jupyter-widgets/controls",
            "_view_module_version": "1.5.0",
            "_view_name": "HTMLView",
            "description": "",
            "description_tooltip": null,
            "layout": "IPY_MODEL_de74a870effe449ca4e8a9b3b7f4ca64",
            "placeholder": "​",
            "style": "IPY_MODEL_c8dd01543d4b435c86e35d08464f888d",
            "value": " 10/10 [08:38&lt;00:00, 59.61s/it]"
          }
        },
        "c0fa600624cf43cebe847b33ffe90275": {
          "model_module": "@jupyter-widgets/base",
          "model_name": "LayoutModel",
          "model_module_version": "1.2.0",
          "state": {
            "_model_module": "@jupyter-widgets/base",
            "_model_module_version": "1.2.0",
            "_model_name": "LayoutModel",
            "_view_count": null,
            "_view_module": "@jupyter-widgets/base",
            "_view_module_version": "1.2.0",
            "_view_name": "LayoutView",
            "align_content": null,
            "align_items": null,
            "align_self": null,
            "border": null,
            "bottom": null,
            "display": null,
            "flex": null,
            "flex_flow": null,
            "grid_area": null,
            "grid_auto_columns": null,
            "grid_auto_flow": null,
            "grid_auto_rows": null,
            "grid_column": null,
            "grid_gap": null,
            "grid_row": null,
            "grid_template_areas": null,
            "grid_template_columns": null,
            "grid_template_rows": null,
            "height": null,
            "justify_content": null,
            "justify_items": null,
            "left": null,
            "margin": null,
            "max_height": null,
            "max_width": null,
            "min_height": null,
            "min_width": null,
            "object_fit": null,
            "object_position": null,
            "order": null,
            "overflow": null,
            "overflow_x": null,
            "overflow_y": null,
            "padding": null,
            "right": null,
            "top": null,
            "visibility": null,
            "width": null
          }
        },
        "a18eb219b4374971ae20abb320a44e51": {
          "model_module": "@jupyter-widgets/base",
          "model_name": "LayoutModel",
          "model_module_version": "1.2.0",
          "state": {
            "_model_module": "@jupyter-widgets/base",
            "_model_module_version": "1.2.0",
            "_model_name": "LayoutModel",
            "_view_count": null,
            "_view_module": "@jupyter-widgets/base",
            "_view_module_version": "1.2.0",
            "_view_name": "LayoutView",
            "align_content": null,
            "align_items": null,
            "align_self": null,
            "border": null,
            "bottom": null,
            "display": null,
            "flex": null,
            "flex_flow": null,
            "grid_area": null,
            "grid_auto_columns": null,
            "grid_auto_flow": null,
            "grid_auto_rows": null,
            "grid_column": null,
            "grid_gap": null,
            "grid_row": null,
            "grid_template_areas": null,
            "grid_template_columns": null,
            "grid_template_rows": null,
            "height": null,
            "justify_content": null,
            "justify_items": null,
            "left": null,
            "margin": null,
            "max_height": null,
            "max_width": null,
            "min_height": null,
            "min_width": null,
            "object_fit": null,
            "object_position": null,
            "order": null,
            "overflow": null,
            "overflow_x": null,
            "overflow_y": null,
            "padding": null,
            "right": null,
            "top": null,
            "visibility": null,
            "width": null
          }
        },
        "a89e41ce0cb04ff49799748cc42bb03f": {
          "model_module": "@jupyter-widgets/controls",
          "model_name": "DescriptionStyleModel",
          "model_module_version": "1.5.0",
          "state": {
            "_model_module": "@jupyter-widgets/controls",
            "_model_module_version": "1.5.0",
            "_model_name": "DescriptionStyleModel",
            "_view_count": null,
            "_view_module": "@jupyter-widgets/base",
            "_view_module_version": "1.2.0",
            "_view_name": "StyleView",
            "description_width": ""
          }
        },
        "57d3dfecdc0a4acb825fee2faaee9a40": {
          "model_module": "@jupyter-widgets/base",
          "model_name": "LayoutModel",
          "model_module_version": "1.2.0",
          "state": {
            "_model_module": "@jupyter-widgets/base",
            "_model_module_version": "1.2.0",
            "_model_name": "LayoutModel",
            "_view_count": null,
            "_view_module": "@jupyter-widgets/base",
            "_view_module_version": "1.2.0",
            "_view_name": "LayoutView",
            "align_content": null,
            "align_items": null,
            "align_self": null,
            "border": null,
            "bottom": null,
            "display": null,
            "flex": null,
            "flex_flow": null,
            "grid_area": null,
            "grid_auto_columns": null,
            "grid_auto_flow": null,
            "grid_auto_rows": null,
            "grid_column": null,
            "grid_gap": null,
            "grid_row": null,
            "grid_template_areas": null,
            "grid_template_columns": null,
            "grid_template_rows": null,
            "height": null,
            "justify_content": null,
            "justify_items": null,
            "left": null,
            "margin": null,
            "max_height": null,
            "max_width": null,
            "min_height": null,
            "min_width": null,
            "object_fit": null,
            "object_position": null,
            "order": null,
            "overflow": null,
            "overflow_x": null,
            "overflow_y": null,
            "padding": null,
            "right": null,
            "top": null,
            "visibility": null,
            "width": null
          }
        },
        "f28ca793d1ba4b1d80d98d2532a3c692": {
          "model_module": "@jupyter-widgets/controls",
          "model_name": "ProgressStyleModel",
          "model_module_version": "1.5.0",
          "state": {
            "_model_module": "@jupyter-widgets/controls",
            "_model_module_version": "1.5.0",
            "_model_name": "ProgressStyleModel",
            "_view_count": null,
            "_view_module": "@jupyter-widgets/base",
            "_view_module_version": "1.2.0",
            "_view_name": "StyleView",
            "bar_color": null,
            "description_width": ""
          }
        },
        "de74a870effe449ca4e8a9b3b7f4ca64": {
          "model_module": "@jupyter-widgets/base",
          "model_name": "LayoutModel",
          "model_module_version": "1.2.0",
          "state": {
            "_model_module": "@jupyter-widgets/base",
            "_model_module_version": "1.2.0",
            "_model_name": "LayoutModel",
            "_view_count": null,
            "_view_module": "@jupyter-widgets/base",
            "_view_module_version": "1.2.0",
            "_view_name": "LayoutView",
            "align_content": null,
            "align_items": null,
            "align_self": null,
            "border": null,
            "bottom": null,
            "display": null,
            "flex": null,
            "flex_flow": null,
            "grid_area": null,
            "grid_auto_columns": null,
            "grid_auto_flow": null,
            "grid_auto_rows": null,
            "grid_column": null,
            "grid_gap": null,
            "grid_row": null,
            "grid_template_areas": null,
            "grid_template_columns": null,
            "grid_template_rows": null,
            "height": null,
            "justify_content": null,
            "justify_items": null,
            "left": null,
            "margin": null,
            "max_height": null,
            "max_width": null,
            "min_height": null,
            "min_width": null,
            "object_fit": null,
            "object_position": null,
            "order": null,
            "overflow": null,
            "overflow_x": null,
            "overflow_y": null,
            "padding": null,
            "right": null,
            "top": null,
            "visibility": null,
            "width": null
          }
        },
        "c8dd01543d4b435c86e35d08464f888d": {
          "model_module": "@jupyter-widgets/controls",
          "model_name": "DescriptionStyleModel",
          "model_module_version": "1.5.0",
          "state": {
            "_model_module": "@jupyter-widgets/controls",
            "_model_module_version": "1.5.0",
            "_model_name": "DescriptionStyleModel",
            "_view_count": null,
            "_view_module": "@jupyter-widgets/base",
            "_view_module_version": "1.2.0",
            "_view_name": "StyleView",
            "description_width": ""
          }
        },
        "096ba289710c478284ced60c8002fe89": {
          "model_module": "@jupyter-widgets/controls",
          "model_name": "HBoxModel",
          "model_module_version": "1.5.0",
          "state": {
            "_dom_classes": [],
            "_model_module": "@jupyter-widgets/controls",
            "_model_module_version": "1.5.0",
            "_model_name": "HBoxModel",
            "_view_count": null,
            "_view_module": "@jupyter-widgets/controls",
            "_view_module_version": "1.5.0",
            "_view_name": "HBoxView",
            "box_style": "",
            "children": [
              "IPY_MODEL_4b58baf6aac74620919e73f18e92a1ca",
              "IPY_MODEL_411ac84260384e64a575e6aad70cab59",
              "IPY_MODEL_ceb2feaf90f44f7d9e72ef89976b571e"
            ],
            "layout": "IPY_MODEL_a321657c04c648aeb60cc4b3fea33c8d"
          }
        },
        "4b58baf6aac74620919e73f18e92a1ca": {
          "model_module": "@jupyter-widgets/controls",
          "model_name": "HTMLModel",
          "model_module_version": "1.5.0",
          "state": {
            "_dom_classes": [],
            "_model_module": "@jupyter-widgets/controls",
            "_model_module_version": "1.5.0",
            "_model_name": "HTMLModel",
            "_view_count": null,
            "_view_module": "@jupyter-widgets/controls",
            "_view_module_version": "1.5.0",
            "_view_name": "HTMLView",
            "description": "",
            "description_tooltip": null,
            "layout": "IPY_MODEL_819f157a9bcd424e8bdc7f0fe7b04b52",
            "placeholder": "​",
            "style": "IPY_MODEL_9c30bb1375644a5d8c65175a306adde8",
            "value": "Evaluating: 100%"
          }
        },
        "411ac84260384e64a575e6aad70cab59": {
          "model_module": "@jupyter-widgets/controls",
          "model_name": "FloatProgressModel",
          "model_module_version": "1.5.0",
          "state": {
            "_dom_classes": [],
            "_model_module": "@jupyter-widgets/controls",
            "_model_module_version": "1.5.0",
            "_model_name": "FloatProgressModel",
            "_view_count": null,
            "_view_module": "@jupyter-widgets/controls",
            "_view_module_version": "1.5.0",
            "_view_name": "ProgressView",
            "bar_style": "success",
            "description": "",
            "description_tooltip": null,
            "layout": "IPY_MODEL_06ea4c82187b4962852bb8a870629656",
            "max": 50,
            "min": 0,
            "orientation": "horizontal",
            "style": "IPY_MODEL_05e32fc05d554adbb9f294f6250ca06d",
            "value": 50
          }
        },
        "ceb2feaf90f44f7d9e72ef89976b571e": {
          "model_module": "@jupyter-widgets/controls",
          "model_name": "HTMLModel",
          "model_module_version": "1.5.0",
          "state": {
            "_dom_classes": [],
            "_model_module": "@jupyter-widgets/controls",
            "_model_module_version": "1.5.0",
            "_model_name": "HTMLModel",
            "_view_count": null,
            "_view_module": "@jupyter-widgets/controls",
            "_view_module_version": "1.5.0",
            "_view_name": "HTMLView",
            "description": "",
            "description_tooltip": null,
            "layout": "IPY_MODEL_48dab8325fd34776a26fb77d678bd196",
            "placeholder": "​",
            "style": "IPY_MODEL_e2692a80e31c4a0d8890ab2d35023777",
            "value": " 50/50 [00:56&lt;00:00,  3.41s/it]"
          }
        },
        "a321657c04c648aeb60cc4b3fea33c8d": {
          "model_module": "@jupyter-widgets/base",
          "model_name": "LayoutModel",
          "model_module_version": "1.2.0",
          "state": {
            "_model_module": "@jupyter-widgets/base",
            "_model_module_version": "1.2.0",
            "_model_name": "LayoutModel",
            "_view_count": null,
            "_view_module": "@jupyter-widgets/base",
            "_view_module_version": "1.2.0",
            "_view_name": "LayoutView",
            "align_content": null,
            "align_items": null,
            "align_self": null,
            "border": null,
            "bottom": null,
            "display": null,
            "flex": null,
            "flex_flow": null,
            "grid_area": null,
            "grid_auto_columns": null,
            "grid_auto_flow": null,
            "grid_auto_rows": null,
            "grid_column": null,
            "grid_gap": null,
            "grid_row": null,
            "grid_template_areas": null,
            "grid_template_columns": null,
            "grid_template_rows": null,
            "height": null,
            "justify_content": null,
            "justify_items": null,
            "left": null,
            "margin": null,
            "max_height": null,
            "max_width": null,
            "min_height": null,
            "min_width": null,
            "object_fit": null,
            "object_position": null,
            "order": null,
            "overflow": null,
            "overflow_x": null,
            "overflow_y": null,
            "padding": null,
            "right": null,
            "top": null,
            "visibility": null,
            "width": null
          }
        },
        "819f157a9bcd424e8bdc7f0fe7b04b52": {
          "model_module": "@jupyter-widgets/base",
          "model_name": "LayoutModel",
          "model_module_version": "1.2.0",
          "state": {
            "_model_module": "@jupyter-widgets/base",
            "_model_module_version": "1.2.0",
            "_model_name": "LayoutModel",
            "_view_count": null,
            "_view_module": "@jupyter-widgets/base",
            "_view_module_version": "1.2.0",
            "_view_name": "LayoutView",
            "align_content": null,
            "align_items": null,
            "align_self": null,
            "border": null,
            "bottom": null,
            "display": null,
            "flex": null,
            "flex_flow": null,
            "grid_area": null,
            "grid_auto_columns": null,
            "grid_auto_flow": null,
            "grid_auto_rows": null,
            "grid_column": null,
            "grid_gap": null,
            "grid_row": null,
            "grid_template_areas": null,
            "grid_template_columns": null,
            "grid_template_rows": null,
            "height": null,
            "justify_content": null,
            "justify_items": null,
            "left": null,
            "margin": null,
            "max_height": null,
            "max_width": null,
            "min_height": null,
            "min_width": null,
            "object_fit": null,
            "object_position": null,
            "order": null,
            "overflow": null,
            "overflow_x": null,
            "overflow_y": null,
            "padding": null,
            "right": null,
            "top": null,
            "visibility": null,
            "width": null
          }
        },
        "9c30bb1375644a5d8c65175a306adde8": {
          "model_module": "@jupyter-widgets/controls",
          "model_name": "DescriptionStyleModel",
          "model_module_version": "1.5.0",
          "state": {
            "_model_module": "@jupyter-widgets/controls",
            "_model_module_version": "1.5.0",
            "_model_name": "DescriptionStyleModel",
            "_view_count": null,
            "_view_module": "@jupyter-widgets/base",
            "_view_module_version": "1.2.0",
            "_view_name": "StyleView",
            "description_width": ""
          }
        },
        "06ea4c82187b4962852bb8a870629656": {
          "model_module": "@jupyter-widgets/base",
          "model_name": "LayoutModel",
          "model_module_version": "1.2.0",
          "state": {
            "_model_module": "@jupyter-widgets/base",
            "_model_module_version": "1.2.0",
            "_model_name": "LayoutModel",
            "_view_count": null,
            "_view_module": "@jupyter-widgets/base",
            "_view_module_version": "1.2.0",
            "_view_name": "LayoutView",
            "align_content": null,
            "align_items": null,
            "align_self": null,
            "border": null,
            "bottom": null,
            "display": null,
            "flex": null,
            "flex_flow": null,
            "grid_area": null,
            "grid_auto_columns": null,
            "grid_auto_flow": null,
            "grid_auto_rows": null,
            "grid_column": null,
            "grid_gap": null,
            "grid_row": null,
            "grid_template_areas": null,
            "grid_template_columns": null,
            "grid_template_rows": null,
            "height": null,
            "justify_content": null,
            "justify_items": null,
            "left": null,
            "margin": null,
            "max_height": null,
            "max_width": null,
            "min_height": null,
            "min_width": null,
            "object_fit": null,
            "object_position": null,
            "order": null,
            "overflow": null,
            "overflow_x": null,
            "overflow_y": null,
            "padding": null,
            "right": null,
            "top": null,
            "visibility": null,
            "width": null
          }
        },
        "05e32fc05d554adbb9f294f6250ca06d": {
          "model_module": "@jupyter-widgets/controls",
          "model_name": "ProgressStyleModel",
          "model_module_version": "1.5.0",
          "state": {
            "_model_module": "@jupyter-widgets/controls",
            "_model_module_version": "1.5.0",
            "_model_name": "ProgressStyleModel",
            "_view_count": null,
            "_view_module": "@jupyter-widgets/base",
            "_view_module_version": "1.2.0",
            "_view_name": "StyleView",
            "bar_color": null,
            "description_width": ""
          }
        },
        "48dab8325fd34776a26fb77d678bd196": {
          "model_module": "@jupyter-widgets/base",
          "model_name": "LayoutModel",
          "model_module_version": "1.2.0",
          "state": {
            "_model_module": "@jupyter-widgets/base",
            "_model_module_version": "1.2.0",
            "_model_name": "LayoutModel",
            "_view_count": null,
            "_view_module": "@jupyter-widgets/base",
            "_view_module_version": "1.2.0",
            "_view_name": "LayoutView",
            "align_content": null,
            "align_items": null,
            "align_self": null,
            "border": null,
            "bottom": null,
            "display": null,
            "flex": null,
            "flex_flow": null,
            "grid_area": null,
            "grid_auto_columns": null,
            "grid_auto_flow": null,
            "grid_auto_rows": null,
            "grid_column": null,
            "grid_gap": null,
            "grid_row": null,
            "grid_template_areas": null,
            "grid_template_columns": null,
            "grid_template_rows": null,
            "height": null,
            "justify_content": null,
            "justify_items": null,
            "left": null,
            "margin": null,
            "max_height": null,
            "max_width": null,
            "min_height": null,
            "min_width": null,
            "object_fit": null,
            "object_position": null,
            "order": null,
            "overflow": null,
            "overflow_x": null,
            "overflow_y": null,
            "padding": null,
            "right": null,
            "top": null,
            "visibility": null,
            "width": null
          }
        },
        "e2692a80e31c4a0d8890ab2d35023777": {
          "model_module": "@jupyter-widgets/controls",
          "model_name": "DescriptionStyleModel",
          "model_module_version": "1.5.0",
          "state": {
            "_model_module": "@jupyter-widgets/controls",
            "_model_module_version": "1.5.0",
            "_model_name": "DescriptionStyleModel",
            "_view_count": null,
            "_view_module": "@jupyter-widgets/base",
            "_view_module_version": "1.2.0",
            "_view_name": "StyleView",
            "description_width": ""
          }
        },
        "6e750563509e41328409874b2f9901c3": {
          "model_module": "@jupyter-widgets/controls",
          "model_name": "HBoxModel",
          "model_module_version": "1.5.0",
          "state": {
            "_dom_classes": [],
            "_model_module": "@jupyter-widgets/controls",
            "_model_module_version": "1.5.0",
            "_model_name": "HBoxModel",
            "_view_count": null,
            "_view_module": "@jupyter-widgets/controls",
            "_view_module_version": "1.5.0",
            "_view_name": "HBoxView",
            "box_style": "",
            "children": [
              "IPY_MODEL_b6e8ff46631848a39bab1cf642820399",
              "IPY_MODEL_4690b663cf9b43159f58464e44ce1898",
              "IPY_MODEL_f5f408dd33f846f4abfb2edc3ef20d9f"
            ],
            "layout": "IPY_MODEL_2c8d176cd50e46dc9d70b9b00b0be0e7"
          }
        },
        "b6e8ff46631848a39bab1cf642820399": {
          "model_module": "@jupyter-widgets/controls",
          "model_name": "HTMLModel",
          "model_module_version": "1.5.0",
          "state": {
            "_dom_classes": [],
            "_model_module": "@jupyter-widgets/controls",
            "_model_module_version": "1.5.0",
            "_model_name": "HTMLModel",
            "_view_count": null,
            "_view_module": "@jupyter-widgets/controls",
            "_view_module_version": "1.5.0",
            "_view_name": "HTMLView",
            "description": "",
            "description_tooltip": null,
            "layout": "IPY_MODEL_09e4cb3956e247089e87a21ae37936a1",
            "placeholder": "​",
            "style": "IPY_MODEL_5939aa9faa7c4f8b870005e94fac1d93",
            "value": "Evaluating: 100%"
          }
        },
        "4690b663cf9b43159f58464e44ce1898": {
          "model_module": "@jupyter-widgets/controls",
          "model_name": "FloatProgressModel",
          "model_module_version": "1.5.0",
          "state": {
            "_dom_classes": [],
            "_model_module": "@jupyter-widgets/controls",
            "_model_module_version": "1.5.0",
            "_model_name": "FloatProgressModel",
            "_view_count": null,
            "_view_module": "@jupyter-widgets/controls",
            "_view_module_version": "1.5.0",
            "_view_name": "ProgressView",
            "bar_style": "success",
            "description": "",
            "description_tooltip": null,
            "layout": "IPY_MODEL_cf5b4b61b55045059a7b255eed13a681",
            "max": 50,
            "min": 0,
            "orientation": "horizontal",
            "style": "IPY_MODEL_e7239a9b137a4effb42de561aa918ff3",
            "value": 50
          }
        },
        "f5f408dd33f846f4abfb2edc3ef20d9f": {
          "model_module": "@jupyter-widgets/controls",
          "model_name": "HTMLModel",
          "model_module_version": "1.5.0",
          "state": {
            "_dom_classes": [],
            "_model_module": "@jupyter-widgets/controls",
            "_model_module_version": "1.5.0",
            "_model_name": "HTMLModel",
            "_view_count": null,
            "_view_module": "@jupyter-widgets/controls",
            "_view_module_version": "1.5.0",
            "_view_name": "HTMLView",
            "description": "",
            "description_tooltip": null,
            "layout": "IPY_MODEL_9d7de26886f246d7a1afc615ebe7f47a",
            "placeholder": "​",
            "style": "IPY_MODEL_3d6672a10eda45d0818c48ebb28a246c",
            "value": " 50/50 [01:24&lt;00:00,  2.95s/it]"
          }
        },
        "2c8d176cd50e46dc9d70b9b00b0be0e7": {
          "model_module": "@jupyter-widgets/base",
          "model_name": "LayoutModel",
          "model_module_version": "1.2.0",
          "state": {
            "_model_module": "@jupyter-widgets/base",
            "_model_module_version": "1.2.0",
            "_model_name": "LayoutModel",
            "_view_count": null,
            "_view_module": "@jupyter-widgets/base",
            "_view_module_version": "1.2.0",
            "_view_name": "LayoutView",
            "align_content": null,
            "align_items": null,
            "align_self": null,
            "border": null,
            "bottom": null,
            "display": null,
            "flex": null,
            "flex_flow": null,
            "grid_area": null,
            "grid_auto_columns": null,
            "grid_auto_flow": null,
            "grid_auto_rows": null,
            "grid_column": null,
            "grid_gap": null,
            "grid_row": null,
            "grid_template_areas": null,
            "grid_template_columns": null,
            "grid_template_rows": null,
            "height": null,
            "justify_content": null,
            "justify_items": null,
            "left": null,
            "margin": null,
            "max_height": null,
            "max_width": null,
            "min_height": null,
            "min_width": null,
            "object_fit": null,
            "object_position": null,
            "order": null,
            "overflow": null,
            "overflow_x": null,
            "overflow_y": null,
            "padding": null,
            "right": null,
            "top": null,
            "visibility": null,
            "width": null
          }
        },
        "09e4cb3956e247089e87a21ae37936a1": {
          "model_module": "@jupyter-widgets/base",
          "model_name": "LayoutModel",
          "model_module_version": "1.2.0",
          "state": {
            "_model_module": "@jupyter-widgets/base",
            "_model_module_version": "1.2.0",
            "_model_name": "LayoutModel",
            "_view_count": null,
            "_view_module": "@jupyter-widgets/base",
            "_view_module_version": "1.2.0",
            "_view_name": "LayoutView",
            "align_content": null,
            "align_items": null,
            "align_self": null,
            "border": null,
            "bottom": null,
            "display": null,
            "flex": null,
            "flex_flow": null,
            "grid_area": null,
            "grid_auto_columns": null,
            "grid_auto_flow": null,
            "grid_auto_rows": null,
            "grid_column": null,
            "grid_gap": null,
            "grid_row": null,
            "grid_template_areas": null,
            "grid_template_columns": null,
            "grid_template_rows": null,
            "height": null,
            "justify_content": null,
            "justify_items": null,
            "left": null,
            "margin": null,
            "max_height": null,
            "max_width": null,
            "min_height": null,
            "min_width": null,
            "object_fit": null,
            "object_position": null,
            "order": null,
            "overflow": null,
            "overflow_x": null,
            "overflow_y": null,
            "padding": null,
            "right": null,
            "top": null,
            "visibility": null,
            "width": null
          }
        },
        "5939aa9faa7c4f8b870005e94fac1d93": {
          "model_module": "@jupyter-widgets/controls",
          "model_name": "DescriptionStyleModel",
          "model_module_version": "1.5.0",
          "state": {
            "_model_module": "@jupyter-widgets/controls",
            "_model_module_version": "1.5.0",
            "_model_name": "DescriptionStyleModel",
            "_view_count": null,
            "_view_module": "@jupyter-widgets/base",
            "_view_module_version": "1.2.0",
            "_view_name": "StyleView",
            "description_width": ""
          }
        },
        "cf5b4b61b55045059a7b255eed13a681": {
          "model_module": "@jupyter-widgets/base",
          "model_name": "LayoutModel",
          "model_module_version": "1.2.0",
          "state": {
            "_model_module": "@jupyter-widgets/base",
            "_model_module_version": "1.2.0",
            "_model_name": "LayoutModel",
            "_view_count": null,
            "_view_module": "@jupyter-widgets/base",
            "_view_module_version": "1.2.0",
            "_view_name": "LayoutView",
            "align_content": null,
            "align_items": null,
            "align_self": null,
            "border": null,
            "bottom": null,
            "display": null,
            "flex": null,
            "flex_flow": null,
            "grid_area": null,
            "grid_auto_columns": null,
            "grid_auto_flow": null,
            "grid_auto_rows": null,
            "grid_column": null,
            "grid_gap": null,
            "grid_row": null,
            "grid_template_areas": null,
            "grid_template_columns": null,
            "grid_template_rows": null,
            "height": null,
            "justify_content": null,
            "justify_items": null,
            "left": null,
            "margin": null,
            "max_height": null,
            "max_width": null,
            "min_height": null,
            "min_width": null,
            "object_fit": null,
            "object_position": null,
            "order": null,
            "overflow": null,
            "overflow_x": null,
            "overflow_y": null,
            "padding": null,
            "right": null,
            "top": null,
            "visibility": null,
            "width": null
          }
        },
        "e7239a9b137a4effb42de561aa918ff3": {
          "model_module": "@jupyter-widgets/controls",
          "model_name": "ProgressStyleModel",
          "model_module_version": "1.5.0",
          "state": {
            "_model_module": "@jupyter-widgets/controls",
            "_model_module_version": "1.5.0",
            "_model_name": "ProgressStyleModel",
            "_view_count": null,
            "_view_module": "@jupyter-widgets/base",
            "_view_module_version": "1.2.0",
            "_view_name": "StyleView",
            "bar_color": null,
            "description_width": ""
          }
        },
        "9d7de26886f246d7a1afc615ebe7f47a": {
          "model_module": "@jupyter-widgets/base",
          "model_name": "LayoutModel",
          "model_module_version": "1.2.0",
          "state": {
            "_model_module": "@jupyter-widgets/base",
            "_model_module_version": "1.2.0",
            "_model_name": "LayoutModel",
            "_view_count": null,
            "_view_module": "@jupyter-widgets/base",
            "_view_module_version": "1.2.0",
            "_view_name": "LayoutView",
            "align_content": null,
            "align_items": null,
            "align_self": null,
            "border": null,
            "bottom": null,
            "display": null,
            "flex": null,
            "flex_flow": null,
            "grid_area": null,
            "grid_auto_columns": null,
            "grid_auto_flow": null,
            "grid_auto_rows": null,
            "grid_column": null,
            "grid_gap": null,
            "grid_row": null,
            "grid_template_areas": null,
            "grid_template_columns": null,
            "grid_template_rows": null,
            "height": null,
            "justify_content": null,
            "justify_items": null,
            "left": null,
            "margin": null,
            "max_height": null,
            "max_width": null,
            "min_height": null,
            "min_width": null,
            "object_fit": null,
            "object_position": null,
            "order": null,
            "overflow": null,
            "overflow_x": null,
            "overflow_y": null,
            "padding": null,
            "right": null,
            "top": null,
            "visibility": null,
            "width": null
          }
        },
        "3d6672a10eda45d0818c48ebb28a246c": {
          "model_module": "@jupyter-widgets/controls",
          "model_name": "DescriptionStyleModel",
          "model_module_version": "1.5.0",
          "state": {
            "_model_module": "@jupyter-widgets/controls",
            "_model_module_version": "1.5.0",
            "_model_name": "DescriptionStyleModel",
            "_view_count": null,
            "_view_module": "@jupyter-widgets/base",
            "_view_module_version": "1.2.0",
            "_view_name": "StyleView",
            "description_width": ""
          }
        }
      }
    },
    "accelerator": "TPU"
  },
  "cells": [
    {
      "cell_type": "markdown",
      "metadata": {
        "id": "view-in-github",
        "colab_type": "text"
      },
      "source": [
        "<a href=\"https://colab.research.google.com/github/sdossou/Ragas/blob/main/CSRD_Direct_RAG_Evaluation_LangChain_%26_Ragas.ipynb\" target=\"_parent\"><img src=\"https://colab.research.google.com/assets/colab-badge.svg\" alt=\"Open In Colab\"/></a>"
      ]
    },
    {
      "cell_type": "markdown",
      "source": [
        "# CSRD Directive RAG Evaluation\n",
        "\n",
        "This notebook does the following:\n",
        "\n",
        "- Creating a RAG pipeline with (LangChain v0.1.0)\n",
        "- Evaluating the pipeline with the Ragas library\n",
        "- Making an adjustment to the RAG pipeline\n",
        "- Evaluating the adjusted pipeline against the baseline\n",
        "\n",
        "\n",
        "Installing dependencies"
      ],
      "metadata": {
        "id": "wa8ykQk92aLX"
      }
    },
    {
      "cell_type": "code",
      "execution_count": 1,
      "metadata": {
        "id": "5BN13TZlSCv4",
        "colab": {
          "base_uri": "https://localhost:8080/"
        },
        "outputId": "704344bc-73a0-42fd-95eb-ead68d02a18a"
      },
      "outputs": [
        {
          "output_type": "stream",
          "name": "stdout",
          "text": [
            "\u001b[2K     \u001b[90m━━━━━━━━━━━━━━━━━━━━━━━━━━━━━━━━━━━━━━━━\u001b[0m \u001b[32m812.8/812.8 kB\u001b[0m \u001b[31m4.2 MB/s\u001b[0m eta \u001b[36m0:00:00\u001b[0m\n",
            "\u001b[2K     \u001b[90m━━━━━━━━━━━━━━━━━━━━━━━━━━━━━━━━━━━━━━━━\u001b[0m \u001b[32m276.6/276.6 kB\u001b[0m \u001b[31m16.0 MB/s\u001b[0m eta \u001b[36m0:00:00\u001b[0m\n",
            "\u001b[2K     \u001b[90m━━━━━━━━━━━━━━━━━━━━━━━━━━━━━━━━━━━━━━━━\u001b[0m \u001b[32m1.9/1.9 MB\u001b[0m \u001b[31m23.6 MB/s\u001b[0m eta \u001b[36m0:00:00\u001b[0m\n",
            "\u001b[2K     \u001b[90m━━━━━━━━━━━━━━━━━━━━━━━━━━━━━━━━━━━━━━━━\u001b[0m \u001b[32m266.9/266.9 kB\u001b[0m \u001b[31m5.7 MB/s\u001b[0m eta \u001b[36m0:00:00\u001b[0m\n",
            "\u001b[2K     \u001b[90m━━━━━━━━━━━━━━━━━━━━━━━━━━━━━━━━━━━━━━━━\u001b[0m \u001b[32m80.7/80.7 kB\u001b[0m \u001b[31m4.5 MB/s\u001b[0m eta \u001b[36m0:00:00\u001b[0m\n",
            "\u001b[2K     \u001b[90m━━━━━━━━━━━━━━━━━━━━━━━━━━━━━━━━━━━━━━━━\u001b[0m \u001b[32m1.8/1.8 MB\u001b[0m \u001b[31m15.6 MB/s\u001b[0m eta \u001b[36m0:00:00\u001b[0m\n",
            "\u001b[2K     \u001b[90m━━━━━━━━━━━━━━━━━━━━━━━━━━━━━━━━━━━━━━━━\u001b[0m \u001b[32m145.3/145.3 kB\u001b[0m \u001b[31m3.1 MB/s\u001b[0m eta \u001b[36m0:00:00\u001b[0m\n",
            "\u001b[2K     \u001b[90m━━━━━━━━━━━━━━━━━━━━━━━━━━━━━━━━━━━━━━━━\u001b[0m \u001b[32m27.0/27.0 MB\u001b[0m \u001b[31m9.3 MB/s\u001b[0m eta \u001b[36m0:00:00\u001b[0m\n",
            "\u001b[2K     \u001b[90m━━━━━━━━━━━━━━━━━━━━━━━━━━━━━━━━━━━━━━━━\u001b[0m \u001b[32m87.5/87.5 kB\u001b[0m \u001b[31m3.5 MB/s\u001b[0m eta \u001b[36m0:00:00\u001b[0m\n",
            "\u001b[2K     \u001b[90m━━━━━━━━━━━━━━━━━━━━━━━━━━━━━━━━━━━━━━━━\u001b[0m \u001b[32m53.0/53.0 kB\u001b[0m \u001b[31m1.8 MB/s\u001b[0m eta \u001b[36m0:00:00\u001b[0m\n",
            "\u001b[2K     \u001b[90m━━━━━━━━━━━━━━━━━━━━━━━━━━━━━━━━━━━━━━━━\u001b[0m \u001b[32m75.6/75.6 kB\u001b[0m \u001b[31m2.4 MB/s\u001b[0m eta \u001b[36m0:00:00\u001b[0m\n",
            "\u001b[2K     \u001b[90m━━━━━━━━━━━━━━━━━━━━━━━━━━━━━━━━━━━━━━━━\u001b[0m \u001b[32m510.5/510.5 kB\u001b[0m \u001b[31m22.7 MB/s\u001b[0m eta \u001b[36m0:00:00\u001b[0m\n",
            "\u001b[2K     \u001b[90m━━━━━━━━━━━━━━━━━━━━━━━━━━━━━━━━━━━━━━━━\u001b[0m \u001b[32m71.1/71.1 kB\u001b[0m \u001b[31m986.4 kB/s\u001b[0m eta \u001b[36m0:00:00\u001b[0m\n",
            "\u001b[2K     \u001b[90m━━━━━━━━━━━━━━━━━━━━━━━━━━━━━━━━━━━━━━━━\u001b[0m \u001b[32m3.1/3.1 MB\u001b[0m \u001b[31m22.7 MB/s\u001b[0m eta \u001b[36m0:00:00\u001b[0m\n",
            "\u001b[2K     \u001b[90m━━━━━━━━━━━━━━━━━━━━━━━━━━━━━━━━━━━━━━━━\u001b[0m \u001b[32m49.4/49.4 kB\u001b[0m \u001b[31m3.0 MB/s\u001b[0m eta \u001b[36m0:00:00\u001b[0m\n",
            "\u001b[2K     \u001b[90m━━━━━━━━━━━━━━━━━━━━━━━━━━━━━━━━━━━━━━━━\u001b[0m \u001b[32m77.9/77.9 kB\u001b[0m \u001b[31m4.7 MB/s\u001b[0m eta \u001b[36m0:00:00\u001b[0m\n",
            "\u001b[2K     \u001b[90m━━━━━━━━━━━━━━━━━━━━━━━━━━━━━━━━━━━━━━━━\u001b[0m \u001b[32m58.3/58.3 kB\u001b[0m \u001b[31m3.0 MB/s\u001b[0m eta \u001b[36m0:00:00\u001b[0m\n",
            "\u001b[2K     \u001b[90m━━━━━━━━━━━━━━━━━━━━━━━━━━━━━━━━━━━━━━━━\u001b[0m \u001b[32m144.8/144.8 kB\u001b[0m \u001b[31m3.6 MB/s\u001b[0m eta \u001b[36m0:00:00\u001b[0m\n",
            "\u001b[2K     \u001b[90m━━━━━━━━━━━━━━━━━━━━━━━━━━━━━━━━━━━━━━━━\u001b[0m \u001b[32m116.3/116.3 kB\u001b[0m \u001b[31m6.9 MB/s\u001b[0m eta \u001b[36m0:00:00\u001b[0m\n",
            "\u001b[2K     \u001b[90m━━━━━━━━━━━━━━━━━━━━━━━━━━━━━━━━━━━━━━━━\u001b[0m \u001b[32m194.1/194.1 kB\u001b[0m \u001b[31m7.2 MB/s\u001b[0m eta \u001b[36m0:00:00\u001b[0m\n",
            "\u001b[2K     \u001b[90m━━━━━━━━━━━━━━━━━━━━━━━━━━━━━━━━━━━━━━━━\u001b[0m \u001b[32m134.8/134.8 kB\u001b[0m \u001b[31m7.8 MB/s\u001b[0m eta \u001b[36m0:00:00\u001b[0m\n",
            "\u001b[?25h\u001b[31mERROR: pip's dependency resolver does not currently take into account all the packages that are installed. This behaviour is the source of the following dependency conflicts.\n",
            "pandas-gbq 0.19.2 requires google-auth-oauthlib>=0.7.0, but you have google-auth-oauthlib 0.4.6 which is incompatible.\n",
            "tf-keras 2.15.1 requires tensorflow<2.16,>=2.15, but you have tensorflow 2.12.0 which is incompatible.\u001b[0m\u001b[31m\n",
            "\u001b[0m"
          ]
        }
      ],
      "source": [
        "!pip install -U -q langchain langchain-openai langchain_core langchain-community langchainhub openai ragas tiktoken cohere faiss_cpu"
      ]
    },
    {
      "cell_type": "code",
      "source": [
        "import langchain\n",
        "print(f\"LangChain Version: {langchain.__version__}\")"
      ],
      "metadata": {
        "colab": {
          "base_uri": "https://localhost:8080/"
        },
        "id": "8jPn_Bj7v-oP",
        "outputId": "cf7a6be8-156c-4975-8ce9-845edd97b4af"
      },
      "execution_count": 2,
      "outputs": [
        {
          "output_type": "stream",
          "name": "stdout",
          "text": [
            "LangChain Version: 0.1.14\n"
          ]
        }
      ]
    },
    {
      "cell_type": "markdown",
      "source": [
        "Importing an OpenAI API key"
      ],
      "metadata": {
        "id": "7dLIXmgHF-qh"
      }
    },
    {
      "cell_type": "code",
      "source": [
        "import os\n",
        "import openai\n",
        "from getpass import getpass\n",
        "\n",
        "openai.api_key = getpass(\"Please provide your OpenAI Key: \")\n",
        "os.environ[\"OPENAI_API_KEY\"] = openai.api_key"
      ],
      "metadata": {
        "colab": {
          "base_uri": "https://localhost:8080/"
        },
        "id": "8Lhqp5rUThG-",
        "outputId": "95cac45d-4a67-4181-82a3-bb4bf4275363"
      },
      "execution_count": 3,
      "outputs": [
        {
          "name": "stdout",
          "output_type": "stream",
          "text": [
            "Please provide your OpenAI Key: ··········\n"
          ]
        }
      ]
    },
    {
      "cell_type": "markdown",
      "source": [
        "## Building the RAG pipeline\n",
        "\n",
        "- Creating an Index\n",
        "- Use a LLM to generate responses based on the retrieved context\n"
      ],
      "metadata": {
        "id": "DV_BOewX8CW0"
      }
    },
    {
      "cell_type": "markdown",
      "source": [
        "#### Loading Data\n",
        "\n",
        "Loading the CSRD data"
      ],
      "metadata": {
        "id": "RmFFThawK8lO"
      }
    },
    {
      "cell_type": "code",
      "source": [
        "!wget https://eur-lex.europa.eu/legal-content/EN/TXT/HTML/?uri=CELEX:32022L2464 -O \"direct.htm\""
      ],
      "metadata": {
        "id": "DTDNFXaBSO2j",
        "colab": {
          "base_uri": "https://localhost:8080/"
        },
        "outputId": "00c2b41d-5feb-4a67-a2a5-4a77b1af10a5"
      },
      "execution_count": 4,
      "outputs": [
        {
          "output_type": "stream",
          "name": "stdout",
          "text": [
            "--2024-04-03 08:54:22--  https://eur-lex.europa.eu/legal-content/EN/TXT/HTML/?uri=CELEX:32022L2464\n",
            "Resolving eur-lex.europa.eu (eur-lex.europa.eu)... 18.160.213.87, 18.160.213.122, 18.160.213.110, ...\n",
            "Connecting to eur-lex.europa.eu (eur-lex.europa.eu)|18.160.213.87|:443... connected.\n",
            "HTTP request sent, awaiting response... 200 OK\n",
            "Length: unspecified [text/html]\n",
            "Saving to: ‘direct.htm’\n",
            "\n",
            "direct.htm              [ <=>                ] 612.61K  --.-KB/s    in 0.05s   \n",
            "\n",
            "2024-04-03 08:54:23 (13.2 MB/s) - ‘direct.htm’ saved [627311]\n",
            "\n"
          ]
        }
      ]
    },
    {
      "cell_type": "markdown",
      "source": [
        "#### Transforming Data\n",
        "\n",
        "Loading the document with the BSHTMLLoader function from langchain_community\n",
        "\n"
      ],
      "metadata": {
        "id": "oQUl3sbZK4_1"
      }
    },
    {
      "cell_type": "code",
      "source": [
        "!pip install beautifulsoup4 -q"
      ],
      "metadata": {
        "id": "6oCkneA3KRcN"
      },
      "execution_count": 5,
      "outputs": []
    },
    {
      "cell_type": "code",
      "source": [
        "from langchain_community.document_loaders import BSHTMLLoader\n",
        "\n",
        "direct_bshtml_loader = BSHTMLLoader(\"direct.htm\")\n",
        "\n",
        "direct_data = direct_bshtml_loader.load()\n"
      ],
      "metadata": {
        "colab": {
          "base_uri": "https://localhost:8080/"
        },
        "id": "8sKwMyZ7KU_2",
        "outputId": "16deb107-c915-43c0-a2ae-e577f71dbcc8"
      },
      "execution_count": 6,
      "outputs": [
        {
          "output_type": "stream",
          "name": "stderr",
          "text": [
            "/usr/local/lib/python3.10/dist-packages/langchain_community/document_loaders/html_bs.py:51: XMLParsedAsHTMLWarning: It looks like you're parsing an XML document using an HTML parser. If this really is an HTML document (maybe it's XHTML?), you can ignore or filter this warning. If it's XML, you should know that using an XML parser will be more reliable. To parse this document as XML, make sure you have the lxml package installed, and pass the keyword argument `features=\"xml\"` into the BeautifulSoup constructor.\n",
            "  soup = BeautifulSoup(f, **self.bs_kwargs)\n"
          ]
        }
      ]
    },
    {
      "cell_type": "markdown",
      "source": [
        "Chunking the document using `RecursiveCharacterTextSplitter`."
      ],
      "metadata": {
        "id": "lR9fk9uofHXZ"
      }
    },
    {
      "cell_type": "code",
      "source": [
        "from langchain.text_splitter import RecursiveCharacterTextSplitter\n",
        "\n",
        "text_splitter = RecursiveCharacterTextSplitter(\n",
        "    chunk_size = 700,\n",
        "    chunk_overlap = 50\n",
        ")\n",
        "\n",
        "direct_documents = text_splitter.transform_documents(direct_data)\n"
      ],
      "metadata": {
        "id": "uDX5SSxBLAF9"
      },
      "execution_count": 7,
      "outputs": []
    },
    {
      "cell_type": "markdown",
      "source": [
        "Confirming the correct splitting of the document."
      ],
      "metadata": {
        "id": "ilzwQxhiLcVV"
      }
    },
    {
      "cell_type": "code",
      "source": [
        "len(direct_documents)"
      ],
      "metadata": {
        "colab": {
          "base_uri": "https://localhost:8080/"
        },
        "id": "bGwyIRrhLJXx",
        "outputId": "06aa9fe3-b9a4-42d1-c4c7-c9a02253c208"
      },
      "execution_count": 8,
      "outputs": [
        {
          "output_type": "execute_result",
          "data": {
            "text/plain": [
              "586"
            ]
          },
          "metadata": {},
          "execution_count": 8
        }
      ]
    },
    {
      "cell_type": "markdown",
      "source": [
        "#### Loading OpenAI Embeddings Model\n",
        "\n",
        "\n",
        "Using the OpenAI `text-embedding-ada-002` to convert the text into vectors that allow to compare them to the query vector."
      ],
      "metadata": {
        "id": "eZ93HkYcMJwW"
      }
    },
    {
      "cell_type": "code",
      "source": [
        "from langchain_openai import OpenAIEmbeddings\n",
        "\n",
        "embeddings = OpenAIEmbeddings(\n",
        "    model=\"text-embedding-ada-002\"\n",
        ")"
      ],
      "metadata": {
        "id": "JU6CrDVZMgKe"
      },
      "execution_count": 9,
      "outputs": []
    },
    {
      "cell_type": "markdown",
      "source": [
        "Creating a FAISS VectorStore\n"
      ],
      "metadata": {
        "id": "rVtZR9JPLtR4"
      }
    },
    {
      "cell_type": "code",
      "source": [
        "from langchain_community.vectorstores import FAISS\n",
        "\n",
        "vector_store = FAISS.from_documents(direct_documents, embeddings)\n",
        "\n",
        "\n",
        "vector_store.docstore._dict"
      ],
      "metadata": {
        "id": "978TWiCtMA0B",
        "colab": {
          "base_uri": "https://localhost:8080/"
        },
        "outputId": "8cdc9b7b-9dac-438a-d6f8-be002bfb4402"
      },
      "execution_count": 10,
      "outputs": [
        {
          "output_type": "execute_result",
          "data": {
            "text/plain": [
              "{'87564c38-d6ed-4891-983e-b43c3383004e': Document(page_content='L_2022322EN.01001501.xml\\n\\n\\n\\n\\n\\n\\n\\n\\n\\n\\n\\n16.12.2022\\xa0\\xa0\\xa0\\n\\n\\nEN\\n\\n\\nOfficial Journal of the European Union\\n\\n\\nL 322/15\\n\\n\\n\\n\\n\\n\\n\\n\\n            DIRECTIVE (EU) 2022/2464 OF THE EUROPEAN PARLIAMENT AND OF THE COUNCIL\\n         \\nof 14\\xa0December 2022\\n         \\namending Regulation (EU) No\\xa0537/2014, Directive 2004/109/EC, Directive 2006/43/EC and Directive 2013/34/EU, as regards corporate sustainability reporting\\n(Text with EEA relevance)\\n\\n\\nTHE EUROPEAN PARLIAMENT AND THE COUNCIL OF THE EUROPEAN UNION,\\n\\nHaving regard to the Treaty on the Functioning of the European Union, and in particular Articles 50 and\\xa0114 thereof,\\n\\n\\nHaving regard to the proposal from the European Commission,', metadata={'source': 'direct.htm', 'title': 'L_2022322EN.01001501.xml'}),\n",
              " '898c7681-2255-4425-a612-068bc332d696': Document(page_content='After transmission of the draft legislative act to the national parliaments,\\n\\n\\nHaving regard to the opinion of the European Economic and Social Committee\\xa0(1),\\n\\n\\nActing in accordance with the ordinary legislative procedure\\xa0(2),\\n\\nWhereas:\\n\\n\\n\\n\\n\\n\\n\\n(1)', metadata={'source': 'direct.htm', 'title': 'L_2022322EN.01001501.xml'}),\n",
              " '5d3423a4-be87-4c0c-a1a7-7f7c72ddc3af': Document(page_content=\"In its communication of 11\\xa0December 2019 entitled ‘The European Green Deal’ (the\\xa0‘Green\\xa0Deal’), the European Commission made a commitment to review the provisions concerning non-financial reporting of Directive 2013/34/EU of the European Parliament and of the Council\\xa0(3). The Green Deal is the new growth strategy of the Union. It aims to transform the Union into a modern, resource-efficient and competitive economy with no net emissions of greenhouse gases (GHG) by 2050. It also aims to protect, conserve and enhance the Union's natural capital, and protect the health and well-being of Union citizens from environment-related risks and impacts. The Green Deal aims to decouple economic growth\", metadata={'source': 'direct.htm', 'title': 'L_2022322EN.01001501.xml'}),\n",
              " 'f17e7226-2a55-46e3-a866-2eeb99a2ee49': Document(page_content='The Green Deal aims to decouple economic growth from resource use, and ensure that all regions and Union citizens participate in a socially just transition to a sustainable economic system whereby no person and no place is left behind. It will contribute to the objective of building an economy that works for the people, strengthening the Union’s social market economy, helping to ensure that it is ready for the future and that it delivers stability, jobs, growth and sustainable investment.', metadata={'source': 'direct.htm', 'title': 'L_2022322EN.01001501.xml'}),\n",
              " '11ac5062-4f63-4661-9a22-37ed37ede59e': Document(page_content='These goals are especially important considering the socio-economic damage caused by the COVID-19 pandemic and the need for a sustainable, inclusive and fair recovery. Regulation (EU) 2021/1119 of the European Parliament and of the Council\\xa0(4) makes the objective of climate neutrality by 2050 binding in the Union. Moreover, in its Communication of 20\\xa0May 2020 entitled ‘EU Biodiversity Strategy for 2030: Bringing nature back into our lives’, the Commission commits to ensuring that by 2050 all of the world’s ecosystems are restored, resilient and adequately protected. That strategy aims to put Europe’s biodiversity on a path to recovery by 2030.', metadata={'source': 'direct.htm', 'title': 'L_2022322EN.01001501.xml'}),\n",
              " '7e817a49-de33-4261-ab10-b522a3ba52a3': Document(page_content='(2)', metadata={'source': 'direct.htm', 'title': 'L_2022322EN.01001501.xml'}),\n",
              " 'a74d01f0-410d-4d16-8d3d-39aa61905af4': Document(page_content='In its Communication of 8\\xa0March 2018 entitled ‘Action Plan: Financing Sustainable Growth’ (the ‘Action Plan on Financing Sustainable Growth’), the Commission set out measures to achieve the following objectives: reorient capital flows towards sustainable investment in order to achieve sustainable and inclusive growth, manage financial risks stemming from climate change, resource depletion, environmental degradation and social issues, and foster transparency and long-termism in financial and economic activity. The disclosure by certain categories of undertakings of relevant, comparable and reliable sustainability information is a prerequisite for meeting those objectives. The European', metadata={'source': 'direct.htm', 'title': 'L_2022322EN.01001501.xml'}),\n",
              " 'c90d7733-6ea7-447d-9618-1646a2cc1bce': Document(page_content='for meeting those objectives. The European Parliament and the Council have adopted a number of legislative acts as part of the implementation of the Action Plan on Financing Sustainable Growth. Regulation (EU) 2019/2088 of the European Parliament and of the Council\\xa0(5) governs how financial market participants and financial advisers are to disclose sustainability information to end investors and asset owners.', metadata={'source': 'direct.htm', 'title': 'L_2022322EN.01001501.xml'}),\n",
              " '4a2317dc-d32c-4cdc-8524-15c5920bcb61': Document(page_content='Regulation (EU) 2020/852 of the European Parliament and of the Council\\xa0(6) creates a classification system of environmentally sustainable economic activities with the aim of scaling up sustainable investments and combatting greenwashing of financial products that unduly claim to be sustainable. Regulation (EU) 2019/2089 of the European Parliament and of the Council\\xa0(7), complemented by Commission Delegated Regulations (EU) 2020/1816\\xa0(8), (EU) 2020/1817\\xa0(9) and (EU) 2020/1818\\xa0(10), introduces environmental, social and governance (‘ESG’) disclosure requirements for benchmark administrators and minimum standards for the construction of EU Climate Transition Benchmarks and EU Paris-aligned', metadata={'source': 'direct.htm', 'title': 'L_2022322EN.01001501.xml'}),\n",
              " '24da3710-93fc-4895-b6c3-01100a986fd9': Document(page_content='Transition Benchmarks and EU Paris-aligned Benchmarks.', metadata={'source': 'direct.htm', 'title': 'L_2022322EN.01001501.xml'}),\n",
              " '997972fd-49ca-455f-8118-a85058e45955': Document(page_content='Regulation (EU) No\\xa0575/2013 of the European Parliament and of the Council\\xa0(11) requires large institutions which have issued securities that are admitted to trading on a regulated market to disclose information on ESG risks from 28\\xa0June 2022. The prudential framework for investment firms established by Regulation (EU) 2019/2033 of the European Parliament and of the Council\\xa0(12) and Directive (EU) 2019/2034 of the European Parliament and of the Council\\xa0(13) contains provisions concerning the introduction of an ESG risk dimension in the Supervisory Review and Evaluation Process (‘SREP’) by competent authorities, and contains ESG risk disclosure requirements for investment firms, applicable', metadata={'source': 'direct.htm', 'title': 'L_2022322EN.01001501.xml'}),\n",
              " '04934fff-cf0c-43f1-a109-405040f86168': Document(page_content='requirements for investment firms, applicable from 26\\xa0December 2022. On 6\\xa0July 2021, the Commission also adopted a proposal for a Regulation of the European Parliament and of the Council on European green bonds, following up on the Action Plan on Financing Sustainable Growth.', metadata={'source': 'direct.htm', 'title': 'L_2022322EN.01001501.xml'}),\n",
              " '2551f053-7c46-474c-abb0-3605e89ea745': Document(page_content='(3)\\n\\n\\nIn its Communication of 17\\xa0June 2019 entitled ‘Guidelines on non-financial reporting: Supplement on reporting climate-related information’ (‘Guidelines on reporting climate-related information’), the Commission highlighted the benefits for companies of reporting on climate-related information particularly by increasing awareness and understanding of climate-related risks and opportunities within the company, diversifying the investor base, creating a lower cost of capital and improving constructive dialogue with all stakeholders. Furthermore, diversity on company boards might have an influence on decision-making, corporate governance and resilience.\\n\\n\\n\\n\\n\\n\\n\\n\\n\\n\\n\\n\\n(4)', metadata={'source': 'direct.htm', 'title': 'L_2022322EN.01001501.xml'}),\n",
              " 'c00854ba-6e71-450d-8077-541a487870a5': Document(page_content='(4)\\n\\n\\nIn its conclusions of 5\\xa0December 2019 on the deepening of the Capital Markets Union, the Council stressed the importance of reliable, comparable and relevant information on sustainability risks, opportunities and impacts, and called on the Commission to consider the development of a European non-financial reporting standard.\\n\\n\\n\\n\\n\\n\\n\\n\\n\\n\\n\\n\\n(5)', metadata={'source': 'direct.htm', 'title': 'L_2022322EN.01001501.xml'}),\n",
              " 'c1ba8e0d-547e-4b3a-8863-4a4030de505d': Document(page_content='In its resolution of 29\\xa0May 2018 on sustainable finance\\xa0(14), the European Parliament called for the further development of non-financial reporting requirements in the framework of Directive 2013/34/EU. In its resolution of 17\\xa0December 2020 on sustainable corporate governance\\xa0(15), the European Parliament welcomed the Commission’s commitment to review Directive 2013/34/EU and expressed the need to set up a comprehensive Union framework on non-financial reporting that contains mandatory Union non-financial reporting standards. The European Parliament called for the expansion of the scope of the reporting requirements to additional categories of undertakings and for the introduction of an', metadata={'source': 'direct.htm', 'title': 'L_2022322EN.01001501.xml'}),\n",
              " 'eee8801d-e7c5-47f7-a2bd-1337c3aa6ddb': Document(page_content='of undertakings and for the introduction of an audit requirement.', metadata={'source': 'direct.htm', 'title': 'L_2022322EN.01001501.xml'}),\n",
              " '18a92f99-c4ab-4698-8d0e-59b964088266': Document(page_content='(6)', metadata={'source': 'direct.htm', 'title': 'L_2022322EN.01001501.xml'}),\n",
              " 'f82ee648-890a-4d7d-aa91-9dade21f0284': Document(page_content='In its resolution of 25\\xa0September 2015 entitled ‘Transforming our world: the 2030 Agenda for Sustainable Development’ (the ‘2030 Agenda’) the United Nations (UN) General Assembly adopted a new global sustainable development framework. The 2030 Agenda has at its core the UN Sustainable Development Goals (‘SDGs’) and covers the three dimensions of sustainability: economic, social and environmental. The Commission Communication of 22\\xa0November 2016 entitled ‘Next steps for a sustainable European future: European action for sustainability’ linked the SDGs to the Union policy framework to ensure that all Union actions and policy initiatives, both within and outside the Union, take those goals on', metadata={'source': 'direct.htm', 'title': 'L_2022322EN.01001501.xml'}),\n",
              " 'f8212ceb-c3c2-4278-bfc7-e5514803b56f': Document(page_content='within and outside the Union, take those goals on board at the outset. In its conclusions of 20\\xa0June 2017 on ‘A sustainable European future: The EU response to the 2030 Agenda for Sustainable Development’, the Council confirmed the commitment of the Union and its Member States to the implementation of the 2030 Agenda in a full, coherent, comprehensive, integrated and effective manner, in close cooperation with partners and other stakeholders.', metadata={'source': 'direct.htm', 'title': 'L_2022322EN.01001501.xml'}),\n",
              " '10a9571c-7113-4dc3-ab7c-52871e37fa43': Document(page_content='(7)', metadata={'source': 'direct.htm', 'title': 'L_2022322EN.01001501.xml'}),\n",
              " 'f4ccff6c-ed61-4913-a9c7-db83a8ec58a3': Document(page_content='Directive 2014/95/EU of the European Parliament and of the Council\\xa0(16) amended Directive 2013/34/EU as regards disclosure of non-financial information by certain large undertakings and groups. Directive 2014/95/EU introduced a requirement on undertakings to report information on, as a minimum, environmental, social and employee matters, respect for human rights, anti-corruption and bribery matters. With regard to those topics, Directive 2014/95/EU required undertakings to disclose information under the following reporting areas: business model; policies, including due diligence processes; the outcome of those policies; risks and risk management; and key performance indicators relevant to', metadata={'source': 'direct.htm', 'title': 'L_2022322EN.01001501.xml'}),\n",
              " 'c18e08fa-66b4-424a-b5b3-e7f203f4b99a': Document(page_content='and key performance indicators relevant to the business.', metadata={'source': 'direct.htm', 'title': 'L_2022322EN.01001501.xml'}),\n",
              " '1ec811a7-3d5f-42a5-9db8-0d92e4b7023e': Document(page_content='(8)\\n\\n\\nMany stakeholders consider the term ‘non-financial’ to be inaccurate, in particular because it implies that the information in question has no financial relevance. Increasingly, however, such information does have financial relevance. Many organisations, initiatives and practitioners in the field of sustainability reporting refer to ‘sustainability information’. It is therefore preferable to use the term ‘sustainability information’ in place of ‘non-financial information’. Directive 2013/34/EU should therefore be amended to take account of that change in terminology.\\n\\n\\n\\n\\n\\n\\n\\n\\n\\n\\n\\n\\n(9)', metadata={'source': 'direct.htm', 'title': 'L_2022322EN.01001501.xml'}),\n",
              " '2a714c86-c607-4914-9d26-af46ec46909c': Document(page_content='If undertakings carried out better sustainability reporting, the ultimate beneficiaries would be individual citizens and savers, including trade unions and workers’ representatives who would be adequately informed and therefore able to better engage in social dialogue. Savers who want to invest sustainably will have the opportunity to do so, while all citizens would benefit from a stable, sustainable and inclusive economic system. To realise such benefits, the sustainability information disclosed in the annual reports of undertakings first has to reach two primary groups of users. The first group of users consists of investors, including asset managers, who want to better understand the', metadata={'source': 'direct.htm', 'title': 'L_2022322EN.01001501.xml'}),\n",
              " 'a18f4dc3-c275-4c7a-9d88-b5a2b14a449a': Document(page_content='asset managers, who want to better understand the risks and opportunities that sustainability issues pose for their investments and the impacts of those investments on people and the environment. The second group of users consists of civil society actors, including non-governmental organisations and social partners, which wish to better hold undertakings to account for their impacts on people and the environment. Other stakeholders might also make use of sustainability information disclosed in annual reports, in particular to foster comparability across and within market sectors.', metadata={'source': 'direct.htm', 'title': 'L_2022322EN.01001501.xml'}),\n",
              " 'f5155565-c317-4b5d-ad7f-e2a1b37b5a76': Document(page_content='The business partners of undertakings, including customers, might rely on sustainability information to understand and, where necessary, report on their sustainability risks and impacts throughout their own value chains. Policy makers and environmental agencies can use such information, in particular on an aggregate basis, to monitor environmental and social trends, to contribute to environmental accounts, and to inform public policy. Few individual citizens and consumers directly consult undertakings’ annual reports, but they might use sustainability information indirectly, for example, when considering the advice or opinions of financial advisers or non-governmental organisations. Many', metadata={'source': 'direct.htm', 'title': 'L_2022322EN.01001501.xml'}),\n",
              " 'e8b9bcbe-d537-400e-a427-fbcfee9dcbb8': Document(page_content='advisers or non-governmental organisations. Many investors and asset managers purchase sustainability information from third-party data providers, who collect information from various sources, including public corporate reports.', metadata={'source': 'direct.htm', 'title': 'L_2022322EN.01001501.xml'}),\n",
              " '3d02d70f-5f93-4553-98fa-85374ae10ac2': Document(page_content='(10)\\n\\n\\nThe market for sustainability information is rapidly growing, and the role of third-party data providers is gaining in importance given the new obligations that investors and asset managers need to fulfil. With the increased availability of disaggregated data, sustainability information should come at a more reasonable cost. The amendments to Directive 2013/34/EU provided for in this amending Directive are expected to increase the comparability of data and harmonise standards. It is expected that the practices of third-party data providers will improve and that expertise will grow in this area, with a potential for job creation.\\n\\n\\n\\n\\n\\n\\n\\n\\n\\n\\n\\n\\n(11)', metadata={'source': 'direct.htm', 'title': 'L_2022322EN.01001501.xml'}),\n",
              " '3e9fdaed-26b9-48fd-8130-e3c409063e5a': Document(page_content='There has been a very significant increase in demand for corporate sustainability information in recent years, especially on the part of the investment community. That increase in demand is driven by the changing nature of risks to undertakings and growing investor awareness of the financial implications of those risks. That is especially the case for climate-related financial risks. There is also growing awareness of the risks and opportunities for undertakings and for investments resulting from other environmental issues, such as biodiversity loss, and from health and social issues, including child labour and forced labour. The increase in demand for sustainability information is also', metadata={'source': 'direct.htm', 'title': 'L_2022322EN.01001501.xml'}),\n",
              " '215d5851-43be-458b-b4e4-b9912c93a99d': Document(page_content='in demand for sustainability information is also driven by the growth in investment products that explicitly seek to meet certain sustainability standards or achieve certain sustainability objectives and to ensure coherence with the ambition of the Paris Agreement under the United Nations Framework Convention on Climate Change adopted on 12\\xa0December 2015 (the ‘Paris Agreement’), the UN Convention on Biological Diversity and Union policies. Part of that increase is the logical consequence of previously adopted Union legislation, notably Regulations (EU) 2019/2088 and (EU) 2020/852. Some of that increase would have happened in any case, due to fast-changing citizen awareness, consumer', metadata={'source': 'direct.htm', 'title': 'L_2022322EN.01001501.xml'}),\n",
              " 'cc884090-3b53-4768-8ca2-0d6e46ace3cb': Document(page_content='due to fast-changing citizen awareness, consumer preferences and market practices. The COVID-19 pandemic has further accelerated the increase in users’ information needs, in particular as it has exposed the vulnerabilities of workers and undertakings’ value chains. Information on environmental impacts is also relevant in the context of mitigating future pandemics, with human disturbance of ecosystems being increasingly linked to the occurrence and spread of diseases.', metadata={'source': 'direct.htm', 'title': 'L_2022322EN.01001501.xml'}),\n",
              " 'b2d95fb7-1259-4c04-a325-eb2864baef1e': Document(page_content='(12)', metadata={'source': 'direct.htm', 'title': 'L_2022322EN.01001501.xml'}),\n",
              " '9ca00bed-6ba4-4322-9ecb-45418bed92e7': Document(page_content='Undertakings themselves stand to benefit from carrying out high-quality reporting on sustainability matters. The growth in the number of investment products that aim to pursue sustainability objectives means that good sustainability reporting can enhance an undertaking’s access to financial capital. Sustainability reporting can help undertakings to identify and manage their own risks and opportunities related to sustainability matters. It can provide a basis for better dialogue and communication between undertakings and their stakeholders, and can help undertakings to improve their reputation. Moreover, a consistent basis for sustainability reporting in the form of sustainability reporting', metadata={'source': 'direct.htm', 'title': 'L_2022322EN.01001501.xml'}),\n",
              " '332812d6-8567-4932-8483-097f0ce65eca': Document(page_content='reporting in the form of sustainability reporting standards would lead to relevant and sufficient information being provided and thus significantly decrease ad hoc requests for information.', metadata={'source': 'direct.htm', 'title': 'L_2022322EN.01001501.xml'}),\n",
              " 'd449955a-58a6-44e8-a68a-c5e5fe031ada': Document(page_content='(13)', metadata={'source': 'direct.htm', 'title': 'L_2022322EN.01001501.xml'}),\n",
              " 'aa1c56d1-fb97-4f73-baee-6d7e23283299': Document(page_content='The Commission report of 21\\xa0April 2021 on the review clauses in Directives 2013/34/EU, 2014/95/EU, and\\xa02013/50/EU and its accompanying fitness check on the EU framework for public reporting by companies (‘Commission report on the review clauses and its accompanying fitness check’) identified problems as to the effectiveness of Directive 2014/95/EU. There is significant evidence that many undertakings do not disclose material information on all major sustainability-related topics, including climate-related information such as all GHG emissions, and factors that affect biodiversity. The report also identified the limited comparability and reliability of sustainability information as', metadata={'source': 'direct.htm', 'title': 'L_2022322EN.01001501.xml'}),\n",
              " '8b655215-0991-453e-aa19-e618f09f7c5f': Document(page_content='and reliability of sustainability information as significant problems. Additionally, many undertakings from which users need sustainability information are not obliged to report such information. Accordingly, there is a clear need for a robust and affordable reporting framework that is accompanied by effective auditing practices to ensure the reliability of data and avoid greenwashing and double counting.', metadata={'source': 'direct.htm', 'title': 'L_2022322EN.01001501.xml'}),\n",
              " '0ec575a7-ecbe-4a54-8962-1f0400e5536d': Document(page_content='(14)', metadata={'source': 'direct.htm', 'title': 'L_2022322EN.01001501.xml'}),\n",
              " '1df6ec02-df09-4edd-9ca8-9cab59596b97': Document(page_content='In the absence of policy action, the gap between users’ information needs and the sustainability information provided by undertakings is expected to grow. That gap has significant negative consequences. Investors are unable to take sufficient account of sustainability-related risks and opportunities in their investment decisions. The aggregation of multiple investment decisions that do not take adequate account of sustainability-related risks has the potential to create systemic risks that threaten financial stability. The European Central Bank (ECB) and international organisations, such as the Financial Stability Board, have drawn attention to those systemic risks, in particular as regards', metadata={'source': 'direct.htm', 'title': 'L_2022322EN.01001501.xml'}),\n",
              " 'dec9939f-56a0-468f-9066-212fa549a489': Document(page_content='to those systemic risks, in particular as regards climate. Investors are also less able to channel financial resources to undertakings and economic activities that address and do not exacerbate social and environmental problems, which undermines the objectives of the Green Deal, the Action Plan on Financing Sustainable Growth and the Paris Agreement. Non-governmental organisations, social partners, communities affected by undertakings’ activities, and other stakeholders are less able to hold undertakings accountable for their impacts on people and the environment. This creates an accountability deficit and could lead to lower levels of citizen trust in businesses, which in turn could have', metadata={'source': 'direct.htm', 'title': 'L_2022322EN.01001501.xml'}),\n",
              " '35a09ff2-5c06-408a-9551-56ab6495fb27': Document(page_content='trust in businesses, which in turn could have negative impacts on the efficient functioning of the social market economy. The lack of generally accepted metrics and methods for measuring, valuing, and managing sustainability-related risks is also an obstacle to the efforts of undertakings to ensure that their business models and activities are sustainable. The lack of sustainability information provided by undertakings also limits the ability of stakeholders, including civil society actors, trade unions and workers’ representatives, to enter into dialogue with undertakings on sustainability matters.', metadata={'source': 'direct.htm', 'title': 'L_2022322EN.01001501.xml'}),\n",
              " '97a02642-1464-4db4-ae18-96f6d7c1b224': Document(page_content='(15)', metadata={'source': 'direct.htm', 'title': 'L_2022322EN.01001501.xml'}),\n",
              " '97abbf41-71cc-45b7-ade2-815b17898548': Document(page_content='The Commission report on the review clauses and its accompanying fitness check also identified a significant increase in requests to undertakings for information about sustainability matters aimed at addressing the existing information gap between users’ information needs and the available corporate sustainability information. In addition, ongoing expectations on undertakings to use a variety of different frameworks and standards are likely to continue and may even intensify as the value placed on sustainability information continues to grow. In the absence of policy action to build consensus on the information that undertakings should report, there will be significant increases in terms of', metadata={'source': 'direct.htm', 'title': 'L_2022322EN.01001501.xml'}),\n",
              " '19aeb5ee-b965-4c3a-a524-eee86dfd0a44': Document(page_content='there will be significant increases in terms of cost and burden for reporting undertakings and for users of such information.', metadata={'source': 'direct.htm', 'title': 'L_2022322EN.01001501.xml'}),\n",
              " 'aa8faddd-ecab-4f54-9d5f-33191d788016': Document(page_content='(16)\\n\\n\\nThe existing information gap makes it more likely that individual Member States will introduce increasingly divergent national rules or standards. Different reporting requirements in different Member States could create additional costs and complexity for undertakings operating across borders and therefore undermine the internal market, and could undermine the right of establishment and the free movement of capital across the Union. Such different reporting requirements could also make reported information less comparable across borders, undermining the capital markets union.\\n\\n\\n\\n\\n\\n\\n\\n\\n\\n\\n\\n\\n(17)', metadata={'source': 'direct.htm', 'title': 'L_2022322EN.01001501.xml'}),\n",
              " '53725ffe-83bb-4bdd-9c58-d9d99c2b76a4': Document(page_content='Articles 19a and\\xa029a of Directive 2013/34/EU apply to large undertakings that are public-interest entities with an average number of employees in excess of 500, and to public-interest entities that are parent undertakings of a large group with an average number of employees in excess of 500 on a consolidated basis, respectively. In view of the growth of users’ needs for sustainability information, additional categories of undertakings should be required to report sustainability information. It is therefore appropriate to require all large undertakings and all undertakings, except micro undertakings, whose securities are admitted to trading on a regulated market in the Union to report', metadata={'source': 'direct.htm', 'title': 'L_2022322EN.01001501.xml'}),\n",
              " 'ad92583c-ee43-4dbb-98cf-be9f2d66cad5': Document(page_content='on a regulated market in the Union to report sustainability information. The provisions of this amending Directive amending Articles 19a and\\xa029a of Directive 2013/34/EU explicitly set out the scope of the reporting requirements with reference to Articles 2 and\\xa03 of Directive 2013/34/EU. Therefore, they do not simplify or modify another requirement and the restriction of exemptions for public-interest entities provided for in Article\\xa040 of Directive 2013/34/EU does not apply. In particular, public-interest entities should not be treated as large undertakings for the purposes of the application of the sustainability reporting requirements. Accordingly, small and medium-sized undertakings', metadata={'source': 'direct.htm', 'title': 'L_2022322EN.01001501.xml'}),\n",
              " 'fa823c4a-e613-40eb-aff6-98566acca7cf': Document(page_content='Accordingly, small and medium-sized undertakings whose securities are admitted to trading on a regulated market in the Union that are public-interest entities should be allowed to report in accordance with the sustainability reporting standards for small and medium-sized undertakings. In addition, all undertakings that are parent undertakings of large groups should prepare sustainability reporting at group level. Moreover, since Article\\xa08 of Regulation (EU) 2020/852 refers to Article\\xa019a and Article\\xa029a of Directive 2013/34/EU, the undertakings added to the scope of the sustainability reporting requirements will also have to comply with Article\\xa08 of Regulation (EU) 2020/852.', metadata={'source': 'direct.htm', 'title': 'L_2022322EN.01001501.xml'}),\n",
              " '9edf82d9-29e4-4bb2-aff9-5a86195038fb': Document(page_content='(18)\\n\\n\\nThe requirement provided for in this amending Directive that also large undertakings whose securities are not admitted to trading on a regulated market in the Union should disclose information on sustainability matters is mainly justified by concerns about the impacts and accountability of such undertakings, including through their value chain. In this respect, all large undertakings should be subject to the same requirements to report sustainability information publicly. In addition, financial market participants also need information from those large undertakings whose securities are not admitted to trading on a regulated market in the Union.\\n\\n\\n\\n\\n\\n\\n\\n\\n\\n\\n\\n\\n(19)', metadata={'source': 'direct.htm', 'title': 'L_2022322EN.01001501.xml'}),\n",
              " '1e4d8293-aa28-4a35-9d70-e39cf0004da2': Document(page_content='(19)\\n\\n\\nThe requirement provided for in this amending Directive that third-country undertakings whose securities are admitted to trading on a regulated market in the Union should also disclose information on sustainability matters is aimed at responding to the needs of financial market participants for information from such undertakings in order to enable them to understand the risks and impacts of their investments and to comply with the disclosure requirements laid down in Regulation (EU) 2019/2088.\\n\\n\\n\\n\\n\\n\\n\\n\\n\\n\\n\\n\\n(20)', metadata={'source': 'direct.htm', 'title': 'L_2022322EN.01001501.xml'}),\n",
              " 'c8b1c5a4-1323-4cd9-b71e-13bd8533045d': Document(page_content='Third-country undertakings which have a significant activity on the territory of the Union should also be required to provide sustainability information, especially on their impacts on social and environmental matters, in order to ensure that third-country undertakings are accountable for their impacts on people and the environment and that there is a level playing field for companies operating in the internal market. Therefore, third-country undertakings which generate a net turnover of more than EUR\\xa0150\\xa0million in the Union and which have a subsidiary undertaking or a branch on the territory of the Union should be subject to Union sustainability reporting requirements. To ensure the', metadata={'source': 'direct.htm', 'title': 'L_2022322EN.01001501.xml'}),\n",
              " '134cf43d-2a59-4cd0-b88f-75341d465039': Document(page_content='reporting requirements. To ensure the proportionality and enforceability of such requirements, the threshold of having a net turnover of more than EUR\\xa040 million should apply to the branches of third-country undertakings, and the thresholds related to being considered a large undertaking or a small or medium-sized undertaking, except micro undertakings, whose securities are admitted to trading on a regulated market in the Union should apply to the subsidiary undertakings of third-country undertakings, as such subsidiary undertakings and branches should be responsible for publishing the sustainability report of the third-country undertaking. The sustainability reports published by the', metadata={'source': 'direct.htm', 'title': 'L_2022322EN.01001501.xml'}),\n",
              " '1b99855e-2eb4-4f96-b6f4-1ea3bccba492': Document(page_content='The sustainability reports published by the subsidiary undertaking or branch of a third-country undertaking should be prepared in accordance with standards to be adopted by 30\\xa0June 2024 by the Commission through delegated acts.', metadata={'source': 'direct.htm', 'title': 'L_2022322EN.01001501.xml'}),\n",
              " '11b4b49f-5dc2-4396-8dc1-9b9533179ef8': Document(page_content='The subsidiary undertaking or branch of a third-country undertaking should also be able to report in accordance with the standards applying to undertakings established in the Union, or in accordance with standards which are deemed equivalent pursuant to an implementing act. In the event that not all the information required under this amending Directive is provided by the third-country undertaking, despite the best efforts of the subsidiary undertaking or branch of that third-country undertaking to obtain the necessary information, that subsidiary undertaking or branch should provide all the information in its possession and issue a statement indicating that the third-country undertaking', metadata={'source': 'direct.htm', 'title': 'L_2022322EN.01001501.xml'}),\n",
              " '58fd3193-63f5-415d-a56e-5012b42b6586': Document(page_content='indicating that the third-country undertaking did not make the rest of the required information available. In order to ensure the quality and reliability of the reporting, the sustainability reports of third-country undertakings should be published accompanied by an assurance opinion expressed by a person or firm authorised to give an opinion on the assurance of sustainability reporting, either under the national law of the third-country undertaking or of a Member State. In the event that such an assurance opinion is not provided, the subsidiary undertaking or branch of the third-country undertaking should issue a statement indicating that the third-country undertaking did not provide the', metadata={'source': 'direct.htm', 'title': 'L_2022322EN.01001501.xml'}),\n",
              " '749ab2be-45f3-4034-9685-74e186c1b2f6': Document(page_content='the third-country undertaking did not provide the necessary assurance opinion. The sustainability report should be made accessible free of charge to the public through the central, commercial or companies registers of the Member States, or alternatively on the website of the subsidiary undertaking or the branch of the third-country undertaking.', metadata={'source': 'direct.htm', 'title': 'L_2022322EN.01001501.xml'}),\n",
              " 'd473ef4e-2191-414d-85b0-d221fc0ec312': Document(page_content='Member States should be able to inform the Commission on an annual basis of the subsidiary undertakings or branches of the third-country undertakings that fulfilled the publication requirement and of the cases where a report was published but the subsidiary undertaking or branch of the third-country undertaking has stated that it could not get the necessary information from the third-country undertaking. The Commission should make publicly available on its website a list of the third-country undertakings that have published a sustainability report.', metadata={'source': 'direct.htm', 'title': 'L_2022322EN.01001501.xml'}),\n",
              " 'af4e009c-6fa1-4e19-a62b-20b2a2f09d4b': Document(page_content='(21)', metadata={'source': 'direct.htm', 'title': 'L_2022322EN.01001501.xml'}),\n",
              " 'f0cd5f21-6427-4ee6-b10a-0f3ca893dd37': Document(page_content='Considering the growing relevance of sustainability-related risks and taking into account that small and medium-sized undertakings whose securities are admitted to trading on a regulated market in the Union comprise a significant proportion of all undertakings whose securities are admitted to trading on a regulated market in the Union, in order to ensure investor protection, it is appropriate to require that also small and medium-sized undertakings, except micro undertakings, whose securities are admitted to trading on a regulated market in the Union disclose information on sustainability matters. The introduction of such a requirement will help to ensure that financial market participants', metadata={'source': 'direct.htm', 'title': 'L_2022322EN.01001501.xml'}),\n",
              " 'a3fd2e06-e142-48fc-af27-633c47995b7a': Document(page_content='help to ensure that financial market participants can include smaller undertakings whose securities are admitted to trading on a regulated market in the Union in investment portfolios, on the basis that they report the sustainability information that financial market participants need.', metadata={'source': 'direct.htm', 'title': 'L_2022322EN.01001501.xml'}),\n",
              " 'bc587d39-de02-43af-866e-81d79950a625': Document(page_content='It will therefore help to protect and enhance the access of smaller undertakings whose securities are admitted to trading on a regulated market in the Union to financial capital, and avoid discrimination against such undertakings on the part of financial market participants. The introduction of the requirement for small and medium-sized undertakings, except micro undertakings, whose securities are admitted to trading on a regulated market in the Union to disclose information on sustainability matters is also necessary to ensure that financial market participants have the information they need from investee undertakings to be able to comply with their own sustainability disclosure', metadata={'source': 'direct.htm', 'title': 'L_2022322EN.01001501.xml'}),\n",
              " '797eb420-233c-4eb5-b287-b89b27d97ab7': Document(page_content='comply with their own sustainability disclosure requirements laid down in Regulation (EU)\\xa02019/2088. Small and medium-sized undertakings whose securities are admitted to trading on a regulated market in the Union should be given the possibility of reporting in accordance with standards that are proportionate to their capacities and resources, and relevant to the scale and complexity of their activities. Small and medium-sized undertakings whose securities are not admitted to trading on a regulated market in the Union should also have the possibility of choosing to use such proportionate standards on a voluntary basis.', metadata={'source': 'direct.htm', 'title': 'L_2022322EN.01001501.xml'}),\n",
              " '68888b59-9eb3-4a43-a573-eb5af18a682c': Document(page_content='The sustainability reporting standards for small and medium-sized undertakings will constitute a reference for undertakings that are within the scope of the requirements introduced by this amending Directive regarding the level of sustainability information that they could reasonably request from small and medium-sized undertakings that are suppliers or clients in the value chains of such undertakings. Small and medium-sized undertakings whose securities are admitted to trading on a regulated market in the Union should, in addition, be given sufficient time to prepare for the application of the provisions requiring sustainability reporting, due to their smaller size and more limited', metadata={'source': 'direct.htm', 'title': 'L_2022322EN.01001501.xml'}),\n",
              " '84239d13-176c-4817-8835-4bb6f9bfec13': Document(page_content='due to their smaller size and more limited resources, and taking account of the difficult economic circumstances created by the COVID-19 pandemic. Therefore, the provisions on corporate sustainability reporting as regards small and medium-sized undertakings, except micro undertakings, whose securities are admitted to trading on a regulated market in the Union should apply for financial years starting on or after 1\\xa0January 2026. Following that date, for a transitional period of two years, small and medium-sized undertakings whose securities are admitted to trading on a regulated market in the Union should have the possibility of opting-out from the sustainability reporting requirements laid', metadata={'source': 'direct.htm', 'title': 'L_2022322EN.01001501.xml'}),\n",
              " '26ab14ce-a5cc-42da-8e6e-332c35dc6c53': Document(page_content='the sustainability reporting requirements laid down in this amending Directive, provided they briefly state in their management report why the sustainability information has not been provided.', metadata={'source': 'direct.htm', 'title': 'L_2022322EN.01001501.xml'}),\n",
              " '84872fc1-a480-4548-8bca-d2f2001b1730': Document(page_content='(22)\\n\\n\\nMember States should be free to assess the impact of their national transposition measures on small and medium-sized undertakings, in order to ensure that they are not disproportionately affected, with specific attention to be given to micro-undertakings and to avoiding an unnecessary administrative burden. Member States should consider introducing measures to support small and medium-sized undertakings in applying the sustainability reporting standards.\\n\\n\\n\\n\\n\\n\\n\\n\\n\\n\\n\\n\\n(23)', metadata={'source': 'direct.htm', 'title': 'L_2022322EN.01001501.xml'}),\n",
              " 'bb0a54f6-7fe7-473a-a68a-d5f313c45ca3': Document(page_content='(23)\\n\\n\\nDirective 2004/109/EC of the European Parliament and of the Council\\xa0(17) applies to undertakings whose securities are admitted to trading on a regulated market in the Union. In order to ensure that undertakings whose securities are admitted to trading on a regulated market in the Union, including third-country issuers, fall under the same sustainability reporting requirements, Directive 2004/109/EC should contain the necessary cross-references to any requirement on sustainability reporting in the annual financial report.\\n\\n\\n\\n\\n\\n\\n\\n\\n\\n\\n\\n\\n(24)', metadata={'source': 'direct.htm', 'title': 'L_2022322EN.01001501.xml'}),\n",
              " '240246e3-2d0e-4349-bb9c-7d1e8bb64a88': Document(page_content='Point (i) of the first subparagraph of Article\\xa023(4) and the fourth subparagraph of Article\\xa023(4) of Directive 2004/109/EC empower the Commission to adopt measures to set up a mechanism for the determination of equivalence of information required under that Directive, and for the establishment of general equivalence criteria regarding accounting standards, respectively. The third subparagraph of Article\\xa023(4) of Directive 2004/109/EC also empowers the Commission to take the necessary decisions on the equivalence of accounting standards which are used by third-country issuers. In order to reflect the inclusion of the sustainability requirements in Directive 2004/109/EC, the Commission should', metadata={'source': 'direct.htm', 'title': 'L_2022322EN.01001501.xml'}),\n",
              " 'e1ff1b30-faa2-4793-9e1d-c9a1259a2539': Document(page_content='in Directive 2004/109/EC, the Commission should be empowered to establish a mechanism for the determination of equivalence of sustainability reporting standards applied by third-country issuers, similar to what is provided for in Commission Regulation (EC) No\\xa01569/2007\\xa0(18) which sets out the criteria for the determination of equivalence of accounting standards applied by third-country issuers. For the same reason, the Commission should also be empowered to take the necessary decisions on the equivalence of sustainability reporting standards that are used by third-country issuers. The amendments introduced by this amending Directive will ensure consistent equivalence regimes for', metadata={'source': 'direct.htm', 'title': 'L_2022322EN.01001501.xml'}),\n",
              " '5b2a66cb-d46e-4756-8b9e-c26185805c13': Document(page_content='will ensure consistent equivalence regimes for sustainability reporting requirements and for financial reporting requirements regarding the annual financial report.', metadata={'source': 'direct.htm', 'title': 'L_2022322EN.01001501.xml'}),\n",
              " '280e4e38-b4b5-4cd2-9c3f-bc0a9b6cd00b': Document(page_content='(25)', metadata={'source': 'direct.htm', 'title': 'L_2022322EN.01001501.xml'}),\n",
              " 'bc13efd7-7d60-4483-908f-4032bec1f09c': Document(page_content='Article\\xa019a(3) and Article\\xa029a(3) of Directive 2013/34/EU exempt all subsidiary undertakings from the obligation to report non-financial information where such undertakings and their subsidiary undertakings are included in the consolidated management report of their parent undertaking, provided that report includes non-financial information reported pursuant to that Directive. It is necessary, however, to ensure that sustainability information is easily accessible for users, and to ensure that there is transparency as regards which parent undertaking of the exempted subsidiary undertaking is reporting at group level. It is therefore necessary to require those subsidiary undertakings to', metadata={'source': 'direct.htm', 'title': 'L_2022322EN.01001501.xml'}),\n",
              " '5b2d22c7-425c-4765-a8d1-dec12e86f37f': Document(page_content='to require those subsidiary undertakings to include in their management report the name and registered office of the parent undertaking that is reporting sustainability information at group level, the weblinks to the consolidated management report of their parent undertaking and a reference in their management report to the fact that they are exempted from sustainability reporting. Member States should be able to require that the parent undertaking publish the consolidated management report in the languages they accept and that the parent undertaking provide any necessary translation in such languages. Such exemption should also apply where the parent undertaking reporting at group level is', metadata={'source': 'direct.htm', 'title': 'L_2022322EN.01001501.xml'}),\n",
              " 'e90083f9-8e24-4930-80e3-f287188f56bf': Document(page_content='parent undertaking reporting at group level is a third-country undertaking reporting sustainability information in accordance with equivalent sustainability reporting standards.', metadata={'source': 'direct.htm', 'title': 'L_2022322EN.01001501.xml'}),\n",
              " 'e94364e1-04c0-4528-840e-61411175f113': Document(page_content='Directive 2004/109/EC, as amended by this amending Directive, should provide for appropriate mechanisms to determine the equivalence of sustainability reporting standards, and undertakings whose securities are admitted to trading on a regulated market in the Union and undertakings whose securities are not admitted to trading on a regulated market in the Union should be required to report in accordance with the same sustainability reporting standards. In this context, the implementing acts adopted by the Commission pursuant to point (i) of the first subparagraph of Article\\xa023(4) and the fourth subparagraph of Article\\xa023(4) of Directive 2004/109/EC establishing a mechanism for the', metadata={'source': 'direct.htm', 'title': 'L_2022322EN.01001501.xml'}),\n",
              " '3f2dec96-e92c-49d8-80f6-d4f90b35037e': Document(page_content='2004/109/EC establishing a mechanism for the determination of equivalence of standards should be used to determine whether to exempt subsidiary undertakings of third-country parent undertakings under the regime of Directive 2013/34/EU. Therefore, the subsidiary undertaking should be exempted when the consolidated sustainability reporting is carried out in accordance with the sustainability reporting standards adopted by the Commission pursuant to Article\\xa029b of Directive 2013/34/EU introduced by this amending Directive or in a manner equivalent to those sustainability reporting standards, as determined in accordance with an implementing act on the equivalence of sustainability reporting', metadata={'source': 'direct.htm', 'title': 'L_2022322EN.01001501.xml'}),\n",
              " '22101eab-64a5-403f-ba1e-252a797e65e4': Document(page_content='on the equivalence of sustainability reporting standards adopted pursuant to the third subparagraph of Article\\xa023(4) of Directive 2004/109/EC. Such exemption should not apply to large undertakings whose securities are admitted to trading on a regulated market in the Union for reasons of investor protection, in order to ensure greater transparency as regards such undertakings.', metadata={'source': 'direct.htm', 'title': 'L_2022322EN.01001501.xml'}),\n",
              " '35109698-dcd7-4216-9c23-c2f30739542b': Document(page_content='(26)', metadata={'source': 'direct.htm', 'title': 'L_2022322EN.01001501.xml'}),\n",
              " '46cab8fb-6300-48f0-86b0-ebef30755b11': Document(page_content='Article\\xa023 of Directive 2013/34/EU exempts parent undertakings from the obligation to prepare consolidated financial statements and a consolidated management report where parent undertakings are subsidiary undertakings of another parent undertaking that complies with that obligation. It should be specified, however, that the exemption regime for consolidated financial statements and consolidated management reports operates independently from the exemption regime for consolidated sustainability reporting. An undertaking can therefore be exempted from consolidated financial reporting requirements but not from consolidated sustainability reporting requirements where its ultimate parent', metadata={'source': 'direct.htm', 'title': 'L_2022322EN.01001501.xml'}),\n",
              " '8c6e1208-ded6-4503-a480-a067479db480': Document(page_content='reporting requirements where its ultimate parent undertaking prepares consolidated financial statements and consolidated management reports in accordance with Union law, or in accordance with equivalent requirements if the undertaking is established in a third country, but does not carry out consolidated sustainability reporting in accordance with Union law, or in accordance with equivalent requirements if the undertaking is established in a third country. It is necessary that parent undertakings reporting at group level provide an adequate understanding of the risks for, and impacts of, their subsidiary undertakings, including information on their due diligence processes where appropriate.', metadata={'source': 'direct.htm', 'title': 'L_2022322EN.01001501.xml'}),\n",
              " '0d73c7d2-efec-40d6-9c40-ab2ca351b1fd': Document(page_content='their due diligence processes where appropriate. There might be cases where the differences between the situation of the group and that of its individual subsidiary undertakings, or between the situation of individual subsidiary undertakings in different territories are particularly significant and would, in the absence of additional information about the individual subsidiary undertaking concerned, cause the user of the information to reach a substantially different conclusion about the risks for, or impacts of, the subsidiary undertaking.', metadata={'source': 'direct.htm', 'title': 'L_2022322EN.01001501.xml'}),\n",
              " '8d40ac33-c5d5-4f7d-b280-359786699430': Document(page_content='(27)', metadata={'source': 'direct.htm', 'title': 'L_2022322EN.01001501.xml'}),\n",
              " '049c6f02-d489-40ab-8c70-17b0f0dbbf2d': Document(page_content='Credit institutions and insurance undertakings play a key role in the transition towards a fully sustainable and inclusive economic and financial system in line with the Green Deal. They can have significant positive and negative impacts via their lending, investment and underwriting activities. Credit institutions and insurance undertakings other than those that are required to comply with Directive 2013/34/EU, including cooperatives and mutual undertakings, should therefore be subject to sustainability reporting requirements, provided that they meet certain size criteria. Users of sustainability information would thus be enabled to assess both the impacts of such credit institutions and', metadata={'source': 'direct.htm', 'title': 'L_2022322EN.01001501.xml'}),\n",
              " '9339aafc-0f13-4557-9985-02c45ab5a329': Document(page_content='both the impacts of such credit institutions and insurance undertakings on society and the environment and the risks arising from sustainability matters that such credit institutions and insurance undertakings could face. Directive 2013/34/EU provides for three possible criteria to determine whether an undertaking is to be considered a ‘large undertaking’, namely the balance sheet total, net turnover and the average number of employees during the financial year.', metadata={'source': 'direct.htm', 'title': 'L_2022322EN.01001501.xml'}),\n",
              " '6de53c3c-ba65-4669-9917-a2e965cba8b9': Document(page_content='The criterion of net turnover needs to be adapted for credit institutions and for insurance undertakings by referring to the definition of net turnover in Council Directives 86/635/EEC\\xa0(19) and\\xa091/674/EEC\\xa0(20) instead of the general definition laid down in Directive 2013/34/EU. To ensure coherence with the reporting requirements of Directive 86/635/EEC, Member States should be able to choose not to apply sustainability reporting requirements to credit institutions listed in Article\\xa02(5) of Directive 2013/36/EU of the European Parliament and of the Council\\xa0(21).', metadata={'source': 'direct.htm', 'title': 'L_2022322EN.01001501.xml'}),\n",
              " '13c6c961-423f-4b59-b7fe-a3e51bca7579': Document(page_content='(28)', metadata={'source': 'direct.htm', 'title': 'L_2022322EN.01001501.xml'}),\n",
              " 'a99b8c0a-a204-4916-9b82-59dfa83b7e66': Document(page_content='The list of sustainability matters on which undertakings are required to report should be as consistent as possible with the definition of the term ‘sustainability factors’ laid down in Regulation (EU) 2019/2088, and should prevent a mismatch between information required by data users and information to be reported by undertakings. That list should also correspond to the needs and expectations of users and undertakings, who often use the terms ‘environmental’, ‘social’ and ‘governance’ as a means of categorising the three main sustainability matters. However, the definition of the term ‘sustainability factors’ laid down in Regulation (EU) 2019/2088 does not explicitly include governance', metadata={'source': 'direct.htm', 'title': 'L_2022322EN.01001501.xml'}),\n",
              " '09bf72c0-a68f-4031-82b5-ae13b220043d': Document(page_content='2019/2088 does not explicitly include governance matters. The definition of the term ‘sustainability matters’ in Directive 2013/34/EU as amended by this amending Directive should therefore cover environmental, social and human rights, and governance factors, and incorporate the definition of the term ‘sustainability factors’ laid down in Regulation (EU) 2019/2088. The reporting requirements of Directive 2013/34/EU should be without prejudice to national reporting obligations.', metadata={'source': 'direct.htm', 'title': 'L_2022322EN.01001501.xml'}),\n",
              " '38de8769-d2b6-489b-bc34-11ed0a6329d5': Document(page_content='(29)', metadata={'source': 'direct.htm', 'title': 'L_2022322EN.01001501.xml'}),\n",
              " 'd58e9b24-3429-43b5-82b6-e77a94131370': Document(page_content='Article\\xa019a(1) and Article\\xa029a(1) of Directive 2013/34/EU require reporting not only on information to the extent necessary for an understanding of the undertaking’s development, performance and position, but also on information necessary for an understanding of the impact of the undertaking’s activities on environmental, social and employee matters, respect for human rights, anti-corruption and bribery matters. Those Articles therefore require undertakings to report both on the impacts of the activities of the undertaking on people and the environment, and on how sustainability matters affect the undertaking. That is referred to as the double materiality perspective, in which the risks to', metadata={'source': 'direct.htm', 'title': 'L_2022322EN.01001501.xml'}),\n",
              " '67553183-60e6-448a-9d83-dcc7b87bffac': Document(page_content='materiality perspective, in which the risks to the undertaking and the impacts of the undertaking each represent one materiality perspective. The fitness check on corporate reporting shows that those two perspectives are often not well understood or applied. It is therefore necessary to clarify that undertakings should consider each materiality perspective in its own right, and should disclose information that is material from both perspectives as well as information that is material from only one perspective.', metadata={'source': 'direct.htm', 'title': 'L_2022322EN.01001501.xml'}),\n",
              " 'e9627ac5-1d66-4907-9cdf-4a77135b55dd': Document(page_content='(30)', metadata={'source': 'direct.htm', 'title': 'L_2022322EN.01001501.xml'}),\n",
              " '1bca04fd-650e-48e7-a559-4fd40e7223b5': Document(page_content='Article\\xa019a(1) and Article\\xa029a(1) of Directive 2013/34/EU require undertakings to disclose information about five reporting areas: business model; policies, including due diligence processes implemented; the outcome of those policies; risks and risk management; and key performance indicators relevant to the business. Article\\xa019a(1) of Directive 2013/34/EU does not contain explicit references to other reporting areas that users of information consider relevant, some of which align with disclosures included in international frameworks, including the recommendations of the Task Force on Climate-related Financial Disclosures. Disclosure requirements should be specified in sufficient detail to', metadata={'source': 'direct.htm', 'title': 'L_2022322EN.01001501.xml'}),\n",
              " '3b43aa27-9201-4229-84b0-6ab7663606b0': Document(page_content='should be specified in sufficient detail to ensure that undertakings report information on their resilience in relation to risks related to sustainability matters. In addition to the reporting areas identified in Article\\xa019a(1) and Article\\xa029a(1) of Directive 2013/34/EU, undertakings should be required to disclose information about their business strategy and the resilience of the business model and strategy in relation to risks related to sustainability matters. They should also be required to disclose any plans they may have to ensure that their business model and strategy are compatible with the transition to a sustainable economy and with the objectives of limiting global warming to', metadata={'source': 'direct.htm', 'title': 'L_2022322EN.01001501.xml'}),\n",
              " '18e9220e-8534-4e9c-8153-6ccabb04bf0a': Document(page_content='with the objectives of limiting global warming to 1,5\\xa0°C in line with the Paris Agreement and achieving climate neutrality by 2050, as established in Regulation (EU) 2021/1119, with no or limited overshoot.', metadata={'source': 'direct.htm', 'title': 'L_2022322EN.01001501.xml'}),\n",
              " '377ed37a-340d-4a1b-89eb-0aa650c4a4c6': Document(page_content='It is especially important that plans related to the climate be based on the latest science, including Intergovernmental Panel on Climate Change (IPCC) reports and reports by the European Scientific Advisory Board on Climate Change. Information disclosed in accordance with Article\\xa08 of Regulation (EU) 2020/852 about the amount of capital expenditure (CapEx) or operating expenditure (OpEx) associated with taxonomy-aligned activities could support financial and investment plans related to such plans where appropriate. Undertakings should also be required to disclose whether and how their business model and strategy take account of the interests of stakeholders; any opportunities for the', metadata={'source': 'direct.htm', 'title': 'L_2022322EN.01001501.xml'}),\n",
              " '90fd2211-8832-4fe0-b1af-3beacef2cb26': Document(page_content='of stakeholders; any opportunities for the undertaking arising from sustainability matters; the implementation of the aspects of the business strategy which affect, or are affected by, sustainability matters; any sustainability targets set by the undertaking and the progress made towards achieving them; the role of the board and management with regard to sustainability matters; the principal actual and potential adverse impacts connected with the undertaking’s activities; and how the undertaking has identified the information that it reports on. Once the disclosure of elements, such as targets and the progress towards achieving them, is required, a separate requirement to disclose the', metadata={'source': 'direct.htm', 'title': 'L_2022322EN.01001501.xml'}),\n",
              " '586e6ed6-b50b-4213-95fc-39a87ae873c2': Document(page_content='required, a separate requirement to disclose the outcomes of policies is no longer necessary.', metadata={'source': 'direct.htm', 'title': 'L_2022322EN.01001501.xml'}),\n",
              " 'd1bd7029-dbe1-4e29-904a-52e4795f68ac': Document(page_content='(31)', metadata={'source': 'direct.htm', 'title': 'L_2022322EN.01001501.xml'}),\n",
              " 'ab3c5b30-d318-418b-914a-79e08967e221': Document(page_content='To ensure consistency with international instruments such as the UN ‘Guiding Principles on Business and Human Rights: Implementing the United Nations ‘Protect, Respect and Remedy’ Framework’ (‘UN Guiding Principles on Business and Human Rights’), the OECD Guidelines for Multinational Enterprises and the OECD Due Diligence Guidance for Responsible Business Conduct, the due diligence disclosure requirements should be specified in greater detail than is currently the case in point (b) of Article\\xa019a(1) and point (b) of Article\\xa029a(1) of Directive 2013/34/EU. Due diligence is the process that undertakings carry out to identify, monitor, prevent, mitigate, remediate or bring an end to the', metadata={'source': 'direct.htm', 'title': 'L_2022322EN.01001501.xml'}),\n",
              " '79e9c649-cf88-456e-aabb-3f0f89cbd575': Document(page_content='mitigate, remediate or bring an end to the principal actual and potential adverse impacts connected with their activities and identifies how undertakings address those adverse impacts. Impacts connected with an undertaking’s activities include impacts directly caused by the undertaking, impacts to which the undertaking contributes, and impacts which are otherwise linked to the undertaking’s value chain. The due diligence process concerns the whole value chain of the undertaking including its own operations, its products and services, its business relationships and its supply chains. In line with the UN Guiding Principles on Business and Human Rights, an actual or potential adverse impact is', metadata={'source': 'direct.htm', 'title': 'L_2022322EN.01001501.xml'}),\n",
              " '1a28c9a2-ea4b-475e-b71b-73a4f70256cd': Document(page_content='Rights, an actual or potential adverse impact is to be considered a principal impact where it ranks among the greatest impacts connected with the undertaking’s activities based on: the gravity of the impact on people or the environment; the number of individuals that are or could be affected, or the scale of damage to the environment; and the ease with which the harm could be remediated, restoring the environment or affected people to their prior state.', metadata={'source': 'direct.htm', 'title': 'L_2022322EN.01001501.xml'}),\n",
              " '5ca95088-bce4-4ce9-8011-c994622769fb': Document(page_content='(32)', metadata={'source': 'direct.htm', 'title': 'L_2022322EN.01001501.xml'}),\n",
              " '0a17dacd-1d72-4f23-957a-fe93cf238f89': Document(page_content='Directive 2013/34/EU does not require the disclosure of information on intangible resources other than intangible assets recognised in the balance sheet. It is widely recognised that information on intangible assets and other intangible factors, including internally generated intangible resources, is underreported, impeding the proper assessment of an undertaking’s development, performance and position, and the monitoring of investments. To enable investors to better understand the increasing gap between the accounting book value of many undertakings and their market valuation, which is observed in many sectors of the economy, adequate reporting on intangible resources should be required of', metadata={'source': 'direct.htm', 'title': 'L_2022322EN.01001501.xml'}),\n",
              " '665f25d1-f923-4e26-af36-4b0ac7d2b793': Document(page_content='on intangible resources should be required of all large undertakings and all undertakings, except micro-undertakings, whose securities are admitted to trading on a regulated market in the Union. Nonetheless, certain information on intangible resources is intrinsic to sustainability matters, and should therefore be part of sustainability reporting. For example, information about employees’ skills, competences, experience, loyalty to the undertaking and motivation for improving processes, goods and services, is sustainability information regarding social matters that could also be considered as information on intangible resources. Likewise, information about the quality of the relationships', metadata={'source': 'direct.htm', 'title': 'L_2022322EN.01001501.xml'}),\n",
              " '4bfc87e7-8782-471a-8626-49f853e7f9d8': Document(page_content='about the quality of the relationships between the undertaking and its stakeholders, including customers, suppliers and communities affected by the activities of the undertaking, is sustainability information relevant to social or governance matters that could also be considered as information on intangible resources. Such examples illustrate how in some cases it is not possible to distinguish information on intangible resources from information on sustainability matters.', metadata={'source': 'direct.htm', 'title': 'L_2022322EN.01001501.xml'}),\n",
              " 'd5397ee6-6a2c-423d-a7e8-b5ddcae6c0b7': Document(page_content='(33)', metadata={'source': 'direct.htm', 'title': 'L_2022322EN.01001501.xml'}),\n",
              " 'fe21ff74-4b5e-41c9-9267-4068e0fcc3b2': Document(page_content='Article\\xa019a(1) and Article\\xa029a(1) of Directive 2013/34/EU do not specify whether the information to be reported is to be forward-looking or information about past performance. There is currently a lack of forward-looking disclosures, which users of sustainability information especially value. Articles 19a and\\xa029a of Directive 2013/34/EU should therefore specify that the sustainability information reported is to include forward-looking and retrospective information and both qualitative and quantitative information. Information should be based on conclusive scientific evidence where appropriate. Information should also be harmonized, comparable and based on uniform indicators where', metadata={'source': 'direct.htm', 'title': 'L_2022322EN.01001501.xml'}),\n",
              " '828298ad-f331-4baf-b9f6-531f99ee9904': Document(page_content='comparable and based on uniform indicators where appropriate, while allowing for reporting that is specific to individual undertakings and does not endanger the commercial position of the undertaking. Reported sustainability information should also take into account short-, medium- and long-term time horizons and contain information about the undertaking’s whole value chain, including its own operations, its products and services, its business relationships and its supply chain, as appropriate. Information about the undertaking’s whole value chain would include information related to its value chain within the Union and information that covers third countries if the undertaking’s value', metadata={'source': 'direct.htm', 'title': 'L_2022322EN.01001501.xml'}),\n",
              " '1b171ece-fe66-4e58-828d-428736c6508e': Document(page_content='covers third countries if the undertaking’s value chain extends outside the Union. For the first three years of the application of the measures to be adopted by the Member States in accordance with this amending Directive, in the event that not all the necessary information regarding the value chain is available, the undertaking should explain the efforts made to obtain the information about its value chain, the reasons why that information could not be obtained, and the plans of the undertaking to obtain such information in the future.', metadata={'source': 'direct.htm', 'title': 'L_2022322EN.01001501.xml'}),\n",
              " '688719bb-46b5-47f0-be0a-8111eaf8b8ef': Document(page_content='(34)\\n\\n\\nIt is not the objective of this amending Directive to require undertakings to disclose intellectual capital, intellectual property, know-how or the results of innovation that would qualify as trade secrets as defined in Directive (EU) 2016/943 of the European Parliament and of the Council\\xa0(22). Reporting requirements provided for in this amending Directive should therefore be without prejudice to Directive (EU) 2016/943.\\n\\n\\n\\n\\n\\n\\n\\n\\n\\n\\n\\n\\n(35)', metadata={'source': 'direct.htm', 'title': 'L_2022322EN.01001501.xml'}),\n",
              " '525fc127-b4bc-4afe-8dd7-874541b7ed40': Document(page_content='(35)\\n\\n\\nArticle\\xa019a(1) and Article\\xa029a(1) of Directive 2013/34/EU require undertakings to include in their non-financial reporting references to, and additional explanations of, amounts reported in the annual financial statements. Those Articles do not, however, require undertakings to make references to other information in the management report or to add additional explanations to that information. Thus, there is currently a lack of consistency between non-financial information reported and the rest of the information disclosed in the management report. It is necessary to lay down clear requirements in this regard.\\n\\n\\n\\n\\n\\n\\n\\n\\n\\n\\n\\n\\n(36)', metadata={'source': 'direct.htm', 'title': 'L_2022322EN.01001501.xml'}),\n",
              " 'f1a743fd-0c38-4a56-9952-d7cc4ee20800': Document(page_content='Article\\xa019a(1) and Article\\xa029a(1) of Directive 2013/34/EU require undertakings to provide a clear and reasoned explanation for not pursuing policies in relation to one or more of the matters listed in those Articles, where the undertaking does not do so. The different treatment of disclosures on the policies that undertakings may have, compared to the other reporting areas included in those Articles, has created confusion among reporting undertakings and has not helped to improve the quality of the reported information. Therefore, there is no need to maintain such different treatment of policies in that Directive. The sustainability reporting standards should determine what information', metadata={'source': 'direct.htm', 'title': 'L_2022322EN.01001501.xml'}),\n",
              " '4bbab397-d240-4c3b-bbb0-73f6969850ab': Document(page_content='standards should determine what information needs to be disclosed in relation to each of the reporting areas mentioned in Articles 19a and\\xa029a of Directive 2013/34/EU as amended by this amending Directive.', metadata={'source': 'direct.htm', 'title': 'L_2022322EN.01001501.xml'}),\n",
              " '7358fcda-6c8e-43ad-accc-2a3bcebbe4d1': Document(page_content='(37)', metadata={'source': 'direct.htm', 'title': 'L_2022322EN.01001501.xml'}),\n",
              " 'ed42c2e9-2530-47cd-90f8-3c02a20e7628': Document(page_content='Undertakings that fall under the scope of Article\\xa019a(1) and Article\\xa029a(1) of Directive 2013/34/EU may rely on national, Union-based or international reporting frameworks, and where they do so, they have to specify which frameworks they have relied upon. However, Directive 2013/34/EU does not require undertakings to use a common reporting framework or standard, and it does not prevent undertakings from choosing not to use any reporting framework or standards at all. As required by Article\\xa02 of Directive 2014/95/EU, on 5\\xa0July 2017, the Commission adopted a Communication entitled ‘Guidelines on non-financial reporting (methodology for reporting non-financial information)’ (‘Guidelines on', metadata={'source': 'direct.htm', 'title': 'L_2022322EN.01001501.xml'}),\n",
              " 'bf58a3d3-cb18-463e-964f-0082982b3bed': Document(page_content='non-financial information)’ (‘Guidelines on non-financial reporting’), providing for non-binding guidelines for undertakings that fall under the scope of that Directive.', metadata={'source': 'direct.htm', 'title': 'L_2022322EN.01001501.xml'}),\n",
              " '41bef9b5-78ee-477b-962b-f13528a28523': Document(page_content='On 17\\xa0June 2019, the Commission adopted its Guidelines on reporting climate-related information, containing additional guidelines, specifically on reporting climate-related information. Those Guidelines on reporting climate-related information explicitly incorporated the recommendations of the Task Force on Climate-related Financial Disclosures. Available evidence indicates that the Guidelines on non-financial reporting did not have a significant impact on the quality of non-financial reporting by undertakings under the scope of Articles 19a and\\xa029a of Directive 2013/34/EU. The voluntary nature of the guidelines means that undertakings are free to decide whether to apply them or not. The', metadata={'source': 'direct.htm', 'title': 'L_2022322EN.01001501.xml'}),\n",
              " '57f584b5-816a-4a65-ab83-7eff21412ed9': Document(page_content='free to decide whether to apply them or not. The guidelines can therefore not ensure on their own the comparability of the information disclosed by different undertakings, or the disclosure of all information that users of that information consider relevant. That is why there is a need for mandatory common sustainability reporting standards to ensure that information is comparable and that all relevant information is disclosed. Building on the double materiality principle, standards should cover all information that is material to users of that information. Common sustainability reporting standards are also necessary to enable the assurance and digitalisation of sustainability reporting and', metadata={'source': 'direct.htm', 'title': 'L_2022322EN.01001501.xml'}),\n",
              " '19d5e1fd-15d1-4985-be18-797239a4fbaf': Document(page_content='digitalisation of sustainability reporting and to facilitate its supervision and enforcement.', metadata={'source': 'direct.htm', 'title': 'L_2022322EN.01001501.xml'}),\n",
              " 'c4bfeb42-19ca-44b9-b1f6-a744c4c4989d': Document(page_content='The development of mandatory common sustainability reporting standards is necessary to reach a situation in which sustainability information has a status comparable to that of financial information. The adoption of sustainability reporting standards by means of delegated acts would ensure harmonised sustainability reporting across the Union. Therefore, an undertaking would be compliant with the sustainability reporting requirements of Directive 2013/34/EU by reporting in accordance with the sustainability reporting standards. When defining such standards, it is essential to give due consideration, to the greatest extent possible, to the main sustainability reporting standards used', metadata={'source': 'direct.htm', 'title': 'L_2022322EN.01001501.xml'}),\n",
              " 'de1cf43c-e012-4f2f-9a59-40e1f2992c58': Document(page_content='the main sustainability reporting standards used worldwide, while not lowering the ambition of this amending Directive and delegated acts adopted pursuant thereto.', metadata={'source': 'direct.htm', 'title': 'L_2022322EN.01001501.xml'}),\n",
              " '3b0c80af-6fb4-43e5-af1f-0fbdc4cf8bf5': Document(page_content='(38)', metadata={'source': 'direct.htm', 'title': 'L_2022322EN.01001501.xml'}),\n",
              " 'ffa231c4-8908-4215-8ba3-f1a006904c2c': Document(page_content='No existing standard or framework satisfies the Union’s needs for sustainability reporting by itself. Information required by Directive 2013/34/EU needs to cover information relevant from each of the materiality perspectives, needs to cover all sustainability matters and needs to be aligned, where appropriate, with other obligations under Union law to disclose sustainability information, including obligations laid down in Regulations (EU) 2019/2088 and (EU) 2020/852. In addition, mandatory sustainability reporting standards for Union undertakings should be commensurate with the level of ambition of the Green Deal and the Union’s objective of climate neutrality by 2050 as well as with the', metadata={'source': 'direct.htm', 'title': 'L_2022322EN.01001501.xml'}),\n",
              " 'd10dd813-fea8-426c-a87f-c91a50f283de': Document(page_content='of climate neutrality by 2050 as well as with the intermediate targets under Regulation (EU) 2021/1119. It is therefore necessary to empower the Commission to adopt Union sustainability reporting standards, enabling their rapid adoption and ensuring that the content of those sustainability reporting standards is consistent with the Union’s needs.', metadata={'source': 'direct.htm', 'title': 'L_2022322EN.01001501.xml'}),\n",
              " '284f6551-3aeb-4c4c-8a47-1bcf8513da19': Document(page_content='(39)', metadata={'source': 'direct.htm', 'title': 'L_2022322EN.01001501.xml'}),\n",
              " 'eed3f848-30a2-4c14-b4c2-937be8adf70b': Document(page_content='The European Financial Reporting Advisory Group (EFRAG) is a non-profit association established under Belgian law that serves the public interest by providing advice to the Commission on the endorsement of international financial reporting standards. EFRAG has established a reputation as a European centre of expertise on corporate reporting and is well placed to foster coordination between Union sustainability reporting standards and international initiatives that seek to develop standards that are consistent across the world. In March 2021, a multi-stakeholder task force set up by EFRAG published recommendations for the possible development of sustainability reporting standards for the', metadata={'source': 'direct.htm', 'title': 'L_2022322EN.01001501.xml'}),\n",
              " 'da79e172-6383-458e-8fb4-27e980b4cfc3': Document(page_content='of sustainability reporting standards for the Union. Those recommendations contain proposals to develop a coherent and comprehensive set of sustainability reporting standards, covering all sustainability matters from a double materiality perspective. Those recommendations also contain a detailed roadmap for developing such standards, and proposals for mutually reinforcing cooperation between global standard-setting initiatives and standard-setting initiatives of the Union. In March 2021, the EFRAG Board President published recommendations for possible governance changes to EFRAG in the event that it were to be asked to develop technical advice about sustainability reporting standards. The', metadata={'source': 'direct.htm', 'title': 'L_2022322EN.01001501.xml'}),\n",
              " 'd6f96e41-8212-4f73-9666-a8a579ce0f65': Document(page_content='about sustainability reporting standards. The EFRAG Board President’s recommendations include the setting up of a new sustainability reporting pillar within EFRAG, while not significantly modifying the existing financial reporting pillar. In March 2022, the EFRAG General Assembly appointed the members of the newly created EFRAG Sustainability Reporting Board. When adopting sustainability reporting standards, the Commission should take account of technical advice that EFRAG will develop.', metadata={'source': 'direct.htm', 'title': 'L_2022322EN.01001501.xml'}),\n",
              " 'edd26d29-a094-46d3-8128-c9d40e5ca9fa': Document(page_content='In order to ensure high-quality standards that contribute to the European public good and meet the needs of undertakings and of users of the information reported, EFRAG should have sufficient public funding to ensure its independence. Its technical advice should be developed with proper due process, public oversight and transparency, and based on the expertise of a balanced representation of relevant stakeholders, including undertakings, investors, civil society organisations and trade unions, and should be accompanied by cost-benefit analyses. Participation in EFRAG’s work at technical level should be conditional on expertise in sustainability reporting and should not be conditional on any', metadata={'source': 'direct.htm', 'title': 'L_2022322EN.01001501.xml'}),\n",
              " '7ee5ca66-579d-47bf-b05f-6064e5b473fc': Document(page_content='reporting and should not be conditional on any financial contribution, without prejudice to the participation of public bodies and national standard-setting organisations in that work. A transparent process avoiding conflicts of interest should be guaranteed. To ensure that Union sustainability reporting standards take account of the views of the Member States, before adopting those standards the Commission should consult the Member State Expert Group on Sustainable Finance, referred to in Regulation (EU) 2020/852, (the ‘Member State Expert Group on Sustainable Finance’) and the Accounting Regulatory Committee, referred to in Regulation (EC) No\\xa01606/2002 of the European Parliament and of', metadata={'source': 'direct.htm', 'title': 'L_2022322EN.01001501.xml'}),\n",
              " '9965f870-c381-4401-b63e-f66462a37a6a': Document(page_content='No\\xa01606/2002 of the European Parliament and of the Council\\xa0(23), (the ‘Accounting Regulatory Committee’) in relation to EFRAG’s technical advice.', metadata={'source': 'direct.htm', 'title': 'L_2022322EN.01001501.xml'}),\n",
              " '881d925a-0f5a-4153-a660-a9ee0a8c9929': Document(page_content='The European Securities and Markets Authority (ESMA), the European Banking Authority (EBA) and the European Insurance and Occupational Pensions Authority (EIOPA) play a role in drafting regulatory technical standards pursuant to Regulation (EU) 2019/2088 and there needs to be coherence between those regulatory technical standards and sustainability reporting standards. Under Regulation (EU) No\\xa01095/2010 of the European Parliament and of the Council\\xa0(24), ESMA also plays a role in promoting supervisory convergence in the enforcement of corporate reporting by issuers whose securities are admitted to trading on a regulated market in the Union and who will be required to report in accordance', metadata={'source': 'direct.htm', 'title': 'L_2022322EN.01001501.xml'}),\n",
              " '5292daeb-6a77-4984-a060-ca8b7f7b8eab': Document(page_content='and who will be required to report in accordance with those sustainability reporting standards. Therefore, ESMA, EBA and EIOPA should be required to provide an opinion on EFRAG’s technical advice. Such opinions should be provided within two months of the date of receipt of the request from the Commission. In addition, the Commission should consult the European Environment Agency, the European Union Agency for Fundamental Rights, the ECB, the Committee of European Auditing Oversight Bodies (CEAOB) and the Platform on Sustainable Finance to ensure that the sustainability reporting standards are coherent with relevant Union policy and law. Where any of those entities decide to submit an', metadata={'source': 'direct.htm', 'title': 'L_2022322EN.01001501.xml'}),\n",
              " '5c8579eb-9e4c-494c-a0c8-53c751bacefb': Document(page_content='Where any of those entities decide to submit an opinion, they should do so within two months of the date of being consulted by the Commission.', metadata={'source': 'direct.htm', 'title': 'L_2022322EN.01001501.xml'}),\n",
              " 'f2bd74ba-67fc-4857-8ecc-cf507ceec1de': Document(page_content='(40)\\n\\n\\nIn order to foster democratic control, scrutiny and transparency, the Commission should, at least once a year, consult the European Parliament, and jointly the Member State Expert Group on Sustainable Finance and the Accounting Regulatory Committee on EFRAG’s work programme as regards the development of sustainability reporting standards.\\n\\n\\n\\n\\n\\n\\n\\n\\n\\n\\n\\n\\n(41)', metadata={'source': 'direct.htm', 'title': 'L_2022322EN.01001501.xml'}),\n",
              " 'f5dd615c-e195-45a0-a1b8-c7345a95cdf0': Document(page_content='Sustainability reporting standards should be coherent with other Union law. Those standards should in particular be aligned with the disclosure requirements laid down in Regulation (EU) 2019/2088, and they should take account of underlying indicators and methodologies set out in the various delegated acts adopted pursuant to Regulation (EU) 2020/852, disclosure requirements applicable to benchmark administrators pursuant to Regulation (EU) 2016/1011 of the European Parliament and of the Council\\xa0(25), the minimum standards for the construction of EU Climate Transition Benchmarks and EU Paris-aligned Benchmarks, and of any work carried out by the EBA in the implementation of the Pillar III', metadata={'source': 'direct.htm', 'title': 'L_2022322EN.01001501.xml'}),\n",
              " '2c2fb8a5-ca4f-4ff2-9086-6804035776ed': Document(page_content='the EBA in the implementation of the Pillar III disclosure requirements of Regulation (EU) No\\xa0575/2013.', metadata={'source': 'direct.htm', 'title': 'L_2022322EN.01001501.xml'}),\n",
              " 'e5819e50-21ee-4b57-b8aa-ec69bbf9cfd3': Document(page_content='Standards should take account of Union environmental law, including Regulation (EC) No\\xa01221/2009 of the European Parliament and of the Council\\xa0(26) and Directive 2003/87/EC of the European Parliament and of the Council\\xa0(27), and should take account of Commission Recommendation 2013/179/EU\\xa0(28), its annexes and their updates. Other relevant Union law, including Directive 2010/75/EU of the European Parliament and of the Council\\xa0(29), and other requirements laid down in Union law for undertakings as regards directors’ duties and due diligence should also be taken into account.', metadata={'source': 'direct.htm', 'title': 'L_2022322EN.01001501.xml'}),\n",
              " '5937c5a7-b73a-4f38-9e19-02c8c6774f90': Document(page_content='(42)\\n\\n\\nSustainability reporting standards should take account of the Guidelines on non-financial reporting and the Guidelines on reporting climate-related information. They should also take account of other reporting requirements in Directive 2013/34/EU that are not directly related to sustainability, with the aim of providing the users of the reported information with a better understanding of the development, performance, position and impact of the undertaking, by maximising the links between the sustainability information and other information reported in accordance with Directive 2013/34/EU.\\n\\n\\n\\n\\n\\n\\n\\n\\n\\n\\n\\n\\n(43)', metadata={'source': 'direct.htm', 'title': 'L_2022322EN.01001501.xml'}),\n",
              " 'f98df0f8-63c3-4849-8875-455c3e2de4d2': Document(page_content='Sustainability reporting standards should be proportionate and should not impose an unnecessary administrative burden on companies that are required to use them. In order to minimise disruption for undertakings that already report sustainability information, sustainability reporting standards should take account of existing standards and frameworks for sustainability reporting and accounting where appropriate. Such existing standards and frameworks include the Global Reporting Initiative, the Sustainability Accounting Standards Board, the International Integrated Reporting Council, the International Accounting Standards Board, the Task Force on Climate-related Financial Disclosures, the', metadata={'source': 'direct.htm', 'title': 'L_2022322EN.01001501.xml'}),\n",
              " 'ec75b8bd-67b6-4867-8a94-15f92ef17da8': Document(page_content='on Climate-related Financial Disclosures, the Carbon Disclosure Standards Board, and CDP, formerly known as the Carbon Disclosure Project.', metadata={'source': 'direct.htm', 'title': 'L_2022322EN.01001501.xml'}),\n",
              " '889c5e97-6a3e-430f-9699-07f16406fe61': Document(page_content='Union standards should take account of any sustainability reporting standards developed under the auspices of International Financial Reporting Standards Foundation. To avoid unnecessary regulatory fragmentation that could have negative consequences for undertakings operating globally, Union sustainability reporting standards should contribute to the process of convergence of sustainability reporting standards at global level, by supporting the work of the International Sustainability Standards Board (ISSB). Union sustainability reporting standards should reduce the risk of inconsistent reporting requirements for undertakings that operate globally by integrating the content of global', metadata={'source': 'direct.htm', 'title': 'L_2022322EN.01001501.xml'}),\n",
              " 'd8247d74-ee6c-4aa5-92a0-528a4962d09a': Document(page_content='globally by integrating the content of global baseline standards to be developed by the ISSB, to the extent that the content of those baseline standards is consistent with the Union’s legal framework and the objectives of the Green Deal.', metadata={'source': 'direct.htm', 'title': 'L_2022322EN.01001501.xml'}),\n",
              " 'db616754-89a5-4a6d-b0e4-cbcd212a022f': Document(page_content='(44)', metadata={'source': 'direct.htm', 'title': 'L_2022322EN.01001501.xml'}),\n",
              " 'd874ba22-8d97-4aee-9a54-6427919c6df5': Document(page_content='In the Green Deal the Commission committed itself to support businesses and other stakeholders in developing standardised natural capital accounting practices within the Union and internationally, with the aim of ensuring appropriate management of environmental risks and mitigation opportunities, and reduce related transaction costs.', metadata={'source': 'direct.htm', 'title': 'L_2022322EN.01001501.xml'}),\n",
              " 'b7e56772-6ca0-4236-9229-9bb149c9132d': Document(page_content='The Transparent Project sponsored under the Programme for the Environment and Climate Action (LIFE programme) established by Regulation (EU) 2021/783 of the European Parliament and of the Council\\xa0(30) is developing the first natural capital accounting methodology, which will make existing methods easier to compare and more transparent while lowering the threshold for companies to adopt and use the systems in support of future-proofing their business. The Natural Capital Protocol is also an important reference in the field of natural capital accounting. While natural capital accounting methods serve principally to strengthen internal management decisions, they should be duly considered when', metadata={'source': 'direct.htm', 'title': 'L_2022322EN.01001501.xml'}),\n",
              " '99fce75b-94da-4a55-bbde-edf8e13e3071': Document(page_content='decisions, they should be duly considered when establishing sustainability reporting standards. Some natural capital accounting methodologies seek to assign a monetary value to the environmental impacts of companies’ activities, which may help users of sustainability information to better understand such impacts. It is therefore appropriate that sustainability reporting standards should be able to include monetised indicators of sustainability impacts if that is deemed necessary.', metadata={'source': 'direct.htm', 'title': 'L_2022322EN.01001501.xml'}),\n",
              " '5a5ddeb5-540d-4c6f-96d2-2b40d1b56223': Document(page_content='(45)', metadata={'source': 'direct.htm', 'title': 'L_2022322EN.01001501.xml'}),\n",
              " '84a0dfad-27b9-43bf-998b-7360c393fe9a': Document(page_content='Sustainability reporting standards should also take account of internationally recognised principles and frameworks on responsible business conduct, corporate social responsibility, and sustainable development, including the SDGs, the UN Guiding Principles on Business and Human Rights, the OECD Guidelines for Multinational Enterprises, the OECD Due Diligence Guidance for Responsible Business Conduct and related sectoral guidelines, the Global Compact, the International Labour Organization’s (ILO) Tripartite Declaration of Principles concerning Multinational Enterprises and Social Policy, the ISO 26000 standard on social responsibility, and the UN Principles for Responsible Investment.', metadata={'source': 'direct.htm', 'title': 'L_2022322EN.01001501.xml'}),\n",
              " '4ab012b0-3351-44a6-b6cb-4dbf2e429ba1': Document(page_content='(46)', metadata={'source': 'direct.htm', 'title': 'L_2022322EN.01001501.xml'}),\n",
              " '255693b9-6d04-4fc8-9f7c-95661c54adac': Document(page_content='It should be ensured that the information reported by undertakings in accordance with the sustainability reporting standards meets the needs of users and does not place a disproportionate burden in terms of effort and cost on the reporting undertakings and those that are indirectly affected as part of the value chain of those undertakings. The sustainability reporting standards should therefore specify the information that undertakings are to disclose on all major environmental factors, including their impacts and dependencies on climate, air, land, water and biodiversity. Regulation (EU) 2020/852 provides a classification of the environmental objectives of the Union.', metadata={'source': 'direct.htm', 'title': 'L_2022322EN.01001501.xml'}),\n",
              " 'c8ac7741-d780-485b-836c-469b63ade7c8': Document(page_content='For reasons of coherence, it is appropriate to use a similar classification to identify the environmental factors that should be addressed by sustainability reporting standards. The sustainability reporting standards should consider and specify any geographical or other contextual information that undertakings should disclose to provide an understanding of their principal impacts on sustainability matters and the principal risks to the undertaking arising from sustainability matters. When specifying the information about environmental factors that undertakings are to disclose, coherence should be ensured with the definitions laid down in Article\\xa02 of Regulation (EU) 2020/852 and the', metadata={'source': 'direct.htm', 'title': 'L_2022322EN.01001501.xml'}),\n",
              " 'bba3f976-0cad-45fd-9aaa-787e01dac170': Document(page_content='in Article\\xa02 of Regulation (EU) 2020/852 and the reporting requirements laid down in Article\\xa08 of that Regulation and in the delegated acts adopted pursuant to that Regulation.', metadata={'source': 'direct.htm', 'title': 'L_2022322EN.01001501.xml'}),\n",
              " '170acb51-bf3f-4999-b34c-74fbc919a164': Document(page_content='(47)', metadata={'source': 'direct.htm', 'title': 'L_2022322EN.01001501.xml'}),\n",
              " 'f6d2f4cd-90d6-441c-a38c-05989c463704': Document(page_content='With regard to climate-related information, users are interested in knowing about undertakings’ physical and transition risks, and about their resilience as regards, and plans to adapt to, different climate scenarios and plans to adapt to the Union’s objective of climate neutrality by 2050. They are also interested in the level and scope of GHG emissions and removals attributed to the undertaking, including the extent to which the undertaking uses offsets and the source of those offsets. Achieving a climate neutral economy requires the alignment of GHG accounting and offsetting standards. Users need reliable information regarding offsets that addresses concerns regarding possible double', metadata={'source': 'direct.htm', 'title': 'L_2022322EN.01001501.xml'}),\n",
              " 'c2a90e2f-05ff-4573-bc40-459a38f56ec6': Document(page_content='that addresses concerns regarding possible double counting and overestimations, given the risks to the achievement of climate-related targets that double counting and overestimations can create. Users are also interested to know the efforts made by companies to effectively reduce absolute GHG emissions as part of their climate mitigation and adaptation strategies, including scope 1, scope 2 and, where relevant, scope 3 emissions.', metadata={'source': 'direct.htm', 'title': 'L_2022322EN.01001501.xml'}),\n",
              " '03fc3321-03de-456e-a3f7-a11180cfc567': Document(page_content='With regard to scope 3 emissions, a priority for users is to receive information about which scope 3 categories are significant in the case of the undertaking, and about the emissions in each of those scope 3 categories. The sustainability reporting standards should therefore specify the information undertakings should report with regard to such matters.', metadata={'source': 'direct.htm', 'title': 'L_2022322EN.01001501.xml'}),\n",
              " '511a88cc-5417-4217-9e40-7d0128e01657': Document(page_content='(48)\\n\\n\\nAchieving a climate-neutral and circular economy without diffuse pollution requires the full mobilisation of all economic sectors. Reducing energy use and increasing energy efficiency is key in this respect, as energy is used across supply chains. Energy aspects should therefore be duly considered in sustainability reporting standards, in particular in relation to environmental matters, including climate-related matters.\\n\\n\\n\\n\\n\\n\\n\\n\\n\\n\\n\\n\\n(49)', metadata={'source': 'direct.htm', 'title': 'L_2022322EN.01001501.xml'}),\n",
              " 'df340dcb-fe57-44b1-a64f-efe6e31d6460': Document(page_content='Sustainability reporting standards should specify the information that undertakings should disclose on social factors, including working conditions, social partner involvement, collective bargaining, equality, non-discrimination, diversity and inclusion, and human rights. Such information should cover the impacts of the undertaking on people, including workers, and on human health. The information that undertakings disclose about human rights should include information about forced labour and child labour in their value chains where relevant. Sustainability reporting requirements concerning forced labour should not free public authorities of their responsibility to address, through trade', metadata={'source': 'direct.htm', 'title': 'L_2022322EN.01001501.xml'}),\n",
              " 'f44fa980-7472-45b3-91d1-24735951fe44': Document(page_content='of their responsibility to address, through trade policy and diplomatic means, the import of goods produced as a result of human rights abuses, including forced labour. Undertakings should also be able to report on possible risks and trends regarding employment and incomes.', metadata={'source': 'direct.htm', 'title': 'L_2022322EN.01001501.xml'}),\n",
              " '4422f195-b773-4b0f-9c15-d9ab2ec9495a': Document(page_content='Sustainability reporting standards that address social factors should specify the information that undertakings should disclose with regard to the principles of the European Pillar of Social Rights that are relevant to businesses, including equal opportunities for all and working conditions. The Action Plan on the European Pillar of Social Rights, adopted by the Commission on 4\\xa0March 2021, calls for stronger requirements on undertakings to report on social issues. The sustainability reporting standards should also specify the information that undertakings should disclose with regard to the human rights, fundamental freedoms, democratic principles and standards established in the', metadata={'source': 'direct.htm', 'title': 'L_2022322EN.01001501.xml'}),\n",
              " '180d06ab-c0e5-4893-b4bb-5c9c05401afc': Document(page_content='principles and standards established in the International Bill of Human Rights and other core UN human rights conventions, including the UN Convention on the Rights of Persons with Disabilities, the UN Declaration on the Rights of Indigenous Peoples, the UN Convention on the Rights of the Child, the ILO Declaration on Fundamental Principles and Rights at Work, the fundamental conventions of the ILO, the European Convention for the Protection of Human Rights and Fundamental Freedoms, the European Social Charter, and the Charter of Fundamental Rights of the European Union. Reporting carried out on social factors, as well as on environmental and governance factors, should be proportionate to', metadata={'source': 'direct.htm', 'title': 'L_2022322EN.01001501.xml'}),\n",
              " '04ac8b7d-a1b9-4d28-9c2a-39bb40936dc8': Document(page_content='governance factors, should be proportionate to the scope and the goals of this amending Directive. Sustainability reporting standards that address gender equality and equal pay for work of equal value should specify, amongst other things, information to be reported about the gender pay gap, taking account of other relevant Union law. Sustainability reporting standards that address employment and inclusion of people with disabilities should specify, amongst other things, information to be reported about accessibility measures taken by the undertaking.', metadata={'source': 'direct.htm', 'title': 'L_2022322EN.01001501.xml'}),\n",
              " 'c2e93499-30af-448b-a9e7-3c8fce713f2b': Document(page_content='Sustainability reporting standards that address training and skills development should specify, amongst other things, information to be reported about the proportion and breakdown of workers participating in training. Sustainability reporting standards that address collective bargaining should specify, amongst other things, information to be disclosed about the existence of works councils as well as the existence of collective agreements and the proportion of workers covered by such agreements. Sustainability reporting standards that address participation of workers should specify, amongst other things, information to be disclosed about the participation of workers in administrative and', metadata={'source': 'direct.htm', 'title': 'L_2022322EN.01001501.xml'}),\n",
              " '62e3e271-747f-430b-a717-f885ff42da41': Document(page_content='participation of workers in administrative and supervisory boards. Sustainability reporting standards that address diversity should specify, amongst other things, information to be reported on gender diversity at top management and the number of members of the under-represented sex on their boards.', metadata={'source': 'direct.htm', 'title': 'L_2022322EN.01001501.xml'}),\n",
              " '04248c31-6049-4d43-ad6f-fbd44516b5cd': Document(page_content='(50)', metadata={'source': 'direct.htm', 'title': 'L_2022322EN.01001501.xml'}),\n",
              " '6d3c5b23-1ab1-4eeb-b1d6-911c4bf95ec5': Document(page_content='Users need information about governance factors. Governance factors that are most relevant to users are listed by authoritative reporting frameworks such as the Global Reporting Initiative and the Task Force on Climate-related Financial Disclosures, as well as by authoritative global frameworks such as the Global Governance Principles of the International Corporate Governance Network and the G20/OECD Principles of Corporate Governance. Sustainability reporting standards should specify the information that undertakings should disclose on governance factors. Such information should cover the role of an undertaking’s administrative, management and supervisory bodies with regard to', metadata={'source': 'direct.htm', 'title': 'L_2022322EN.01001501.xml'}),\n",
              " '9aac7ef8-a458-408c-9bcb-c97c702f36e1': Document(page_content='management and supervisory bodies with regard to sustainability matters, the expertise and skills needed to fulfil that role or the access such bodies have to such expertise and skills, whether the company has a policy in terms of incentives which are offered to members of those bodies and which are linked to sustainability matters, and information on an undertaking’s internal control and risk management systems in relation to the sustainability reporting process. Users also need information about undertakings’ corporate culture and approach to business ethics, which are recognised elements of authoritative frameworks on corporate governance, such as the Global Governance Principles of the', metadata={'source': 'direct.htm', 'title': 'L_2022322EN.01001501.xml'}),\n",
              " 'd3cde76f-1fe2-4dd5-a1dd-23a56be8df12': Document(page_content='such as the Global Governance Principles of the International Corporate Governance Network, including information about anti-corruption and anti-bribery, and about the undertaking’s activities and commitments aimed at exerting its political influence, including its lobbying activities.', metadata={'source': 'direct.htm', 'title': 'L_2022322EN.01001501.xml'}),\n",
              " '0d7eea5d-76e9-42f5-9798-2603dc6ded4d': Document(page_content='Information about the management of the undertaking and the quality of relationships with customers, suppliers and communities affected by the activities of the undertaking, helps users to understand an undertaking’s risks and impacts related to sustainability matters. Information about relationships with suppliers includes payment practices relating to the date or period for payment, the rate of interest for late payment or the compensation for recovery costs referred to in Directive 2011/7/EU of the European Parliament and of the Council\\xa0(31). Every year, thousands of businesses, especially small and medium-sized enterprises (‘SMEs’), suffer an administrative and financial burden because', metadata={'source': 'direct.htm', 'title': 'L_2022322EN.01001501.xml'}),\n",
              " '60c12370-e09c-45e7-a586-1e607926b766': Document(page_content='an administrative and financial burden because they are paid late, or not at all. Ultimately, late payments lead to insolvency and bankruptcy, with destructive effects on entire value chains. Increasing the amount of information about payment practices should empower other undertakings to identify prompt and reliable payers, detect unfair payment practices, access information about the businesses they trade with, and negotiate fairer payment terms.', metadata={'source': 'direct.htm', 'title': 'L_2022322EN.01001501.xml'}),\n",
              " 'ad559ac6-98b5-4a7d-b2aa-53e47ae5e8da': Document(page_content='(51)', metadata={'source': 'direct.htm', 'title': 'L_2022322EN.01001501.xml'}),\n",
              " '77d33b93-c0e3-462e-8d11-2647d7befec1': Document(page_content='The sustainability reporting standards should promote a more integrated view of all the information published by undertakings in the management report to provide users of that information with a better understanding of the development, performance, position and impact of the undertaking. The sustainability reporting standards should distinguish, as necessary, between information that undertakings should disclose when reporting at individual level and the information that undertakings should disclose when reporting at group level. The sustainability reporting standards should also contain guidance for undertakings on the process for identifying the sustainability information that should be', metadata={'source': 'direct.htm', 'title': 'L_2022322EN.01001501.xml'}),\n",
              " 'ba0d8d14-040f-4152-8569-583e78d9ffad': Document(page_content='the sustainability information that should be included in the management report, since an undertaking should only be required to disclose the information relevant to understanding its impacts on sustainability matters, and the information relevant to understanding how sustainability matters affect its development, performance and position.', metadata={'source': 'direct.htm', 'title': 'L_2022322EN.01001501.xml'}),\n",
              " 'd4f1956d-32b3-458e-9e9b-5a41cc025f05': Document(page_content='(52)', metadata={'source': 'direct.htm', 'title': 'L_2022322EN.01001501.xml'}),\n",
              " '854f5707-3cde-4c48-9e41-b126ac3f3631': Document(page_content='Member States should ensure that sustainability reporting is carried out in compliance with workers’ rights to information and consultation. The management of the undertaking should therefore inform workers’ representatives at the appropriate level and discuss with them relevant information and the means of obtaining and verifying sustainability information. This implies for the purpose of this amending Directive the establishment of dialogue and exchange of views between workers’ representatives and central management or any other level of management that could be more appropriate, at such times, in such fashion and with such content as would enable workers’ representatives to express', metadata={'source': 'direct.htm', 'title': 'L_2022322EN.01001501.xml'}),\n",
              " '046b5f21-7c4c-4ba4-92b4-f865d859513e': Document(page_content='would enable workers’ representatives to express their opinion. Their opinion should be communicated, where applicable, to the relevant administrative, management or supervisory bodies.', metadata={'source': 'direct.htm', 'title': 'L_2022322EN.01001501.xml'}),\n",
              " 'f310dcb4-c39c-4cc6-9820-8934ae8c0e91': Document(page_content='(53)', metadata={'source': 'direct.htm', 'title': 'L_2022322EN.01001501.xml'}),\n",
              " 'ed5ee475-7f61-4a51-9832-066ad4bc8d0d': Document(page_content='Undertakings in the same sector are often exposed to similar sustainability-related risks, and they often have similar impacts on society and the environment. Comparisons between undertakings in the same sector are especially valuable to investors and other users of sustainability information. Sustainability reporting standards should therefore specify both information that undertakings in all sectors should disclose and information that undertakings should disclose depending on their sector of activity. Sector-specific sustainability reporting standards are especially important in the case of sectors associated with high sustainability risks for or impacts on the environment, human rights', metadata={'source': 'direct.htm', 'title': 'L_2022322EN.01001501.xml'}),\n",
              " '27fdccce-ea6c-435f-8b46-562225bc756a': Document(page_content='for or impacts on the environment, human rights and governance, including sectors listed in Sections A to H and Section L of Annex I to Regulation (EC) No\\xa01893/2006 of the European Parliament and of the Council\\xa0(32), and the relevant activities within those sectors. When adopting sector-specific sustainability reporting standards, the Commission should ensure the information specified by those sustainability reporting standards is proportionate to the scale of the risks and impacts related to sustainability matters specific to each sector, taking account of the fact that the risks and impacts of some sectors are higher than for others. The Commission should also take account of the fact', metadata={'source': 'direct.htm', 'title': 'L_2022322EN.01001501.xml'}),\n",
              " '0b495f41-6c7e-42f4-a1f9-d3dc0cf2ea2c': Document(page_content='Commission should also take account of the fact that not all activities within such sectors are necessarily associated with high sustainability risks or impacts. For undertakings that operate in sectors particularly reliant on natural resources, sector-specific sustainability reporting standards would require the disclosure of nature-related impacts on and risks for biodiversity and ecosystems.', metadata={'source': 'direct.htm', 'title': 'L_2022322EN.01001501.xml'}),\n",
              " '5d7a1eb5-4c44-4c9c-bcc9-aa75facdacc3': Document(page_content='Sustainability reporting standards should also take account of the difficulties that undertakings may encounter in gathering information from actors throughout their value chain, especially from suppliers that are small or medium-sized undertakings and from suppliers in emerging markets and economies. Sustainability reporting standards should specify disclosures concerning value chains that are proportionate and relevant to the scale and complexity of the activities of the undertakings, and the capacities and characteristics of undertakings in value chains, especially those capacities and characteristics of undertakings that are not subject to the sustainability reporting requirements', metadata={'source': 'direct.htm', 'title': 'L_2022322EN.01001501.xml'}),\n",
              " '1d361fbb-cfdd-4bc6-b2a6-25b87eae5445': Document(page_content='to the sustainability reporting requirements provided for in this amending Directive. Sustainability reporting standards should not specify disclosures that would require undertakings to obtain information from small and medium-sized undertakings in their value chain that exceeds the information to be disclosed in accordance with the sustainability reporting standards for small and medium-sized undertakings. This should be without prejudice to any Union requirements on undertakings to conduct a due diligence process.', metadata={'source': 'direct.htm', 'title': 'L_2022322EN.01001501.xml'}),\n",
              " '49190a4c-1da7-44d6-86d6-abeed6e954f6': Document(page_content='(54)', metadata={'source': 'direct.htm', 'title': 'L_2022322EN.01001501.xml'}),\n",
              " 'a7b63ee0-cb83-45f6-a867-c4c10df910d2': Document(page_content='To meet the information needs of users in a timely manner, and in particular given the urgency to meet the information needs of financial market participants subject to the requirements laid down in the delegated acts adopted pursuant to Article\\xa04(6) and\\xa0(7) of Regulation (EU) 2019/2088, the Commission should adopt a first set of sustainability reporting standards by means of delegated acts by 30\\xa0June 2023. That set of sustainability reporting standards should specify the information that undertakings should disclose with regard to all reporting areas and sustainability matters, and that financial market participants need to comply with the disclosure obligations laid down in Regulation', metadata={'source': 'direct.htm', 'title': 'L_2022322EN.01001501.xml'}),\n",
              " '39431e15-a494-4385-9800-dc0f19d8b5ba': Document(page_content='disclosure obligations laid down in Regulation (EU)\\xa02019/2088. The Commission should adopt a second set of sustainability reporting standards by means of delegated acts by 30\\xa0June 2024, specifying complementary information that undertakings should disclose about sustainability matters and reporting areas, where necessary, and information that is specific to the sector in which an undertaking operates. The Commission should review those sustainability reporting standards, including the sustainability reporting standards for small and medium-sized undertakings, every three years to take account of relevant developments, including the development of international standards.', metadata={'source': 'direct.htm', 'title': 'L_2022322EN.01001501.xml'}),\n",
              " '73667318-27de-46b6-8d22-2eefd56e20f4': Document(page_content='(55)', metadata={'source': 'direct.htm', 'title': 'L_2022322EN.01001501.xml'}),\n",
              " '647074d1-5606-4187-bed7-c3a09a2bcd27': Document(page_content='Directive 2013/34/EU does not require that undertakings provide their management reports in a digital format, which hinders the findability and usability of the reported information. Users of sustainability information increasingly expect such information to be findable, comparable and machine-readable in digital formats. Member States should be able to require that undertakings subject to the sustainability reporting requirements of Directive 2013/34/EU make their management reports available on their websites, free of charge to the public. Digitalisation creates opportunities to exploit information more efficiently and holds the potential for significant cost savings for both users and', metadata={'source': 'direct.htm', 'title': 'L_2022322EN.01001501.xml'}),\n",
              " 'b569095c-5e44-4c76-8fbf-f2bfe3519e25': Document(page_content='for significant cost savings for both users and undertakings. Digitalisation also enables the centralisation at Union and Member State level of data in an open and accessible format that facilitates reading and allows for the comparison of data. Undertakings should therefore be required to prepare their management report in the electronic reporting format specified in Article\\xa03 of Commission Delegated Regulation (EU) 2019/815\\xa0(33), and to mark up their sustainability reporting, including the disclosures required by Article\\xa08 of Regulation (EU) 2020/852, in accordance with the electronic reporting format specified in Delegated Regulation (EU) 2019/815 once that is determined.', metadata={'source': 'direct.htm', 'title': 'L_2022322EN.01001501.xml'}),\n",
              " '50e9d484-bd2d-4468-8949-13c26b344c0a': Document(page_content='A digital taxonomy for the Union sustainability reporting standards will be necessary to allow the reported information to be tagged in accordance with those sustainability reporting standards. These requirements should feed into the work on digitalisation announced by the Commission in its Communication of 19\\xa0February 2020 entitled ‘A European strategy for data’ and in its Communication of 24\\xa0September 2020 entitled ‘Digital Finance Strategy for the EU’. These requirements would also complement the creation of a European single access point (ESAP) for public corporate information as envisaged in the Commission’s Communication of 24\\xa0September 2020 entitled ‘A Capital Markets Union for', metadata={'source': 'direct.htm', 'title': 'L_2022322EN.01001501.xml'}),\n",
              " '46ee1876-1de8-4406-8d5a-e86f950df4ff': Document(page_content='2020 entitled ‘A Capital Markets Union for people and businesses - new action plan’ in which the need to provide comparable information in a digital format is also considered.', metadata={'source': 'direct.htm', 'title': 'L_2022322EN.01001501.xml'}),\n",
              " '1edbdf99-ef2e-41f3-b396-a5779abae34c': Document(page_content='(56)\\n\\n\\nTo allow for the inclusion of the reported sustainability information in the ESAP, Member States should ensure that undertakings whose securities are not admitted to trading on a regulated market in the Union publish their management report, including sustainability reporting, in the electronic reporting format specified in Article\\xa03 of Delegated Regulation (EU) 2019/815.\\n\\n\\n\\n\\n\\n\\n\\n\\n\\n\\n\\n\\n(57)', metadata={'source': 'direct.htm', 'title': 'L_2022322EN.01001501.xml'}),\n",
              " '31fdc363-5a66-4570-ae4f-ce41861bee5d': Document(page_content='Article\\xa019a(4) of Directive 2013/34/EU enables Member States to exempt undertakings from including in the management report the non-financial statement required under Article\\xa019a(1) of that Directive. Member States are allowed to do so where the undertaking concerned prepares a separate report that is published together with the management report in accordance with Article\\xa030 of that Directive, or where that report is made publicly available on the undertaking’s website within a reasonable period of time not exceeding 6 months after the balance sheet date, and is referred to in the management report. The same possibility exists for the consolidated non-financial statement referred to in', metadata={'source': 'direct.htm', 'title': 'L_2022322EN.01001501.xml'}),\n",
              " '2797d184-033c-4d9c-bad6-15225c3277c9': Document(page_content='non-financial statement referred to in Directive 2013/34/EU. Twenty Member States have used that option. The possibility of publishing a separate report hinders, however, the availability of information that connects financial information and information on sustainability matters. It also hinders the findability and accessibility of information for users, especially investors, who are interested in both financial and sustainability information. Possible different publication times for financial and sustainability information exacerbate that problem. Publication in a separate report can also give the impression, internally and externally, that sustainability information belongs to a category', metadata={'source': 'direct.htm', 'title': 'L_2022322EN.01001501.xml'}),\n",
              " 'cdf10fc0-9a88-49da-85f2-0e0b7a689b8a': Document(page_content='sustainability information belongs to a category of less relevant information, which can impact negatively on the perceived reliability of the information. Undertakings should therefore report sustainability information in a clearly identifiable dedicated section of the management report and Member States should no longer be allowed to exempt undertakings from the obligation to include in the management report information on sustainability matters.', metadata={'source': 'direct.htm', 'title': 'L_2022322EN.01001501.xml'}),\n",
              " '835f506e-e22b-4378-affd-514c4b2d5168': Document(page_content='Such obligation would also help to clarify the role of national competent authorities in supervising sustainability reporting, as part of the management report prepared in accordance with Directive 2004/109/EC. In addition, undertakings required to report sustainability information should in no case be exempted from the obligation to publish the management report, as it is important to ensure that sustainability information is publicly available.', metadata={'source': 'direct.htm', 'title': 'L_2022322EN.01001501.xml'}),\n",
              " '7b96866b-ad41-454f-b5aa-3a5ade91cf12': Document(page_content='(58)', metadata={'source': 'direct.htm', 'title': 'L_2022322EN.01001501.xml'}),\n",
              " 'c353cdd8-0a9f-4097-adb8-854d0f865df6': Document(page_content='Article\\xa020 of Directive 2013/34/EU requires undertakings whose securities are admitted to trading on a regulated market in the Union to include a corporate governance statement in their management report, which has to contain, among other information, a description of the diversity policy applied by the undertaking in relation to its administrative, management and supervisory bodies. Article\\xa020 of Directive 2013/34/EU leaves flexibility to undertakings to decide what aspects of diversity they report on. It does not explicitly oblige undertakings to include information on any particular aspect of diversity. In order to progress towards a more gender-balanced participation in economic', metadata={'source': 'direct.htm', 'title': 'L_2022322EN.01001501.xml'}),\n",
              " '3603886e-e462-409b-857b-649285a4b712': Document(page_content='a more gender-balanced participation in economic decision-making, it is necessary to ensure that undertakings whose securities are admitted to trading on a regulated market in the Union always report on their gender diversity policies and the implementation thereof. However, to avoid an unnecessary administrative burden, such undertakings should have the possibility of reporting some of the information required by Article\\xa020 of Directive 2013/34/EU alongside other sustainability information. If they decide to do so, the corporate governance statement should include a reference to the undertaking’s sustainability reporting, and the information required under Article\\xa020 of Directive', metadata={'source': 'direct.htm', 'title': 'L_2022322EN.01001501.xml'}),\n",
              " '42c10880-d05f-4d76-8ea5-0de947dff441': Document(page_content='required under Article\\xa020 of Directive 2013/34/EU should remain subject to the assurance requirements of the corporate governance statement.', metadata={'source': 'direct.htm', 'title': 'L_2022322EN.01001501.xml'}),\n",
              " 'be70ca86-ec13-449e-8db8-24814c90eabd': Document(page_content='(59)', metadata={'source': 'direct.htm', 'title': 'L_2022322EN.01001501.xml'}),\n",
              " 'df800e77-7cf2-421f-98dd-6fbe100d2842': Document(page_content='Article\\xa033 of Directive 2013/34/EU requires Member States to ensure that the members of the administrative, management and supervisory bodies of an undertaking have collective responsibility for ensuring that the annual financial statements, the consolidated financial statements, the management report, the consolidated management report, the corporate governance statement and the consolidated corporate governance statement are drawn up and published in accordance with the requirements of that Directive. That collective responsibility should be extended to the digitalisation requirements laid down in Delegated Regulation (EU) 2019/815, to the requirement to comply with Union sustainability', metadata={'source': 'direct.htm', 'title': 'L_2022322EN.01001501.xml'}),\n",
              " '371950ce-34d9-4395-b378-d6e7a2a9a55c': Document(page_content='requirement to comply with Union sustainability reporting standards and to the requirement to mark up sustainability reporting.', metadata={'source': 'direct.htm', 'title': 'L_2022322EN.01001501.xml'}),\n",
              " 'c100556b-5589-474d-9054-cc2627e43a57': Document(page_content='(60)', metadata={'source': 'direct.htm', 'title': 'L_2022322EN.01001501.xml'}),\n",
              " 'bcfe13bf-a52c-406d-b66e-f2e6752bb8aa': Document(page_content='The assurance profession distinguishes between limited assurance engagements and reasonable assurance engagements. The conclusion of a limited assurance engagement is usually provided in a negative form of expression by stating that no matter has been identified by the practitioner to conclude that the subject matter is materially misstated. In a limited assurance engagement, the auditor performs fewer tests than in a reasonable assurance engagement. The amount of work for a limited assurance engagement is therefore less than for a reasonable assurance engagement. The amount of work in a reasonable assurance engagement entails extensive procedures including consideration of internal', metadata={'source': 'direct.htm', 'title': 'L_2022322EN.01001501.xml'}),\n",
              " 'dd64d36b-b78c-4e36-bedc-60cb66725807': Document(page_content='procedures including consideration of internal controls of the reporting undertaking and substantive testing, and is therefore significantly greater than in a limited assurance engagement.', metadata={'source': 'direct.htm', 'title': 'L_2022322EN.01001501.xml'}),\n",
              " '409d3358-b10d-4f44-8c62-c8e4f7c75db0': Document(page_content='The conclusion of a reasonable assurance engagement is usually provided in a positive form of expression and results in providing an opinion on the measurement of the subject matter against previously defined criteria. Directive 2013/34/EU requires Member States to ensure that the statutory auditor or audit firm checks whether the non-financial statement or the separate report has been provided. It does not require that an independent provider of assurance services verify the information, although it allows Member States to require such verification where they so wish. The absence of an assurance requirement concerning sustainability reporting, in contrast to the requirement for the', metadata={'source': 'direct.htm', 'title': 'L_2022322EN.01001501.xml'}),\n",
              " 'a26ea2a7-f7ed-4084-a3f8-df10009b82be': Document(page_content='reporting, in contrast to the requirement for the statutory auditor to carry out statutory audits based on a reasonable assurance engagement, would threaten the credibility of the sustainability information disclosed, thus failing to meet the needs of the intended users of that information. Although the objective is to have a similar level of assurance for financial and sustainability reporting, the absence of a commonly agreed standard for the assurance of sustainability reporting creates the risk of different understandings and expectations of what a reasonable assurance engagement would consist of for different categories of sustainability information, especially with regard to', metadata={'source': 'direct.htm', 'title': 'L_2022322EN.01001501.xml'}),\n",
              " 'bd2bb495-7471-470d-ae46-9f389cc17211': Document(page_content='information, especially with regard to forward-looking and qualitative disclosures.', metadata={'source': 'direct.htm', 'title': 'L_2022322EN.01001501.xml'}),\n",
              " 'c7b208c3-64fa-4840-bfc7-f06d4f5cb746': Document(page_content='Therefore, a progressive approach to enhancing the level of the assurance required for sustainability information should be considered, starting with an obligation on the statutory auditor or audit firm to express an opinion about the compliance of the sustainability reporting with Union requirements based on a limited assurance engagement. That opinion should cover the compliance of the sustainability reporting with Union sustainability reporting standards, the process carried out by the undertaking to identify the information reported pursuant to the sustainability reporting standards and compliance with the requirement to mark up sustainability reporting. The auditor should also assess', metadata={'source': 'direct.htm', 'title': 'L_2022322EN.01001501.xml'}),\n",
              " '7b59f604-9a09-408b-8a52-d1975537293d': Document(page_content='reporting. The auditor should also assess whether the undertaking’s reporting complies with the reporting requirements of Article\\xa08 of Regulation (EU) 2020/852. To ensure a common understanding and common expectations of what a reasonable assurance engagement would consist of, the statutory auditor or audit firm should be required to express an opinion based on a reasonable assurance engagement about the compliance of the sustainability reporting with Union requirements, when the Commission adopts assurance standards for reasonable assurance of sustainability reporting by means of delegated acts no later than 1\\xa0October 2028, following an assessment to determine if reasonable assurance is', metadata={'source': 'direct.htm', 'title': 'L_2022322EN.01001501.xml'}),\n",
              " 'fe4fe978-ec01-44b6-94c2-4e9bbab40b69': Document(page_content='to determine if reasonable assurance is feasible for auditors and undertakings.', metadata={'source': 'direct.htm', 'title': 'L_2022322EN.01001501.xml'}),\n",
              " 'fe726ccd-a2ef-4032-94d9-0a8200d47cf3': Document(page_content='The gradual approach from limited assurance engagements to reasonable assurance engagements would also allow for the progressive development of the assurance market for sustainability information, and of undertakings’ reporting practices. Finally, such gradual approach would phase in the increase in costs for reporting undertakings, given that assurance of sustainability reporting based on a reasonable assurance engagement is more costly than assurance of sustainability reporting based on a limited assurance engagement. Undertakings subject to sustainability reporting requirements should be able to decide to have an assurance opinion on their sustainability reporting based on a reasonable', metadata={'source': 'direct.htm', 'title': 'L_2022322EN.01001501.xml'}),\n",
              " '5a8ad53c-8091-43b4-b4cc-3254f4988cb6': Document(page_content='sustainability reporting based on a reasonable assurance engagement if they so wish, and in such cases they should be deemed to have complied with the obligation to have an opinion based on a limited assurance engagement. The opinion based on a reasonable assurance engagement concerning forward-looking information is only an assurance that such information has been prepared in accordance with applicable standards.', metadata={'source': 'direct.htm', 'title': 'L_2022322EN.01001501.xml'}),\n",
              " 'c304c844-711a-40ab-9ea9-42b593ff9f3a': Document(page_content='(61)', metadata={'source': 'direct.htm', 'title': 'L_2022322EN.01001501.xml'}),\n",
              " 'a7d8e2cb-0c9f-4f16-8a49-fec970e9ad82': Document(page_content='Statutory auditors or audit firms already verify the financial statements and the management report. The assurance of sustainability reporting by the statutory auditors or audit firms would help to ensure the connectivity between, and consistency of, financial and sustainability information, which is particularly important for users of sustainability information. However, there is a risk of further concentration of the audit market, which could risk the independence of auditors and increase audit fees or fees relating to the assurance of sustainability reporting.', metadata={'source': 'direct.htm', 'title': 'L_2022322EN.01001501.xml'}),\n",
              " '5864ce7a-cd6d-4d5b-b1fe-50181f2267a2': Document(page_content='Considering the key role of statutory auditors when providing assurance of sustainability reporting and ensuring reliable sustainability information, the Commission has announced that it will act to further enhance audit quality and to create a more open and diversified audit market, which are the conditions for the successful application of this amending Directive. In addition, it is desirable to offer undertakings a broader choice of independent assurance services providers for the assurance of sustainably reporting. Member States should therefore be allowed to accredit independent assurance services providers in accordance with Regulation (EC) No\\xa0765/2008 of the European Parliament and', metadata={'source': 'direct.htm', 'title': 'L_2022322EN.01001501.xml'}),\n",
              " '82bba952-6ff1-4bff-8760-c67f563645c0': Document(page_content='(EC) No\\xa0765/2008 of the European Parliament and of the Council\\xa0(34) to provide an assurance opinion on sustainability reporting, which should be published together with the management report. In addition, Member States should be given the option of allowing a statutory auditor, other than the one(s) carrying out the statutory audit of the financial statements, to express an assurance opinion on sustainability reporting. Furthermore, if they allow independent assurance services providers to carry out the assurance of sustainability reporting, Member States should also allow a statutory auditor, other than the one(s) carrying out the statutory audit of the financial statements, to express an', metadata={'source': 'direct.htm', 'title': 'L_2022322EN.01001501.xml'}),\n",
              " '2479e6e1-efb8-4319-91cf-88edebd52412': Document(page_content='audit of the financial statements, to express an assurance opinion on sustainability reporting.', metadata={'source': 'direct.htm', 'title': 'L_2022322EN.01001501.xml'}),\n",
              " 'a4e9e46c-0e1b-4509-8756-2cfb72bfc472': Document(page_content='Member States should set out requirements that ensure the quality of the assurance of sustainability reporting carried out by independent assurance services providers and consistent outcomes in the assurance of sustainability reporting. Therefore, all independent assurance services providers should be subject to requirements that are equivalent to the requirements set out in Directive 2006/43/EC of the European Parliament and of the Council\\xa0(35) as regards the assurance of sustainability reporting, while being adapted to the characteristics of independent assurance services providers which do not carry out statutory audits. In particular, Member States should set out equivalent requirements', metadata={'source': 'direct.htm', 'title': 'L_2022322EN.01001501.xml'}),\n",
              " '0f203bc7-f461-4ff3-a6da-44249c46c0e3': Document(page_content='States should set out equivalent requirements as regards training and examination, continuing education, quality assurance systems, professional ethics, independence, objectivity, confidentiality and professional secrecy, appointment and dismissal, the organisation of the work of independent assurance services providers, investigations and sanctions, and the reporting of irregularities. This would also guarantee a level playing field among all persons and firms allowed by Member States to provide an assurance opinion on sustainability reporting, including statutory auditors. If an undertaking seeks the opinion of an accredited independent assurance services provider other than the statutory', metadata={'source': 'direct.htm', 'title': 'L_2022322EN.01001501.xml'}),\n",
              " '5ab53b7b-ef38-4632-a2b8-fe3ca1e1e9cf': Document(page_content='services provider other than the statutory auditor on its sustainability reporting, it should not in addition need to request an assurance opinion on its sustainability reporting from the statutory auditor.', metadata={'source': 'direct.htm', 'title': 'L_2022322EN.01001501.xml'}),\n",
              " '5d71c417-1eb5-48ae-9f12-89049deb1ad0': Document(page_content='Independent assurance services providers that have already been accredited by a Member State for the assurance of sustainability reporting should continue to be allowed to do so. Likewise, Member States should ensure that independent assurance services providers that, by the date of application of the new requirements on training and examination, are undergoing their accreditation process are not subject to those new accreditation requirements, provided they complete that process within two years of the date of application of those new requirements. Member States should, however, ensure that all the independent assurance services providers accredited by a Member State for the assurance of', metadata={'source': 'direct.htm', 'title': 'L_2022322EN.01001501.xml'}),\n",
              " '83d2f889-5570-4ac1-bcb9-5ac63a23ee0c': Document(page_content='accredited by a Member State for the assurance of sustainability reporting within two years of the date of application of the new accreditation requirements, acquire the necessary knowledge in sustainability reporting and the assurance of sustainability reporting through continued professional education.', metadata={'source': 'direct.htm', 'title': 'L_2022322EN.01001501.xml'}),\n",
              " '71fb8917-c5d8-48dc-b2ae-89806bf19b81': Document(page_content='(62)', metadata={'source': 'direct.htm', 'title': 'L_2022322EN.01001501.xml'}),\n",
              " '8b87bd96-5fa7-4796-89c3-861e9475d160': Document(page_content='In order to foster the free movement of services, Member States should allow independent assurance services providers established in a different Member State to carry out the assurance of sustainability reporting in their territory. This would also favour opening up the assurance market even when not all Member States allow for the accreditation of independent assurance services providers in their territory. Where independent assurance services providers carry out the assurance of sustainability reporting in the territory of a host Member State, that host Member State should be able to decide to supervise independent assurance services providers, given the possibility to leverage on the', metadata={'source': 'direct.htm', 'title': 'L_2022322EN.01001501.xml'}),\n",
              " '8da1928c-d971-4399-98fb-d8e0ccd8036c': Document(page_content='given the possibility to leverage on the implemented framework for the supervision of auditors carrying out the assurance of sustainability reporting.', metadata={'source': 'direct.htm', 'title': 'L_2022322EN.01001501.xml'}),\n",
              " '57958033-4325-45bb-9acc-2b2a84c71a55': Document(page_content='(63)', metadata={'source': 'direct.htm', 'title': 'L_2022322EN.01001501.xml'}),\n",
              " '437a8dcc-5016-4f40-823f-4d643d3adb00': Document(page_content='Member States should ensure that when an undertaking is required by Union law to have elements of its sustainability reporting verified by an accredited independent third party, the report of the accredited independent third party should be made available either as an annex to the management report or by any other publicly accessible means. Such making available of that report should not pre-empt the outcome of the assurance opinion of which the third-party verification should remain independent. It should not entail any duplication of work between the auditor or the independent assurance services provider that expresses the assurance opinion and the accredited independent third party.', metadata={'source': 'direct.htm', 'title': 'L_2022322EN.01001501.xml'}),\n",
              " 'cf94ab20-5514-4725-b182-d8b1bb6c7e1b': Document(page_content='(64)\\n\\n\\nDirective 2006/43/EC sets out rules concerning the statutory audit of annual and consolidated financial statements. It is necessary to ensure that consistent rules apply to the audit of financial statements and the assurance of sustainability reporting by the statutory auditor. Directive 2006/43/EC should apply where the assurance opinion on sustainability reporting is expressed by a statutory auditor or an audit firm.\\n\\n\\n\\n\\n\\n\\n\\n\\n\\n\\n\\n\\n(65)', metadata={'source': 'direct.htm', 'title': 'L_2022322EN.01001501.xml'}),\n",
              " '0bfebafa-0a2b-42c9-9c9a-55e4caaf0f7f': Document(page_content='The rules on the approval and recognition of statutory auditors and audit firms should allow statutory auditors to qualify also for the assurance of sustainability reporting. Member States should ensure that statutory auditors who wish to qualify for the assurance of sustainability reporting have the necessary level of theoretical knowledge of subjects relevant to the assurance of sustainability reporting and the ability to apply such knowledge in practice.', metadata={'source': 'direct.htm', 'title': 'L_2022322EN.01001501.xml'}),\n",
              " '13672070-cf80-4c4a-954d-f7ce1169af16': Document(page_content='Therefore, statutory auditors should complete practical training of at least eight months in the assurance of annual and consolidated sustainability reporting or in other sustainability-related services, taking account of previous employment experience. However, statutory auditors that have already been approved or recognised in a Member State should continue to be allowed to carry out the assurance of sustainability reporting. Likewise, Member States should ensure that natural persons who are undergoing the approval process at the date of application of the requirements for the assurance of sustainability reporting established by this amending Directive are not subject to those', metadata={'source': 'direct.htm', 'title': 'L_2022322EN.01001501.xml'}),\n",
              " '058656a2-a878-4617-8112-5d21a88843df': Document(page_content='this amending Directive are not subject to those requirements, provided they complete the process within the following two years. Member States should, however, ensure that statutory auditors approved within two years of the date of application of those requirements and who wish to carry out the assurance of sustainability reporting acquire the necessary knowledge in sustainability reporting and the assurance of sustainability reporting via continued professional education. Natural persons who decide to be approved only as statutory auditors for statutory audit should be able to decide at a later point in time to qualify also for the assurance of sustainability reporting. In order to do so,', metadata={'source': 'direct.htm', 'title': 'L_2022322EN.01001501.xml'}),\n",
              " 'c5c4b333-8db1-444b-b986-6e2958b30258': Document(page_content='of sustainability reporting. In order to do so, such persons should meet the necessary requirements set out by Member States to ensure that they also have the necessary level of theoretical knowledge of subjects relevant to the assurance of sustainability reporting and the ability to apply such knowledge in practice.', metadata={'source': 'direct.htm', 'title': 'L_2022322EN.01001501.xml'}),\n",
              " '9f72e2d9-2a14-4465-bb2b-7f60f55824ba': Document(page_content='(66)', metadata={'source': 'direct.htm', 'title': 'L_2022322EN.01001501.xml'}),\n",
              " 'eabee47d-4fe1-4ed5-a5df-b38f482a47c1': Document(page_content='It should be ensured that the requirements imposed on auditors as regards the statutory audit and the assurance of sustainability reporting they carry out are consistent. Therefore, there should be at least one designated person who is actively involved in carrying out the assurance of sustainability reporting (‘key sustainability partner’). When carrying out the assurance of sustainability reporting, statutory auditors should be required to devote sufficient time and assign sufficient resources and expertise in order to carry out their duties appropriately. The client account record should specify the fees charged for the assurance of sustainability reporting and an assurance file should', metadata={'source': 'direct.htm', 'title': 'L_2022322EN.01001501.xml'}),\n",
              " 'f6735b90-9748-489e-b591-5ca53d587a5f': Document(page_content='reporting and an assurance file should be created to include information related to the assurance of sustainability reporting. Where the same statutory auditor carries out the statutory audit of annual financial statements and the assurance of sustainability reporting, it should be possible to include the assurance file in the audit file. However, requirements imposed on statutory auditors relating to the assurance of sustainability reporting should only apply to those statutory auditors that carry out the assurance of sustainability reporting.', metadata={'source': 'direct.htm', 'title': 'L_2022322EN.01001501.xml'}),\n",
              " '01d3388b-1efd-4c25-8c16-cee9f6b79c25': Document(page_content='(67)\\n\\n\\nStatutory auditors or audit firms that carry out the assurance of sustainability reporting should have a high level of technical and specialised expertise in the field of sustainability.\\n\\n\\n\\n\\n\\n\\n\\n\\n\\n\\n\\n\\n(68)', metadata={'source': 'direct.htm', 'title': 'L_2022322EN.01001501.xml'}),\n",
              " 'efdde32a-bb88-40e1-ac07-70d5d595889e': Document(page_content='(68)\\n\\n\\nDirective 2006/43/EC requires Member States to put appropriate rules in place to avoid the fees on the statutory audit being influenced or determined by the provision of additional services to the audited entity or being based on any form of contingency. That Directive also requires Member States to ensure that statutory auditors carrying out statutory audits comply with the rules on professional ethics, independence, objectivity, confidentiality and professional secrecy. For reasons of coherence, it is appropriate that those rules be extended to statutory auditors carrying out the assurance of sustainability reporting.\\n\\n\\n\\n\\n\\n\\n\\n\\n\\n\\n\\n\\n(69)', metadata={'source': 'direct.htm', 'title': 'L_2022322EN.01001501.xml'}),\n",
              " 'd1d8cf90-939c-442d-8a32-b6c4a78e5a6d': Document(page_content='In order to provide for uniform assurance practices and high-quality assurance of sustainability reporting across the Union, the Commission should be empowered to adopt sustainability assurance standards by means of delegated acts. Member States should be given the possibility of applying national assurance standards, procedures or requirements, as long as the Commission has not adopted an assurance standard by means of delegated acts covering the same subject matter. Such assurance standards should set out the procedures that the auditor is to perform in order to draw its conclusions on the assurance of sustainability reporting. Therefore, the Commission should adopt assurance standards', metadata={'source': 'direct.htm', 'title': 'L_2022322EN.01001501.xml'}),\n",
              " '94dc46ad-c714-41b0-a659-22e3d18fb2e7': Document(page_content='the Commission should adopt assurance standards for limited assurance by means of delegated acts before 1\\xa0October 2026. With a view to facilitating the harmonisation of the assurance of sustainability reporting across Member States, the CEAOB should be encouraged to adopt non-binding guidelines to set out the procedures to be performed when expressing an assurance opinion on sustainability reporting, pending the adoption by the Commission of an assurance standard covering the same subject matter.', metadata={'source': 'direct.htm', 'title': 'L_2022322EN.01001501.xml'}),\n",
              " '504f8fea-751b-4c79-8a66-1cd222e56ae4': Document(page_content='(70)\\n\\n\\nDirective 2006/43/EC sets out rules on the statutory audit of a group of undertakings. Similar rules should be set out for the assurance of consolidated sustainability reporting.\\n\\n\\n\\n\\n\\n\\n\\n\\n\\n\\n\\n\\n(71)', metadata={'source': 'direct.htm', 'title': 'L_2022322EN.01001501.xml'}),\n",
              " 'dfb55022-20fe-4786-9556-cadfa2fc8ee3': Document(page_content='(71)\\n\\n\\nDirective 2006/43/EC requires statutory auditors or audit firms to present the results of their statutory audit in an audit report. Similar rules should be set out for the assurance of sustainability reporting. The results of the assurance of sustainability reporting should be presented in an assurance report. Where the same statutory auditor carries out the statutory audit of annual financial statements and the assurance of sustainability reporting, it should be possible to present the information about the assurance of sustainability reporting in the audit report.\\n\\n\\n\\n\\n\\n\\n\\n\\n\\n\\n\\n\\n(72)', metadata={'source': 'direct.htm', 'title': 'L_2022322EN.01001501.xml'}),\n",
              " 'b47f4e66-a71d-4a58-bdef-4ab6897886e1': Document(page_content='Directive 2006/43/EC requires Member States to set up a system of quality assurance review of statutory auditors and audit firms. To ensure that quality assurance reviews also take place for the assurance of sustainability reporting and that the persons who carry out quality assurance reviews have appropriate professional education and relevant experience in sustainability reporting and in the assurance of sustainability reporting, that requirement to set up a system of quality assurance review should be extended to the assurance of sustainability reporting. As a transitional measure, until 31\\xa0December 2025, the persons who carry out quality assurance reviews of the assurance of', metadata={'source': 'direct.htm', 'title': 'L_2022322EN.01001501.xml'}),\n",
              " 'b8b73911-7346-4df0-a767-e964ab4456e8': Document(page_content='out quality assurance reviews of the assurance of sustainability reporting should be exempted from the requirement to have relevant experience in sustainability reporting and in the assurance of sustainability reporting or in other sustainability-related services.', metadata={'source': 'direct.htm', 'title': 'L_2022322EN.01001501.xml'}),\n",
              " '602568fb-0dc2-443a-97e6-dff401fbc984': Document(page_content='(73)', metadata={'source': 'direct.htm', 'title': 'L_2022322EN.01001501.xml'}),\n",
              " '0860528f-8160-4a96-872a-a0c5e890ac86': Document(page_content='Directive 2006/43/EC requires Member States to have in place an investigations and sanctions regime for statutory auditors and audit firms carrying out statutory audits. That Directive also requires Member States to organise an effective system of public oversight, and to ensure that regulatory arrangements for public oversight systems permit effective cooperation at Union level in respect of Member States’ oversight activities. Such requirements should be extended to statutory auditors and audit firms that conduct assurance of sustainability reporting in order to ensure the consistency of the investigations, sanctions and oversight frameworks set up for the auditor’s work in the statutory', metadata={'source': 'direct.htm', 'title': 'L_2022322EN.01001501.xml'}),\n",
              " 'a9eb8314-fe82-4378-acdb-8056fdb7145a': Document(page_content='set up for the auditor’s work in the statutory audit and the assurance of sustainability reporting.', metadata={'source': 'direct.htm', 'title': 'L_2022322EN.01001501.xml'}),\n",
              " '2f30c505-5adf-4442-ada7-092deb8bc5db': Document(page_content='(74)\\n\\n\\nDirective 2006/43/EC contains rules on the appointment and dismissal of statutory auditors and audit firms carrying out statutory audits. Those rules should be extended to the assurance of sustainability reporting to ensure the consistency of the rules imposed on auditors as regards their work on the statutory audit and the assurance of sustainability reporting.\\n\\n\\n\\n\\n\\n\\n\\n\\n\\n\\n\\n\\n(75)', metadata={'source': 'direct.htm', 'title': 'L_2022322EN.01001501.xml'}),\n",
              " 'babed3da-c1e0-4628-ba5f-8ebdc1ec694d': Document(page_content='Pursuant to Article\\xa06 of Directive 2007/36/EC of the European Parliament and of the Council\\xa0(36), Member States are required to ensure that shareholders of undertakings whose securities are admitted to trading on a regulated market in the Union, acting individually or collectively, have the right to put items on the agenda of the general meeting, provided that each such item is accompanied by a justification or a draft resolution to be adopted in the general meeting, and that they have the right to table draft resolutions for items included or to be included on the agenda of a general meeting, as the case may be. Where those rights are subject to the condition that the relevant shareholder', metadata={'source': 'direct.htm', 'title': 'L_2022322EN.01001501.xml'}),\n",
              " '8ca38131-304f-4ba2-ac2d-29c4a181b861': Document(page_content='to the condition that the relevant shareholder or shareholders hold a minimum stake in the undertaking, such minimum stake is not to exceed 5\\xa0% of the share capital. As regards the assurance of sustainability reporting, shareholders should be able to exercise the rights set out in Article\\xa06 of Directive 2007/36/EC in order to table draft resolutions to be adopted in the general meeting, requiring that, firstly, an accredited third party that does not belong to the same audit firm or network as the statutory auditor or audit firm carrying out the statutory audit prepare a report on certain elements of the sustainability reporting and, secondly, that such report be made available to the', metadata={'source': 'direct.htm', 'title': 'L_2022322EN.01001501.xml'}),\n",
              " 'ef01dc75-d9e1-4cae-992b-a260f7ecf7f3': Document(page_content='that such report be made available to the general meeting.', metadata={'source': 'direct.htm', 'title': 'L_2022322EN.01001501.xml'}),\n",
              " 'babe8c42-4a1a-4ae8-ad40-eb43ab2269be': Document(page_content='For undertakings subject to the sustainability reporting requirements introduced by this amending Directive and that do not fall within the scope of Article\\xa06 of Directive 2007/36/EC, shareholders which represent more than 5\\xa0% of the voting rights or 5\\xa0% of the capital of the undertaking, acting individually or collectively, should also be given the right to table a draft resolution to be adopted in the general meeting, requiring that, firstly, an accredited third party that does not belong to the same audit firm or network as the statutory auditor or audit firm carrying out the statutory audit prepare a report on certain elements of the sustainability reporting and, secondly, that such', metadata={'source': 'direct.htm', 'title': 'L_2022322EN.01001501.xml'}),\n",
              " '69f079c0-a91e-4721-8a8b-d01a57be3c5a': Document(page_content='sustainability reporting and, secondly, that such report be made available to the general meeting.', metadata={'source': 'direct.htm', 'title': 'L_2022322EN.01001501.xml'}),\n",
              " '145b9ddd-d952-48e3-8216-749f2ce42d99': Document(page_content='(76)', metadata={'source': 'direct.htm', 'title': 'L_2022322EN.01001501.xml'}),\n",
              " 'eab9c0da-6a4d-4521-8e26-1031521a1fae': Document(page_content='Directive 2006/43/EC requires Member States to ensure that each public-interest entity has an audit committee, and specifies its tasks with regard to the statutory audit. That audit committee should be assigned with certain tasks with regard to the assurance of sustainability reporting. Those tasks should include the obligation to inform the administrative or supervisory body of the public-interest entity of the outcome of the assurance of sustainability reporting, and to explain how the audit committee contributed to the integrity of sustainability reporting and what the role of the audit committee was in that process. Member States should be able to allow functions assigned to the audit', metadata={'source': 'direct.htm', 'title': 'L_2022322EN.01001501.xml'}),\n",
              " '6388f616-3f8a-4772-950e-63bd4f98836d': Document(page_content='be able to allow functions assigned to the audit committee relating to sustainability reporting and relating to the assurance of sustainability reporting, to be performed by the administrative or supervisory body as a whole or by a dedicated body established by the administrative or supervisory body.', metadata={'source': 'direct.htm', 'title': 'L_2022322EN.01001501.xml'}),\n",
              " 'ab3f5d76-44b1-43bf-afe2-972aec9973c2': Document(page_content='(77)\\n\\n\\nDirective 2006/43/EC contains requirements for registration and oversight of third-country auditors and audit entities. To ensure that a consistent framework exists for the work of auditors in both the statutory audit and the assurance of sustainability reporting, it is necessary to extend those requirements to the assurance of sustainability reporting.\\n\\n\\n\\n\\n\\n\\n\\n\\n\\n\\n\\n\\n(78)', metadata={'source': 'direct.htm', 'title': 'L_2022322EN.01001501.xml'}),\n",
              " 'f5759fc8-c20e-42e0-98ec-69a91e8235e6': Document(page_content='Regulation (EU) No\\xa0537/2014 of the European Parliament and of the Council\\xa0(37) applies to statutory auditors and audit firms carrying out statutory audits of public-interest entities. To ensure the independence of the statutory auditor when carrying out a statutory audit, that Regulation establishes a limit concerning the fees for other services that the statutory auditor can obtain. It is important to clarify that the assurance of sustainability reporting should not count in the calculation of that limit. In addition, Regulation (EU) No\\xa0537/2014 prohibits the provision of certain non-audit services over certain periods when the statutory auditor is carrying out the statutory audit.', metadata={'source': 'direct.htm', 'title': 'L_2022322EN.01001501.xml'}),\n",
              " 'a61e7af7-e286-45ad-acdb-e034b802c28c': Document(page_content='auditor is carrying out the statutory audit. Services related to the preparation of sustainability reporting, including any consulting services, should also be considered as prohibited services over the period prescribed in Regulation (EU) No\\xa0537/2014. The prohibition of the provision of such services should apply in all cases where the statutory auditor carries out the statutory audit of financial statements.', metadata={'source': 'direct.htm', 'title': 'L_2022322EN.01001501.xml'}),\n",
              " '62d7f493-8b83-4fe2-9223-1e8343534b4b': Document(page_content='To ensure the independence of the statutory auditor, certain non-audit services should also be prohibited when the statutory auditor is carrying out the assurance of sustainability reporting. Regulation (EU) No\\xa0537/2014 requires statutory auditors to report irregularities to the audited entity and, under certain circumstances, to authorities designated by the Member States as responsible for investigating such irregularities. Such obligation should also be extended, as appropriate, to statutory auditors and audit firms as regards their work on the assurance of sustainability reporting of public-interest entities.', metadata={'source': 'direct.htm', 'title': 'L_2022322EN.01001501.xml'}),\n",
              " 'ae5d5258-1190-45e0-ab3a-9fa61925158b': Document(page_content='(79)', metadata={'source': 'direct.htm', 'title': 'L_2022322EN.01001501.xml'}),\n",
              " '2ee365a0-0194-4174-8b65-00270a569634': Document(page_content='Directive 2004/109/EC assigns to national supervisors the task of enforcing compliance with corporate reporting requirements by undertakings whose securities are admitted to trading on a regulated market in the Union. Article\\xa04 of that Directive specifies the content to be included in the annual financial reports, but lacks an explicit reference to Articles 19a and\\xa029a of Directive 2013/34/EU, which require the preparation of a non-financial statement and a consolidated non-financial statement. As a consequence, national competent authorities of some Member States have no legal mandate to supervise those non-financial statements, especially where those non-financial statements are published', metadata={'source': 'direct.htm', 'title': 'L_2022322EN.01001501.xml'}),\n",
              " '49a0c887-289e-41bd-80a7-16a5efe623a4': Document(page_content='those non-financial statements are published in a separate report, outside of the annual financial report, which Member States may currently allow. It is therefore necessary to insert into Article\\xa04(5) of Directive 2004/109/EC a reference to sustainability reporting. It is also necessary to require that the persons responsible within the issuer confirm in the annual financial report that, to the best of their knowledge, the management report is prepared in accordance with the sustainability reporting standards.', metadata={'source': 'direct.htm', 'title': 'L_2022322EN.01001501.xml'}),\n",
              " '4441470f-4f05-404d-bec5-991148cfef5b': Document(page_content='In addition, given the novel character of the sustainability reporting requirements, ESMA should issue guidelines for national competent authorities to promote convergent supervision of sustainability reporting by issuers subject to Directive 2004/109/EC. Those guidelines should only apply to the supervision of undertakings whose securities are admitted to trading on a regulated market in the Union.', metadata={'source': 'direct.htm', 'title': 'L_2022322EN.01001501.xml'}),\n",
              " '0e0e4a19-2e65-4d99-bda2-fb093c9f9e5a': Document(page_content='(80)', metadata={'source': 'direct.htm', 'title': 'L_2022322EN.01001501.xml'}),\n",
              " '6d745788-f168-4178-9ea6-fb150f10064f': Document(page_content='In order to specify the requirements set out in this amending Directive, the power to adopt acts in accordance with Article\\xa0290 of the Treaty on the Functioning of the European Union should be delegated to the Commission in respect of establishing sustainability reporting standards and establishing standards for the assurance of sustainability reporting. It is of particular importance that the Commission carry out appropriate consultations during its preparatory work, including at expert level, and that those consultations be conducted in accordance with the principles laid down in the Interinstitutional Agreement of 13\\xa0April 2016 on Better Law-Making\\xa0(38). In particular, to ensure equal', metadata={'source': 'direct.htm', 'title': 'L_2022322EN.01001501.xml'}),\n",
              " 'bf61aae9-93e9-48d1-8ff8-fe8d361d10f0': Document(page_content='Law-Making\\xa0(38). In particular, to ensure equal participation in the preparation of delegated acts, the European Parliament and the Council receive all documents at the same time as Member States’ experts, and their experts systematically have access to meetings of Commission expert groups dealing with the preparation of delegated acts.', metadata={'source': 'direct.htm', 'title': 'L_2022322EN.01001501.xml'}),\n",
              " 'bd081f9b-9840-49e2-8f66-4edf1dbf1546': Document(page_content='(81)', metadata={'source': 'direct.htm', 'title': 'L_2022322EN.01001501.xml'}),\n",
              " 'b297a80e-a641-4f5a-b5a4-4693bd3558a7': Document(page_content='The Commission should submit a report to the European Parliament and to the Council on the implementation of this amending Directive, including, inter\\xa0alia: an assessment of the achievement of the goals of this amending Directive, including the convergence of reporting practices between Member States; an assessment of the number of small and medium-sized undertakings using sustainability reporting standards voluntarily; an assessment of whether and how the scope of the reporting requirements should be further extended, in particular in relation to small and medium-sized undertakings and to third-country undertakings operating directly on the Union internal market without a subsidiary', metadata={'source': 'direct.htm', 'title': 'L_2022322EN.01001501.xml'}),\n",
              " 'ea82b903-3330-44e4-ae77-851330c37b38': Document(page_content='on the Union internal market without a subsidiary undertaking or a branch on the territory of the Union; an assessment of the implementation of the reporting requirements on subsidiary undertakings and branches of third-country undertakings introduced by this amending Directive, including an assessment of the number of third-country undertakings which have a subsidiary undertaking or a branch subject to reporting requirements in accordance with Directive 2013/34/EU; an assessment of the enforcement mechanism and of the relevant thresholds set out in Directive 2013/34/EU; an assessment of whether and how to ensure the accessibility for people with disabilities to the sustainability reporting', metadata={'source': 'direct.htm', 'title': 'L_2022322EN.01001501.xml'}),\n",
              " '6d0a5d20-2201-433d-8b02-7468c0b1b7e6': Document(page_content='with disabilities to the sustainability reporting published by undertakings falling under the scope of this amending Directive.', metadata={'source': 'direct.htm', 'title': 'L_2022322EN.01001501.xml'}),\n",
              " '751fb8ce-981c-4a3b-9fd4-73bf65005113': Document(page_content='The report on the implementation of this amending Directive should be published by 30\\xa0April 2029 and every three years thereafter, and should be accompanied, if appropriate, by legislative proposals. By 31\\xa0December 2028, the Commission should review and report on the level of concentration of the sustainability assurance market. The review should take into account the national regimes applicable to independent assurance services providers and assess whether and to what extent such national regimes contribute to opening up the assurance market. By 31\\xa0December 2028, the Commission should assess possible legal measures to ensure sufficient diversification of the sustainability assurance market', metadata={'source': 'direct.htm', 'title': 'L_2022322EN.01001501.xml'}),\n",
              " '47f812c4-6d4f-48fb-b060-3c46e6e36cfb': Document(page_content='of the sustainability assurance market and appropriate sustainability reporting quality. The report on the level of concentration of the sustainability assurance market should be transmitted to the European Parliament and the Council by 31\\xa0December 2028 and be accompanied, if appropriate, by legislative proposals.', metadata={'source': 'direct.htm', 'title': 'L_2022322EN.01001501.xml'}),\n",
              " 'a7f1a0a4-7550-44d9-8bec-82c634350b01': Document(page_content='(82)\\n\\n\\nSince the objectives of this amending Directive cannot be sufficiently achieved by the Member States but can rather, by reason of the scale or effects of the action, be better achieved at Union level, the Union may adopt measures, in accordance with the principle of subsidiarity as set out in Article\\xa05 of the Treaty on European Union. In accordance with the principle of proportionality as set out in that Article, this amending Directive does not go beyond what is necessary in order to achieve those objectives.\\n\\n\\n\\n\\n\\n\\n\\n\\n\\n\\n\\n\\n(83)\\n\\n\\nRegulation (EU) No\\xa0537/2014, Directive 2004/109/EC, Directive 2006/43/EC and Directive 2013/34/EU should therefore be amended accordingly.', metadata={'source': 'direct.htm', 'title': 'L_2022322EN.01001501.xml'}),\n",
              " '4d7948a6-265b-44cc-9043-1858b81d28e4': Document(page_content='(84)\\n\\n\\nThe ECB was consulted and delivered an opinion on 7\\xa0September 2021,\\n\\n\\n\\n\\n\\nHAVE ADOPTED THIS DIRECTIVE:\\n\\n\\n\\nArticle\\xa01\\n\\nAmendments to Directive 2013/34/EU\\n\\nDirective 2013/34/EU is amended as follows:\\n\\n\\n\\n\\n\\n\\n(1)\\n\\n\\nin Article\\xa01, the following paragraphs are added:', metadata={'source': 'direct.htm', 'title': 'L_2022322EN.01001501.xml'}),\n",
              " '308fb032-8efa-40c4-9ab6-2ecb74b046e2': Document(page_content='‘3.\\xa0\\xa0\\xa0The coordination measures prescribed by Articles 19a, 29a, 29d, 30 and\\xa033, point (aa) of the second subparagraph of Article\\xa034(1), Article\\xa034(2) and\\xa0(3) and Article\\xa051 of this Directive shall also apply to the laws, regulations and administrative provisions of the Member States relating to the following undertakings regardless of their legal form, provided that those undertakings are large undertakings, or small and medium-sized undertakings, except micro undertakings, which are public-interest entities as defined in point (a) of point (1) of Article\\xa02 of this Directive:\\n\\n\\n\\n\\n\\n\\n(a)\\n\\n\\ninsurance undertakings within the meaning of Article\\xa02(1) of Council Directive 91/674/EEC\\xa0(*1);', metadata={'source': 'direct.htm', 'title': 'L_2022322EN.01001501.xml'}),\n",
              " '853c8ec6-0a7b-4a41-bb10-e16997858ce3': Document(page_content='(b)\\n\\n\\ncredit institutions as defined in point (1) of Article\\xa04(1) of Regulation (EU) No\\xa0575/2013 of the European Parliament and of the Council\\xa0(*2).\\nMember States may choose not to apply the coordination measures referred to in the first subparagraph of this paragraph to the undertakings listed in points (2) to (23) of Article\\xa02(5) of Directive 2013/36/EU of the European Parliament and of the Council\\xa0(*3).\\n\\n\\n\\n\\n\\n\\n4.\\xa0\\xa0\\xa0The coordination measures prescribed by Articles 19a, 29a and\\xa029d shall not apply to financial products listed in points (b) and (f) of point (12) of Article\\xa02 of Regulation (EU) 2019/2088 of the European Parliament and of the Council\\xa0(*4).', metadata={'source': 'direct.htm', 'title': 'L_2022322EN.01001501.xml'}),\n",
              " '80018852-0122-4f64-82ab-9c9474b57016': Document(page_content='5.\\xa0\\xa0\\xa0The coordination measures prescribed by Articles 40a to 40d shall also apply to the laws, regulations and administrative provisions of the Member States relating to subsidiary undertakings and branches of undertakings which are not governed by the law of a Member State but whose legal form is comparable with the types of undertakings listed in Annex I.\\n\\n\\n(*1)\\xa0\\xa0Council Directive 91/674/EEC of 19\\xa0December 1991 on the annual accounts and consolidated accounts of insurance undertakings (OJ\\xa0L\\xa0374, 31.12.1991, p.\\xa07).\"', metadata={'source': 'direct.htm', 'title': 'L_2022322EN.01001501.xml'}),\n",
              " '2d254fa6-396e-4123-97d1-ac630b4b98db': Document(page_content='(*2)\\xa0\\xa0Regulation (EU) No\\xa0575/2013 of the European Parliament and of the Council of 26\\xa0June 2013 on prudential requirements for credit institutions and amending Regulation (EU) No\\xa0648/2012 (OJ\\xa0L\\xa0176, 27.6.2013, p.\\xa01).\"\\n                        \\n\\n(*3)\\xa0\\xa0Directive 2013/36/EU of the European Parliament and of the Council of 26\\xa0June 2013 on access to the activity of credit institutions and the prudential supervision of credit institutions, amending Directive 2002/87/EC and repealing Directives 2006/48/EC and\\xa02006/49/EC (OJ\\xa0L\\xa0176, 27.6.2013, p.\\xa0338).\"', metadata={'source': 'direct.htm', 'title': 'L_2022322EN.01001501.xml'}),\n",
              " '98fe1c0d-1706-49d0-9bb2-af86e1ff2843': Document(page_content='(*4)\\xa0\\xa0Regulation (EU) 2019/2088 of the European Parliament and of the Council of 27\\xa0November 2019 on sustainability-related disclosures in the financial services sector (OJ\\xa0L\\xa0317, 9.12.2019, p.\\xa01).’;\"\\n                        \\n\\n\\n\\n\\n\\n\\n\\n\\n\\n\\n(2)\\n\\n\\nArticle\\xa02 is amended as follows:\\n\\n\\n\\n\\n\\n\\n(a)\\n\\n\\npoint (5) is replaced by the following:\\n\\n\\n\\n\\n\\n\\n‘(5)', metadata={'source': 'direct.htm', 'title': 'L_2022322EN.01001501.xml'}),\n",
              " 'c5cdef5a-fad9-4fe3-887c-1b7d6bf852c3': Document(page_content='“net turnover” means the amounts derived from the sale of products and the provision of services after deducting sales rebates and value added tax and other taxes directly linked to turnover; however, for insurance undertakings referred to in point (a) of the first subparagraph of Article\\xa01(3) of this Directive, “net turnover” shall be defined in accordance with Article\\xa035 and point\\xa02 of Article\\xa066 of Council Directive 91/674/EEC\\xa0(*5); for credit institutions referred to in point (b) of the first subparagraph of Article\\xa01(3) of this Directive, “net turnover” shall be defined in accordance with point (c) of Article\\xa043(2) of Council Directive 86/635/EEC\\xa0(*6); and for undertakings falling', metadata={'source': 'direct.htm', 'title': 'L_2022322EN.01001501.xml'}),\n",
              " 'a18cb115-89ac-441b-8108-ffac7f58645f': Document(page_content='86/635/EEC\\xa0(*6); and for undertakings falling under the scope of Article\\xa040a(1) of this Directive, “net turnover” means the revenue as defined by or within the meaning of the financial reporting framework on the basis of which the financial statements of the undertaking are prepared;', metadata={'source': 'direct.htm', 'title': 'L_2022322EN.01001501.xml'}),\n",
              " '3d71ce30-28c8-4b47-99a2-28cbf8bef19c': Document(page_content='(*5)\\xa0\\xa0Council Directive 91/674/EEC of 19\\xa0December 1991 on the annual accounts and consolidated accounts of insurance undertakings (OJ\\xa0L\\xa0374,\\xa031.12.1991,\\xa0p.\\xa07).\"\\n                        \\n\\n(*6)\\xa0\\xa0Council Directive 86/635/EEC of 8\\xa0December 1986 on the annual accounts and consolidated accounts of banks and other financial institutions (OJ\\xa0L\\xa0372,\\xa031.12.1986, p.\\xa01).’;\"\\n                        \\n\\n\\n\\n\\n\\n\\n\\n\\n\\n\\n(b)\\n\\n\\nthe following points are added:\\n\\n\\n\\n\\n\\n\\n‘(17)\\n\\n\\n“sustainability matters” means environmental, social and human rights, and governance factors, including sustainability factors defined in point (24) of Article\\xa02 of Regulation (EU) 2019/2088;\\n\\n\\n\\n\\n\\n\\n\\n\\n\\n\\n(18)', metadata={'source': 'direct.htm', 'title': 'L_2022322EN.01001501.xml'}),\n",
              " '946f5428-742e-4155-b542-37bf341debf0': Document(page_content='(18)\\n\\n\\n“sustainability reporting” means reporting information related to sustainability matters in accordance with Articles 19a, 29a and\\xa029d;\\n\\n\\n\\n\\n\\n\\n\\n\\n\\n\\n(19)\\n\\n\\n“key intangible resources” means resources without physical substance on which the business model of the undertaking fundamentally depends and which are a source of value creation for the undertaking;\\n\\n\\n\\n\\n\\n\\n\\n\\n\\n\\n(20)', metadata={'source': 'direct.htm', 'title': 'L_2022322EN.01001501.xml'}),\n",
              " '6a5b9286-371f-468c-af74-dd8285c808d1': Document(page_content='(20)\\n\\n\\n“independent assurance services provider” means a conformity assessment body accredited in accordance with Regulation (EC) No\\xa0765/2008 of the European Parliament and of the Council\\xa0(*7) for the specific conformity assessment activity referred to in point (aa) of the second subparagraph of Article\\xa034(1) of this Directive.\\n\\n\\n\\n\\n\\n(*7)\\xa0\\xa0Regulation (EC) No\\xa0765/2008 of the European Parliament and of the Council of 9\\xa0July 2008 setting out the requirements for accreditation and repealing Regulation (EEC) No\\xa0339/93 (OJ\\xa0L\\xa0218, 13.8.2008, p.\\xa030).’;\"\\n                        \\n\\n\\n\\n\\n\\n\\n\\n\\n\\n\\n\\n\\n\\n\\n(3)\\n\\n\\nin Article\\xa019(1), the following subparagraph is added:', metadata={'source': 'direct.htm', 'title': 'L_2022322EN.01001501.xml'}),\n",
              " 'b6204ad2-de4c-40e5-be97-bed54cfac63b': Document(page_content='‘Large undertakings, and small and medium-sized undertakings, except micro undertakings, which are public-interest entities as defined in point (a) of point (1) of Article\\xa02 shall report information on the key intangible resources and explain how the business model of the undertaking fundamentally depends on such resources and how such resources are a source of value creation for the undertaking.’;\\n\\n\\n\\n\\n\\n\\n\\n\\n\\n\\n(4)\\n\\n\\nArticle\\xa019a is replaced by the following:\\n\\n‘Article\\xa019a\\nSustainability reporting', metadata={'source': 'direct.htm', 'title': 'L_2022322EN.01001501.xml'}),\n",
              " '2ff5545e-1a0b-4963-9c12-46a3031d9fec': Document(page_content='‘Article\\xa019a\\nSustainability reporting\\n\\n1.\\xa0\\xa0\\xa0Large undertakings, and small and medium-sized undertakings, except micro undertakings, which are public-interest entities as defined in point (a) of point (1) of Article\\xa02 shall include in the management report information necessary to understand the undertaking’s impacts on sustainability matters, and information necessary to understand how sustainability matters affect the undertaking’s development, performance and position.\\nThe information referred to in the first subparagraph shall be clearly identifiable within the management report, through a dedicated section of the management report.', metadata={'source': 'direct.htm', 'title': 'L_2022322EN.01001501.xml'}),\n",
              " 'c077f67d-8496-4fdf-b6f7-cf63af15077b': Document(page_content='2.\\xa0\\xa0\\xa0The information referred to in paragraph 1 shall contain:\\n\\n\\n\\n\\n\\n\\n(a)\\n\\n\\na brief description of the undertaking’s business model and strategy, including:\\n\\n\\n\\n\\n\\n\\n(i)\\n\\n\\nthe resilience of the undertaking’s business model and strategy in relation to risks related to sustainability matters;\\n\\n\\n\\n\\n\\n\\n\\n\\n\\n\\n(ii)\\n\\n\\nthe opportunities for the undertaking related to sustainability matters;\\n\\n\\n\\n\\n\\n\\n\\n\\n\\n\\n(iii)', metadata={'source': 'direct.htm', 'title': 'L_2022322EN.01001501.xml'}),\n",
              " '6e9c4a42-64d7-43d9-8200-da7c9264388e': Document(page_content='(iii)\\n\\n\\nthe plans of the undertaking, including implementing actions and related financial and investment plans, to ensure that its business model and strategy are compatible with the transition to a sustainable economy and with the limiting of global warming to 1,5 °C in line with the Paris Agreement under the United Nations Framework Convention on Climate Change adopted on 12\\xa0December 2015 (the ‘Paris Agreement’) and the objective of achieving climate neutrality by 2050 as established in Regulation (EU) 2021/1119 of the European Parliament and of the Council\\xa0(*8), and, where relevant, the exposure of the undertaking to coal-, oil- and gas-related activities;\\n\\n\\n\\n\\n\\n\\n\\n\\n\\n\\n(iv)', metadata={'source': 'direct.htm', 'title': 'L_2022322EN.01001501.xml'}),\n",
              " '90894697-970b-4233-9598-56bc857d2ecf': Document(page_content='(iv)\\n\\n\\nhow the undertaking’s business model and strategy take account of the interests of the undertaking’s stakeholders and of the impacts of the undertaking on sustainability matters;\\n\\n\\n\\n\\n\\n\\n\\n\\n\\n\\n(v)\\n\\n\\nhow the undertaking’s strategy has been implemented with regard to sustainability matters;\\n\\n\\n\\n\\n\\n\\n\\n\\n\\n\\n\\n\\n\\n\\n(b)', metadata={'source': 'direct.htm', 'title': 'L_2022322EN.01001501.xml'}),\n",
              " '53515cbf-4564-4525-9543-141dd1606bff': Document(page_content='(b)\\n\\n\\na description of the time-bound targets related to sustainability matters set by the undertaking, including, where appropriate, absolute greenhouse gas emission reduction targets at least for 2030 and\\xa02050, a description of the progress the undertaking has made towards achieving those targets, and a statement of whether the undertaking’s targets related to environmental factors are based on conclusive scientific evidence;\\n\\n\\n\\n\\n\\n\\n\\n\\n\\n\\n(c)', metadata={'source': 'direct.htm', 'title': 'L_2022322EN.01001501.xml'}),\n",
              " '44c57fc2-08fc-4df7-93df-f83b0d561572': Document(page_content='(c)\\n\\n\\na description of the role of the administrative, management and supervisory bodies with regard to sustainability matters, and of their expertise and skills in relation to fulfilling that role or the access such bodies have to such expertise and skills;\\n\\n\\n\\n\\n\\n\\n\\n\\n\\n\\n(d)\\n\\n\\na description of the undertaking’s policies in relation to sustainability matters;\\n\\n\\n\\n\\n\\n\\n\\n\\n\\n\\n(e)\\n\\n\\ninformation about the existence of incentive schemes linked to sustainability matters which are offered to members of the administrative, management and supervisory bodies;\\n\\n\\n\\n\\n\\n\\n\\n\\n\\n\\n(f)\\n\\n\\na description of:\\n\\n\\n\\n\\n\\n\\n(i)', metadata={'source': 'direct.htm', 'title': 'L_2022322EN.01001501.xml'}),\n",
              " 'ee7aeba4-a7eb-424f-95c3-e9ccf1545be4': Document(page_content='(f)\\n\\n\\na description of:\\n\\n\\n\\n\\n\\n\\n(i)\\n\\n\\nthe due diligence process implemented by the undertaking with regard to sustainability matters, and, where applicable, in line with Union requirements on undertakings to conduct a due diligence process;\\n\\n\\n\\n\\n\\n\\n\\n\\n\\n\\n(ii)\\n\\n\\nthe principal actual or potential adverse impacts connected with the undertaking’s own operations and with its value chain, including its products and services, its business relationships and its supply chain, actions taken to identify and monitor those impacts, and other adverse impacts which the undertaking is required to identify pursuant to other Union requirements on undertakings to conduct a due diligence process;', metadata={'source': 'direct.htm', 'title': 'L_2022322EN.01001501.xml'}),\n",
              " 'b1e82e84-2cca-427f-973d-69c3ff7ad2e1': Document(page_content='(iii)\\n\\n\\nany actions taken by the undertaking to prevent, mitigate, remediate or bring an end to actual or potential adverse impacts, and the result of such actions;\\n\\n\\n\\n\\n\\n\\n\\n\\n\\n\\n\\n\\n\\n\\n(g)\\n\\n\\na description of the principal risks to the undertaking related to sustainability matters, including a description of the undertaking’s principal dependencies on those matters, and how the undertaking manages those risks;\\n\\n\\n\\n\\n\\n\\n\\n\\n\\n\\n(h)\\n\\n\\nindicators relevant to the disclosures referred to in points (a) to (g).', metadata={'source': 'direct.htm', 'title': 'L_2022322EN.01001501.xml'}),\n",
              " '8512e9db-feb5-47d7-afaf-97c51f80a9b1': Document(page_content='Undertakings shall report the process carried out to identify the information that they have included in the management report in accordance with paragraph 1 of this Article. The information listed in the first subparagraph of this paragraph shall include information related to short-, medium- and long-term time horizons, as applicable.', metadata={'source': 'direct.htm', 'title': 'L_2022322EN.01001501.xml'}),\n",
              " 'a11e80fc-db46-455f-aa47-3b06a4490406': Document(page_content='3.\\xa0\\xa0\\xa0Where applicable, the information referred to in paragraphs 1 and\\xa02 shall contain information about the undertaking’s own operations and about its value chain, including its products and services, its business relationships and its supply chain.', metadata={'source': 'direct.htm', 'title': 'L_2022322EN.01001501.xml'}),\n",
              " '19cda058-16be-4327-b380-59ae5aa68396': Document(page_content='For the first three years of the application of the measures to be adopted by the Member States in accordance with Article\\xa05(2) of Directive (EU)\\xa02022/2464 of the European Parliament and of the Council\\xa0(*9), and in the event that not all the necessary information regarding its value chain is available, the undertaking shall explain the efforts made to obtain the necessary information about its value chain, the reasons why not all of the necessary information could be obtained, and its plans to obtain the necessary information in the future.', metadata={'source': 'direct.htm', 'title': 'L_2022322EN.01001501.xml'}),\n",
              " 'd2421cba-23a9-43b9-9d3c-4f3808208dc8': Document(page_content='Where applicable, the information referred to in paragraphs 1 and\\xa02 shall also contain references to, and additional explanations of, the other information included in the management report in accordance with Article\\xa019, and the amounts reported in the annual financial statements.', metadata={'source': 'direct.htm', 'title': 'L_2022322EN.01001501.xml'}),\n",
              " '98e7057a-1ad8-4b10-bea8-301c0882b7dc': Document(page_content='Member States may allow information relating to impending developments or matters in the course of negotiation to be omitted in exceptional cases where, in the duly justified opinion of the members of the administrative, management and supervisory bodies, acting within the competences assigned to them by national law and having collective responsibility for that opinion, the disclosure of such information would be seriously prejudicial to the commercial position of the undertaking, provided that such omission does not prevent a fair and balanced understanding of the undertaking’s development, performance and position, and the impact of its activity.', metadata={'source': 'direct.htm', 'title': 'L_2022322EN.01001501.xml'}),\n",
              " '7c2fcf20-a64e-4842-961d-9453cb117e13': Document(page_content='4.\\xa0\\xa0\\xa0Undertakings shall report the information referred to in paragraphs 1 to 3 of this Article in accordance with the sustainability reporting standards adopted pursuant to Article\\xa029b.\\n\\n\\n5.\\xa0\\xa0\\xa0The management of the undertaking shall inform the workers’ representatives at the appropriate level and discuss with them the relevant information and the means of obtaining and verifying sustainability information. The workers’ representatives’ opinion shall be communicated, where applicable, to the relevant administrative, management or supervisory bodies.', metadata={'source': 'direct.htm', 'title': 'L_2022322EN.01001501.xml'}),\n",
              " 'acc39356-a5af-408f-b016-591ce24a26c6': Document(page_content='6.\\xa0\\xa0\\xa0By way of derogation from paragraphs 2 to 4 of this Article, and without prejudice to paragraphs 9 and\\xa010 of this Article, small and medium-sized undertakings referred to in paragraph 1 of this Article, small and non-complex institutions defined in point (145) of Article\\xa04(1) of Regulation (EU) No\\xa0575/2013, captive insurance undertakings defined in point (2) of Article\\xa013 of Directive 2009/138/EC of the European Parliament and of the Council\\xa0(*10) and captive reinsurance undertakings defined in point (5) of Article\\xa013 of that Directive may limit their sustainability reporting to the following information:\\n\\n\\n\\n\\n\\n\\n(a)', metadata={'source': 'direct.htm', 'title': 'L_2022322EN.01001501.xml'}),\n",
              " '3e765f82-dae3-4e21-9f2c-67ec2f8c903d': Document(page_content='(a)\\n\\n\\na brief description of the undertaking’s business model and strategy;\\n\\n\\n\\n\\n\\n\\n\\n\\n\\n\\n(b)\\n\\n\\na description of the undertaking’s policies in relation to sustainability matters;\\n\\n\\n\\n\\n\\n\\n\\n\\n\\n\\n(c)\\n\\n\\nthe principal actual or potential adverse impacts of the undertaking on sustainability matters, and any actions taken to identify, monitor, prevent, mitigate or remediate such actual or potential adverse impacts;\\n\\n\\n\\n\\n\\n\\n\\n\\n\\n\\n(d)\\n\\n\\nthe principal risks to the undertaking related to sustainability matters and how the undertaking manages those risks;\\n\\n\\n\\n\\n\\n\\n\\n\\n\\n\\n(e)\\n\\n\\nkey indicators necessary for the disclosures referred to in points (a) to (d).', metadata={'source': 'direct.htm', 'title': 'L_2022322EN.01001501.xml'}),\n",
              " 'bf7846f9-7439-4806-885e-4f4d605961e8': Document(page_content='Small and medium-sized undertakings, small and non-complex institutions and captive insurance and reinsurance undertakings that rely on the derogation referred to in the first subparagraph shall report in accordance with the sustainability reporting standards for small and medium-sized undertakings referred to in Article\\xa029c.', metadata={'source': 'direct.htm', 'title': 'L_2022322EN.01001501.xml'}),\n",
              " 'ef811999-15cb-4703-b483-55b56b8c7a53': Document(page_content='7.\\xa0\\xa0\\xa0For financial years starting before 1\\xa0January 2028, by way of derogation from paragraph 1 of this Article, small and medium-sized undertakings which are public-interest entities as defined in point (a) of point (1) of Article\\xa02 may decide not to include in their management report the information referred to in paragraph 1 of this Article. In such cases, the undertaking shall, nevertheless, briefly state in its management report why the sustainability reporting was not provided.', metadata={'source': 'direct.htm', 'title': 'L_2022322EN.01001501.xml'}),\n",
              " '8d352e58-1a49-48b7-8d8f-a3d67d6bf32b': Document(page_content='8.\\xa0\\xa0\\xa0Undertakings that comply with the requirements set out in paragraphs 1 to 4 of this Article and undertakings that rely on the derogation laid down in paragraph 6 of this Article shall be deemed to have complied with the requirement set out in the third subparagraph of Article\\xa019(1).', metadata={'source': 'direct.htm', 'title': 'L_2022322EN.01001501.xml'}),\n",
              " '2c08a724-4a5b-426a-891b-89713926c84a': Document(page_content='9.\\xa0\\xa0\\xa0Provided that the conditions set out in the second subparagraph of this paragraph are met, an undertaking which is a subsidiary undertaking shall be exempted from the obligations set out in paragraphs 1 to 4 of this Article (“the exempted subsidiary undertaking”) if such undertaking and its subsidiary undertakings are included in the consolidated management report of a parent undertaking, drawn up in accordance with Articles 29 and\\xa029a. An undertaking which is a subsidiary undertaking of a parent undertaking that is established in a third country shall also be exempted from the obligations set out in paragraphs 1 to 4 of this Article where such undertaking and its subsidiary', metadata={'source': 'direct.htm', 'title': 'L_2022322EN.01001501.xml'}),\n",
              " '12b09bbf-61a6-4f1e-b400-bfde8fc353fd': Document(page_content='Article where such undertaking and its subsidiary undertakings are included in the consolidated sustainability reporting of that parent undertaking that is established in a third country and where that consolidated sustainability reporting is carried out in accordance with the sustainability reporting standards adopted pursuant to Article\\xa029b or in a manner equivalent to those sustainability reporting standards, as determined in accordance with an implementing act on the equivalence of sustainability reporting standards adopted pursuant to the third subparagraph of Article\\xa023(4) of Directive 2004/109/EC of the European Parliament and of the Council\\xa0(*11).', metadata={'source': 'direct.htm', 'title': 'L_2022322EN.01001501.xml'}),\n",
              " 'af1db3c1-521f-4cb5-b815-bcec4da480db': Document(page_content='The exemption in the first subparagraph shall be subject to the following conditions:', metadata={'source': 'direct.htm', 'title': 'L_2022322EN.01001501.xml'}),\n",
              " 'f690fc97-8a5a-421e-b717-2958ec700020': Document(page_content='(a)\\n\\n\\nthe management report of the exempted subsidiary undertaking contains all of the following information:\\n\\n\\n\\n\\n\\n\\n(i)\\n\\n\\nthe name and registered office of the parent undertaking that reports information at group level in accordance with this Article or in a manner equivalent to the sustainability reporting standards adopted pursuant to Article\\xa029b of this Directive, as determined in accordance with an implementing act on the equivalence of sustainability reporting standards adopted pursuant to the third subparagraph of Article\\xa023(4) of Directive 2004/109/EC;\\n\\n\\n\\n\\n\\n\\n\\n\\n\\n\\n(ii)', metadata={'source': 'direct.htm', 'title': 'L_2022322EN.01001501.xml'}),\n",
              " '5f6f84c9-83be-4cc3-a23d-6dc0e306322b': Document(page_content='(ii)\\n\\n\\nthe weblinks to the consolidated management report of the parent undertaking or, where applicable, to the consolidated sustainability reporting of the parent undertaking, as referred to in the first subparagraph of this paragraph, and to the assurance opinion referred to in point (aa) of the second subparagraph of Article\\xa034(1) of this Directive or to the assurance opinion referred to in point (b) of this subparagraph;\\n\\n\\n\\n\\n\\n\\n\\n\\n\\n\\n(iii)\\n\\n\\nthe information that the undertaking is exempted from the obligations set out in paragraphs 1 to 4 of this Article;\\n\\n\\n\\n\\n\\n\\n\\n\\n\\n\\n\\n\\n\\n\\n(b)', metadata={'source': 'direct.htm', 'title': 'L_2022322EN.01001501.xml'}),\n",
              " 'aefb669b-4c19-436f-9bf6-569275a32dc9': Document(page_content='(b)\\n\\n\\nif the parent undertaking is established in a third country, its consolidated sustainability reporting and the assurance opinion on the consolidated sustainability reporting, expressed by one or more person(s) or firm(s) authorised to give an opinion on the assurance of sustainability reporting under the law governing that parent undertaking, are published in accordance with Article\\xa030 of this Directive, and in accordance with the law of the Member State by which the exempted subsidiary undertaking is governed;\\n\\n\\n\\n\\n\\n\\n\\n\\n\\n\\n(c)', metadata={'source': 'direct.htm', 'title': 'L_2022322EN.01001501.xml'}),\n",
              " '90f17424-0c0b-4f85-acf2-46b45fa93b15': Document(page_content='(c)\\n\\n\\nif the parent undertaking is established in a third country, the disclosures laid down in Article\\xa08 of Regulation (EU) 2020/852 of the European Parliament and of the Council\\xa0(*12), covering the activities carried out by the exempted subsidiary undertaking established in the Union and its subsidiary undertakings, are included in the management report of the exempted subsidiary undertaking, or in the consolidated sustainability reporting carried out by the parent undertaking established in a third country.', metadata={'source': 'direct.htm', 'title': 'L_2022322EN.01001501.xml'}),\n",
              " 'b86fcb52-b7e9-4fa8-ac21-54d7aa3413d0': Document(page_content='The Member State by whose national law the exempted subsidiary undertaking is governed may require that the consolidated management report or, where applicable, the consolidated sustainability report, of the parent undertaking is published in a language that that Member State accepts, and that any necessary translation into such language is provided. Any translation that has not been certified shall include a statement to that effect.', metadata={'source': 'direct.htm', 'title': 'L_2022322EN.01001501.xml'}),\n",
              " '7c33c6d1-66d6-4990-9425-7a84a0b88ca9': Document(page_content='Undertakings which are exempted from preparing a management report in accordance with Article\\xa037 shall not be obliged to provide the information referred to in points (a)(i) to (iii) of the second subparagraph of this paragraph, provided that such undertakings publish the consolidated management report in accordance with Article\\xa037.', metadata={'source': 'direct.htm', 'title': 'L_2022322EN.01001501.xml'}),\n",
              " '043425d2-3d97-40d3-8ccc-4c053852896d': Document(page_content='For the purposes of the first subparagraph of this paragraph, and where Article\\xa010 of Regulation (EU) No\\xa0575/2013 applies, credit institutions referred to in point (b) of the first subparagraph of Article\\xa01(3) of this Directive that are permanently affiliated to a central body which supervises them under the conditions laid down in Article\\xa010 of Regulation (EU) No\\xa0575/2013 shall be treated as subsidiary undertakings of that central body.', metadata={'source': 'direct.htm', 'title': 'L_2022322EN.01001501.xml'}),\n",
              " 'd13c1213-fa31-409b-baad-506c0b7d1584': Document(page_content='For the purposes of the first subparagraph of this paragraph, insurance undertakings referred to in point (a) of the first subparagraph of Article\\xa01(3) of this Directive that are part of a group, on the basis of financial relationships as referred to in point (c)(ii) of Article\\xa0212(1) of Directive 2009/138/EC, and which are subject to group supervision in accordance with points (a) to (c) of Article\\xa0213(2) of that Directive shall be treated as subsidiary undertakings of the parent undertaking of that group.', metadata={'source': 'direct.htm', 'title': 'L_2022322EN.01001501.xml'}),\n",
              " '774d8785-0765-4222-9f12-8ae0e8be4997': Document(page_content='10.\\xa0\\xa0\\xa0The exemption laid down in paragraph 9 shall also apply to public-interest entities subject to the requirements of this Article, with the exception of large undertakings which are public-interest entities defined in point (a) of point (1) of Article\\xa02 of this Directive.\\n\\n\\n\\n(*8)\\xa0\\xa0Regulation (EU) 2021/1119 of the European Parliament and of the Council of 30\\xa0June 2021 establishing the framework for achieving climate neutrality and amending Regulations (EC) No\\xa0401/2009 and (EU) 2018/1999 (‘European Climate Law’) (OJ\\xa0L\\xa0243, 9.7.2021, p.\\xa01).\"', metadata={'source': 'direct.htm', 'title': 'L_2022322EN.01001501.xml'}),\n",
              " '9f099f64-ea5a-4eac-9e7f-b1be00d8ec3d': Document(page_content='(*9)\\xa0\\xa0Directive (EU) 2022/2464 of the European Parliament and of the Council of 14\\xa0December 2022 amending Regulation (EU) No\\xa0537/2014, Directive 2004/109/EC, Directive 2006/43/EC and Directive 2013/34/EU, as regards corporate sustainability reporting (OL\\xa0L\\xa0322, 16.12.2022, p.\\xa015).\"\\n                        \\n\\n(*10)\\xa0\\xa0Directive 2009/138/EC of the European Parliament and of the Council of 25\\xa0November 2009 on the taking-up and pursuit of the business of Insurance and Reinsurance (Solvency II) (OJ\\xa0L\\xa0335, 17.12.2009, p.\\xa01).\"', metadata={'source': 'direct.htm', 'title': 'L_2022322EN.01001501.xml'}),\n",
              " 'f5992266-039c-4910-aedc-0462352f29d1': Document(page_content='(*11)\\xa0\\xa0Directive 2004/109/EC of the European Parliament and of the Council of 15\\xa0December 2004 on the harmonisation of transparency requirements in relation to information about issuers whose securities are admitted to trading on a regulated market and amending Directive 2001/34/EC (OJ\\xa0L\\xa0390, 31.12.2004, p.\\xa038).\"\\n                        \\n\\n(*12)\\xa0\\xa0Regulation (EU) 2020/852 of the European Parliament and of the Council of 18\\xa0June 2020 on the establishment of a framework to facilitate sustainable investment, and amending Regulation (EU) 2019/2088 (OJ\\xa0L\\xa0198, 22.6.2020, p.\\xa013).’;\"\\n                        \\n\\n\\n\\n\\n\\n\\n\\n\\n\\n\\n(5)\\n\\n\\nArticle\\xa020(1) is amended as follows:\\n\\n\\n\\n\\n\\n\\n(a)', metadata={'source': 'direct.htm', 'title': 'L_2022322EN.01001501.xml'}),\n",
              " 'a3d331c6-d863-4e95-9c6c-995d486a4e37': Document(page_content='Article\\xa020(1) is amended as follows:\\n\\n\\n\\n\\n\\n\\n(a)\\n\\n\\npoint (g) is replaced by the following:\\n\\n\\n\\n\\n\\n\\n‘(g)\\n\\n\\na description of the diversity policy applied in relation to the undertaking’s administrative, management and supervisory bodies with regard to gender and other aspects such as, age, disabilities or educational and professional background, the objectives of that diversity policy, how it has been implemented and the results in the reporting period. If no such policy is applied, the statement shall contain an explanation as to why that is the case.’;\\n\\n\\n\\n\\n\\n\\n\\n\\n\\n\\n\\n\\n\\n\\n(b)\\n\\n\\nthe following subparagraph is added:', metadata={'source': 'direct.htm', 'title': 'L_2022322EN.01001501.xml'}),\n",
              " 'ea6b5184-c519-40e3-a438-db33ef7929c6': Document(page_content='(b)\\n\\n\\nthe following subparagraph is added:\\n\\n                                          ‘Undertakings subject to Article\\xa019a shall be deemed to have complied with the obligation laid down in point (g) of the first subparagraph of this paragraph where they include the information required under that point as part of their sustainability reporting and a reference thereto is included in the corporate governance statement.’;\\n\\n\\n\\n\\n\\n\\n\\n\\n\\n\\n\\n\\n\\n\\n(6)\\n\\n\\nArticle\\xa023 is amended as follows:\\n\\n\\n\\n\\n\\n\\n(a)\\n\\n\\nin paragraph 4, point (b) is replaced by the following:\\n\\n\\n\\n\\n\\n\\n‘(b)', metadata={'source': 'direct.htm', 'title': 'L_2022322EN.01001501.xml'}),\n",
              " '712e99ab-ecca-4943-9336-1e166aa4958f': Document(page_content='‘(b)\\n\\n\\nthe consolidated financial statements referred to in point (a) and the consolidated management report of the larger body of undertakings are drawn up by the parent undertaking of that body, in accordance with the law of the Member State by which that parent undertaking is governed, in accordance with this Directive, with the exception of the requirements laid down in Article\\xa029a, or in accordance with international accounting standards adopted in accordance with Regulation (EC) No\\xa01606/2002;’;\\n\\n\\n\\n\\n\\n\\n\\n\\n\\n\\n\\n\\n\\n\\n(b)\\n\\n\\nin paragraph 8, point (b)(i) is replaced by the following:\\n\\n\\n\\n\\n\\n\\n‘(i)', metadata={'source': 'direct.htm', 'title': 'L_2022322EN.01001501.xml'}),\n",
              " '22f0b060-0bdb-4b2f-acbd-b9d0516d98e0': Document(page_content='‘(i)\\n\\n\\nin accordance with this Directive, with the exception of the requirements laid down in Article\\xa029a,’;\\n\\n\\n\\n\\n\\n\\n\\n\\n\\n\\n\\n\\n\\n\\n(c)\\n\\n\\nin paragraph 8, point (b)(iii) is replaced by the following:\\n\\n\\n\\n\\n\\n\\n‘(iii)\\n\\n\\nin a manner equivalent to consolidated financial statements and consolidated management reports drawn up in accordance with this Directive, with the exception of the requirements laid down in Article\\xa029a, or’;\\n\\n\\n\\n\\n\\n\\n\\n\\n\\n\\n\\n\\n\\n\\n\\n\\n\\n\\n(7)\\n\\n\\nArticle\\xa029a is replaced by the following:\\n\\n‘Article\\xa029a\\nConsolidated sustainability reporting', metadata={'source': 'direct.htm', 'title': 'L_2022322EN.01001501.xml'}),\n",
              " '3fabc050-990b-4be1-b798-595922aab690': Document(page_content='1.\\xa0\\xa0\\xa0Parent undertakings of a large group as referred to in Article\\xa03(7) shall include in the consolidated management report information necessary to understand the group’s impacts on sustainability matters, and information necessary to understand how sustainability matters affect the group’s development, performance and position.\\nThe information referred to in the first subparagraph shall be clearly identifiable within the consolidated management report, through a dedicated section of the consolidated management report.\\n\\n\\n2.\\xa0\\xa0\\xa0The information referred to in paragraph 1 shall contain:\\n\\n\\n\\n\\n\\n\\n(a)\\n\\n\\na brief description of the group’s business model and strategy, including:\\n\\n\\n\\n\\n\\n\\n(i)', metadata={'source': 'direct.htm', 'title': 'L_2022322EN.01001501.xml'}),\n",
              " 'eeae2da9-0462-4a24-8750-1e3d64967f55': Document(page_content='(i)\\n\\n\\nthe resilience of the group’s business model and strategy in relation to risks related to sustainability matters;\\n\\n\\n\\n\\n\\n\\n\\n\\n\\n\\n(ii)\\n\\n\\nthe opportunities for the group related to sustainability matters;\\n\\n\\n\\n\\n\\n\\n\\n\\n\\n\\n(iii)', metadata={'source': 'direct.htm', 'title': 'L_2022322EN.01001501.xml'}),\n",
              " '5191b1d5-9c76-48fa-9048-33a948ff845f': Document(page_content='(iii)\\n\\n\\nthe plans of the group, including implementing actions and related financial and investment plans, to ensure that its business model and strategy are compatible with the transition to a sustainable economy and with the limiting of global warming to 1,5\\xa0°C in line with the Paris Agreement and the objective of achieving climate neutrality by 2050 as established in Regulation (EU) 2021/1119 and where relevant, the exposure of the group to coal-, oil- and gas-related activities;\\n\\n\\n\\n\\n\\n\\n\\n\\n\\n\\n(iv)\\n\\n\\nhow the group’s business model and strategy take account of the interests of the group’s stakeholders and of the impacts of the group on sustainability matters;\\n\\n\\n\\n\\n\\n\\n\\n\\n\\n\\n(v)', metadata={'source': 'direct.htm', 'title': 'L_2022322EN.01001501.xml'}),\n",
              " '8d8f6d43-05a0-4258-b21d-9eabe60832a0': Document(page_content='(v)\\n\\n\\nhow the group’s strategy has been implemented with regard to sustainability matters;\\n\\n\\n\\n\\n\\n\\n\\n\\n\\n\\n\\n\\n\\n\\n(b)\\n\\n\\na description of the time-bound targets related to sustainability matters set by the group, including, where appropriate, absolute greenhouse gas emission reduction targets at least for 2030 and\\xa02050, a description of the progress the group has made towards achieving those targets, and a statement of whether the group’s targets related to environmental factors are based on conclusive scientific evidence;\\n\\n\\n\\n\\n\\n\\n\\n\\n\\n\\n(c)', metadata={'source': 'direct.htm', 'title': 'L_2022322EN.01001501.xml'}),\n",
              " '8ba2d7e4-f695-4939-8a49-463f59913cc9': Document(page_content='(c)\\n\\n\\na description of the role of the administrative, management and supervisory bodies with regard to sustainability matters, and of their expertise and skills in relation to fulfilling that role or the access such bodies have to such expertise and skills;\\n\\n\\n\\n\\n\\n\\n\\n\\n\\n\\n(d)\\n\\n\\na description of the group’s policies in relation to sustainability matters;\\n\\n\\n\\n\\n\\n\\n\\n\\n\\n\\n(e)\\n\\n\\ninformation about the existence of incentive schemes linked to sustainability matters which are offered to members of the administrative, management and supervisory bodies;\\n\\n\\n\\n\\n\\n\\n\\n\\n\\n\\n(f)\\n\\n\\na description of:\\n\\n\\n\\n\\n\\n\\n(i)', metadata={'source': 'direct.htm', 'title': 'L_2022322EN.01001501.xml'}),\n",
              " 'b9d02e1c-c6b5-4c51-8c97-7968af0d7f47': Document(page_content='(f)\\n\\n\\na description of:\\n\\n\\n\\n\\n\\n\\n(i)\\n\\n\\nthe due diligence process implemented by the group with regard to sustainability matters, and, where applicable, in line with Union requirements on undertakings to conduct a due diligence process;\\n\\n\\n\\n\\n\\n\\n\\n\\n\\n\\n(ii)\\n\\n\\nthe principal actual or potential adverse impacts connected with the group’s own operations and with its value chain, including its products and services, its business relationships and its supply chain, actions taken to identify and monitor those impacts, and other adverse impacts which the parent undertaking is required to identify pursuant to other Union requirements to conduct a due diligence process;\\n\\n\\n\\n\\n\\n\\n\\n\\n\\n\\n(iii)', metadata={'source': 'direct.htm', 'title': 'L_2022322EN.01001501.xml'}),\n",
              " '2ec0dad9-2793-4dfe-be7b-e186c91638e1': Document(page_content='(iii)\\n\\n\\nany actions taken by the group to prevent, mitigate, remediate or bring an end to actual or potential adverse impacts, and the result of such actions;\\n\\n\\n\\n\\n\\n\\n\\n\\n\\n\\n\\n\\n\\n\\n(g)\\n\\n\\na description of the principal risks to the group related to sustainability matters, including the group’s principal dependencies on those matters, and how the group manages those risks;\\n\\n\\n\\n\\n\\n\\n\\n\\n\\n\\n(h)\\n\\n\\nindicators relevant to the disclosures referred to in points (a) to (g).', metadata={'source': 'direct.htm', 'title': 'L_2022322EN.01001501.xml'}),\n",
              " '9a2d4c3d-0577-45e2-85b0-121aa4991bd0': Document(page_content='Parent undertakings shall report the process carried out to identify the information that they have included in the consolidated management report in accordance with paragraph 1 of this Article. The information listed in the first subparagraph of this paragraph shall include information related to short-, medium- and long-term time horizons, as applicable.', metadata={'source': 'direct.htm', 'title': 'L_2022322EN.01001501.xml'}),\n",
              " '377a9230-98b8-4256-8382-089d52e5329c': Document(page_content='3.\\xa0\\xa0\\xa0Where applicable, the information referred to in paragraphs 1 and\\xa02 shall contain information about the group’s own operations and about its value chain, including its products and services, its business relationships and its supply chain.', metadata={'source': 'direct.htm', 'title': 'L_2022322EN.01001501.xml'}),\n",
              " 'ba223524-a623-4c6e-9bb6-45f7a2e92066': Document(page_content='For the first three years of the application of the measures to be adopted by the Member States in accordance with Article\\xa05(2) of Directive (EU)\\xa02022/2464, and in the event that not all the necessary information regarding its value chain is available, the parent undertaking shall explain the efforts made to obtain the necessary information about its value chain, the reasons why not all of the necessary information could be obtained, and its plans to obtain the necessary information in the future.', metadata={'source': 'direct.htm', 'title': 'L_2022322EN.01001501.xml'}),\n",
              " '5d4d90f6-ade7-4d99-85b5-b45910425ef1': Document(page_content='Where applicable, the information referred to in paragraphs 1 and\\xa02 shall also include references to, and additional explanations of, the other information included in the consolidated management report in accordance with Article\\xa029 of this Directive and the amounts reported in the consolidated financial statements.', metadata={'source': 'direct.htm', 'title': 'L_2022322EN.01001501.xml'}),\n",
              " '6c58894b-cd93-4541-b2ea-e87a4320cbf2': Document(page_content='Member States may allow information relating to impending developments or matters in the course of negotiation to be omitted in exceptional cases where, in the duly justified opinion of the members of the administrative, management and supervisory bodies, acting within the competences assigned to them by national law and having collective responsibility for that opinion, the disclosure of such information would be seriously prejudicial to the commercial position of the group, provided that such omission does not prevent a fair and balanced understanding of the group’s development, performance, and position, and the impact of its activity.', metadata={'source': 'direct.htm', 'title': 'L_2022322EN.01001501.xml'}),\n",
              " '7b2b0f65-f14d-4607-a95e-664309209c04': Document(page_content='4.\\xa0\\xa0\\xa0Where the reporting undertaking identifies significant differences between the risks for, or impacts of, the group and the risks for, or impacts of, one or more of its subsidiary undertakings, the undertaking shall provide an adequate understanding of, as appropriate, the risks for, and impacts of, the subsidiary undertaking or subsidiary undertakings concerned.\\nUndertakings shall indicate which subsidiary undertakings included in the consolidation are exempted from annual or consolidated sustainability reporting pursuant to Articles 19a(9) or 29a(8) respectively.', metadata={'source': 'direct.htm', 'title': 'L_2022322EN.01001501.xml'}),\n",
              " '7fd8fe95-728f-412b-917a-d8dfe1eb3d7b': Document(page_content='5.\\xa0\\xa0\\xa0Parent undertakings shall report the information referred to in paragraphs 1 to 3 of this Article in accordance with the sustainability reporting standards adopted pursuant to Article\\xa029b.\\n\\n\\n6.\\xa0\\xa0\\xa0The management of the parent undertaking shall inform the workers’ representatives at the appropriate level and discuss with them the relevant information and the means of obtaining and verifying sustainability information. The workers’ representatives’ opinion shall be communicated, where applicable, to the relevant administrative, management or supervisory bodies.', metadata={'source': 'direct.htm', 'title': 'L_2022322EN.01001501.xml'}),\n",
              " 'dd8d04bd-313b-49ca-b7fe-ca03e39e4030': Document(page_content='7.\\xa0\\xa0\\xa0A parent undertaking that complies with the requirements set out in paragraphs 1 to 5 of this Article shall be deemed to have complied with the requirements set out in the third subparagraph of Article\\xa019(1) and Article\\xa019a.', metadata={'source': 'direct.htm', 'title': 'L_2022322EN.01001501.xml'}),\n",
              " '8616b812-6e3d-4612-b90b-f7c5bf814d30': Document(page_content='8.\\xa0\\xa0\\xa0Provided that the conditions set out in the second subparagraph of this paragraph are met, a parent undertaking which is a subsidiary undertaking shall be exempted from the obligations set out in paragraphs 1 to 5 of this Article (the “exempted parent undertaking”) if such parent undertaking and its subsidiary undertakings are included in the consolidated management report of another undertaking, drawn up in accordance with Article\\xa029 and this Article. A parent undertaking which is a subsidiary undertaking of a parent undertaking that is established in a third country shall also be exempted from the obligations set out in paragraphs 1 to 5 of this Article where such parent undertaking', metadata={'source': 'direct.htm', 'title': 'L_2022322EN.01001501.xml'}),\n",
              " 'd3cfcff2-d094-436d-b6db-18b14a53a775': Document(page_content='5 of this Article where such parent undertaking and its subsidiary undertakings are included in the consolidated sustainability reporting of that parent undertaking that is established in a third country and where that consolidated sustainability reporting is carried out in accordance with the sustainability reporting standards adopted pursuant to Article\\xa029b or in a manner equivalent to those sustainability reporting standards, as determined in accordance with an implementing act on the equivalence of sustainability reporting standards adopted pursuant to the third subparagraph of Article\\xa023(4) of Directive 2004/109/EC.', metadata={'source': 'direct.htm', 'title': 'L_2022322EN.01001501.xml'}),\n",
              " '1101da16-050f-41ea-80f9-af72782689d5': Document(page_content='The exemption in the first subparagraph shall be subject to the following conditions:', metadata={'source': 'direct.htm', 'title': 'L_2022322EN.01001501.xml'}),\n",
              " 'da477dd6-8517-4a32-9386-834f56369eb4': Document(page_content='(a)\\n\\n\\nthe management report of the exempted parent undertaking contains all of the following information:\\n\\n\\n\\n\\n\\n\\n(i)\\n\\n\\nthe name and registered office of the parent undertaking that reports information at group level in accordance with this Article, or in a manner equivalent to the sustainability reporting standards adopted pursuant to Article\\xa029b of this Directive, as determined in accordance with an implementing act on the equivalence of sustainability reporting standards adopted pursuant to the third subparagraph of Article\\xa023(4) of Directive 2004/109/EC;\\n\\n\\n\\n\\n\\n\\n\\n\\n\\n\\n(ii)', metadata={'source': 'direct.htm', 'title': 'L_2022322EN.01001501.xml'}),\n",
              " '417df93b-f45c-4bc7-afe6-1035ef04026c': Document(page_content='(ii)\\n\\n\\nthe weblinks to the consolidated management report of the parent undertaking or, where applicable, to the consolidated sustainability reporting of the parent undertaking, as referred to in the first subparagraph of this paragraph, and to the assurance opinion referred to in point (aa) of the second subparagraph of Article\\xa034(1) of this Directive or to the assurance opinion referred to in point (b) of this subparagraph;\\n\\n\\n\\n\\n\\n\\n\\n\\n\\n\\n(iii)\\n\\n\\nthe information that the parent undertaking is exempted from the obligations set out in paragraphs 1 to 5 of this Article;\\n\\n\\n\\n\\n\\n\\n\\n\\n\\n\\n\\n\\n\\n\\n(b)', metadata={'source': 'direct.htm', 'title': 'L_2022322EN.01001501.xml'}),\n",
              " '20656fa6-5967-4bbe-ae16-ce6d6aa049c4': Document(page_content='(b)\\n\\n\\nif the parent undertaking is established in a third country, its consolidated sustainability reporting and the assurance opinion, expressed by one or more person(s) or firm(s) authorised to give an opinion on the assurance of sustainability reporting under the national law governing the parent undertaking, are published in accordance with Article\\xa030, and in accordance with the law of the Member State by which the exempted parent undertaking is governed;\\n\\n\\n\\n\\n\\n\\n\\n\\n\\n\\n(c)', metadata={'source': 'direct.htm', 'title': 'L_2022322EN.01001501.xml'}),\n",
              " '4b5e1a2e-ca18-4226-9cc4-24b0db1f25c5': Document(page_content='(c)\\n\\n\\nif the parent undertaking is established in a third country, the disclosures laid down in Article\\xa08 of Regulation (EU) 2020/852, covering the activities carried out by the subsidiary undertaking established in the Union and exempted from sustainability reporting on the basis of Article\\xa019a(9) of this Directive, shall be included in the management report of the exempted parent undertaking, or in the consolidated sustainability reporting carried out by the parent undertaking established in a third country.', metadata={'source': 'direct.htm', 'title': 'L_2022322EN.01001501.xml'}),\n",
              " 'f6b988f9-1f82-451e-b3cd-d29cce9fa70c': Document(page_content='The Member State by whose national law the exempted parent undertaking is governed may require that the consolidated management report or, where applicable, the consolidated sustainability report of the parent undertaking is published in a language that that Member State accepts, and that any necessary translation into such language is provided. Any translation that has not been certified shall include a statement to that effect.', metadata={'source': 'direct.htm', 'title': 'L_2022322EN.01001501.xml'}),\n",
              " '55a5cdbb-0167-45c3-b947-d74d4f8153fd': Document(page_content='Parent undertakings which are exempted from preparing a management report pursuant to Article\\xa037 shall not be obliged to provide the information referred to in points (a)(i) to (a)(iii) of the second subparagraph of this paragraph, provided that such undertakings publish the consolidated management report in accordance with Article\\xa037.', metadata={'source': 'direct.htm', 'title': 'L_2022322EN.01001501.xml'}),\n",
              " '6d08a8f1-d97d-43c6-934a-d2b9839f0ebe': Document(page_content='For the purposes of the first subparagraph of this paragraph, and where Article\\xa010 of Regulation (EU) No\\xa0575/2013 applies, credit institutions referred to in point (b) of the first subparagraph of Article\\xa01(3) of this Directive that are permanently affiliated to a central body which supervises them under the conditions laid down in Article\\xa010 of Regulation (EU) No\\xa0575/2013 shall be treated as subsidiary undertakings of that central body.', metadata={'source': 'direct.htm', 'title': 'L_2022322EN.01001501.xml'}),\n",
              " 'c5f32e47-7585-4636-a20f-ce98ccd20fde': Document(page_content='For the purposes of the first subparagraph of this paragraph, insurance undertakings referred to in point (a) of the first subparagraph of Article\\xa01(3) of this Directive that are part of a group, on the basis of financial relationships referred to in point (c)(ii) of Article\\xa0212(1) of Directive 2009/138/EC, and which are subject to group supervision in accordance with points (a) to (c) of Article\\xa0213(2) of that Directive shall be treated as subsidiary undertakings of the parent undertaking of that group.', metadata={'source': 'direct.htm', 'title': 'L_2022322EN.01001501.xml'}),\n",
              " '02bb48c8-cd08-4ecc-ad2a-eba658308828': Document(page_content='9.\\xa0\\xa0\\xa0The exemption laid down in paragraph 8 shall also apply to public-interest entities subject to the requirements of this Article, with the exception of large undertakings which are public-interest entities defined in point (a) of point (1) of Article\\xa02 of this Directive.’;\\n\\n\\n\\n\\n\\n\\n\\n\\n\\n\\n\\n\\n(8)\\n\\n\\nthe following chapter is inserted:\\n\\n\\n                                       ‘CHAPTER 6a\\n\\n\\nSUSTAINABILITY REPORTING STANDARDS\\n\\n\\n\\nArticle\\xa029b\\nSustainability reporting standards', metadata={'source': 'direct.htm', 'title': 'L_2022322EN.01001501.xml'}),\n",
              " '0d3e413c-5c38-4ce9-9c5b-2aa7ee0b9c55': Document(page_content='1.\\xa0\\xa0\\xa0The Commission shall adopt delegated acts in accordance with Article\\xa049 supplementing this Directive to provide for sustainability reporting standards. Those sustainability reporting standards shall specify the information that undertakings are to report in accordance with Articles 19a and\\xa029a and, where relevant, shall specify the structure to be used to present that information.', metadata={'source': 'direct.htm', 'title': 'L_2022322EN.01001501.xml'}),\n",
              " '988dfd0e-cd74-44f5-8c26-679bd1aa28d7': Document(page_content='In the delegated acts referred to in the first subparagraph of this paragraph the Commission shall, by 30\\xa0June 2023, specify the information that undertakings are to report in accordance with Article\\xa019a(1) and\\xa0(2), and Article\\xa029a(1) and\\xa0(2) where appropriate, which shall at least include the information that financial market participants subject to the disclosure obligations of Regulation (EU) 2019/2088 need in order to comply with those obligations.\\nIn the delegated acts referred to in the first subparagraph the Commission shall, by 30\\xa0June 2024, specify:', metadata={'source': 'direct.htm', 'title': 'L_2022322EN.01001501.xml'}),\n",
              " 'aa1a6dde-22e0-456c-97f5-94430f26fc77': Document(page_content='(i)\\n\\n\\ncomplementary information that undertakings are to report with regard to the sustainability matters and reporting areas listed in Article\\xa019a(2), where necessary;\\n\\n\\n\\n\\n\\n\\n\\n\\n\\n\\n(ii)\\n\\n\\ninformation that undertakings are to report that is specific to the sector in which they operate.', metadata={'source': 'direct.htm', 'title': 'L_2022322EN.01001501.xml'}),\n",
              " '558e4532-e28e-4940-9436-40b3441eac0f': Document(page_content='The reporting requirements laid down in the delegated acts referred to in the first subparagraph shall not enter into force earlier than four months after their adoption by the Commission.\\nWhen adopting delegated acts to specify the information required under point (ii) of the third subparagraph, the Commission shall pay particular attention to the scale of the risks and impacts related to sustainability matters for each sector, taking account of the fact that risks and impacts are higher for some sectors than for others.', metadata={'source': 'direct.htm', 'title': 'L_2022322EN.01001501.xml'}),\n",
              " '2b8419a7-bd6e-4800-b0aa-0ede5cc11367': Document(page_content='The Commission shall, at least every three years after their date of application, review the delegated acts adopted pursuant to this Article, taking into consideration the technical advice of the European Financial Reporting Advisory Group (EFRAG), and, where necessary, it shall amend such delegated acts to take into account relevant developments, including developments with regard to international standards.', metadata={'source': 'direct.htm', 'title': 'L_2022322EN.01001501.xml'}),\n",
              " '961de297-d239-4658-981b-b73533b3f2a9': Document(page_content='The Commission shall, at least once a year, consult the European Parliament, and consult jointly the Member State Expert Group on Sustainable Finance, referred to in Article\\xa024 of Regulation (EU) 2020/852, and the Accounting Regulatory Committee, referred to in Article\\xa06 of Regulation (EC) No\\xa01606/2002, on EFRAG’s work programme as regards the development of sustainability reporting standards.', metadata={'source': 'direct.htm', 'title': 'L_2022322EN.01001501.xml'}),\n",
              " 'd8afc2cc-d3aa-4408-9c29-e49818ed658e': Document(page_content='2.\\xa0\\xa0\\xa0The sustainability reporting standards shall ensure the quality of reported information, by requiring that it is understandable, relevant, verifiable, comparable and represented in a faithful manner. The sustainability reporting standards shall avoid imposing a disproportionate administrative burden on undertakings, including by taking account, to the greatest extent possible, of the work of global standard-setting initiatives for sustainability reporting as required by point (a) of paragraph 5.\\nThe sustainability reporting standards shall, taking into account the subject matter of a particular sustainability reporting standard:\\n\\n\\n\\n\\n\\n\\n(a)', metadata={'source': 'direct.htm', 'title': 'L_2022322EN.01001501.xml'}),\n",
              " 'c13656a8-8d1d-4c5a-9d96-863ec9a75254': Document(page_content='(a)\\n\\n\\nspecify the information that undertakings are to disclose about the following environmental factors:\\n\\n\\n\\n\\n\\n\\n(i)\\n\\n\\nclimate change mitigation, including as regards scope 1, scope 2 and, where relevant, scope 3 greenhouse gas emissions;\\n\\n\\n\\n\\n\\n\\n\\n\\n\\n\\n(ii)\\n\\n\\nclimate change adaptation;\\n\\n\\n\\n\\n\\n\\n\\n\\n\\n\\n(iii)\\n\\n\\nwater and marine resources;\\n\\n\\n\\n\\n\\n\\n\\n\\n\\n\\n(iv)\\n\\n\\nresource use and the circular economy;\\n\\n\\n\\n\\n\\n\\n\\n\\n\\n\\n(v)\\n\\n\\npollution;\\n\\n\\n\\n\\n\\n\\n\\n\\n\\n\\n(vi)\\n\\n\\nbiodiversity and ecosystems;\\n\\n\\n\\n\\n\\n\\n\\n\\n\\n\\n\\n\\n\\n\\n(b)\\n\\n\\nspecify the information that undertakings are to disclose about the following social and human rights factors:\\n\\n\\n\\n\\n\\n\\n(i)', metadata={'source': 'direct.htm', 'title': 'L_2022322EN.01001501.xml'}),\n",
              " 'b7329cf4-1c3e-4290-a592-cefa935104c6': Document(page_content='(i)\\n\\n\\nequal treatment and opportunities for all, including gender equality and equal pay for work of equal value, training and skills development, the employment and inclusion of people with disabilities, measures against violence and harassment in the workplace, and diversity;\\n\\n\\n\\n\\n\\n\\n\\n\\n\\n\\n(ii)\\n\\n\\nworking conditions, including secure employment, working time, adequate wages, social dialogue, freedom of association, existence of works councils, collective bargaining, including the proportion of workers covered by collective agreements, the information, consultation and participation rights of workers, work-life balance, and health and safety;\\n\\n\\n\\n\\n\\n\\n\\n\\n\\n\\n(iii)', metadata={'source': 'direct.htm', 'title': 'L_2022322EN.01001501.xml'}),\n",
              " 'eeecacef-5307-44e2-98f0-940189bc983a': Document(page_content='(iii)\\n\\n\\nrespect for the human rights, fundamental freedoms, democratic principles and standards established in the International Bill of Human Rights and other core UN human rights conventions, including the UN Convention on the Rights of Persons with Disabilities, the UN Declaration on the Rights of Indigenous Peoples, the International Labour Organization’s Declaration on Fundamental Principles and Rights at Work and the fundamental conventions of the International Labour Organization, the European Convention for the protection of Human Rights and Fundamental Freedoms, the European Social Charter, and the Charter of Fundamental Rights of the European Union;\\n\\n\\n\\n\\n\\n\\n\\n\\n\\n\\n\\n\\n\\n\\n(c)', metadata={'source': 'direct.htm', 'title': 'L_2022322EN.01001501.xml'}),\n",
              " '75120aa1-f4b4-487d-9ec5-2c12053ae5fe': Document(page_content='(c)\\n\\n\\nspecify the information that undertakings are to disclose about the following governance factors:\\n\\n\\n\\n\\n\\n\\n(i)\\n\\n\\nthe role of the undertaking’s administrative, management and supervisory bodies with regard to sustainability matters, and their composition, as well as their expertise and skills in relation to fulfilling that role or the access such bodies have to such expertise and skills;\\n\\n\\n\\n\\n\\n\\n\\n\\n\\n\\n(ii)\\n\\n\\nthe main features of the undertaking’s internal control and risk management systems, in relation to the sustainability reporting and decision-making process;\\n\\n\\n\\n\\n\\n\\n\\n\\n\\n\\n(iii)', metadata={'source': 'direct.htm', 'title': 'L_2022322EN.01001501.xml'}),\n",
              " '91fe2102-dc0c-47ba-8f47-4e7c2a66ff92': Document(page_content='(iii)\\n\\n\\nbusiness ethics and corporate culture, including anti-corruption and anti-bribery, the protection of whistleblowers and animal welfare;\\n\\n\\n\\n\\n\\n\\n\\n\\n\\n\\n(iv)\\n\\n\\nactivities and commitments of the undertaking related to exerting its political influence, including its lobbying activities;\\n\\n\\n\\n\\n\\n\\n\\n\\n\\n\\n(v)\\n\\n\\nthe management and quality of relationships with customers, suppliers and communities affected by the activities of the undertaking, including payment practices, especially with regard to late payment to small and medium-sized undertakings.', metadata={'source': 'direct.htm', 'title': 'L_2022322EN.01001501.xml'}),\n",
              " '0050bae6-c9bd-4755-adee-254f31c6641f': Document(page_content='3.\\xa0\\xa0\\xa0The sustainability reporting standards shall specify the forward-looking, retrospective, qualitative and quantitative information, as appropriate, to be reported by undertakings.', metadata={'source': 'direct.htm', 'title': 'L_2022322EN.01001501.xml'}),\n",
              " '8f7b3d5b-8838-4128-8d12-d3f84363def2': Document(page_content='4.\\xa0\\xa0\\xa0Sustainability reporting standards shall take account of the difficulties that undertakings may encounter in gathering information from actors throughout their value chain, especially from those which are not subject to the sustainability reporting requirements laid down in Article\\xa019a or 29a and from suppliers in emerging markets and economies. Sustainability reporting standards shall specify disclosures on value chains that are proportionate and relevant to the capacities and the characteristics of undertakings in value chains, and to the scale and complexity of their activities, especially those of undertakings that are not subject to the sustainability reporting requirements in', metadata={'source': 'direct.htm', 'title': 'L_2022322EN.01001501.xml'}),\n",
              " 'd221a78a-cf95-4014-a241-199ebeef79ba': Document(page_content='to the sustainability reporting requirements in Article\\xa019a or 29a. Sustainability reporting standards shall not specify disclosures that would require undertakings to obtain information from small and medium-sized undertakings in their value chain that exceeds the information to be disclosed pursuant to the sustainability reporting standards for small and medium-sized undertakings referred to in Article\\xa029c.', metadata={'source': 'direct.htm', 'title': 'L_2022322EN.01001501.xml'}),\n",
              " '6446a80e-5864-4e98-86ba-2c90c00bd2de': Document(page_content='The first subparagraph is without prejudice to Union requirements on undertakings to conduct a due diligence process.', metadata={'source': 'direct.htm', 'title': 'L_2022322EN.01001501.xml'}),\n",
              " '0347fa5c-cff1-4dff-91ab-efbb0660f2ac': Document(page_content='5.\\xa0\\xa0\\xa0When adopting delegated acts pursuant to paragraph 1, the Commission shall, to the greatest extent possible, take account of:\\n\\n\\n\\n\\n\\n\\n(a)\\n\\n\\nthe work of global standard-setting initiatives for sustainability reporting, and existing standards and frameworks for natural capital accounting and for greenhouse gas accounting, responsible business conduct, corporate social responsibility, and sustainable development;\\n\\n\\n\\n\\n\\n\\n\\n\\n\\n\\n(b)\\n\\n\\nthe information that financial market participants need in order to comply with their disclosure obligations laid down in Regulation (EU) 2019/2088 and the delegated acts adopted pursuant to that Regulation;\\n\\n\\n\\n\\n\\n\\n\\n\\n\\n\\n(c)', metadata={'source': 'direct.htm', 'title': 'L_2022322EN.01001501.xml'}),\n",
              " '56f2473c-3baf-4dcf-99bf-bd21fd39565b': Document(page_content='(c)\\n\\n\\nthe criteria, indicators and methodologies set out in the delegated acts adopted pursuant to Regulation (EU) 2020/852, including the technical screening criteria established pursuant to Article\\xa010(3), Article\\xa011(3), Article\\xa012(2), Article\\xa013(2), Article\\xa014(2) and Article\\xa015(2) of that Regulation and the reporting requirements set out in the delegated act adopted pursuant to Article\\xa08 of that Regulation;\\n\\n\\n\\n\\n\\n\\n\\n\\n\\n\\n(d)', metadata={'source': 'direct.htm', 'title': 'L_2022322EN.01001501.xml'}),\n",
              " '3f8c876e-45cb-4657-80b1-7a20ff475acd': Document(page_content='(d)\\n\\n\\nthe disclosure requirements applicable to benchmark administrators in the benchmark statement and in the benchmark methodology and the minimum standards for the construction of EU Climate Transition Benchmarks and EU Paris-aligned Benchmarks in accordance with Commission Delegated Regulations (EU) 2020/1816\\xa0(*13), (EU) 2020/1817\\xa0(*14) and (EU) 2020/1818\\xa0(*15);\\n\\n\\n\\n\\n\\n\\n\\n\\n\\n\\n(e)\\n\\n\\nthe disclosures specified in the implementing acts adopted pursuant to Article\\xa0434a of Regulation (EU) No\\xa0575/2013;\\n\\n\\n\\n\\n\\n\\n\\n\\n\\n\\n(f)\\n\\n\\nCommission Recommendation 2013/179/EU\\xa0(*16);\\n\\n\\n\\n\\n\\n\\n\\n\\n\\n\\n(g)\\n\\n\\nDirective 2003/87/EC of the European Parliament and of the Council\\xa0(*17);\\n\\n\\n\\n\\n\\n\\n\\n\\n\\n\\n(h)', metadata={'source': 'direct.htm', 'title': 'L_2022322EN.01001501.xml'}),\n",
              " 'bc08beb5-4b73-4370-a53d-54e34d88f47c': Document(page_content='(h)\\n\\n\\nRegulation (EU) 2021/1119;\\n\\n\\n\\n\\n\\n\\n\\n\\n\\n\\n(i)\\n\\n\\nRegulation (EC) No\\xa01221/2009 of the European Parliament and of the Council\\xa0(*18);\\n\\n\\n\\n\\n\\n\\n\\n\\n\\n\\n(j)\\n\\n\\nDirective (EU) 2019/1937 of the European Parliament and of the Council\\xa0(*19).\\n\\n\\n\\n\\n\\n\\n\\nArticle\\xa029c\\nSustainability reporting standards for small and medium-sized undertakings', metadata={'source': 'direct.htm', 'title': 'L_2022322EN.01001501.xml'}),\n",
              " '3b45a6b8-de29-4b42-ac0f-8b552a6a0195': Document(page_content='1.\\xa0\\xa0\\xa0The Commission shall, by 30\\xa0June 2024, adopt delegated acts in accordance with Article\\xa049 supplementing this Directive to provide for sustainability reporting standards proportionate and relevant to the capacities and the characteristics of small and medium-sized undertakings and to the scale and complexity of their activities. Those sustainability reporting standards shall specify for the small and medium-sized undertakings referred to in point (1)(a) of Article\\xa02 the information that is to be reported in accordance with Article\\xa019a(6).', metadata={'source': 'direct.htm', 'title': 'L_2022322EN.01001501.xml'}),\n",
              " 'caaf905b-f913-4bea-a929-6a0b182aae22': Document(page_content='The reporting requirements laid down in the delegated acts referred to in the first subparagraph shall not enter into force earlier than four months after their adoption by the Commission.', metadata={'source': 'direct.htm', 'title': 'L_2022322EN.01001501.xml'}),\n",
              " '69918e85-d061-4075-b053-0ef6990ae6b9': Document(page_content='2.\\xa0\\xa0\\xa0Sustainability reporting standards for small and medium-sized undertakings shall take into account the criteria set out in Article\\xa029b(2) to (5). They shall also, to the extent possible, specify the structure to be used to present that information.\\n\\n\\n3.\\xa0\\xa0\\xa0The Commission shall, at least every three years after their date of application, review the delegated acts adopted pursuant to this Article, taking into consideration the technical advice of the EFRAG and, where necessary, it shall amend such delegated acts to take into account relevant developments, including developments with regard to international standards.', metadata={'source': 'direct.htm', 'title': 'L_2022322EN.01001501.xml'}),\n",
              " '2a6c248a-aec0-4abb-85ff-c7591a752cce': Document(page_content='(*13)\\xa0\\xa0Commission Delegated Regulation (EU) 2020/1816 of 17\\xa0July 2020 supplementing Regulation (EU) 2016/1011 of the European Parliament and of the Council as regards the explanation in the benchmark statement of how environmental, social and governance factors are reflected in each benchmark provided and published (OJ\\xa0L\\xa0406, 3.12.2020, p.\\xa01).\"', metadata={'source': 'direct.htm', 'title': 'L_2022322EN.01001501.xml'}),\n",
              " '3ec10b8b-b3a1-49ed-a190-487c51217ef6': Document(page_content='(*14)\\xa0\\xa0Commission Delegated Regulation (EU) 2020/1817 of 17\\xa0July 2020 supplementing Regulation (EU) 2016/1011 of the European Parliament and of the Council as regards the minimum content of the explanation on how environmental, social and governance factors are reflected in the benchmark methodology (OJ\\xa0L\\xa0406,\\xa03.12.2020, p.\\xa012).\"\\n                        \\n\\n(*15)\\xa0\\xa0Commission Delegated Regulation (EU) 2020/1818 of 17\\xa0July 2020 supplementing Regulation (EU) 2016/1011 of the European Parliament and of the Council as regards minimum standards for EU Climate Transition Benchmarks and EU Paris-aligned Benchmarks (OJ\\xa0L\\xa0406, 3.12.2020, p.\\xa017).\"', metadata={'source': 'direct.htm', 'title': 'L_2022322EN.01001501.xml'}),\n",
              " 'cd258bbc-f71f-4553-8b7d-7ddc226fa968': Document(page_content='(*16)\\xa0\\xa0Commission Recommendation 2013/179/EU of 9\\xa0April 2013 on the use of common methods to measure and communicate the life cycle environmental performance of products and organisations (OJ\\xa0L\\xa0124, 4.5.2013, p.\\xa01).\"\\n                        \\n\\n(*17)\\xa0\\xa0Directive 2003/87/EC of the European Parliament and of the Council of 13\\xa0October 2003 establishing a scheme for greenhouse gas emission allowance trading within the Community and amending Council Directive 96/61/EC (OJ\\xa0L\\xa0275,\\xa025.10.2003,\\xa0p.\\xa032).\"', metadata={'source': 'direct.htm', 'title': 'L_2022322EN.01001501.xml'}),\n",
              " 'b43d9d14-fa8b-4684-a951-bb3317a6198c': Document(page_content='(*18)\\xa0\\xa0Regulation (EC) No\\xa01221/2009 of the European Parliament and of the Council of 25\\xa0November 2009 on the voluntary participation by organisations in a Community eco-management and audit scheme (EMAS), repealing Regulation (EC) No\\xa0761/2001 and Commission Decisions 2001/681/EC and\\xa02006/193/EC (OJ\\xa0L\\xa0342, 22.12.2009, p.\\xa01).\"\\n                        \\n\\n(*19)\\xa0\\xa0Directive (EU) 2019/1937 of the European Parliament and of the Council of 23\\xa0October 2019 on the protection of persons who report breaches of Union law (OJ\\xa0L\\xa0305, 26.11.2019, p.\\xa017).’;\"\\n                        \\n\\n\\n\\n\\n\\n\\n\\n\\n\\n\\n(9)\\n\\n\\nthe following chapter is inserted:\\n\\n\\n                                       ‘CHAPTER 6b', metadata={'source': 'direct.htm', 'title': 'L_2022322EN.01001501.xml'}),\n",
              " '29066bae-be03-4580-b7ae-4f5ff0b01439': Document(page_content='SINGLE ELECTRONIC REPORTING FORMAT\\n\\n\\n\\nArticle\\xa029d\\nSingle electronic reporting format\\n\\n1.\\xa0\\xa0\\xa0Undertakings subject to the requirements of Article\\xa019a of this Directive shall prepare their management report in the electronic reporting format specified in Article\\xa03 of Commission Delegated Regulation (EU) 2019/815\\xa0(*20) and shall mark up their sustainability reporting, including the disclosures provided for in Article\\xa08 of Regulation (EU) 2020/852, in accordance with the electronic reporting format specified in that Delegated Regulation.', metadata={'source': 'direct.htm', 'title': 'L_2022322EN.01001501.xml'}),\n",
              " 'a0b50be5-3fcd-4aac-b297-ed04318a0138': Document(page_content='2.\\xa0\\xa0\\xa0Parent undertakings subject to the requirements of Article\\xa029a shall prepare their consolidated management report in the electronic reporting format specified in Article\\xa03 of Delegated Regulation (EU) 2019/815 and shall mark up their sustainability reporting, including the disclosures provided for in Article\\xa08 of Regulation (EU) 2020/852, in accordance with the electronic reporting format specified in that Delegated Regulation.', metadata={'source': 'direct.htm', 'title': 'L_2022322EN.01001501.xml'}),\n",
              " '6e89ed62-0a2c-4646-9f88-b26222047855': Document(page_content='(*20)\\xa0\\xa0Commission Delegated Regulation (EU) 2019/815 of 17\\xa0December 2018 supplementing Directive 2004/109/EC of the European Parliament and of the Council with regard to regulatory technical standards on the specification of a single electronic reporting format (OJ\\xa0L\\xa0143, 29.5.2019, p.\\xa01).’;\"\\n                        \\n\\n\\n\\n\\n\\n\\n\\n\\n\\n\\n(10)\\n\\n\\nin Article\\xa030, paragraph 1 is replaced by the following:', metadata={'source': 'direct.htm', 'title': 'L_2022322EN.01001501.xml'}),\n",
              " '7b227181-f16a-4bec-b50d-13e99866a033': Document(page_content='‘1.\\xa0\\xa0\\xa0Member States shall ensure that undertakings publish within a reasonable period of time, which shall not exceed 12 months after the balance sheet date, the duly approved annual financial statements and the management report, in the electronic reporting format referred to in Article\\xa029d of this Directive where applicable, together with the opinion and statement submitted by the statutory auditor or audit firm referred to in Article\\xa034 of this Directive, as laid down by the laws of each Member State in accordance with Chapter III of Title 1 of Directive (EU) 2017/1132 of the European Parliament and of the Council\\xa0(*21).', metadata={'source': 'direct.htm', 'title': 'L_2022322EN.01001501.xml'}),\n",
              " '05292763-099b-40dd-a2aa-11f0df4d7575': Document(page_content='Member States may require undertakings subject to Articles 19a and\\xa029a to make the management report available to the public on their website, free of charge. Where an undertaking does not have a website, Member States may require it to make a written copy of its management report available upon request.\\nWhere an independent assurance services provider expresses the opinion referred to in point (aa) of the second subparagraph of Article\\xa034(1), that opinion shall be published together with the documents referred to in the first subparagraph of this paragraph.', metadata={'source': 'direct.htm', 'title': 'L_2022322EN.01001501.xml'}),\n",
              " '04865392-9391-48ad-9a74-9a5e74ce4230': Document(page_content='Member States may, however, exempt undertakings from the obligation to publish the management report where a copy of all or part of any such report can be easily obtained upon request at a price not exceeding its administrative cost.\\nThe exemption laid down in the fourth subparagraph of this paragraph shall not apply to undertakings subject to the requirements on sustainability reporting laid down in Articles 19a and\\xa029a.', metadata={'source': 'direct.htm', 'title': 'L_2022322EN.01001501.xml'}),\n",
              " '72f8d2c8-3848-4afc-8384-735c8477fbd1': Document(page_content='(*21)\\xa0\\xa0Directive (EU) 2017/1132 of the European Parliament and of the Council of 14\\xa0June 2017 relating to certain aspects of company law (OJ\\xa0L\\xa0169, 30.6.2017, p.\\xa046).’;\"\\n                        \\n\\n\\n\\n\\n\\n\\n\\n\\n\\n\\n(11)\\n\\n\\nin Article\\xa033, paragraph 1 is replaced by the following:', metadata={'source': 'direct.htm', 'title': 'L_2022322EN.01001501.xml'}),\n",
              " 'c93cc7dd-48d7-4702-9896-18344275d101': Document(page_content='‘1.\\xa0\\xa0\\xa0Member States shall ensure that the members of the administrative, management and supervisory bodies of an undertaking, acting within the competences assigned to them by national law, have collective responsibility for ensuring that the following documents are drawn up and published in accordance with the requirements of this Directive and, where applicable, with the international accounting standards adopted pursuant to Regulation (EC) No\\xa01606/2002, with Delegated Regulation (EU) 2019/815, with the sustainability reporting standards referred to in Article\\xa029b or Article\\xa029c of this Directive, and with the requirements of Article\\xa029d of this Directive:\\n\\n\\n\\n\\n\\n\\n(a)', metadata={'source': 'direct.htm', 'title': 'L_2022322EN.01001501.xml'}),\n",
              " 'e963b750-2bd5-452d-9659-fad1e1334cca': Document(page_content='(a)\\n\\n\\nthe annual financial statements, the management report and the corporate governance statement when provided separately; and\\n\\n\\n\\n\\n\\n\\n\\n\\n\\n\\n(b)\\n\\n\\nthe consolidated financial statements, the consolidated management reports and the consolidated corporate governance statement when provided separately.’;\\n\\n\\n\\n\\n\\n\\n\\n\\n\\n\\n\\n\\n\\n\\n\\n(12)\\n\\n\\nthe title of Chapter 8 is replaced by the following:\\n\\n                              ‘Auditing and assurance of sustainability reporting’;\\n\\n\\n\\n\\n\\n\\n\\n\\n\\n\\n(13)\\n\\n\\nArticle\\xa034 is amended as follows:\\n\\n\\n\\n\\n\\n\\n(a)\\n\\n\\nin paragraph 1, the second subparagraph is amended as follows:\\n\\n\\n\\n\\n\\n\\n(i)\\n\\n\\npoint (a)(ii) is replaced by the following:\\n\\n\\n\\n\\n\\n\\n‘(ii)', metadata={'source': 'direct.htm', 'title': 'L_2022322EN.01001501.xml'}),\n",
              " 'a158b8d6-b0c8-47db-828f-69a9f5f1aa10': Document(page_content='‘(ii)\\n\\n\\nwhether the management report has been prepared in accordance with the applicable legal requirements, excluding the requirements on sustainability reporting laid down in Article\\xa019a of this Directive;’;\\n\\n\\n\\n\\n\\n\\n\\n\\n\\n\\n\\n\\n\\n\\n(ii)\\n\\n\\nthe following point is inserted:\\n\\n\\n\\n\\n\\n\\n‘(aa)', metadata={'source': 'direct.htm', 'title': 'L_2022322EN.01001501.xml'}),\n",
              " '04154ff9-2ba6-4917-9268-01c965f63156': Document(page_content='‘(aa)\\n\\n\\nwhere applicable, express an opinion based on a limited assurance engagement as regards the compliance of the sustainability reporting with the requirements of this Directive, including the compliance of the sustainability reporting with the sustainability reporting standards adopted pursuant to Article\\xa029b or Article\\xa029c, the process carried out by the undertaking to identify the information reported pursuant to those sustainability reporting standards, and the compliance with the requirement to mark up sustainability reporting in accordance with Article\\xa029d, and as regards the compliance with the reporting requirements provided for in Article\\xa08 of Regulation (EU) 2020/852;’;', metadata={'source': 'direct.htm', 'title': 'L_2022322EN.01001501.xml'}),\n",
              " '3682c633-1b31-463f-abcc-31a3561465ab': Document(page_content='(b)\\n\\n\\nparagraph 3 is replaced by the following:\\n\\n‘3.\\xa0\\xa0\\xa0Member States may allow a statutory auditor or an audit firm other than the one(s) carrying out the statutory audit of financial statements to express the opinion referred to in point (aa) of the second subparagraph of paragraph 1.’;\\n\\n\\n\\n\\n\\n\\n\\n\\n\\n\\n\\n(c)\\n\\n\\nthe following paragraphs are added:', metadata={'source': 'direct.htm', 'title': 'L_2022322EN.01001501.xml'}),\n",
              " 'eb610005-4cce-4af6-9f6e-f03af2de78ec': Document(page_content='(c)\\n\\n\\nthe following paragraphs are added:\\n\\n‘4.\\xa0\\xa0\\xa0Member States may allow an independent assurance services provider established in their territory to express the opinion referred to in point (aa) of the second subparagraph of paragraph 1, provided that such independent assurance services provider is subject to requirements that are equivalent to those set out in Directive 2006/43/EC of the European Parliament and of the Council\\xa0(*22) as regards the assurance of sustainability reporting as defined in point 22 of Article\\xa02 of that Directive, in particular the requirements on:\\n\\n\\n\\n\\n\\n\\n(a)', metadata={'source': 'direct.htm', 'title': 'L_2022322EN.01001501.xml'}),\n",
              " '83b43a4a-afc5-47a1-becd-845d92b3be22': Document(page_content='(a)\\n\\n\\ntraining and examination, ensuring that independent assurance services providers acquire the necessary expertise concerning sustainability reporting and the assurance of sustainability reporting;\\n\\n\\n\\n\\n\\n\\n\\n\\n\\n\\n(b)\\n\\n\\ncontinuing education;\\n\\n\\n\\n\\n\\n\\n\\n\\n\\n\\n(c)\\n\\n\\nquality assurance systems;\\n\\n\\n\\n\\n\\n\\n\\n\\n\\n\\n(d)\\n\\n\\nprofessional ethics, independence, objectivity, confidentiality and professional secrecy;\\n\\n\\n\\n\\n\\n\\n\\n\\n\\n\\n(e)\\n\\n\\nappointment and dismissal;\\n\\n\\n\\n\\n\\n\\n\\n\\n\\n\\n(f)\\n\\n\\ninvestigations and sanctions;\\n\\n\\n\\n\\n\\n\\n\\n\\n\\n\\n(g)\\n\\n\\nthe organisation of the work of the independent assurance services provider, in particular in terms of sufficient resources and personnel and the maintenance of client account records and files; and', metadata={'source': 'direct.htm', 'title': 'L_2022322EN.01001501.xml'}),\n",
              " '56d9b29d-47c1-4caa-be72-be0804e8384a': Document(page_content='(h)\\n\\n\\nreporting irregularities.', metadata={'source': 'direct.htm', 'title': 'L_2022322EN.01001501.xml'}),\n",
              " '8e6924ec-115b-414a-9d2a-c69a103416e1': Document(page_content='Member States shall ensure that, where an independent assurance services provider expresses the opinion referred to in point (aa) of the second subparagraph of paragraph 1 of this Article, that opinion is prepared in accordance with Articles 26a, 27a and\\xa028a of Directive 2006/43/EC and that, where applicable, the audit committee, or a dedicated committee, reviews and monitors the independence of the independent assurance services provider in accordance with point (e) of Article\\xa039(6) of Directive 2006/43/EC.', metadata={'source': 'direct.htm', 'title': 'L_2022322EN.01001501.xml'}),\n",
              " 'c71710e5-8902-482a-bf46-3354ece5e35d': Document(page_content='Member States shall ensure that independent assurance services providers accredited before 1\\xa0January 2024 for the assurance of sustainability reporting, in accordance with Regulation (EC) No\\xa0765/2008, are not subject to the training and examination requirements referred to in point (a) of the first subparagraph of this paragraph.', metadata={'source': 'direct.htm', 'title': 'L_2022322EN.01001501.xml'}),\n",
              " '90578704-8a72-45bd-a581-9418458e6e68': Document(page_content='Member States shall ensure that independent assurance services providers that on 1\\xa0January 2024 are undergoing the accreditation process in accordance with the relevant national requirements are not subject to the training and examination requirements referred to in point (a) of the first subparagraph as regards the assurance of sustainability reporting, provided they complete that process by 1\\xa0January 2026.', metadata={'source': 'direct.htm', 'title': 'L_2022322EN.01001501.xml'}),\n",
              " '44a7286b-741a-4813-972f-92fb6b087570': Document(page_content='Member States shall ensure that the independent assurance services providers referred to in the third and fourth subparagraphs acquire the necessary knowledge in sustainability reporting and the assurance of sustainability reporting via the continuing education requirement referred to in point (b) of the first subparagraph.\\nIf a Member State, pursuant to the first subparagraph, decides to allow an independent assurance services provider to express the opinion referred to in point (aa) of the second subparagraph of paragraph 1, it shall also allow a statutory auditor other than the one(s) carrying out the statutory audit of financial statements to do so, as provided for in paragraph 3.', metadata={'source': 'direct.htm', 'title': 'L_2022322EN.01001501.xml'}),\n",
              " '965189a0-2ee1-42b0-ae41-63061737bdf6': Document(page_content='5.\\xa0\\xa0\\xa0From 6\\xa0January 2027, a Member State that has made use of the option provided for in paragraph 4 (the “host Member State”) shall allow independent assurance services provider established in a Member State other than the host Member State (the “home Member State”) to carry out the assurance of sustainability reporting.\\nThe home Member State shall be responsible for the supervision of the independent assurance services providers established in its territory, unless the host Member State decides to supervise the assurance of sustainability reporting carried out by independent assurance services providers in its territory.', metadata={'source': 'direct.htm', 'title': 'L_2022322EN.01001501.xml'}),\n",
              " 'e860a43d-ae58-468c-bbea-6922310d21d9': Document(page_content='If the host Member State decides to supervise the assurance of sustainability reporting carried out in its territory by independent assurance services providers registered in another Member State, the host Member State shall:', metadata={'source': 'direct.htm', 'title': 'L_2022322EN.01001501.xml'}),\n",
              " 'ec3f5919-8c65-48f2-973a-cdc27d9c5aad': Document(page_content='(a)\\n\\n\\nnot impose more stringent requirements or liability on such independent assurance services providers than those required for assurance of sustainability reporting by the national laws for the independent assurance services providers or auditors established in that host Member State; and\\n\\n\\n\\n\\n\\n\\n\\n\\n\\n\\n(b)\\n\\n\\ninform other Member States about its decision to supervise the assurance of sustainability reporting carried out by independent assurance services providers established in other Member States.', metadata={'source': 'direct.htm', 'title': 'L_2022322EN.01001501.xml'}),\n",
              " 'f06b442c-72b8-496b-a79d-65d976096401': Document(page_content='6.\\xa0\\xa0\\xa0Member States shall ensure that where an undertaking is required by Union law to have elements of its sustainability reporting verified by an accredited independent third party, the report of the accredited independent third party is made available either as an annex to the management report or by other publicly accessible means.\\n\\n\\n(*22)\\xa0\\xa0Directive 2006/43/EC of the European Parliament and of the Council of 17\\xa0May 2006 on statutory audits of annual accounts and consolidated accounts, amending Council Directives 78/660/EEC and\\xa083/349/EEC and repealing Council Directive 84/253/EEC (OJ\\xa0L\\xa0157, 9.6.2006, p.\\xa087).’;\"\\n                        \\n\\n\\n\\n\\n\\n\\n\\n\\n\\n\\n\\n\\n\\n\\n(14)', metadata={'source': 'direct.htm', 'title': 'L_2022322EN.01001501.xml'}),\n",
              " '05f3147b-ec06-45e4-98d9-d76999e2a031': Document(page_content='(14)\\n\\n\\nthe following chapter is inserted:\\n\\n\\n                                       ‘CHAPTER 9a\\n\\n\\nREPORTING CONCERNING THIRD-COUNTRY UNDERTAKINGS\\n\\n\\n\\nArticle\\xa040a\\nSustainability reports concerning third-country undertakings', metadata={'source': 'direct.htm', 'title': 'L_2022322EN.01001501.xml'}),\n",
              " '5aaae0b4-f40e-4e9b-86e6-eb7531175e78': Document(page_content='1.\\xa0\\xa0\\xa0A Member State shall require that a subsidiary undertaking established in its territory whose ultimate parent undertaking is governed by the law of a third country publish and make accessible a sustainability report covering the information specified in points (a)(iii) to (a)(v), points (b) to (f) and, where appropriate, point (h) of Article\\xa029a(2) at the group level of that ultimate third-country parent undertaking.\\nThe first subparagraph shall only apply to large subsidiary undertakings and to small and medium-sized subsidiary undertakings, except micro undertakings, which are public-interest entities as defined in point (a) of point (1) of Article\\xa02.', metadata={'source': 'direct.htm', 'title': 'L_2022322EN.01001501.xml'}),\n",
              " '166b1b3f-bb63-4d8b-a0f3-0d5888aa0ac1': Document(page_content='A Member State shall require that a branch located in its territory, and which is a branch of an undertaking governed by the law of a third country, which is either not part of a group or is ultimately held by an undertaking that is formed in accordance with the law of a third country publish and make accessible a sustainability report covering the information specified in points (a)(iii) to (a)(v), points (b) to (f) and, where appropriate, point (h) of Article\\xa029a(2), at the group level, or, if not applicable, the individual level, of the third-country undertaking.', metadata={'source': 'direct.htm', 'title': 'L_2022322EN.01001501.xml'}),\n",
              " '67e2f84d-d97b-4d6d-bd12-110e00b2a93a': Document(page_content='The rule referred to in the third subparagraph shall only apply to a branch where the third-country undertaking does not have a subsidiary undertaking as referred to in the first subparagraph, and where the branch generated a net turnover of more than EUR\\xa040 million in the preceding financial year.\\nThe first and third subparagraphs shall only apply to the subsidiary undertakings or branches referred to in those subparagraphs where the third-country undertaking, at its group level, or, if not applicable, the individual level, generated a net turnover of more than EUR\\xa0150\\xa0million in the Union for each of the last two consecutive financial years.', metadata={'source': 'direct.htm', 'title': 'L_2022322EN.01001501.xml'}),\n",
              " 'd32b686c-6620-47de-92f9-d7768593021e': Document(page_content='Member States may require subsidiary undertakings or branches referred to in the first and third subparagraphs to send them information about the net turnover generated in their territory and in the Union by the third-country undertakings.', metadata={'source': 'direct.htm', 'title': 'L_2022322EN.01001501.xml'}),\n",
              " '9136b2ca-4da7-4bc1-8af0-1cbf66a14f61': Document(page_content='2.\\xa0\\xa0\\xa0Member States shall require that the sustainability report communicated by the subsidiary undertaking or branch as referred to in paragraph 1 is drawn up in accordance with the standards adopted pursuant to Article\\xa040b.', metadata={'source': 'direct.htm', 'title': 'L_2022322EN.01001501.xml'}),\n",
              " '287acc0d-d679-4748-8ec4-49736a562708': Document(page_content='By way of derogation from the first subparagraph of this paragraph, the sustainability report referred to in paragraph 1 of this Article may be drawn up in accordance with the sustainability reporting standards adopted pursuant to Article\\xa029b or in a manner equivalent to those sustainability reporting standards, as determined in accordance with an implementing act on the equivalence of sustainability reporting standards adopted pursuant to the third subparagraph of Article\\xa023(4) of Directive 2004/109/EC.', metadata={'source': 'direct.htm', 'title': 'L_2022322EN.01001501.xml'}),\n",
              " 'bb4367dd-595e-4842-9183-42b8ca9668b8': Document(page_content='Where the information required to draw up the sustainability report referred to in the first subparagraph of this paragraph is not available, the subsidiary undertaking or branch referred to in paragraph 1 shall request the third-country undertaking to provide them with all information necessary to enable them to meet their obligations.', metadata={'source': 'direct.htm', 'title': 'L_2022322EN.01001501.xml'}),\n",
              " 'a8c0de58-72e6-4672-954b-49d8a46d9f03': Document(page_content='In the event that not all the required information is provided, the subsidiary undertaking or branch referred to in paragraph 1 shall draw up, publish and make accessible the sustainability report referred to in paragraph 1, containing all information in its possession, obtained or acquired, and issue a statement indicating that the third-country undertaking did not make the necessary information available.', metadata={'source': 'direct.htm', 'title': 'L_2022322EN.01001501.xml'}),\n",
              " '2334eafa-5a3b-45fc-8cd2-cb2919e1a145': Document(page_content='3.\\xa0\\xa0\\xa0Member States shall require that the sustainability report referred to in paragraph\\xa01 is published accompanied by an assurance opinion expressed by one or more person(s) or firm(s) authorised to give an opinion on the assurance of sustainability reporting under the national law of the third-country undertaking or of a Member State.\\nIn the event that the third-country undertaking does not provide the assurance opinion in accordance with the first subparagraph, the subsidiary undertaking or branch shall issue a statement indicating that the third-country undertaking did not make the necessary assurance opinion available.', metadata={'source': 'direct.htm', 'title': 'L_2022322EN.01001501.xml'}),\n",
              " 'ee8f4f1d-a80c-4482-a479-f7b9ce66919b': Document(page_content='4.\\xa0\\xa0\\xa0Member States may inform the Commission on an annual basis of the subsidiary undertakings or branches of third-country undertakings that fulfilled the publication requirement laid down in Article\\xa040d and of the cases where a report was published but where the subsidiary undertaking or branch has acted in accordance with the fourth subparagraph of paragraph 2 of this Article. The Commission shall make publicly available on its website a list of the third-country undertakings that publish a sustainability report.', metadata={'source': 'direct.htm', 'title': 'L_2022322EN.01001501.xml'}),\n",
              " '1a782b72-9137-4e5a-b1f5-765ea05673b9': Document(page_content='Article\\xa040b\\nSustainability reporting standards for third-country undertakings\\nThe Commission shall adopt by 30\\xa0June 2024 a delegated act in accordance with Article\\xa049 supplementing this Directive to provide for sustainability reporting standards for third-country undertakings that specify the information that is to be included in the sustainability reports referred to in Article\\xa040a.', metadata={'source': 'direct.htm', 'title': 'L_2022322EN.01001501.xml'}),\n",
              " 'cf934961-3370-4b63-8e93-905e44c16af0': Document(page_content='Article\\xa040c\\nResponsibility for drawing up, publishing and making accessible sustainability reports concerning third-country undertakings\\nMember States shall provide that the branches of third-country undertakings are responsible for ensuring, to the best of their knowledge and ability, that their sustainability report is drawn up in accordance with Article\\xa040a, and that that report is published and made accessible in accordance with Article\\xa040d.', metadata={'source': 'direct.htm', 'title': 'L_2022322EN.01001501.xml'}),\n",
              " '72dd9918-9af0-4ae2-8694-18993c6c67df': Document(page_content='Member States shall provide that the members of the administrative, management and supervisory bodies of the subsidiary undertakings referred to in Article\\xa040a have collective responsibility for ensuring, to the best of their knowledge and ability, that their sustainability report is drawn up in accordance with Article\\xa040a, and that that report is published and made accessible in accordance with Article\\xa040d.', metadata={'source': 'direct.htm', 'title': 'L_2022322EN.01001501.xml'}),\n",
              " '7d43375f-fe5a-4b92-a009-0eb4f95634ee': Document(page_content='Article\\xa040d\\nPublication\\n\\n1.\\xa0\\xa0\\xa0The subsidiary undertakings and branches referred to in Article\\xa040a(1) of this Directive shall publish their sustainability report, together with the assurance opinion and, where applicable, the statement mentioned in the fourth subparagraph of Article\\xa040a(2) of this Directive, within 12 months of the balance sheet date of the financial year for which the report is drawn up, as provided for by each Member State, in accordance with Articles 14 to 28 of Directive (EU) 2017/1132 and, where relevant, in accordance with Article\\xa036 of that Directive.', metadata={'source': 'direct.htm', 'title': 'L_2022322EN.01001501.xml'}),\n",
              " '31245328-d6d8-4cb1-be2c-61520a217484': Document(page_content='2.\\xa0\\xa0\\xa0Where the sustainability report together with the assurance opinion and, where applicable, with the statement published in accordance with paragraph 1 of this Article, are not made accessible, free of charge, to the public on the website of the register referred to in Article\\xa016 of Directive (EU) 2017/1132, Member States shall ensure that the sustainability report together with the assurance opinion and, where applicable, with the statement published by the undertakings in accordance with paragraph 1 of this Article, are made accessible to the public in at least one of the official languages of the Union, free of charge, no later than 12 months after the balance sheet date of the', metadata={'source': 'direct.htm', 'title': 'L_2022322EN.01001501.xml'}),\n",
              " '756c0b84-e8cf-443d-be3c-9a60ca2c5c8f': Document(page_content='12 months after the balance sheet date of the financial year for which the report is drawn up, on the website of the subsidiary undertaking or the branch as referred to in Article\\xa040a(1) of this Directive.’;', metadata={'source': 'direct.htm', 'title': 'L_2022322EN.01001501.xml'}),\n",
              " 'bb1ecd31-0287-48a9-a011-bf3d71be3ea5': Document(page_content='(15)\\n\\n\\nthe title of Chapter 11 is replaced by the following:\\n\\n\\n                                       ‘CHAPTER 11\\n\\n\\nTRANSITIONAL AND FINAL PROVISIONS\\n                                       ’;\\n\\n\\n\\n\\n\\n\\n\\n\\n\\n\\n\\n\\n(16)\\n\\n\\nThe following article is inserted:\\n\\n‘Article\\xa048i\\nTransitional provisions', metadata={'source': 'direct.htm', 'title': 'L_2022322EN.01001501.xml'}),\n",
              " '1dbb6557-32a5-4be6-bf9e-aa2b5d09395f': Document(page_content='1.\\xa0\\xa0\\xa0Until 6\\xa0January 2030, Member States shall permit a Union subsidiary undertaking which is subject to Article\\xa019a or 29a and whose parent undertaking is not governed by the law of a Member State to prepare consolidated sustainability reporting, in accordance with the requirements of Article\\xa029a, that includes all Union subsidiary undertakings of such parent undertaking that are subject to Article\\xa019a or 29a.', metadata={'source': 'direct.htm', 'title': 'L_2022322EN.01001501.xml'}),\n",
              " '5a02c5ac-5b63-4341-94f7-90e67ec60dcb': Document(page_content='Until 6\\xa0January 2030, Member States shall permit the consolidated sustainability reporting referred to in the first subparagraph of this paragraph to include the disclosures laid down in Article\\xa08 of Regulation\\xa0(EU)\\xa02020/852, covering the activities carried out by all Union subsidiary undertakings of the parent undertaking referred to in the first subparagraph of this paragraph that are subject to Article\\xa019a or 29a of this Directive.', metadata={'source': 'direct.htm', 'title': 'L_2022322EN.01001501.xml'}),\n",
              " '46117b9b-2805-4e30-88e1-325dc3fd7641': Document(page_content='2.\\xa0\\xa0\\xa0The Union subsidiary undertaking referred to in paragraph\\xa01 shall be one of the Union subsidiary undertakings of the group that generated the greatest turnover in the Union in at least one of the preceding five financial years, on a consolidated basis where applicable.\\n\\n\\n3.\\xa0\\xa0\\xa0The consolidated sustainability reporting referred to in paragraph 1 of this Article shall be published in accordance with Article\\xa030.', metadata={'source': 'direct.htm', 'title': 'L_2022322EN.01001501.xml'}),\n",
              " 'df814431-7a22-4feb-a499-6e9d1f3b3d64': Document(page_content='4.\\xa0\\xa0\\xa0For the purpose of the exemption laid down in Article\\xa019a(9) and Article\\xa029a(8), reporting in accordance with paragraph 1 of this Article shall be considered to be reporting by a parent undertaking at group level with respect to the undertakings included in the consolidation. Reporting in accordance with the second subparagraph of paragraph 1 of this Article shall be considered to fulfil the conditions referred to in point (c) of the second subparagraph of Article\\xa019a(9) and point (c) of the second subparagraph of Article\\xa029a(8), respectively.’;\\n\\n\\n\\n\\n\\n\\n\\n\\n\\n\\n\\n\\n(17)\\n\\n\\nArticle\\xa049 is amended as follows:\\n\\n\\n\\n\\n\\n\\n(a)\\n\\n\\nparagraphs 2 and\\xa03 are replaced by the following:', metadata={'source': 'direct.htm', 'title': 'L_2022322EN.01001501.xml'}),\n",
              " '8ec5823a-c9c2-4fea-a678-0a9d2d7f0bf3': Document(page_content='‘2.\\xa0\\xa0\\xa0The power to adopt delegated acts referred to in Article\\xa01(2), Article\\xa03(13), Articles 29b, 29c and\\xa040b, and Article\\xa046(2) shall be conferred on the Commission for a period of 5 years from 5\\xa0January 2023. The Commission shall draw up a report in respect of the delegation of power not later than nine months before the end of the 5-year period. The delegation of power shall be tacitly extended for periods of an identical duration, unless the European Parliament or the Council opposes such extension not later than three months before the end of each period.', metadata={'source': 'direct.htm', 'title': 'L_2022322EN.01001501.xml'}),\n",
              " '9691a00c-1438-4fb3-9f7b-67c6d585309a': Document(page_content='3.\\xa0\\xa0\\xa0The delegation of power referred to in Article\\xa01(2), Article\\xa03(13), Articles 29b, 29c and\\xa040b, and Article\\xa046(2) may be revoked at any time by the European Parliament or by the Council. A decision to revoke shall put an end to the delegation of the power specified in that decision. It shall take effect the day following the publication of that decision in the Official Journal of the European Union or at a later date specified therein. It shall not affect the validity of any delegated acts already in force.’;\\n\\n\\n\\n\\n\\n\\n\\n\\n\\n\\n\\n(b)\\n\\n\\nthe following paragraph is inserted:', metadata={'source': 'direct.htm', 'title': 'L_2022322EN.01001501.xml'}),\n",
              " 'd1f1fb71-f1c8-4f97-8092-1bee877b910b': Document(page_content='(b)\\n\\n\\nthe following paragraph is inserted:\\n\\n‘3b.\\xa0\\xa0\\xa0When adopting delegated acts pursuant to Articles 29b and\\xa029c, the Commission shall take into consideration technical advice from EFRAG, provided that:\\n\\n\\n\\n\\n\\n\\n(a)\\n\\n\\nsuch advice has been developed with proper due process, public oversight and transparency, with the expertise and balanced participation of relevant stakeholders, and with sufficient public funding to ensure its independence, and on the basis of a work programme on which the Commission has been consulted;\\n\\n\\n\\n\\n\\n\\n\\n\\n\\n\\n(b)\\n\\n\\nsuch advice is accompanied by cost-benefit analyses that include analyses of the impacts of the technical advice on sustainability matters;\\n\\n\\n\\n\\n\\n\\n\\n\\n\\n\\n(c)', metadata={'source': 'direct.htm', 'title': 'L_2022322EN.01001501.xml'}),\n",
              " '52a53a98-d976-4588-9623-7e3dc2535c73': Document(page_content='(c)\\n\\n\\nsuch advice is accompanied by an explanation of how it takes account of the elements listed in Article\\xa029b(5);\\n\\n\\n\\n\\n\\n\\n\\n\\n\\n\\n(d)\\n\\n\\nparticipation in EFRAG’s work at technical level is based on expertise in sustainability reporting and is not conditional on a financial contribution.', metadata={'source': 'direct.htm', 'title': 'L_2022322EN.01001501.xml'}),\n",
              " '97e81dbb-9ade-42bb-a4e0-938b64c4767e': Document(page_content='Points (a) and (d) are without prejudice to the participation of public bodies and national standard-setting organisations in the technical work of EFRAG.\\nThe accompanying documents for the EFRAG technical advice shall be submitted together with that technical advice.\\nThe Commission shall consult jointly the Member State Expert Group on Sustainable Finance, referred to in Article\\xa024 of Regulation (EU) 2020/852, and the Accounting Regulatory Committee, referred to in Article\\xa06 of Regulation (EC) No\\xa01606/2002, on the draft delegated acts prior to their adoption as referred to in Articles 29b and\\xa029c of this Directive.', metadata={'source': 'direct.htm', 'title': 'L_2022322EN.01001501.xml'}),\n",
              " '0ef7de32-d08b-4e30-b7e0-5c6a2fa7fa2c': Document(page_content='The Commission shall request the opinion of the European Securities and Markets Authority (ESMA), the European Banking Authority (EBA) and the European Insurance and Occupational Pensions Authority (EIOPA) on the technical advice provided by EFRAG, in particular with regard to its consistency with Regulation (EU) 2019/2088 and the delegated acts adopted pursuant to that Regulation. ESMA, EBA and EIOPA shall provide their opinions within two months of the date of receipt of the request from the Commission.', metadata={'source': 'direct.htm', 'title': 'L_2022322EN.01001501.xml'}),\n",
              " 'fddcd9cb-d85a-40af-bde9-bfd72fc09830': Document(page_content='The Commission shall also consult the European Environment Agency, the European Union Agency for Fundamental Rights, the European Central Bank, the Committee of European Auditing Oversight Bodies and the Platform on Sustainable Finance established pursuant to Article\\xa020 of Regulation (EU) 2020/852 on the technical advice provided by EFRAG prior to the adoption of delegated acts referred to in Articles 29b and\\xa029c of this Directive. If any of those bodies decide to submit an opinion, they shall do so within two months of the date of being consulted by the Commission.’;', metadata={'source': 'direct.htm', 'title': 'L_2022322EN.01001501.xml'}),\n",
              " '70b393c9-ac21-480c-87fb-c5ed878039a4': Document(page_content='(c)\\n\\n\\nparagraph 5 is replaced by the following:\\n\\n‘5.\\xa0\\xa0\\xa0A delegated act adopted pursuant to Article\\xa01(2), Article\\xa03(13), Articles 29b, 29c or 40b, or Article\\xa046(2) shall enter into force only if no objection has been expressed either by the European Parliament or the Council within a period of two months of notification of that act to the European Parliament and the Council or if, before the expiry of that period, the European Parliament and the Council have both informed the Commission that they will not object. That period shall be extended by two months at the initiative of the European Parliament or the Council.’.\\n\\n\\n\\n\\n\\n\\n\\n\\n\\n\\n\\nArticle\\xa02\\n\\nAmendments to Directive 2004/109/EC', metadata={'source': 'direct.htm', 'title': 'L_2022322EN.01001501.xml'}),\n",
              " '687c1374-bb3b-4792-977e-d5b44dc290d6': Document(page_content='Article\\xa02\\n\\nAmendments to Directive 2004/109/EC\\n\\nDirective 2004/109/EC is amended as follows:\\n\\n\\n\\n\\n\\n\\n(1)\\n\\n\\nin Article\\xa02(1) the following point is added:\\n\\n\\n\\n\\n\\n\\n‘(r)\\n\\n\\n“sustainability reporting” means sustainability reporting as defined in point (18) of Article\\xa02 of Directive 2013/34/EU of the European Parliament and of the Council\\xa0(*23).', metadata={'source': 'direct.htm', 'title': 'L_2022322EN.01001501.xml'}),\n",
              " 'b38231f6-c3a4-4b8a-bf7c-3a981639024a': Document(page_content='(*23)\\xa0\\xa0Directive 2013/34/EU of the European Parliament and of the Council of 26\\xa0June 2013 on the annual financial statements, consolidated financial statements and related reports of certain types of undertakings, amending Directive 2006/43/EC of the European Parliament and of the Council and repealing Council Directives 78/660/EEC and\\xa083/349/EEC (OJ\\xa0L\\xa0182, 29.6.2013, p.\\xa019).’;\"\\n                        \\n\\n\\n\\n\\n\\n\\n\\n\\n\\n\\n(2)\\n\\n\\nArticle\\xa04 is amended as follows:\\n\\n\\n\\n\\n\\n\\n(a)\\n\\n\\nin paragraph 2, point (c) is replaced by the following:\\n\\n\\n\\n\\n\\n\\n‘(c)', metadata={'source': 'direct.htm', 'title': 'L_2022322EN.01001501.xml'}),\n",
              " 'ca0fc8da-5b9d-4a54-828a-0d7c2bf35cc3': Document(page_content='statements made by the persons responsible within the issuer, whose names and functions shall be clearly indicated, to the effect that, to the best of their knowledge, the financial statements prepared in accordance with the applicable set of accounting standards give a true and fair view of the assets, liabilities, financial position and profit or loss of the issuer and the undertakings included in the consolidation taken as a whole and that the management report includes a fair review of the development and performance of the business and the position of the issuer and the undertakings included in the consolidation taken as a whole, together with a description of the principal risks and', metadata={'source': 'direct.htm', 'title': 'L_2022322EN.01001501.xml'}),\n",
              " 'db0d1341-4ad6-4fc5-8e8f-87ce7f0b68d8': Document(page_content='with a description of the principal risks and uncertainties that they face and, where appropriate, that it is prepared in accordance with sustainability reporting standards referred to in Article\\xa029b of Directive 2013/34/EU and with the specifications adopted pursuant to Article\\xa08(4) of Regulation (EU) 2020/852 of the European Parliament and of the Council\\xa0(*24).', metadata={'source': 'direct.htm', 'title': 'L_2022322EN.01001501.xml'}),\n",
              " '410633ed-30a6-430f-9c40-ed5bac6d9178': Document(page_content='(*24)\\xa0\\xa0Regulation (EU) 2020/852 of the European Parliament and of the Council of 18\\xa0June 2020 on the establishment of a framework to facilitate sustainable investment, and amending Regulation (EU) 2019/2088 (OJ\\xa0L\\xa0198, 22.6.2020, p.\\xa013).’;\"\\n                        \\n\\n\\n\\n\\n\\n\\n\\n\\n\\n\\n(b)\\n\\n\\nparagraphs 4 and\\xa05 are replaced by the following:', metadata={'source': 'direct.htm', 'title': 'L_2022322EN.01001501.xml'}),\n",
              " '24bab5bd-8604-44e3-8ca6-448146253565': Document(page_content='‘4.\\xa0\\xa0\\xa0The financial statements shall be audited in accordance with the first subparagraph of Article\\xa034(1) and Article\\xa034(2) of Directive 2013/34/EU.\\nThe statutory auditor shall deliver the opinion and statement on the management report referred to in points (a) and (b) of the second subparagraph of Article\\xa034(1) and in Article\\xa034(2) of Directive 2013/34/EU.\\nThe audit report, referred to in Article\\xa028 of Directive 2006/43/EC of the European Parliament and of the Council\\xa0(*25), signed by the person or persons responsible for carrying out the work set out in Article\\xa034(1) and\\xa0(2) of Directive 2013/34/EU shall be disclosed in full to the public together with the annual financial report.', metadata={'source': 'direct.htm', 'title': 'L_2022322EN.01001501.xml'}),\n",
              " '003e98aa-3a07-4c87-bf30-18b6f811993d': Document(page_content='Where applicable, an assurance opinion on sustainability reporting shall be provided in accordance with point (aa) of the second subparagraph of Article\\xa034(1) and Article\\xa034(2) to (5) of Directive 2013/34/EU.\\nThe assurance report on sustainability reporting referred to in Article\\xa028a of Directive 2006/43/EC shall be disclosed in full to the public together with the annual financial report.', metadata={'source': 'direct.htm', 'title': 'L_2022322EN.01001501.xml'}),\n",
              " 'ca9e16b6-3a0a-4707-8b70-ba2ef0872be1': Document(page_content='5.\\xa0\\xa0\\xa0The management report shall be drawn up in accordance with Articles 19, 19a and\\xa020, and Article\\xa029d(1) of Directive 2013/34/EU, and shall include the specifications adopted pursuant to Article\\xa08(4) of Regulation\\xa0(EU)\\xa02020/852, when drawn up by undertakings referred to in those provisions.\\nWhere the issuer is required to prepare consolidated accounts, the consolidated management report shall be drawn up in accordance with Articles 29 and\\xa029a and Article\\xa029d(2) of Directive 2013/34/EU and shall include the specifications adopted pursuant to Article\\xa08(4) of Regulation (EU) 2020/852, when drawn up by undertakings referred to in those provisions.', metadata={'source': 'direct.htm', 'title': 'L_2022322EN.01001501.xml'}),\n",
              " 'a8c8c620-491a-49e3-b958-e0c90a631a1d': Document(page_content='(*25)\\xa0\\xa0Directive 2006/43/EC of the European Parliament and of the Council of 17\\xa0May 2006 on statutory audits of annual accounts and consolidated accounts, amending Council Directives 78/660/EEC and\\xa083/349/EEC and repealing Council Directive 84/253/EEC (OJ\\xa0L\\xa0157, 9.6.2006, p.\\xa087).’;\"\\n                        \\n\\n\\n\\n\\n\\n\\n\\n\\n\\n\\n\\n\\n\\n\\n(3)\\n\\n\\nArticle\\xa023(4) is amended as follows:\\n\\n\\n\\n\\n\\n\\n(a)\\n\\n\\nthe third and fourth subparagraphs are replaced by the following:', metadata={'source': 'direct.htm', 'title': 'L_2022322EN.01001501.xml'}),\n",
              " '0ff31dd0-80a1-403a-9362-d63e1634cc46': Document(page_content='‘The Commission shall, in accordance with the procedure referred to in Article\\xa027(2) of this Directive, take the necessary decisions on the equivalence of accounting standards under the conditions set out in Article\\xa030(3) of this Directive and on the equivalence of sustainability reporting standards as referred to in Article\\xa029b of Directive 2013/34/EU which are used by third-country issuers. If the Commission decides that the accounting standards or the sustainability reporting standards of a third country are not equivalent, it may allow the issuers concerned to continue using such standards during an appropriate transitional period.', metadata={'source': 'direct.htm', 'title': 'L_2022322EN.01001501.xml'}),\n",
              " '586faf25-68b6-48ef-b70d-afcaaa9a29db': Document(page_content='In the context of the third subparagraph of this paragraph, the Commission shall also adopt, by means of delegated acts adopted in accordance with Article\\xa027(2a), (2b) and\\xa0(2c), and subject to the conditions laid down in Articles 27a and\\xa027b, measures that aim to establish general equivalence criteria regarding accounting standards and sustainability reporting standards relevant to issuers of more than one country.’;', metadata={'source': 'direct.htm', 'title': 'L_2022322EN.01001501.xml'}),\n",
              " '5cc56f89-ecad-41eb-930c-9ffdf5eb65b0': Document(page_content='(b)\\n\\n\\nthe following subparagraph is added:\\n\\n                                          ‘The criteria that the Commission shall use when assessing the equivalence of sustainability reporting standards used by third-country issuers referred to in the third subparagraph shall at least ensure the following:\\n\\n\\n\\n\\n\\n\\n(a)\\n\\n\\nthat the sustainability reporting standards require undertakings to disclose information on environmental, social and governance factors;\\n\\n\\n\\n\\n\\n\\n\\n\\n\\n\\n(b)', metadata={'source': 'direct.htm', 'title': 'L_2022322EN.01001501.xml'}),\n",
              " '3a6830e0-f84c-4c89-8475-7f499ddf484e': Document(page_content='(b)\\n\\n\\nthat the sustainability reporting standards require undertakings to disclose information necessary to understand their impacts on sustainability matters, and information necessary to understand how sustainability matters affect their development, performance and position.’;\\n\\n\\n\\n\\n\\n\\n\\n\\n\\n\\n\\n\\n\\n\\n\\n\\n\\n\\n(4)\\n\\n\\nthe following Article is inserted:\\n\\n‘Article\\xa028d\\nESMA guidelines\\nAfter consulting the European Environment Agency and the European Union Agency for Fundamental Rights, ESMA shall issue guidelines in accordance with Article\\xa016 of Regulation (EU) No\\xa01095/2010 on the supervision of sustainability reporting by national competent authorities.’.\\n\\n\\n\\n\\n\\n\\n\\nArticle\\xa03', metadata={'source': 'direct.htm', 'title': 'L_2022322EN.01001501.xml'}),\n",
              " 'a704844a-4140-4efa-82b1-8866702a628f': Document(page_content='Article\\xa03\\n\\nAmendments to Directive 2006/43/EC\\n\\nDirective 2006/43/EC is amended as follows:\\n\\n\\n\\n\\n\\n\\n(1)\\n\\n\\nArticle\\xa01 is replaced by the following:\\n\\n‘Article\\xa01\\nSubject matter\\nThis Directive establishes rules concerning the statutory audit of annual and consolidated accounts and the assurance of annual and consolidated sustainability reporting.’;\\n\\n\\n\\n\\n\\n\\n\\n\\n\\n\\n\\n(2)\\n\\n\\nArticle\\xa02 is amended as follows:\\n\\n\\n\\n\\n\\n\\n(a)\\n\\n\\npoints 2 to 6 are replaced by the following:\\n\\n\\n\\n\\n\\n\\n‘2.', metadata={'source': 'direct.htm', 'title': 'L_2022322EN.01001501.xml'}),\n",
              " '38d4c629-9d1a-407e-b026-d11db5532a35': Document(page_content='‘2.\\n\\n\\n“statutory auditor” means a natural person who is approved in accordance with this Directive by the competent authorities of a Member State to carry out statutory audits and, where applicable, the assurance of sustainability reporting;\\n\\n\\n\\n\\n\\n\\n\\n\\n\\n\\n3.\\n\\n\\n“audit firm” means a legal person or any other entity, regardless of its legal form, that is approved in accordance with this Directive by the competent authorities of a Member State to carry out statutory audits and, where applicable, the assurance of sustainability reporting;\\n\\n\\n\\n\\n\\n\\n\\n\\n\\n\\n4.', metadata={'source': 'direct.htm', 'title': 'L_2022322EN.01001501.xml'}),\n",
              " '9e07a00c-3137-4a97-a8ba-82d73ac8cdc6': Document(page_content='4.\\n\\n\\n“third-country audit entity” means an entity, regardless of its legal form, which carries out audits of the annual or consolidated financial statements, or, where applicable, the assurance of sustainability reporting of a company incorporated in a third country, other than an entity which is registered as an audit firm in any Member State as a consequence of approval in accordance with Article\\xa03;\\n\\n\\n\\n\\n\\n\\n\\n\\n\\n\\n5.', metadata={'source': 'direct.htm', 'title': 'L_2022322EN.01001501.xml'}),\n",
              " '27fa02d5-e0be-4777-ab20-a55f640c084a': Document(page_content='5.\\n\\n\\n“third-country auditor” means a natural person who carries out audits of the annual or consolidated financial statements or, where applicable, the assurance of sustainability reporting of a company incorporated in a third country, other than a person who is registered as a statutory auditor in any Member State as a consequence of approval in accordance with Articles 3 and\\xa044;\\n\\n\\n\\n\\n\\n\\n\\n\\n\\n\\n6.\\n\\n\\n“group auditor” means the statutory auditor(s) or audit firm(s) carrying out the statutory audit of the consolidated accounts or, where applicable, the assurance of consolidated sustainability reporting;’;\\n\\n\\n\\n\\n\\n\\n\\n\\n\\n\\n\\n\\n\\n\\n(b)\\n\\n\\nthe following point is inserted:\\n\\n\\n\\n\\n\\n\\n‘16a.', metadata={'source': 'direct.htm', 'title': 'L_2022322EN.01001501.xml'}),\n",
              " 'b45c9977-b4c7-4079-a5ff-345f9c46a301': Document(page_content='the following point is inserted:\\n\\n\\n\\n\\n\\n\\n‘16a.\\n\\n\\n“key sustainability partner(s)” means:\\n\\n\\n\\n\\n\\n\\n(a)\\n\\n\\nthe statutory auditor(s) designated by an audit firm for a particular assurance engagement concerning sustainability reporting as being primarily responsible for carrying out the assurance of sustainability reporting on behalf of the audit firm; or\\n\\n\\n\\n\\n\\n\\n\\n\\n\\n\\n(b)', metadata={'source': 'direct.htm', 'title': 'L_2022322EN.01001501.xml'}),\n",
              " '6c764a32-0449-475b-a0fd-5951dcfad966': Document(page_content='(b)\\n\\n\\nin the case of the assurance of consolidated sustainability reporting at least the statutory auditor(s) designated by an audit firm as being primarily responsible for carrying out the assurance of sustainability reporting at the level of the group and the statutory auditor(s) designated as being primarily responsible at the level of material subsidiaries; or\\n\\n\\n\\n\\n\\n\\n\\n\\n\\n\\n(c)\\n\\n\\nthe statutory auditor(s) who sign(s) the assurance report on sustainability reporting referred to in Article\\xa028a;’;\\n\\n\\n\\n\\n\\n\\n\\n\\n\\n\\n\\n\\n\\n\\n\\n\\n\\n\\n(c)\\n\\n\\nthe following points are added:\\n\\n\\n\\n\\n\\n\\n‘21.\\n\\n\\n“sustainability reporting” means sustainability reporting as defined in point\\xa0(18) of Article\\xa02 of Directive 2013/34/EU;', metadata={'source': 'direct.htm', 'title': 'L_2022322EN.01001501.xml'}),\n",
              " 'b9786e22-ad3f-4018-9d31-f553ba993425': Document(page_content='22.\\n\\n\\n“assurance of sustainability reporting” means the performance of procedures resulting in the opinion expressed by the statutory auditor or audit firm in accordance with point (aa) of the second subparagraph of Article\\xa034(1) and Article\\xa034(2) of Directive 2013/34/EU;\\n\\n\\n\\n\\n\\n\\n\\n\\n\\n\\n23.\\n\\n\\n“independent assurance services provider” means a conformity assessment body accredited in accordance with Regulation (EC) No\\xa0765/2008 of the European Parliament and of the Council\\xa0(*26) for the specific conformity assessment activity referred to in point (aa) of the second subparagraph of Article\\xa034(1) of Directive 2013/34/EU.', metadata={'source': 'direct.htm', 'title': 'L_2022322EN.01001501.xml'}),\n",
              " '09554e0d-d28f-44fd-b362-d5b806ecb7cf': Document(page_content='(*26)\\xa0\\xa0Regulation (EC) No\\xa0765/2008 of the European Parliament and of the Council of 9\\xa0July 2008 setting out the requirements for accreditation and repealing Regulation (EEC) No\\xa0339/93 (OJ\\xa0L\\xa0218, 13.8.2008, p.\\xa030).’;\"\\n                        \\n\\n\\n\\n\\n\\n\\n\\n\\n\\n\\n\\n\\n\\n\\n(3)\\n\\n\\nArticle\\xa06 is replaced by the following:\\n\\n‘Article\\xa06\\nEducational qualifications', metadata={'source': 'direct.htm', 'title': 'L_2022322EN.01001501.xml'}),\n",
              " '7961247d-a07f-4fc3-8c12-2622729fcd17': Document(page_content='‘Article\\xa06\\nEducational qualifications\\n\\n1.\\xa0\\xa0\\xa0Without prejudice to Article\\xa011, a natural person may be approved to carry out a statutory audit only after having attained university entrance or equivalent level, then completed a course of theoretical instruction, undergone practical training and passed an examination of professional competence of university final or equivalent examination level, organised or recognised by the Member State concerned.', metadata={'source': 'direct.htm', 'title': 'L_2022322EN.01001501.xml'}),\n",
              " '7455fbd0-f7e9-416c-9c98-533ce272381d': Document(page_content='2.\\xa0\\xa0\\xa0A natural person may, in addition to the approval to carry out statutory audits provided for in paragraph 1 of this Article, be approved to carry out the assurance of sustainability reporting when the additional specific requirements of Article\\xa07(2), Article\\xa08(3), the second subparagraph of Article\\xa010(1) and the fourth subparagraph of Article\\xa014(2) of this Directive are met.', metadata={'source': 'direct.htm', 'title': 'L_2022322EN.01001501.xml'}),\n",
              " '86903f5d-620e-42be-b14c-ac7905bea644': Document(page_content='3.\\xa0\\xa0\\xa0The competent authorities referred to in Article\\xa032 shall cooperate with each other with a view to achieving a convergence of the requirements set out in this Article. When engaging in such cooperation, those competent authorities shall take into account developments in auditing and in the audit profession and, in particular, convergence that has already been achieved by the profession. They shall cooperate with the Committee of European Auditing Oversight Bodies (CEAOB) and the competent authorities referred to in Article\\xa020 of Regulation (EU) No\\xa0537/2014 in so far as such convergence relates to the statutory audit and assurance of sustainability reporting of public-interest', metadata={'source': 'direct.htm', 'title': 'L_2022322EN.01001501.xml'}),\n",
              " '72e4c6d4-8b2c-4af3-bce4-342a4a112b6b': Document(page_content='of sustainability reporting of public-interest entities.’;', metadata={'source': 'direct.htm', 'title': 'L_2022322EN.01001501.xml'}),\n",
              " 'd50fd16b-b54b-411a-bc7c-031d2389defa': Document(page_content='(4)\\n\\n\\nArticle\\xa07 is replaced by the following:\\n\\n‘Article\\xa07\\nExamination of professional competence\\n\\n1.\\xa0\\xa0\\xa0The examination of professional competence referred to in Article\\xa06 shall guarantee the necessary level of theoretical knowledge of subjects relevant to statutory audit and the ability to apply such knowledge in practice. At least part of that examination shall be written.', metadata={'source': 'direct.htm', 'title': 'L_2022322EN.01001501.xml'}),\n",
              " '75c945a4-8531-436e-89c6-cde3cda9205b': Document(page_content='2.\\xa0\\xa0\\xa0In order for the statutory auditor to also be approved to carry out the assurance of sustainability reporting, the examination of professional competence referred to in Article\\xa06 shall guarantee the necessary level of theoretical knowledge of subjects relevant to the assurance of sustainability reporting and the ability to apply such knowledge in practice. At least part of that examination shall be written.’;\\n\\n\\n\\n\\n\\n\\n\\n\\n\\n\\n\\n\\n(5)\\n\\n\\nin Article\\xa08, the following paragraph is added:', metadata={'source': 'direct.htm', 'title': 'L_2022322EN.01001501.xml'}),\n",
              " '6e116190-aa75-4b5f-839a-3114ab3a7c1b': Document(page_content='in Article\\xa08, the following paragraph is added:\\n\\n‘3.\\xa0\\xa0\\xa0In order for the statutory auditor to also be approved to carry out the assurance of sustainability reporting, the test of theoretical knowledge referred to in paragraph 1 shall also cover at least the following subjects:\\n\\n\\n\\n\\n\\n\\n(a)\\n\\n\\nlegal requirements and standards relating to the preparation of annual and consolidated sustainability reporting;\\n\\n\\n\\n\\n\\n\\n\\n\\n\\n\\n(b)\\n\\n\\nsustainability analysis;\\n\\n\\n\\n\\n\\n\\n\\n\\n\\n\\n(c)\\n\\n\\ndue diligence processes with regard to sustainability matters;\\n\\n\\n\\n\\n\\n\\n\\n\\n\\n\\n(d)\\n\\n\\nlegal requirements and assurance standards for the sustainability reporting referred to in Article\\xa026a.’;\\n\\n\\n\\n\\n\\n\\n\\n\\n\\n\\n\\n\\n\\n\\n\\n(6)', metadata={'source': 'direct.htm', 'title': 'L_2022322EN.01001501.xml'}),\n",
              " 'ef6b5545-0c3f-49a9-adc9-a6555b858ab5': Document(page_content='(6)\\n\\n\\nin Article\\xa010(1), the following subparagraph is added:\\n\\n                              ‘In order for the statutory auditor or the trainee to also be approved to carry out the assurance of sustainability reporting, at least eight months of the practical training referred to in the first subparagraph shall be on the assurance of annual and consolidated sustainability reporting or on other sustainability-related services.’;\\n\\n\\n\\n\\n\\n\\n\\n\\n\\n\\n(7)\\n\\n\\nArticle\\xa012 is replaced by the following:\\n\\n‘Article\\xa012\\nCombination of practical training and theoretical instruction', metadata={'source': 'direct.htm', 'title': 'L_2022322EN.01001501.xml'}),\n",
              " 'ef8a3cdc-9bdb-4750-af8d-8dbaee5535a4': Document(page_content='1.\\xa0\\xa0\\xa0Member States may provide that periods of theoretical instruction in the subjects referred to in Article\\xa08(1) and\\xa0(2) shall count towards the periods of professional activity referred to in Article\\xa011, provided that such instruction is attested by an examination recognised by the Member State. Such instruction shall not last less than one year, nor may it reduce the period of professional activity by more than four years.\\n\\n\\n2.\\xa0\\xa0\\xa0The period of professional activity and practical training shall not be shorter than the course of theoretical instruction together with the practical training required under the first subparagraph of Article\\xa010(1).’;\\n\\n\\n\\n\\n\\n\\n\\n\\n\\n\\n\\n\\n(8)', metadata={'source': 'direct.htm', 'title': 'L_2022322EN.01001501.xml'}),\n",
              " '07a47f4a-a0a5-4760-a7a3-fde91c99c1b0': Document(page_content='(8)\\n\\n\\nin Article\\xa014(2), the following subparagraph is added:\\n\\n                              ‘In order for the statutory auditor to also be approved to carry out the assurance of sustainability reporting, the aptitude test referred to in the first subparagraph shall cover the statutory auditor’s adequate knowledge of the laws and regulations of the host Member State in so far as it is relevant to the assurance of sustainability reporting.’;\\n\\n\\n\\n\\n\\n\\n\\n\\n\\n\\n(9)\\n\\n\\nthe following Article is inserted:', metadata={'source': 'direct.htm', 'title': 'L_2022322EN.01001501.xml'}),\n",
              " '930e0fbb-4d4e-4a9d-8bed-20803824d517': Document(page_content='‘Article\\xa014a\\nStatutory auditors approved or recognised before 1\\xa0January 2024 and persons undergoing the approval process for statutory auditors on 1\\xa0January 2024\\nMember States shall ensure that statutory auditors that are approved or recognised to carry out statutory audits before 1\\xa0January 2024 are not subject to the requirements of Article\\xa07(2), Article\\xa08(3), the second subparagraph of Article\\xa010(1) and the fourth subparagraph of Article\\xa014(2).', metadata={'source': 'direct.htm', 'title': 'L_2022322EN.01001501.xml'}),\n",
              " '393077b7-fb2f-4fcd-96ee-89b898134fcd': Document(page_content='Member States shall ensure that persons that on 1\\xa0January 2024 are undergoing the approval process provided for in Articles 6 to 14 are not subject to the requirements of Article\\xa07(2), Article\\xa08(3), the second subparagraph of Article\\xa010(1) and the fourth subparagraph of Article\\xa014(2), provided they complete that process by 1\\xa0January 2026.', metadata={'source': 'direct.htm', 'title': 'L_2022322EN.01001501.xml'}),\n",
              " '8eb5c157-334e-409b-9bd7-e5bfde9c9453': Document(page_content='Member States shall ensure that statutory auditors approved before 1\\xa0January 2026 who wish to carry out the assurance of sustainability reporting acquire the necessary knowledge of sustainability reporting and the assurance of sustainability reporting, including of the subjects listed in Article\\xa08(3), via the continuing education referred to in Article\\xa013.’;', metadata={'source': 'direct.htm', 'title': 'L_2022322EN.01001501.xml'}),\n",
              " 'e1a250af-027a-4a8b-8883-69819247a0d0': Document(page_content='(10)\\n\\n\\nArticle\\xa016 is amended as follows:\\n\\n\\n\\n\\n\\n\\n(a)\\n\\n\\nparagraph 1 is replaced by the following:\\n\\n‘1.\\xa0\\xa0\\xa0As regards statutory auditors, the public register shall contain at least the following information:\\n\\n\\n\\n\\n\\n\\n(a)\\n\\n\\nname, address and registration number;\\n\\n\\n\\n\\n\\n\\n\\n\\n\\n\\n(b)\\n\\n\\nif applicable, the name, address, website address and registration number of the audit firm(s) by which the statutory auditor is employed, or with whom he or she is associated as a partner or otherwise;\\n\\n\\n\\n\\n\\n\\n\\n\\n\\n\\n(c)\\n\\n\\nwhether the statutory auditor is also approved for carrying out the assurance of sustainability reporting;\\n\\n\\n\\n\\n\\n\\n\\n\\n\\n\\n(d)', metadata={'source': 'direct.htm', 'title': 'L_2022322EN.01001501.xml'}),\n",
              " 'bc5252e8-a7b9-4158-9b32-957decb7d3e5': Document(page_content='(d)\\n\\n\\nall other registration(s) as statutory auditor with the competent authorities of other Member States and as auditor with third countries, including the name(s) of the registration authority(ies), and, if applicable, the registration number(s), and an indication of whether the registration concerns the statutory audit, the assurance of sustainability reporting, or both.’;\\n\\n\\n\\n\\n\\n\\n\\n\\n\\n\\n\\n\\n\\n\\n\\n(b)\\n\\n\\nin paragraph 2, the following subparagraph is added:', metadata={'source': 'direct.htm', 'title': 'L_2022322EN.01001501.xml'}),\n",
              " '206c186c-7a3b-4c36-9aa6-10167814caaa': Document(page_content='‘The register shall indicate whether third-country auditors as referred to in the first subparagraph are registered for carrying out the statutory audit, the assurance of sustainability reporting, or both.’;\\n\\n\\n\\n\\n\\n\\n\\n\\n\\n\\n\\n\\n\\n\\n(11)\\n\\n\\nArticle\\xa017 is amended as follows:\\n\\n\\n\\n\\n\\n\\n(a)\\n\\n\\nin paragraph 1, point (e) is replaced by the following:\\n\\n\\n\\n\\n\\n\\n‘(e)\\n\\n\\nname and registration number of all statutory auditors employed by, or associated as partners or otherwise with, the audit firm, and an indication of whether they are also approved for carrying out the assurance of sustainability reporting;’;\\n\\n\\n\\n\\n\\n\\n\\n\\n\\n\\n\\n\\n\\n\\n(b)', metadata={'source': 'direct.htm', 'title': 'L_2022322EN.01001501.xml'}),\n",
              " '5117284e-6aeb-483c-987a-1d42d1e04356': Document(page_content='(b)\\n\\n\\nin paragraph 1, point (i) is replaced by the following:\\n\\n\\n\\n\\n\\n\\n‘(i)\\n\\n\\nall other registration(s) as audit firm with the competent authorities of other Member States and as audit entity with third countries, including the name(s) of the registration authority(ies), and, if applicable, the registration number(s), and an indication of whether the registration concerns the statutory audit, the assurance of sustainability reporting, or both.’;\\n\\n\\n\\n\\n\\n\\n\\n\\n\\n\\n\\n\\n\\n\\n(c)\\n\\n\\nin paragraph 2, the following subparagraph is added:', metadata={'source': 'direct.htm', 'title': 'L_2022322EN.01001501.xml'}),\n",
              " '05c61405-a388-4fb7-b47e-fa1e7cfe7e46': Document(page_content='‘The register shall indicate whether third-country audit entities as referred to in the first subparagraph are registered for carrying out the statutory audit, the assurance of sustainability reporting, or both.’;\\n\\n\\n\\n\\n\\n\\n\\n\\n\\n\\n\\n\\n\\n\\n(12)\\n\\n\\nArticle\\xa024b is amended as follows:\\n\\n\\n\\n\\n\\n\\n(a)\\n\\n\\nparagraph 1 is replaced by the following:', metadata={'source': 'direct.htm', 'title': 'L_2022322EN.01001501.xml'}),\n",
              " 'a73d7c0c-04f8-4d08-a4d8-d472652881d7': Document(page_content='‘1.\\xa0\\xa0\\xa0Member States shall ensure that, when the statutory audit is carried out by an audit firm, that audit firm designates at least one key audit partner. The audit firm shall provide the key audit partner(s) with sufficient resources and with personnel that have the necessary competence and capabilities to carry out his, her or its duties appropriately.', metadata={'source': 'direct.htm', 'title': 'L_2022322EN.01001501.xml'}),\n",
              " '083dfb07-1009-4246-9e43-5cfe2ca49e18': Document(page_content='Member States shall ensure that, when the assurance of sustainability reporting is carried out by an audit firm, that audit firm designates at least one key sustainability partner, who may be (one of) the key audit partner(s). The audit firm shall provide the key sustainability partner(s) with sufficient resources and with personnel that have the necessary competence and capabilities to carry out his, her or its duties appropriately.\\nSecuring audit and assurance quality, independence and competence shall be the main criteria when the audit firm selects the key audit partner(s) and, where applicable, the key sustainability partner(s) to be designated.', metadata={'source': 'direct.htm', 'title': 'L_2022322EN.01001501.xml'}),\n",
              " '58218039-d6de-4e6b-b9c3-d34cf4a666eb': Document(page_content='The key audit partner(s) shall be actively involved in the carrying-out of the statutory audit. The key sustainability partner shall be actively involved in the carrying-out of the assurance of sustainability reporting.’;', metadata={'source': 'direct.htm', 'title': 'L_2022322EN.01001501.xml'}),\n",
              " 'fd73bbc4-f2cb-437d-8ec0-68d955f01c38': Document(page_content='(b)\\n\\n\\nthe following paragraph is inserted:\\n\\n‘2a.\\xa0\\xa0\\xa0When carrying out the assurance of sustainability reporting, the statutory auditor shall devote sufficient time to the engagement and shall assign sufficient resources to enable him or her to carry out his or her duties appropriately.’;\\n\\n\\n\\n\\n\\n\\n\\n\\n\\n\\n\\n(c)\\n\\n\\nin paragraph 4, points (b) and (c) are replaced by the following:\\n\\n\\n\\n\\n\\n\\n‘(b)\\n\\n\\nin the case of an audit firm, the name(s) of the key audit partner(s) and, where applicable, the name(s) of the key sustainability partner(s);\\n\\n\\n\\n\\n\\n\\n\\n\\n\\n\\n(c)', metadata={'source': 'direct.htm', 'title': 'L_2022322EN.01001501.xml'}),\n",
              " 'f2d382bb-7b4b-4a37-90d4-bbe082d95611': Document(page_content='(c)\\n\\n\\nthe fees charged for the statutory audit, the fees charged for the assurance of sustainability reporting and the fees charged for other services in any financial year.’;\\n\\n\\n\\n\\n\\n\\n\\n\\n\\n\\n\\n\\n\\n\\n(d)\\n\\n\\nthe following paragraph is inserted:', metadata={'source': 'direct.htm', 'title': 'L_2022322EN.01001501.xml'}),\n",
              " 'a5268009-e798-4074-b92a-d757c3215043': Document(page_content='‘5a.\\xa0\\xa0\\xa0A statutory auditor or an audit firm shall create an assurance file for each assurance engagement concerning sustainability reporting.\\nThe statutory auditor or the audit firm shall document at least the data recorded pursuant to Article\\xa022b as regards the assurance of sustainability reporting.\\nThe statutory auditor or the audit firm shall retain any other data and documents that are of importance in support of the assurance report on sustainability reporting referred to in Article\\xa028a and for monitoring compliance with this Directive and other applicable legal requirements as regards the assurance of sustainability reporting.', metadata={'source': 'direct.htm', 'title': 'L_2022322EN.01001501.xml'}),\n",
              " '9d889421-399b-40f3-b05d-3b44dd050ffc': Document(page_content='The assurance file shall be closed no later than 60 days after the date of signature of the assurance report on sustainability reporting referred to in Article\\xa028a.\\nWhere the same statutory auditor carries out the statutory audit of annual financial statements and the assurance of sustainability reporting, the assurance file may be included in the audit file.’;', metadata={'source': 'direct.htm', 'title': 'L_2022322EN.01001501.xml'}),\n",
              " 'be74e3d0-7463-4713-800d-aa311605f508': Document(page_content='(e)\\n\\n\\nparagraph 6 is replaced by the following:\\n\\n                                          ‘The statutory auditor or the audit firm shall keep records of any complaints made in writing about the performance of the statutory audits carried out and about the performance of assurance engagements concerning sustainability reporting carried out.’;\\n\\n\\n\\n\\n\\n\\n\\n\\n\\n\\n\\n\\n\\n\\n(13)\\n\\n\\nArticle\\xa025 is replaced by the following:\\n\\n‘Article\\xa025\\nAudit and assurance fees\\nMember States shall ensure that adequate rules are in place which provide that fees for statutory audits and the assurance of sustainability reporting:\\n\\n\\n\\n\\n\\n\\n(a)', metadata={'source': 'direct.htm', 'title': 'L_2022322EN.01001501.xml'}),\n",
              " '1833f877-acb9-43d2-a8bb-6812ed6dd44a': Document(page_content='(a)\\n\\n\\nare not influenced or determined by the provision of additional services to the entity that is the subject of the statutory audit or the assurance of sustainability reporting; and\\n\\n\\n\\n\\n\\n\\n\\n\\n\\n\\n(b)\\n\\n\\ncannot be based on any form of contingency.’;\\n\\n\\n\\n\\n\\n\\n\\n\\n\\n\\n\\n\\n\\n\\n\\n(14)\\n\\n\\nthe following Articles are inserted:\\n\\n‘Article\\xa025b\\nProfessional ethics, independence, objectivity, confidentiality and professional secrecy as regards the assurance of sustainability reporting\\nThe requirements in Articles 21 to 24a as regards the statutory audit of financial statements shall apply mutatis mutandis to the assurance of sustainability reporting.', metadata={'source': 'direct.htm', 'title': 'L_2022322EN.01001501.xml'}),\n",
              " '4dae036b-575a-42b9-bb50-54930eec8792': Document(page_content='Article\\xa025c\\nProhibited non-audit services in cases where the statutory auditor carries out the assurance of sustainability reporting of a public-interest entity', metadata={'source': 'direct.htm', 'title': 'L_2022322EN.01001501.xml'}),\n",
              " 'c089e852-8fdc-4d42-9132-0662228782d0': Document(page_content='1.\\xa0\\xa0\\xa0A statutory auditor or an audit firm carrying out the assurance of sustainability reporting of a public-interest entity, or any member of the network to which the statutory auditor or the audit firm belongs, shall not directly or indirectly provide to the public-interest entity that is the subject of the assurance of sustainability reporting, to its parent undertaking or to its controlled undertakings within the Union the prohibited non-audit services referred to in points (b) and (c) and points (e) to (k) of the second subparagraph of Article\\xa05(1) of Regulation (EU) No\\xa0537/2014 in:\\n\\n\\n\\n\\n\\n\\n(a)', metadata={'source': 'direct.htm', 'title': 'L_2022322EN.01001501.xml'}),\n",
              " '43c60b6b-b8d8-4389-8193-fbff036dfc49': Document(page_content='(a)\\n\\n\\nthe period between the beginning of the period subject to the assurance of sustainability reporting and the issuing of the assurance report on sustainability reporting; and\\n\\n\\n\\n\\n\\n\\n\\n\\n\\n\\n(b)\\n\\n\\nthe financial year immediately preceding the period referred to in point (a) of this paragraph in relation to the services referred to in point (e) of the second subparagraph of Article\\xa05(1) of Regulation (EU) No\\xa0537/2014.', metadata={'source': 'direct.htm', 'title': 'L_2022322EN.01001501.xml'}),\n",
              " '355658f0-9ebc-4fca-b1d7-493b42d74f9c': Document(page_content='2.\\xa0\\xa0\\xa0A statutory auditor or an audit firm carrying out the assurance of sustainability reporting of public-interest entities and, where the statutory auditor or the audit firm belongs to a network, any member of such network, may provide to the public-interest entity that is the subject of the assurance of sustainability reporting, to its parent undertaking or to its controlled undertakings non-audit services other than the prohibited non-audit services referred to in paragraph 1 of this Article, or if applicable, the prohibited non-audit services referred to in the second subparagraph of Article\\xa05(1) of Regulation (EU) No\\xa0537/2014 or services considered by Member States to represent a', metadata={'source': 'direct.htm', 'title': 'L_2022322EN.01001501.xml'}),\n",
              " '0ddc4bdb-0fb4-4ece-be6d-49f9ea285ad7': Document(page_content='considered by Member States to represent a threat to independence as referred to in Article\\xa05(2) of that Regulation, subject to the approval of the audit committee after it has properly assessed threats to independence and the safeguards applied in accordance with Article\\xa022b of this Directive.', metadata={'source': 'direct.htm', 'title': 'L_2022322EN.01001501.xml'}),\n",
              " 'f70ed435-29c0-4ec2-aaf4-8c12a5ff3c1d': Document(page_content='3.\\xa0\\xa0\\xa0When a member of a network to which the statutory auditor or the audit firm carrying out the assurance of sustainability reporting of a public-interest entity belongs provides the prohibited non-audit services referred to in paragraph 1 of this Article to an undertaking incorporated in a third country which is controlled by the public-interest entity that is the subject of assurance of sustainability reporting, the statutory auditor or the audit firm concerned shall assess whether his, her or its independence would be compromised by such provision of services by the member of the network.', metadata={'source': 'direct.htm', 'title': 'L_2022322EN.01001501.xml'}),\n",
              " 'afcb545a-45d1-440c-bd19-09b9e8e52122': Document(page_content='If his, her or its independence is affected, the statutory auditor or the audit firm shall apply safeguards in order to mitigate the threats caused by the provision of prohibited non-audit services referred to in paragraph 1 of this Article in a third country. The statutory auditor or the audit firm may continue to carry out the assurance of sustainability reporting of the public-interest entity only if he, she or it can justify, in accordance with Article\\xa022b, that the provision of such services does not affect his, her or its professional judgement and the assurance report on sustainability reporting.', metadata={'source': 'direct.htm', 'title': 'L_2022322EN.01001501.xml'}),\n",
              " '222f5634-6253-4d4f-ae2a-efdca5028d41': Document(page_content='Article\\xa025d\\nIrregularities\\nArticle\\xa07 of Regulation (EU) No\\xa0537/2014 shall apply mutatis mutandis to a statutory auditor or an audit firm carrying out the assurance of sustainability reporting of a public-interest entity.’;\\n\\n\\n\\n\\n\\n\\n\\n\\n\\n\\n\\n(15)\\n\\n\\nthe following Article is inserted:\\n\\n‘Article\\xa026a\\nAssurance standards for sustainability reporting\\n\\n1.\\xa0\\xa0\\xa0Member States shall require statutory auditors and audit firms to carry out the assurance of sustainability reporting in compliance with the assurance standards adopted by the Commission in accordance with paragraph 3.', metadata={'source': 'direct.htm', 'title': 'L_2022322EN.01001501.xml'}),\n",
              " '5b9af157-dfe3-4ddc-beda-a0ed3bda1c3a': Document(page_content='2.\\xa0\\xa0\\xa0Member States may apply national assurance standards, procedures or requirements as long as the Commission has not adopted an assurance standard covering the same subject matter.\\nMember States shall communicate the national assurance standards, procedures or requirements to the Commission at least three months before their entry into force.', metadata={'source': 'direct.htm', 'title': 'L_2022322EN.01001501.xml'}),\n",
              " '48ff5114-b5b3-4cee-bf21-e67aac789a63': Document(page_content='3.\\xa0\\xa0\\xa0The Commission shall, no later than 1\\xa0October 2026, adopt delegated acts in accordance with Article\\xa048a in order to supplement this Directive in order to provide for limited assurance standards setting out the procedures that the auditor(s) and the audit firm(s) shall perform in order to draw his, her or its conclusions on the assurance of sustainability reporting, including engagement planning, risk consideration and response to risks and type of conclusions to be included in the assurance report on sustainability reporting, or, where relevant, in the audit report.', metadata={'source': 'direct.htm', 'title': 'L_2022322EN.01001501.xml'}),\n",
              " '4ddb42a9-7819-49d5-9395-b100ff518310': Document(page_content='The Commission shall, no later than 1\\xa0October 2028, adopt delegated acts in accordance with Article\\xa048a in order to supplement this Directive in order to provide for reasonable assurance standards, following an assessment to determine if reasonable assurance is feasible for auditors and for undertakings. Taking into account the results of that assessment and if therefore appropriate, those delegated acts shall specify the date from which the opinion referred to in point (aa) of the second subparagraph of Article\\xa034(1) is to be based on a reasonable assurance engagement that is based on those reasonable assurance standards.', metadata={'source': 'direct.htm', 'title': 'L_2022322EN.01001501.xml'}),\n",
              " 'ac10e385-8e4e-45c8-9eb6-163bdf1d1431': Document(page_content='The Commission may adopt the assurance standards referred to in the first and second subparagraphs only if they:', metadata={'source': 'direct.htm', 'title': 'L_2022322EN.01001501.xml'}),\n",
              " 'e57632e0-d92f-426c-b1ff-dbbbd95da341': Document(page_content='(a)\\n\\n\\nhave been developed with proper due process, public oversight and transparency;\\n\\n\\n\\n\\n\\n\\n\\n\\n\\n\\n(b)\\n\\n\\ncontribute a high level of credibility and quality to the annual or consolidated sustainability reporting; and\\n\\n\\n\\n\\n\\n\\n\\n\\n\\n\\n(c)\\n\\n\\nare conducive to the Union public good.’;\\n\\n\\n\\n\\n\\n\\n\\n\\n\\n\\n\\n\\n\\n\\n\\n\\n(16)\\n\\n\\nthe following Article is inserted:\\n\\n‘Article\\xa027a\\nAssurance of consolidated sustainability reporting\\n\\n1.\\xa0\\xa0\\xa0Member States shall ensure that in the case of assurance engagements concerning the consolidated sustainability reporting of a group of undertakings:\\n\\n\\n\\n\\n\\n\\n(a)', metadata={'source': 'direct.htm', 'title': 'L_2022322EN.01001501.xml'}),\n",
              " '35694fae-92af-4a6a-a63f-405154d94610': Document(page_content='(a)\\n\\n\\nin relation to the consolidated sustainability reporting, the group auditor bears the full responsibility for the assurance report on sustainability reporting referred to in Article\\xa028a;\\n\\n\\n\\n\\n\\n\\n\\n\\n\\n\\n(b)', metadata={'source': 'direct.htm', 'title': 'L_2022322EN.01001501.xml'}),\n",
              " '01cb5e4b-31bc-4036-82cc-9185732da234': Document(page_content='(b)\\n\\n\\nthe group auditor evaluates the assurance work performed by any independent assurance services provider(s), third-country auditor(s), statutory auditor(s), third-country audit entity(ies) or audit firm(s) for the purpose of the assurance of consolidated sustainability reporting and documents the nature, timing and extent of the work performed by those auditors, including, where applicable, the group auditor’s review of relevant parts of those auditors’ assurance documentation; and\\n\\n\\n\\n\\n\\n\\n\\n\\n\\n\\n(c)', metadata={'source': 'direct.htm', 'title': 'L_2022322EN.01001501.xml'}),\n",
              " '9efc8bf6-ea1c-4af8-89b2-d1367118312f': Document(page_content='(c)\\n\\n\\nthe group auditor reviews the assurance work performed by independent assurance services provider(s), third-country auditor(s), statutory auditor(s), third-country audit entity(ies) or audit firm(s) for the purpose of the assurance of consolidated sustainability reporting and documents it.', metadata={'source': 'direct.htm', 'title': 'L_2022322EN.01001501.xml'}),\n",
              " '59ef74cc-3a07-4337-bf3e-f6fb8e6d6e83': Document(page_content='The documentation retained by the group auditor shall be such as to enable the relevant competent authority to review the work of the group auditor.', metadata={'source': 'direct.htm', 'title': 'L_2022322EN.01001501.xml'}),\n",
              " '2609ce5e-7c37-47a7-9c15-534b63962851': Document(page_content='For the purposes of point (c) of the first subparagraph of this paragraph, the group auditor shall request the agreement of the independent assurance services provider(s), third-country auditor(s), statutory auditor(s), third-country audit entity(ies) or audit firm(s) concerned to the transfer of relevant documentation during the conduct of the assurance of consolidated sustainability reporting, as a condition of the reliance by the group auditor on the work of those independent assurance services provider(s), third-country auditor(s), statutory auditor(s), third-country audit entity(ies) or audit firm(s).', metadata={'source': 'direct.htm', 'title': 'L_2022322EN.01001501.xml'}),\n",
              " '870ff2aa-3fb2-4bc9-b125-267aec403519': Document(page_content='2.\\xa0\\xa0\\xa0Where the group auditor is unable to comply with point (c) of the first subparagraph of paragraph 1, he, she or it shall take appropriate measures and inform the relevant competent authority.\\nSuch measures shall, where appropriate, include carrying out additional assurance work, either directly or by outsourcing such tasks, in the relevant subsidiary.', metadata={'source': 'direct.htm', 'title': 'L_2022322EN.01001501.xml'}),\n",
              " 'cd8c4f14-74c6-4cb3-952a-94e9cd1cdd3f': Document(page_content='3.\\xa0\\xa0\\xa0Where the group auditor is subject to a quality assurance review or an investigation concerning the assurance of consolidated sustainability reporting of a group of undertakings, the group auditor shall, when requested, make available to the competent authority the relevant documentation he, she or it retains concerning the assurance work performed by the respective independent assurance services provider(s), third-country auditor(s), statutory auditor(s), third-country audit entity(ies) or audit firm(s) for the purpose of the assurance of consolidated sustainability reporting, including any working papers relevant to the assurance of consolidated sustainability reporting.', metadata={'source': 'direct.htm', 'title': 'L_2022322EN.01001501.xml'}),\n",
              " '9f5310dc-9c13-43f7-9abb-a85a6f986c48': Document(page_content='The competent authority may request additional documentation on the assurance work performed by any statutory auditor(s) or audit firm(s) for the purpose of the assurance of consolidated sustainability reporting from the relevant competent authorities pursuant to Article\\xa036.', metadata={'source': 'direct.htm', 'title': 'L_2022322EN.01001501.xml'}),\n",
              " '140a0870-5648-4c35-81af-e2f675447932': Document(page_content='Where the assurance of sustainability reporting of a parent undertaking or a subsidiary undertaking of a group of undertakings is carried out by any auditor(s) or audit entity(ies) from a third country, the competent authority may request additional documentation on the assurance work performed by any third-country auditor(s) or third-country audit entity(ies) from the relevant competent authorities from third countries through working arrangements.', metadata={'source': 'direct.htm', 'title': 'L_2022322EN.01001501.xml'}),\n",
              " 'e54fa3fa-2eb4-4fb5-bf58-db407d4a6dcf': Document(page_content='By way of derogation from the third subparagraph, where any independent assurance services provider(s), third-country auditor(s) or audit entity(ies) that have no working arrangements carried out the assurance of sustainability reporting of a parent undertaking or a subsidiary undertaking of a group of undertakings, the group auditor shall, when requested, also be responsible for ensuring proper delivery of the additional documentation on the assurance work performed by such independent assurance services provider(s), third-country auditor(s) or audit entity(ies), including the working papers relevant to the assurance of consolidated sustainability reporting. In order to ensure such', metadata={'source': 'direct.htm', 'title': 'L_2022322EN.01001501.xml'}),\n",
              " 'd05ae453-bfb1-4bbb-893b-b0507f0d726c': Document(page_content='sustainability reporting. In order to ensure such delivery, the group auditor shall retain a copy of such documentation, or alternatively agree with the independent assurance services provider(s), third-country auditor(s) or audit entity(ies) that he, she or it is to be given unrestricted access to such documentation upon request, or take any other appropriate action. Where assurance working papers cannot, for legal or other reasons, be passed from a third country to the group auditor, the documentation retained by the group auditor shall include evidence that he, she or it has undertaken the appropriate procedures in order to gain access to the assurance documentation, and in the case of', metadata={'source': 'direct.htm', 'title': 'L_2022322EN.01001501.xml'}),\n",
              " 'b6a6a2cf-abff-420b-9f67-20f212bee6d6': Document(page_content='the assurance documentation, and in the case of impediments other than legal ones arising from the legislation of the third country concerned, evidence supporting the existence of such impediments.’;', metadata={'source': 'direct.htm', 'title': 'L_2022322EN.01001501.xml'}),\n",
              " 'b36378b3-298a-460b-a0f0-337402e22f88': Document(page_content='(17)\\n\\n\\nin Article\\xa028(2), point (e) is replaced by the following:\\n\\n\\n\\n\\n\\n\\n‘(e)\\n\\n\\ninclude an opinion and a statement, both of which shall be based on the work undertaken in the course of the audit, pursuant to points (a) and (b) of the second subparagraph of Article\\xa034(1) of Directive 2013/34/EU;’;\\n\\n\\n\\n\\n\\n\\n\\n\\n\\n\\n\\n\\n\\n\\n(18)\\n\\n\\nthe following Article is inserted:\\n\\n‘Article\\xa028a\\nAssurance report on sustainability reporting', metadata={'source': 'direct.htm', 'title': 'L_2022322EN.01001501.xml'}),\n",
              " 'a44d1aa6-2018-4dfd-aec8-31c814667b1d': Document(page_content='1.\\xa0\\xa0\\xa0The statutory auditor(s) or the audit firm(s) shall present the results of the assurance of sustainability reporting in an assurance report on sustainability reporting. That report shall be prepared in accordance with the requirements of assurance standards adopted by the Commission by means of the delegated acts adopted pursuant to Article\\xa026a(3), or, pending adoption by the Commission of those assurance standards, in accordance with national assurance standards, as referred to in Article\\xa026a(2).\\n\\n\\n2.\\xa0\\xa0\\xa0The assurance report on sustainability reporting shall be in writing and shall:\\n\\n\\n\\n\\n\\n\\n(a)', metadata={'source': 'direct.htm', 'title': 'L_2022322EN.01001501.xml'}),\n",
              " '3ae21327-13f9-49f1-af6a-f190bf7b0aaf': Document(page_content='(a)\\n\\n\\nidentify the entity whose annual or consolidated sustainability reporting is the subject of the assurance engagement; specify the annual or consolidated sustainability reporting and the date and period it covers; and identify the sustainability reporting framework that has been applied in its preparation;\\n\\n\\n\\n\\n\\n\\n\\n\\n\\n\\n(b)\\n\\n\\ninclude a description of the scope of the assurance of sustainability reporting which shall, as a minimum, identify the assurance standards in accordance with which the assurance of sustainability reporting was conducted;\\n\\n\\n\\n\\n\\n\\n\\n\\n\\n\\n(c)\\n\\n\\ninclude the opinion referred to in point (aa) of the second subparagraph of Article\\xa034(1) of Directive 2013/34/EU.', metadata={'source': 'direct.htm', 'title': 'L_2022322EN.01001501.xml'}),\n",
              " '72026baf-6aae-4201-8962-ceb121ff87b7': Document(page_content='3.\\xa0\\xa0\\xa0Where the assurance of sustainability reporting was carried out by more than one statutory auditor or audit firm, the statutory auditor(s) or the audit firm(s) shall agree on the results of the assurance of sustainability reporting and submit a joint report and opinion. In the case of disagreement, each statutory auditor or audit firm shall submit his, her or its opinion in a separate paragraph of the assurance report on sustainability reporting and shall state the reason for the disagreement.', metadata={'source': 'direct.htm', 'title': 'L_2022322EN.01001501.xml'}),\n",
              " '13f25575-2527-4894-9da8-267460722862': Document(page_content='4.\\xa0\\xa0\\xa0The assurance report on sustainability reporting shall be signed and dated by the statutory auditor carrying out the assurance of sustainability reporting. Where an audit firm carries out the assurance of sustainability reporting, the assurance report on sustainability reporting shall bear the signature of at least the statutory auditor(s) carrying out the assurance of sustainability reporting on behalf of the audit firm. Where more than one statutory auditor or audit firm have been simultaneously engaged, the assurance report on sustainability reporting shall be signed by all statutory auditors or at least by the statutory auditors carrying out the assurance of sustainability', metadata={'source': 'direct.htm', 'title': 'L_2022322EN.01001501.xml'}),\n",
              " '66d79820-b741-4bf8-9ebf-7266ff2bdecd': Document(page_content='carrying out the assurance of sustainability reporting on behalf of every audit firm. In exceptional circumstances, Member States may provide that such signature(s) need not be disclosed to the public if such disclosure could lead to an imminent and significant threat to the personal security of any person.', metadata={'source': 'direct.htm', 'title': 'L_2022322EN.01001501.xml'}),\n",
              " '09bfb5f0-fcbb-4b33-ac2f-7dc0b2bc56c7': Document(page_content='In any event, the name(s) of the person(s) involved shall be known to the relevant competent authorities.', metadata={'source': 'direct.htm', 'title': 'L_2022322EN.01001501.xml'}),\n",
              " 'dd8c5a70-21dc-4c37-961d-57f8df8594ca': Document(page_content='5.\\xa0\\xa0\\xa0Member States may require that, where the same statutory auditor carries out the statutory audit of annual financial statements and the assurance of sustainability reporting, the assurance report on sustainability reporting may be included as a separate section of the audit report.\\n\\n\\n6.\\xa0\\xa0\\xa0The report of the statutory auditor or the audit firm on the consolidated sustainability reporting shall comply with the requirements set out in paragraphs 1 to 5.’;\\n\\n\\n\\n\\n\\n\\n\\n\\n\\n\\n\\n\\n(19)\\n\\n\\nArticle\\xa029 is amended as follows:\\n\\n\\n\\n\\n\\n\\n(a)\\n\\n\\nin paragraph 1, point (d) is replaced by the following:\\n\\n\\n\\n\\n\\n\\n‘(d)', metadata={'source': 'direct.htm', 'title': 'L_2022322EN.01001501.xml'}),\n",
              " '7c0d2340-1174-4d76-97cc-9015b3f917b3': Document(page_content='‘(d)\\n\\n\\nthe persons who carry out quality assurance reviews shall have appropriate professional education and relevant experience in statutory audit and financial reporting and, where applicable, in sustainability reporting and in the assurance of sustainability reporting or in other sustainability-related services, combined with specific training on quality assurance reviews;’;\\n\\n\\n\\n\\n\\n\\n\\n\\n\\n\\n\\n\\n\\n\\n(b)\\n\\n\\nin paragraph 1, point (f) is replaced by the following:\\n\\n\\n\\n\\n\\n\\n‘(f)', metadata={'source': 'direct.htm', 'title': 'L_2022322EN.01001501.xml'}),\n",
              " '8d369483-05b1-48a1-8749-7170ca58ce2b': Document(page_content='‘(f)\\n\\n\\nthe scope of the quality assurance review, supported by adequate testing of selected audit files and, where applicable, assurance files, shall include an assessment of compliance with applicable auditing standards and independence requirements and, where applicable, with assurance standards, and an assessment of the quantity and quality of resources spent, of the audit fees and fees charged for the assurance of sustainability reporting, and of the internal quality control system of the audit firm;’;\\n\\n\\n\\n\\n\\n\\n\\n\\n\\n\\n\\n\\n\\n\\n(c)\\n\\n\\nin paragraph 1, point (h) is replaced by the following:\\n\\n\\n\\n\\n\\n\\n‘(h)', metadata={'source': 'direct.htm', 'title': 'L_2022322EN.01001501.xml'}),\n",
              " 'd89b1df6-01c3-48d3-a1aa-0971ff587fe4': Document(page_content='‘(h)\\n\\n\\nquality assurance reviews shall take place on the basis of an analysis of the risk and, in the case of statutory auditors and audit firms carrying out statutory audits as defined in point (a) of point 1 of Article\\xa02 and, where applicable, carrying out assurance of sustainability reporting, at least every six years;’;\\n\\n\\n\\n\\n\\n\\n\\n\\n\\n\\n\\n\\n\\n\\n(d)\\n\\n\\nin paragraph 2, point (a) is replaced by the following:\\n\\n\\n\\n\\n\\n\\n‘(a)', metadata={'source': 'direct.htm', 'title': 'L_2022322EN.01001501.xml'}),\n",
              " '9aa72e83-c8aa-4132-b1d5-71ca6c28f73f': Document(page_content='‘(a)\\n\\n\\nreviewers shall have appropriate professional education and relevant experience in statutory audit and financial reporting and, where applicable, in sustainability reporting and in the assurance of sustainability reporting or in other sustainability-related services, combined with specific training on quality assurance reviews;’;\\n\\n\\n\\n\\n\\n\\n\\n\\n\\n\\n\\n\\n\\n\\n(e)\\n\\n\\nthe following paragraph is inserted:', metadata={'source': 'direct.htm', 'title': 'L_2022322EN.01001501.xml'}),\n",
              " '76dbbd86-2a10-45db-8a50-f57396ee7043': Document(page_content='(e)\\n\\n\\nthe following paragraph is inserted:\\n\\n‘2a.\\xa0\\xa0\\xa0Member States may exempt, until 31\\xa0December 2025, persons who carry out quality assurance reviews relating to the assurance of sustainability reporting from the requirement to have relevant experience in sustainability reporting and in the assurance of sustainability reporting or in other sustainability-related services.’;\\n\\n\\n\\n\\n\\n\\n\\n\\n\\n\\n\\n\\n\\n\\n\\n(20)\\n\\n\\nin Article\\xa030, paragraphs 1 and\\xa02 are replaced by the following:\\n\\n‘1.\\xa0\\xa0\\xa0Member States shall ensure that there are effective systems of investigations and sanctions to detect, correct and prevent inadequate execution of the statutory audit and the assurance of sustainability reporting.', metadata={'source': 'direct.htm', 'title': 'L_2022322EN.01001501.xml'}),\n",
              " 'b13ec932-8f71-495e-85b6-409eed1d86c0': Document(page_content='2.\\xa0\\xa0\\xa0Without prejudice to their civil liability regimes, Member States shall provide for effective, proportionate and dissuasive sanctions in respect of statutory auditors and audit firms, where statutory audits or assurance of sustainability reporting are not carried out in conformity with the provisions adopted in the implementation of this Directive, and, where applicable, with Regulation (EU) No\\xa0537/2014.\\nMember States may decide not to lay down rules for administrative sanctions for infringements which are already subject to national criminal law. In that event, they shall communicate to the Commission the relevant criminal law provisions.’;\\n\\n\\n\\n\\n\\n\\n\\n\\n\\n\\n\\n(21)', metadata={'source': 'direct.htm', 'title': 'L_2022322EN.01001501.xml'}),\n",
              " '66a1d745-f3d0-46eb-bc5b-52d3e7c8577e': Document(page_content='(21)\\n\\n\\nin Article\\xa030a(1), the following point is inserted:\\n\\n\\n\\n\\n\\n\\n‘(ca)\\n\\n\\na temporary prohibition, of up to three years’ duration, banning the statutory auditor, the audit firm or the key sustainability partner from carrying out the assurance of sustainability reporting and/or signing assurance reports on sustainability reporting;’;\\n\\n\\n\\n\\n\\n\\n\\n\\n\\n\\n\\n\\n\\n\\n(22)\\n\\n\\nin Article\\xa030a(1), the following point is inserted:\\n\\n\\n\\n\\n\\n\\n‘(da)\\n\\n\\na declaration that the assurance report on sustainability reporting does not meet the requirements of Article\\xa028a of this Directive;’;\\n\\n\\n\\n\\n\\n\\n\\n\\n\\n\\n\\n\\n\\n\\n(23)\\n\\n\\nArticle\\xa032 is amended as follows:\\n\\n\\n\\n\\n\\n\\n(a)', metadata={'source': 'direct.htm', 'title': 'L_2022322EN.01001501.xml'}),\n",
              " '1592d088-6ecf-44f2-9987-c80a7ae94e7b': Document(page_content='Article\\xa032 is amended as follows:\\n\\n\\n\\n\\n\\n\\n(a)\\n\\n\\nin paragraph 3, the first subparagraph is replaced by the following:\\n\\n‘3.\\xa0\\xa0\\xa0The competent authority shall be governed by non-practitioners who are knowledgeable in the areas relevant to statutory audit and, where applicable, to the assurance of sustainability reporting. They shall be selected in accordance with an independent and transparent nomination procedure.’;\\n\\n\\n\\n\\n\\n\\n\\n\\n\\n\\n\\n(b)\\n\\n\\nin paragraph 4, point (b) is replaced by the following:\\n\\n\\n\\n\\n\\n\\n‘(b)', metadata={'source': 'direct.htm', 'title': 'L_2022322EN.01001501.xml'}),\n",
              " 'ca817f0b-8213-4c36-b1bb-8bdafc695e06': Document(page_content='‘(b)\\n\\n\\nthe adoption of standards on professional ethics, internal quality control of audit firms, auditing and the assurance of sustainability reporting, except where those standards are adopted or approved by other Member State authorities;’;\\n\\n\\n\\n\\n\\n\\n\\n\\n\\n\\n\\n\\n\\n\\n\\n\\n\\n\\n(24)\\n\\n\\nthe following Article is inserted:\\n\\n‘Article\\xa036a\\nRegulatory arrangements between Member States as regards the assurance of sustainability reporting\\nThe requirements of Articles 34 and\\xa036 as regards the statutory audit of financial statements shall apply mutatis mutandis to the assurance of sustainability reporting.’;\\n\\n\\n\\n\\n\\n\\n\\n\\n\\n\\n\\n(25)\\n\\n\\nArticle\\xa037 is amended as follows:\\n\\n\\n\\n\\n\\n\\n(a)', metadata={'source': 'direct.htm', 'title': 'L_2022322EN.01001501.xml'}),\n",
              " '2f4f8922-d8ac-40dd-8f95-c5563b9b8f3e': Document(page_content='Article\\xa037 is amended as follows:\\n\\n\\n\\n\\n\\n\\n(a)\\n\\n\\nin paragraph 1, the following subparagraph is added:\\n\\n                                          ‘The first subparagraph shall apply to the appointment of the statutory auditor or audit firm for the purpose of the assurance of sustainability reporting.’;\\n\\n\\n\\n\\n\\n\\n\\n\\n\\n\\n(b)\\n\\n\\nin paragraph 2, the following subparagraph is added:\\n\\n                                          ‘The first subparagraph shall apply to the appointment of the statutory auditor or audit firm for the purpose of the assurance of sustainability reporting.’;\\n\\n\\n\\n\\n\\n\\n\\n\\n\\n\\n(c)\\n\\n\\nparagraph 3 is replaced by the following:', metadata={'source': 'direct.htm', 'title': 'L_2022322EN.01001501.xml'}),\n",
              " '75aec955-6074-47af-8743-c594fc15769e': Document(page_content='‘3.\\xa0\\xa0\\xa0Any contractual clause restricting the choice by the general meeting of shareholders or members of the audited entity pursuant to paragraph 1 to certain categories or lists of statutory auditors or audit firms as regards the appointment of a particular statutory auditor or audit firm to carry out the statutory audit and, where applicable, the assurance of sustainability reporting of that entity shall be prohibited. Any such existing clauses shall be null and void.', metadata={'source': 'direct.htm', 'title': 'L_2022322EN.01001501.xml'}),\n",
              " '35629359-dbc4-40d8-a714-67d3ef8483d5': Document(page_content='Member States shall ensure that shareholders or members of large undertakings subject to Articles 19a and\\xa029a of Directive 2013/34/EU, except undertakings referred to in point (a) of point (1) of Article\\xa02 of that Directive, and which represent more than 5\\xa0% of the voting rights or 5\\xa0% of the capital of the undertaking, acting individually or collectively, have the right to table a draft resolution to be adopted in the general meeting of shareholders or members, requiring that an accredited third party that does not belong to the same audit firm or network as the statutory auditor or audit firm carrying out the statutory audit prepare a report on certain elements of the sustainability', metadata={'source': 'direct.htm', 'title': 'L_2022322EN.01001501.xml'}),\n",
              " '4238ec55-c860-4d4d-a12f-97583df9fe78': Document(page_content='report on certain elements of the sustainability reporting and that such report be made available to the general meeting of shareholders or members.’;', metadata={'source': 'direct.htm', 'title': 'L_2022322EN.01001501.xml'}),\n",
              " '5701c192-1135-4948-b632-36544d0e3b9e': Document(page_content='(26)\\n\\n\\nArticle\\xa038 is amended as follows:\\n\\n\\n\\n\\n\\n\\n(a)\\n\\n\\nparagraph 1 is replaced by the following:\\n\\n‘1.\\xa0\\xa0\\xa0Member States shall ensure that statutory auditors or audit firms may be dismissed only where there are proper grounds. Divergence of opinions on accounting treatments, audit procedures or, where applicable, on sustainability reporting or assurance procedures shall not be proper grounds for dismissal.’;\\n\\n\\n\\n\\n\\n\\n\\n\\n\\n\\n\\n(b)\\n\\n\\nin paragraph 2, the following subparagraph is added:\\n\\n                                          ‘The obligation to inform provided for in the first subparagraph shall also apply to the assurance of sustainability reporting.’;\\n\\n\\n\\n\\n\\n\\n\\n\\n\\n\\n(c)', metadata={'source': 'direct.htm', 'title': 'L_2022322EN.01001501.xml'}),\n",
              " '5583393b-04df-4929-ad04-5cc27f81e164': Document(page_content='(c)\\n\\n\\nin paragraph 3, the following subparagraph is added:\\n\\n                                          ‘The first subparagraph shall also apply to the assurance of sustainability reporting.’;\\n\\n\\n\\n\\n\\n\\n\\n\\n\\n\\n\\n\\n\\n\\n(27)\\n\\n\\nArticle\\xa039 is amended as follows:\\n\\n\\n\\n\\n\\n\\n(a)\\n\\n\\nthe following paragraph is inserted:\\n\\n‘4a.\\xa0\\xa0\\xa0Member States may allow the functions assigned to the audit committee relating to sustainability reporting and relating to the assurance of sustainability reporting to be performed by the administrative or supervisory body as a whole or by a dedicated body established by the administrative or supervisory body.’;\\n\\n\\n\\n\\n\\n\\n\\n\\n\\n\\n\\n(b)', metadata={'source': 'direct.htm', 'title': 'L_2022322EN.01001501.xml'}),\n",
              " 'dc6b8259-266f-45cf-bb15-ac2a00c28da6': Document(page_content='(b)\\n\\n\\nin paragraph 6, points (a) to (e) are replaced by the following:\\n\\n\\n\\n\\n\\n\\n‘(a)\\n\\n\\ninform the administrative or supervisory body of the audited entity of the outcome of the statutory audit and, where applicable, of the outcome of the assurance of sustainability reporting and explain how the statutory audit and the assurance of sustainability reporting contributed to the integrity of financial reporting and sustainability reporting respectively, and what the role of the audit committee was in that process;\\n\\n\\n\\n\\n\\n\\n\\n\\n\\n\\n(b)', metadata={'source': 'direct.htm', 'title': 'L_2022322EN.01001501.xml'}),\n",
              " '4dd83cd5-524c-4c57-bd58-71c35de81f09': Document(page_content='(b)\\n\\n\\nmonitor the financial and, where applicable, sustainability reporting process, including the electronic reporting process as referred to in Article\\xa029d of Directive\\xa02013/34/EU and the process carried out by the undertaking to identify the information reported in accordance with the sustainability reporting standards adopted pursuant to Article\\xa029b of that Directive, and submit recommendations or proposals to ensure their integrity;\\n\\n\\n\\n\\n\\n\\n\\n\\n\\n\\n(c)', metadata={'source': 'direct.htm', 'title': 'L_2022322EN.01001501.xml'}),\n",
              " 'ffcff49d-d089-41c1-8db6-8efa5a7a553c': Document(page_content='(c)\\n\\n\\nmonitor the effectiveness of the undertaking’s internal quality control and risk management systems and, where applicable, its internal audit, regarding the financial reporting and, where applicable, sustainability reporting of the undertaking, including its electronic reporting process as referred to in Article\\xa029d of Directive 2013/34/EU, without breaching its independence;\\n\\n\\n\\n\\n\\n\\n\\n\\n\\n\\n(d)', metadata={'source': 'direct.htm', 'title': 'L_2022322EN.01001501.xml'}),\n",
              " 'e37ff6f8-d486-4414-a1e2-f581698d0ad0': Document(page_content='(d)\\n\\n\\nmonitor the statutory audit of the annual and consolidated financial statements and, where applicable, the assurance of the annual and consolidated sustainability reporting, in particular its performance, taking into account any findings and conclusions by the competent authority pursuant to Article\\xa026(6) of Regulation (EU) No\\xa0537/2014;\\n\\n\\n\\n\\n\\n\\n\\n\\n\\n\\n(e)', metadata={'source': 'direct.htm', 'title': 'L_2022322EN.01001501.xml'}),\n",
              " 'bb236eda-e7af-4c81-a344-22b05638a79a': Document(page_content='(e)\\n\\n\\nreview and monitor the independence of the statutory auditors or the audit firms in accordance with Articles 22, 22a, 22b, 24a, 24b, 25b, 25c and\\xa025d of this Directive and with Article\\xa06 of Regulation (EU) No\\xa0537/2014, and in particular the appropriateness of the provision of non-audit services to the audited entity in accordance with Article\\xa05 of that Regulation;’;\\n\\n\\n\\n\\n\\n\\n\\n\\n\\n\\n\\n\\n\\n\\n\\n\\n\\n\\n(28)\\n\\n\\nArticle\\xa045 is amended as follows:\\n\\n\\n\\n\\n\\n\\n(a)\\n\\n\\nparagraph 1 is replaced by the following:', metadata={'source': 'direct.htm', 'title': 'L_2022322EN.01001501.xml'}),\n",
              " '90375a07-69ca-4d07-a9fe-329ba284cf82': Document(page_content='‘1.\\xa0\\xa0\\xa0The competent authorities of a Member State shall, in accordance with Articles 15, 16 and\\xa017 of this Directive, register every third-country auditor and audit entity, where that third-country auditor or audit entity provides an audit report concerning the annual or consolidated financial statements, or, where applicable, an assurance report concerning the annual or consolidated sustainability reporting of an undertaking incorporated outside the Union whose transferable securities are admitted to trading on a regulated market of that Member State, defined in point (21) of Article\\xa04(1) of Directive 2014/65/EU of the European Parliament and of the Council\\xa0(*27), except where the', metadata={'source': 'direct.htm', 'title': 'L_2022322EN.01001501.xml'}),\n",
              " 'be3447e1-e432-4091-8ff9-3a77eb439978': Document(page_content='and of the Council\\xa0(*27), except where the undertaking in question is an issuer exclusively of outstanding debt securities for which one of the following applies:', metadata={'source': 'direct.htm', 'title': 'L_2022322EN.01001501.xml'}),\n",
              " '941d5daf-d954-46f0-a75b-200a17a2f9c6': Document(page_content='(a)\\n\\n\\nsuch securities have been admitted to trading on a regulated market in a Member State, defined in point (21) of Article\\xa04(1) of Directive 2014/65/EU prior to 31\\xa0December 2010 and the denomination per unit of which is, at the date of issue, at least EUR\\xa050\\xa0000 or, in the case of debt securities denominated in another currency, equivalent, at the date of issue, to at least EUR\\xa050\\xa0000;\\n\\n\\n\\n\\n\\n\\n\\n\\n\\n\\n(b)', metadata={'source': 'direct.htm', 'title': 'L_2022322EN.01001501.xml'}),\n",
              " '48775e65-dfbc-4551-9f66-f608c6093c79': Document(page_content='(b)\\n\\n\\nsuch securities are admitted to trading on a regulated market in a Member State, defined in point (21) of Article\\xa04(1) of Directive 2014/65/EU from 31\\xa0December 2010 and the denomination per unit of which is, at the date of issue, at least EUR\\xa0100\\xa0000 or, in case of debt securities denominated in another currency, equivalent, at the date of issue, to at least EUR\\xa0100\\xa0000.\\n\\n\\n\\n\\n\\n\\n(*27)\\xa0\\xa0Directive 2014/65/EU of the European Parliament and of the Council of 15\\xa0May 2014 on markets in financial instruments and amending Directive 2002/92/EC and Directive 2011/61/EU (OJ\\xa0L\\xa0173, 12.6.2014, p.\\xa0349).’;\"\\n                        \\n\\n\\n\\n\\n\\n\\n\\n\\n\\n\\n(b)', metadata={'source': 'direct.htm', 'title': 'L_2022322EN.01001501.xml'}),\n",
              " 'e93fa107-6da7-4bf0-92c8-7e9fe06c2b0d': Document(page_content='(b)\\n\\n\\nparagraphs 4 to 6 are replaced by the following:\\n\\n‘4.\\xa0\\xa0\\xa0Without prejudice to Article\\xa046, audit reports concerning annual accounts or consolidated accounts or, where applicable, the assurance reports concerning annual or consolidated sustainability reporting referred to in paragraph 1 of this Article issued by third-country auditors or audit entities that are not registered in the Member State shall have no legal effect in that Member State.\\n\\n\\n5.\\xa0\\xa0\\xa0A Member State may register a third-country audit entity for the purpose of the audit of financial statements only if:\\n\\n\\n\\n\\n\\n\\n(a)', metadata={'source': 'direct.htm', 'title': 'L_2022322EN.01001501.xml'}),\n",
              " 'f2024624-5cf9-49f4-b26d-8073fb885d29': Document(page_content='(a)\\n\\n\\nthe majority of the members of the administrative or management body of the third-country audit entity meet requirements which are equivalent to those laid down in Articles 4 to 10, with the exception of Article\\xa07(2), Article\\xa08(3) and the second subparagraph of Article\\xa010(1);\\n\\n\\n\\n\\n\\n\\n\\n\\n\\n\\n(b)\\n\\n\\nthe third-country auditor carrying out the audit on behalf of the third-country audit entity meets requirements which are equivalent to those laid down in Articles 4 to 10, with the exception of Article\\xa07(2), Article\\xa08(3) and the second subparagraph of Article\\xa010(1);\\n\\n\\n\\n\\n\\n\\n\\n\\n\\n\\n(c)', metadata={'source': 'direct.htm', 'title': 'L_2022322EN.01001501.xml'}),\n",
              " '7e9b450a-ea46-4190-b82e-83ac08017af1': Document(page_content='(c)\\n\\n\\nthe audits of the annual or consolidated financial statements referred to in paragraph 1 of this Article are carried out in accordance with international auditing standards as referred to in Article\\xa026, as well as the requirements laid down in Articles 22, 22b and\\xa025, or with equivalent standards and requirements;\\n\\n\\n\\n\\n\\n\\n\\n\\n\\n\\n(d)\\n\\n\\nthe third-country audit entity publishes on its website an annual transparency report which includes the information referred to in Article\\xa013 of Regulation (EU) No\\xa0537/2014 or it complies with equivalent disclosure requirements.', metadata={'source': 'direct.htm', 'title': 'L_2022322EN.01001501.xml'}),\n",
              " 'c0705e38-6a43-40bb-8bcb-f4f3c600207f': Document(page_content='A Member State may register a third-country audit entity for the purpose of the assurance of sustainability reporting only if:\\n\\n\\n\\n\\n\\n\\n(a)\\n\\n\\nthe majority of the members of the administrative or management body of the third-country audit entity meet requirements which are equivalent to those laid down in Articles 4 to 10;\\n\\n\\n\\n\\n\\n\\n\\n\\n\\n\\n(b)\\n\\n\\nthe third-country auditor carrying out the assurance on behalf of the third-country audit entity meets requirements which are equivalent to those laid down in Articles 4 to 10;\\n\\n\\n\\n\\n\\n\\n\\n\\n\\n\\n(c)', metadata={'source': 'direct.htm', 'title': 'L_2022322EN.01001501.xml'}),\n",
              " 'bbdf88c9-8803-402f-b867-4edd235d4132': Document(page_content='(c)\\n\\n\\nthe assurance of the annual or consolidated sustainability reporting referred to in paragraph 1 is carried out in accordance with the assurance standards referred to in Article\\xa026a, as well as the requirements laid down in Articles 22, 22b, 25 and\\xa025b, or with equivalent standards and requirements;\\n\\n\\n\\n\\n\\n\\n\\n\\n\\n\\n(d)\\n\\n\\nthe third-country audit entity publishes on its website an annual transparency report which includes the information referred to in Article\\xa013 of Regulation (EU) No\\xa0537/2014 or it complies with equivalent disclosure requirements.', metadata={'source': 'direct.htm', 'title': 'L_2022322EN.01001501.xml'}),\n",
              " 'e8103d8c-4408-450f-b8ca-6f5e1f47bf5a': Document(page_content='5a.\\xa0\\xa0\\xa0A Member State may register a third-country auditor for the purpose of the audit of financial statements only if he or she meets the requirements set out in points (b), (c) and (d) of the first subparagraph of paragraph 5 of this Article.\\nA Member State may register a third-country auditor for the purpose of the assurance for sustainability reporting only if he or she meets the requirements set out in points (b), (c) and (d) of the second subparagraph of paragraph 5 of this Article.', metadata={'source': 'direct.htm', 'title': 'L_2022322EN.01001501.xml'}),\n",
              " 'a3c4f1f3-431f-466e-a35a-fab20b165714': Document(page_content='6.\\xa0\\xa0\\xa0In order to ensure uniform conditions for the application of point (c) of the first subparagraph of paragraph 5 and point (c) of the second subparagraph of paragraph 5 of this Article, the Commission shall be empowered to decide upon the equivalence referred to therein by means of implementing acts. Those implementing acts shall be adopted in accordance with the examination procedure referred to in Article\\xa048(2).\\nMember States may assess the equivalence referred to point (c) of the first subparagraph of paragraph 5 and point (c) of the second subparagraph of paragraph 5 of this Article, as long as the Commission has not taken any such decision.', metadata={'source': 'direct.htm', 'title': 'L_2022322EN.01001501.xml'}),\n",
              " '31f57a6e-b995-492b-9b04-690c3c11bade': Document(page_content='The Commission shall be empowered to adopt delegated acts in accordance with Article\\xa048a supplementing this Directive for the purpose of establishing the general equivalence criteria to be used in assessing whether the audits of the financial statements and, where applicable, the assurance of sustainability reporting referred to in paragraph 1 of this Article are carried out in accordance with international auditing standards as defined in Article\\xa026 and with assurance standards for sustainability reporting referred to in Article\\xa026a, respectively, and with the requirements laid down in Articles 22, 24 and\\xa025. Such criteria, which are applicable to all third countries, shall be used by', metadata={'source': 'direct.htm', 'title': 'L_2022322EN.01001501.xml'}),\n",
              " '6b9dff3b-aaf1-4390-a23c-a3d971181ef5': Document(page_content='to all third countries, shall be used by Member States when assessing equivalence at national level.’;', metadata={'source': 'direct.htm', 'title': 'L_2022322EN.01001501.xml'}),\n",
              " '549f4df5-79cc-45e3-bc96-f9207b7f32bc': Document(page_content='(29)\\n\\n\\nArticle\\xa048a is amended as follows:\\n\\n\\n\\n\\n\\n\\n(a)\\n\\n\\nin paragraph 2, the following subparagraph is added:\\n\\n                                          ‘The power to adopt delegated acts referred to in Article\\xa026a(2) shall be conferred on the Commission for an indeterminate period of time.’;\\n\\n\\n\\n\\n\\n\\n\\n\\n\\n\\n(b)\\n\\n\\nparagraph 3 is replaced by the following:', metadata={'source': 'direct.htm', 'title': 'L_2022322EN.01001501.xml'}),\n",
              " '9b89b54a-7c65-48a1-9b2a-9bab4972e1d8': Document(page_content='(b)\\n\\n\\nparagraph 3 is replaced by the following:\\n\\n‘3.\\xa0\\xa0\\xa0The delegation of power referred to in Article\\xa026(3), Article\\xa026a(3), Article\\xa045(6), Article\\xa046(2) and Article\\xa047(3) may be revoked at any time by the European Parliament or by the Council. A decision to revoke shall put an end to the delegation of the power specified in that decision. It shall take effect the day following the publication of the decision in the Official Journal of the European Union or at a later date specified therein. It shall not affect the validity of any delegated acts already in force.’;\\n\\n\\n\\n\\n\\n\\n\\n\\n\\n\\n\\n(c)\\n\\n\\nparagraph 5 is replaced by the following:', metadata={'source': 'direct.htm', 'title': 'L_2022322EN.01001501.xml'}),\n",
              " '7c8463bc-d7c4-4127-bbca-994f95c60959': Document(page_content='(c)\\n\\n\\nparagraph 5 is replaced by the following:\\n\\n‘5.\\xa0\\xa0\\xa0A delegated act adopted pursuant to Article\\xa026(3), Article\\xa026a(3), Article\\xa045(6), Article\\xa046(2) or Article\\xa047(3) shall enter into force only if no objection has been expressed either by the European Parliament or the Council within a period of four months of notification of that act to the European Parliament and the Council or if, before the expiry of that period, the European Parliament and the Council have both informed the Commission that they will not object. That period shall be extended by two months at the initiative of the European Parliament or of the Council.’.\\n\\n\\n\\n\\n\\n\\n\\n\\n\\n\\n\\nArticle\\xa04\\n\\nAmendments to Regulation (EU) No\\xa0537/2014', metadata={'source': 'direct.htm', 'title': 'L_2022322EN.01001501.xml'}),\n",
              " '25bf01e2-6e54-4506-989c-87e9371b08e6': Document(page_content='Amendments to Regulation (EU) No\\xa0537/2014\\n\\nRegulation (EU) No\\xa0537/2014 is amended as follows:\\n\\n\\n\\n\\n\\n\\n(1)\\n\\n\\nin Article\\xa04(2), the second subparagraph is replaced by the following:\\n\\n                              ‘For the purposes of the limits specified in the first subparagraph of this paragraph, the assurance of sustainability reporting, and non-audit services other than those referred to in Article\\xa05(1), required by Union or national legislation, shall be excluded.’;\\n\\n\\n\\n\\n\\n\\n\\n\\n\\n\\n(2)\\n\\n\\nArticle\\xa05 is amended as follows:\\n\\n\\n\\n\\n\\n\\n(a)\\n\\n\\nin paragraph 1, second subparagraph, point (c) is replaced by the following:\\n\\n\\n\\n\\n\\n\\n‘(c)', metadata={'source': 'direct.htm', 'title': 'L_2022322EN.01001501.xml'}),\n",
              " 'b2ca3be0-9579-4ad7-849d-2fd698143d1a': Document(page_content='‘(c)\\n\\n\\nbookkeeping and preparing accounting records and financial statements as well as preparing sustainability reporting;’;\\n\\n\\n\\n\\n\\n\\n\\n\\n\\n\\n\\n\\n\\n\\n(b)\\n\\n\\nin paragraph 4, the following subparagraph is inserted after the first subparagraph:\\n\\n                                          ‘The approval of the audit committee referred to in the first subparagraph shall not be needed for the provision of assurance of sustainability reporting.’.\\n\\n\\n\\n\\n\\n\\n\\n\\n\\n\\nArticle\\xa05\\n\\nTransposition', metadata={'source': 'direct.htm', 'title': 'L_2022322EN.01001501.xml'}),\n",
              " 'e58b1edd-03af-4f3d-89fa-063c5aa5994e': Document(page_content='Article\\xa05\\n\\nTransposition\\n\\n\\n1.\\xa0\\xa0\\xa0Member States shall bring into force the laws, regulations and administrative provisions necessary to comply with Articles 1 to 3 of this Directive by 6\\xa0July 2024. They shall immediately communicate the text of those measures to the Commission.\\n\\n\\n2.\\xa0\\xa0\\xa0Member States shall apply the measures necessary to comply with Article\\xa01, with the exception of point (14):\\n\\n\\n\\n\\n\\n\\n(a)\\n\\n\\nfor financial years starting on or after 1\\xa0January 2024:\\n\\n\\n\\n\\n\\n\\n(i)', metadata={'source': 'direct.htm', 'title': 'L_2022322EN.01001501.xml'}),\n",
              " 'd218efd0-e285-462b-ae22-e770512f2aeb': Document(page_content='(i)\\n\\n\\nto large undertakings within the meaning of Article\\xa03(4) of Directive 2013/34/EU which are public-interest entities as defined in point (1) of Article\\xa02 of that Directive exceeding on their balance sheet dates the average number of 500 employees during the financial year;\\n\\n\\n\\n\\n\\n\\n\\n\\n\\n\\n(ii)\\n\\n\\nto public-interest entities as defined in point (1) of Article\\xa02 of Directive 2013/34/EU which are parent undertakings of a large group within the meaning of Article\\xa03(7) of that Directive exceeding on its balance sheet dates, on a consolidated basis, the average number of 500 employees during the financial year;\\n\\n\\n\\n\\n\\n\\n\\n\\n\\n\\n\\n\\n\\n\\n(b)\\n\\n\\nfor financial years starting on or after 1\\xa0January 2025:', metadata={'source': 'direct.htm', 'title': 'L_2022322EN.01001501.xml'}),\n",
              " '854cf03a-3c6d-4f2a-93fa-47669d6c1ba7': Document(page_content='(i)\\n\\n\\nto large undertakings within the meaning of Article\\xa03(4) of Directive 2013/34/EU, other than those referred to in point (a)(i) of this subparagraph;\\n\\n\\n\\n\\n\\n\\n\\n\\n\\n\\n(ii)\\n\\n\\nto parent undertakings of a large group within the meaning of Article\\xa03(7) of Directive 2013/34/EU, other than those referred to in point (a)(ii) of this subparagraph;\\n\\n\\n\\n\\n\\n\\n\\n\\n\\n\\n\\n\\n\\n\\n(c)\\n\\n\\nfor financial years starting on or after 1\\xa0January 2026:\\n\\n\\n\\n\\n\\n\\n(i)', metadata={'source': 'direct.htm', 'title': 'L_2022322EN.01001501.xml'}),\n",
              " 'bdda94b6-2d28-474e-8831-f0b75859e405': Document(page_content='(i)\\n\\n\\nto small and medium-sized undertakings within the meaning of Article\\xa03(2) and\\xa0(3) of Directive 2013/34/EU which are public-interest entities as defined in point (a) of point (1) of Article\\xa02 of that Directive and which are not micro-undertakings as defined in Article\\xa03(1) of that Directive;\\n\\n\\n\\n\\n\\n\\n\\n\\n\\n\\n(ii)', metadata={'source': 'direct.htm', 'title': 'L_2022322EN.01001501.xml'}),\n",
              " '826e8510-54d4-4c5f-a063-9511d6abc261': Document(page_content='(ii)\\n\\n\\nto small and non-complex institutions defined in point (145) of Article\\xa04(1) of Regulation (EU) No\\xa0575/2013, provided they are large undertakings within the meaning of Article\\xa03(4) of Directive 2013/34/EU or that they are small and medium sized undertakings within the meaning of Article\\xa03(2) and\\xa0(3) of that Directive which are public-interest entities as defined in point (a) of point (1) of Article\\xa02 of that Directive and which are not micro-undertakings as defined in Article\\xa03(1) of that Directive;\\n\\n\\n\\n\\n\\n\\n\\n\\n\\n\\n(iii)', metadata={'source': 'direct.htm', 'title': 'L_2022322EN.01001501.xml'}),\n",
              " '4fca0ab9-08a2-4ed4-ae5f-12d115668f07': Document(page_content='(iii)\\n\\n\\nto captive insurance undertakings defined in point (2) of Article\\xa013 of Directive 2009/138/EC of the European Parliament and of the Council\\xa0(39), and captive reinsurance undertakings defined in point (5) of Article\\xa013 of that Directive, provided that they are large undertakings within the meaning of Article\\xa03(4) of Directive 2013/34/EU or that they are small and medium sized undertakings within the meaning of Article\\xa03(2) and\\xa0(3) of that Directive which are public-interest entities as defined in point (a) of point (1) of Article\\xa02 of that Directive and which are not micro-undertakings as defined in Article\\xa03(1) of that Directive.', metadata={'source': 'direct.htm', 'title': 'L_2022322EN.01001501.xml'}),\n",
              " '27b53c20-ccae-4b2e-ad08-efdb2343805e': Document(page_content='Member States shall apply the measures necessary to comply with point (14) of Article\\xa01 for financial years starting on or after 1\\xa0January 2028.\\nMember States shall apply the measures necessary to comply with Article\\xa02:\\n\\n\\n\\n\\n\\n\\n(a)\\n\\n\\nfor financial years starting on or after 1\\xa0January 2024:\\n\\n\\n\\n\\n\\n\\n(i)\\n\\n\\nto issuers as defined in point (d) of Article\\xa02(1) of Directive 2004/109/EC which are large undertakings within the meaning of Article\\xa03(4) of Directive 2013/34/EU exceeding on their balance sheet dates the average number of 500 employees during the financial year;\\n\\n\\n\\n\\n\\n\\n\\n\\n\\n\\n(ii)', metadata={'source': 'direct.htm', 'title': 'L_2022322EN.01001501.xml'}),\n",
              " '7ee96ae8-4286-4582-8283-ddace3440e27': Document(page_content='(ii)\\n\\n\\nto issuers as defined in point (d) of Article\\xa02(1) of Directive 2004/109/EC which are parent undertakings of a large group within the meaning of Article\\xa03(7) of Directive 2013/34/EU exceeding on its balance sheet dates, on a consolidated basis, the average number of 500 employees during the financial year;\\n\\n\\n\\n\\n\\n\\n\\n\\n\\n\\n\\n\\n\\n\\n(b)\\n\\n\\nfor financial years starting on or after 1\\xa0January 2025:\\n\\n\\n\\n\\n\\n\\n(i)\\n\\n\\nto issuers as defined in point (d) of Article\\xa02(1) of Directive 2004/109/EC which are large undertakings within the meaning of Article\\xa03(4) of Directive 2013/34/EU other than those referred to in point (a) (i) of this subparagraph;\\n\\n\\n\\n\\n\\n\\n\\n\\n\\n\\n(ii)', metadata={'source': 'direct.htm', 'title': 'L_2022322EN.01001501.xml'}),\n",
              " 'c9f4db9e-aeb8-4181-8e1e-0a8f5f527d0b': Document(page_content='(ii)\\n\\n\\nto issuers as defined in point (d) of Article\\xa02(1) of Directive 2004/109/EC which are parent undertakings of a large group within the meaning of Article\\xa03(7) of Directive 2013/34/EU other than those referred to in point (a) (ii) of this subparagraph;\\n\\n\\n\\n\\n\\n\\n\\n\\n\\n\\n\\n\\n\\n\\n(c)\\n\\n\\nfor financial years starting on or after 1\\xa0January 2026:\\n\\n\\n\\n\\n\\n\\n(i)\\n\\n\\nto issuers as defined in point (d) of Article\\xa02(1) of Directive 2004/109/EC which are small and medium-sized undertakings within the meaning of Article\\xa03(2) and\\xa0(3) of Directive 2013/34/EU and which are not micro-undertakings as defined in Article\\xa03(1) of Directive 2013/34/EU;\\n\\n\\n\\n\\n\\n\\n\\n\\n\\n\\n(ii)', metadata={'source': 'direct.htm', 'title': 'L_2022322EN.01001501.xml'}),\n",
              " 'f30c0ee6-28db-486d-9f9a-8cfc25b2190c': Document(page_content='(ii)\\n\\n\\nto issuers defined as small and non-complex institutions in point (145) of Article\\xa04(1) of Regulation (EU) No\\xa0575/2013, provided they are large undertakings within the meaning of Article\\xa03(4) of Directive 2013/34/EU or that they are small and medium-sized undertakings within the meaning of Article\\xa03(2) and\\xa0(3) of that Directive which are public-interest entities as defined in point (a) of point (1) of Article\\xa02 of that Directive and which are not micro-undertakings as defined in Article\\xa03(1) of that Directive;\\n\\n\\n\\n\\n\\n\\n\\n\\n\\n\\n(iii)', metadata={'source': 'direct.htm', 'title': 'L_2022322EN.01001501.xml'}),\n",
              " 'c2ab83ad-186a-4331-bd87-158a042c12a5': Document(page_content='(iii)\\n\\n\\nto issuers defined as captive insurance undertakings in point (2) of Article\\xa013 of Directive 2009/138/EC, or as captive reinsurance undertakings in point (5) of Article\\xa013 of that Directive, provided that they are large undertakings within the meaning of Article\\xa03 (4) of Directive 2013/34/EU or that they are small and medium-sized undertakings within the meaning of Article\\xa03(2) and\\xa0(3) of that Directive which are public-interest entities as defined in point (a) of point (1) of Article\\xa02 of that Directive and which are not micro-undertakings as defined in Article\\xa03(1) of that Directive.', metadata={'source': 'direct.htm', 'title': 'L_2022322EN.01001501.xml'}),\n",
              " 'caa51e10-30fd-49fd-8227-49bf24ea9bda': Document(page_content='Member States shall apply the measures necessary to comply with Article\\xa03 for financial years starting on or after 1\\xa0January 2024.\\n\\n\\n3.\\xa0\\xa0\\xa0When Member States adopt the measures referred to in paragraph\\xa01, they shall contain a reference to this Directive or shall be accompanied by such a reference on the occasion of their official publication. Member States shall determine how such reference is to be made.\\n\\n\\n4.\\xa0\\xa0\\xa0Member States shall communicate to the Commission the text of the main provisions of national law which they adopt in the field covered by this Directive.\\n\\n\\n\\nArticle\\xa06\\n\\nReview and reporting', metadata={'source': 'direct.htm', 'title': 'L_2022322EN.01001501.xml'}),\n",
              " '485d5f87-73a7-4f97-8afb-8b8cbe539e92': Document(page_content='Article\\xa06\\n\\nReview and reporting\\n\\n\\n1.\\xa0\\xa0\\xa0The Commission shall submit a report to the European Parliament and to the Council on the implementation of this amending Directive, including, inter\\xa0alia:\\n\\n\\n\\n\\n\\n\\n(a)\\n\\n\\nan assessment of the achievement of the goals of this amending Directive, including the convergence of reporting practices between Member States;\\n\\n\\n\\n\\n\\n\\n\\n\\n\\n\\n(b)\\n\\n\\nan assessment of the number of small and medium-sized undertakings voluntarily using the sustainability reporting standards referred to in Article\\xa029c of Directive 2013/34/EU;\\n\\n\\n\\n\\n\\n\\n\\n\\n\\n\\n(c)', metadata={'source': 'direct.htm', 'title': 'L_2022322EN.01001501.xml'}),\n",
              " 'ed9927c9-bf7c-42f9-aec9-84e5494c3bce': Document(page_content='(c)\\n\\n\\nan assessment of whether and how the scope of the provisions amended by this amending Directive should be further extended, in particular in relation to small and medium-sized undertakings and to third-country undertakings operating directly on the Union internal market without a subsidiary or a branch on the territory of the Union;\\n\\n\\n\\n\\n\\n\\n\\n\\n\\n\\n(d)', metadata={'source': 'direct.htm', 'title': 'L_2022322EN.01001501.xml'}),\n",
              " '0de092cb-8479-40ab-ac27-1e4429ee9a38': Document(page_content='(d)\\n\\n\\nan assessment of the implementation of the reporting requirements on subsidiaries and branches of third-country undertakings introduced by this amending Directive, including an assessment of the number of third-country undertakings which have a subsidiary undertaking or a branch reporting in accordance with Article\\xa040a of Directive 2013/34/EU; an assessment of the enforcement mechanism and of the thresholds set out in that Article;\\n\\n\\n\\n\\n\\n\\n\\n\\n\\n\\n(e)\\n\\n\\nan assessment of whether and how to ensure the accessibility for persons with disabilities to the sustainability reports published by undertakings falling under the scope of this amending Directive.', metadata={'source': 'direct.htm', 'title': 'L_2022322EN.01001501.xml'}),\n",
              " '9076fff1-50f0-4de8-8b5e-deac70cf3937': Document(page_content='The report shall be published by 30\\xa0April 2029 and every three years thereafter, and shall be accompanied, if appropriate, by legislative proposals.', metadata={'source': 'direct.htm', 'title': 'L_2022322EN.01001501.xml'}),\n",
              " '07d457da-9da5-4025-ad0d-3c51f311f3e4': Document(page_content='2.\\xa0\\xa0\\xa0By 31\\xa0December 2028, the Commission shall review and report on the level of concentration of the sustainability assurance market. That review shall take into account the national regimes applicable to independent assurance services providers and assess whether and to what extent those national regimes contribute to opening up the assurance market.', metadata={'source': 'direct.htm', 'title': 'L_2022322EN.01001501.xml'}),\n",
              " '03d09417-3b8f-4206-a1d4-1c3cc53d5c00': Document(page_content='By 31\\xa0December 2028, the Commission shall assess possible legal measures to ensure sufficient diversification of the sustainability assurance market and appropriate sustainability reporting quality. The Commission shall review the measures provided for in Article\\xa034 of Directive 2013/34/EU and assess the need to extend them to other large undertakings.\\nThe report shall be transmitted to the European Parliament and the Council by 31\\xa0December 2028 and shall be accompanied, if appropriate, by legislative proposals.', metadata={'source': 'direct.htm', 'title': 'L_2022322EN.01001501.xml'}),\n",
              " '27aa9415-f1ee-4eb4-92eb-9f6bd5f6263c': Document(page_content='Article\\xa07\\n\\nEntry into force and application\\n\\nThis Directive shall enter into force on the twentieth day following that of its publication in the Official Journal of the European Union.\\nArticle\\xa04 of this Directive shall apply from 1\\xa0January 2024 for financial years starting on or after 1\\xa0January 2024.\\n\\n\\nArticle\\xa08\\n\\nAddressees\\n\\nThis Directive is addressed to the Member States.\\n\\n\\n\\n\\nArticle\\xa04 shall be binding in its entirety and directly applicable in all Member States.\\nDone at Strasbourg, 14\\xa0December 2022.\\n\\n\\nFor the European Parliament\\n\\n\\nThe President\\n\\nR. METSOLA\\n            \\n\\n\\n\\nFor the Council\\n\\n\\nThe President\\n\\nM. BEK\\n            \\n\\n\\n\\n\\n\\n(1)\\xa0\\xa0\\n            OJ\\xa0C\\xa0517, 22.12.2021, p.\\xa051.', metadata={'source': 'direct.htm', 'title': 'L_2022322EN.01001501.xml'}),\n",
              " '34726b11-7129-47f0-822d-5f30bf32a005': Document(page_content='(1)\\xa0\\xa0\\n            OJ\\xa0C\\xa0517, 22.12.2021, p.\\xa051.\\n\\n(2)\\xa0\\xa0Position of the European Parliament of 10\\xa0November 2022 (not yet published in the Official Journal) and decision of the Council of 28\\xa0November 2022.\\n\\n(3)\\xa0\\xa0Directive 2013/34/EU of the European Parliament and of the Council of 26\\xa0June 2013 on the annual financial statements, consolidated financial statements and related reports of certain types of undertakings, amending Directive 2006/43/EC of the European Parliament and of the Council and repealing Council Directives 78/660/EEC and\\xa083/349/EEC (OJ\\xa0L\\xa0182,\\xa029.6.2013, p.\\xa019).', metadata={'source': 'direct.htm', 'title': 'L_2022322EN.01001501.xml'}),\n",
              " 'eb5aafbb-a645-40d8-8673-06ab2d2b6a93': Document(page_content='(4)\\xa0\\xa0Regulation (EU) 2021/1119 of the European Parliament and of the Council of 30\\xa0June 2021 establishing the framework for achieving climate neutrality and amending Regulations (EC) No\\xa0401/2009 and (EU) 2018/1999 (‘European Climate Law’) (OJ\\xa0L\\xa0243, 9.7.2021, p.\\xa01).\\n\\n(5)\\xa0\\xa0Regulation (EU) 2019/2088 of the European Parliament and of the Council of 27\\xa0November 2019 on sustainability-related disclosures in the financial services sector (OJ\\xa0L\\xa0317,\\xa09.12.2019, p.\\xa01).', metadata={'source': 'direct.htm', 'title': 'L_2022322EN.01001501.xml'}),\n",
              " 'eef7e207-53eb-41f9-a319-c810ee227ae9': Document(page_content='(6)\\xa0\\xa0Regulation (EU) 2020/852 of the European Parliament and of the Council of 18\\xa0June 2020 on the establishment of a framework to facilitate sustainable investment, and amending Regulation (EU) 2019/2088 (OJ\\xa0L\\xa0198, 22.6.2020, p.\\xa013).\\n\\n(7)\\xa0\\xa0Regulation (EU) 2019/2089 of the European Parliament and of the Council of 27\\xa0November 2019 amending Regulation (EU) 2016/1011 as regards EU Climate Transition Benchmarks, EU Paris-aligned Benchmarks and sustainability-related disclosures for benchmarks (OJ\\xa0L\\xa0317, 9.12.2019, p.\\xa017).', metadata={'source': 'direct.htm', 'title': 'L_2022322EN.01001501.xml'}),\n",
              " '014452b8-88c5-41d7-99c7-7729c560dfde': Document(page_content='(8)\\xa0\\xa0Commission Delegated Regulation (EU) 2020/1816 of 17\\xa0July 2020 supplementing Regulation (EU) 2016/1011 of the European Parliament and of the Council as regards the explanation in the benchmark statement of how environmental, social and governance factors are reflected in each benchmark provided and published (OJ\\xa0L\\xa0406, 3.12.2020, p.\\xa01).\\n\\n(9)\\xa0\\xa0Commission Delegated Regulation (EU) 2020/1817 of 17\\xa0July 2020 supplementing Regulation (EU) 2016/1011 of the European Parliament and of the Council as regards the minimum content of the explanation on how environmental, social and governance factors are reflected in the benchmark methodology (OJ\\xa0L\\xa0406, 3.12.2020, p.\\xa012).', metadata={'source': 'direct.htm', 'title': 'L_2022322EN.01001501.xml'}),\n",
              " '257957b3-6303-4186-b7de-15292ac9b013': Document(page_content='(10)\\xa0\\xa0Commission Delegated Regulation (EU) 2020/1818 of 17\\xa0July 2020 supplementing Regulation (EU) 2016/1011 of the European Parliament and of the Council as regards minimum standards for EU Climate Transition Benchmarks and EU Paris-aligned Benchmarks (OJ\\xa0L\\xa0406, 3.12.2020, p.\\xa017).\\n\\n(11)\\xa0\\xa0Regulation (EU) No\\xa0575/2013 of the European Parliament and of the Council of 26\\xa0June 2013 on prudential requirements for credit institutions and amending Regulation (EU)\\xa0No\\xa0648/2012 (OJ\\xa0L\\xa0176, 27.6.2013, p.\\xa01).', metadata={'source': 'direct.htm', 'title': 'L_2022322EN.01001501.xml'}),\n",
              " 'cbf3e54f-7735-402b-aaf5-8caa3b562ca3': Document(page_content='(12)\\xa0\\xa0Regulation (EU) 2019/2033 of the European Parliament and of the Council of 27\\xa0November 2019 on the prudential requirements of investment firms and amending Regulations (EU) No\\xa01093/2010, (EU) No\\xa0575/2013, (EU) No\\xa0600/2014 and (EU) No\\xa0806/2014 (OJ\\xa0L\\xa0314, 5.12.2019, p.\\xa01).\\n\\n(13)\\xa0\\xa0Directive (EU) 2019/2034 of the European Parliament and of the Council of 27\\xa0November 2019 on the prudential supervision of investment firms and amending Directives 2002/87/EC, 2009/65/EC, 2011/61/EU, 2013/36/EU, 2014/59/EU and\\xa02014/65/EU (OJ\\xa0L\\xa0314, 5.12.2019, p.\\xa064).\\n\\n(14)\\xa0\\xa0\\n            OJ\\xa0C\\xa076, 9.3.2020, p.\\xa023.\\n\\n(15)\\xa0\\xa0\\n            OJ\\xa0C\\xa0445, 29.10.2021, p.\\xa094.', metadata={'source': 'direct.htm', 'title': 'L_2022322EN.01001501.xml'}),\n",
              " '86c1ebe2-754b-405b-a9bc-8fadcbcf0cef': Document(page_content='(15)\\xa0\\xa0\\n            OJ\\xa0C\\xa0445, 29.10.2021, p.\\xa094.\\n\\n(16)\\xa0\\xa0Directive 2014/95/EU of the European Parliament and of the Council of 22\\xa0October 2014 amending Directive 2013/34/EU as regards disclosure of non-financial and diversity information by certain large undertakings and groups (OJ\\xa0L\\xa0330, 15.11.2014, p.\\xa01).\\n\\n(17)\\xa0\\xa0Directive 2004/109/EC of the European Parliament and of the Council of 15\\xa0December 2004 on the harmonisation of transparency requirements in relation to information about issuers whose securities are admitted to trading on a regulated market and amending Directive 2001/34/EC (OJ\\xa0L\\xa0390, 31.12.2004, p.\\xa038).', metadata={'source': 'direct.htm', 'title': 'L_2022322EN.01001501.xml'}),\n",
              " 'dce8fa39-a0c0-4010-9d23-4f201e27b359': Document(page_content='(18)\\xa0\\xa0Commission Regulation (EC) No\\xa01569/2007 of 21\\xa0December 2007 establishing a mechanism for the determination of equivalence of accounting standards applied by third country issuers of securities pursuant to Directives 2003/71/EC and\\xa02004/109/EC of the European Parliament and of the Council (OJ\\xa0L\\xa0340, 22.12.2007, p.\\xa066).\\n\\n(19)\\xa0\\xa0Council Directive 86/635/EEC of 8\\xa0December 1986 on the annual accounts and consolidated accounts of banks and other financial institutions (OJ\\xa0L\\xa0372, 31.12.1986, p.\\xa01).\\n\\n(20)\\xa0\\xa0Council Directive 91/674/EEC of 19\\xa0December 1991 on the annual accounts and consolidated accounts of insurance undertakings (OJ\\xa0L\\xa0374, 31.12.1991, p.\\xa07).', metadata={'source': 'direct.htm', 'title': 'L_2022322EN.01001501.xml'}),\n",
              " '9beeea14-0ba4-46c6-96a4-7d746b6cfe6b': Document(page_content='(21)\\xa0\\xa0Directive 2013/36/EU of the European Parliament and of the Council of 26\\xa0June 2013 on access to the activity of credit institutions and the prudential supervision of credit institutions, amending Directive 2002/87/EC and repealing Directives 2006/48/EC and\\xa02006/49/EC (OJ\\xa0L\\xa0176, 27.6.2013, p.\\xa0338).\\n\\n(22)\\xa0\\xa0Directive (EU) 2016/943 of the European Parliament and of the Council of 8\\xa0June 2016 on the protection of undisclosed know-how and business information (trade secrets) against their unlawful acquisition, use and disclosure (OJ\\xa0L\\xa0157, 15.6.2016, p.\\xa01).', metadata={'source': 'direct.htm', 'title': 'L_2022322EN.01001501.xml'}),\n",
              " '478f98a1-92cc-4ee7-8ad8-b73054a400c2': Document(page_content='(23)\\xa0\\xa0Regulation (EC) No\\xa01606/2002 of the European Parliament and of the Council of 19\\xa0July 2002 on the application of international accounting standards (OJ\\xa0L\\xa0243, 11.9.2002, p.\\xa01).\\n\\n(24)\\xa0\\xa0Regulation (EU) No\\xa01095/2010 of the European Parliament and of the Council of 24\\xa0November 2010 establishing a European Supervisory Authority (European Securities and Markets Authority), amending Decision No\\xa0716/2009/EC and repealing Commission Decision 2009/77/EC (OJ\\xa0L\\xa0331, 15.12.2010, p.\\xa084).', metadata={'source': 'direct.htm', 'title': 'L_2022322EN.01001501.xml'}),\n",
              " 'de3adb45-b725-49cf-8151-21b94a65d7f0': Document(page_content='(25)\\xa0\\xa0Regulation (EU) 2016/1011 of the European Parliament and of the Council of 8\\xa0June 2016 on indices used as benchmarks in financial instruments and financial contracts or to measure the performance of investment funds and amending Directives 2008/48/EC and\\xa02014/17/EU and Regulation (EU) No\\xa0596/2014 (OJ\\xa0L\\xa0171, 29.6.2016, p.\\xa01).\\n\\n(26)\\xa0\\xa0Regulation (EC) No\\xa01221/2009 of the European Parliament and of the Council of 25\\xa0November 2009 on the voluntary participation by organisations in a Community eco-management and audit scheme (EMAS), repealing Regulation (EC) No\\xa0761/2001 and Commission Decisions 2001/681/EC and\\xa02006/193/EC (OJ\\xa0L\\xa0342, 22.12.2009, p.\\xa01).', metadata={'source': 'direct.htm', 'title': 'L_2022322EN.01001501.xml'}),\n",
              " '6a5f4a86-8092-4a46-8961-e1c7cd3eb059': Document(page_content='(27)\\xa0\\xa0Directive 2003/87/EC of the European Parliament and of the Council of 13\\xa0October 2003 establishing a scheme for greenhouse gas emission allowance trading within the Community and amending Council Directive 96/61/EC (OJ\\xa0L\\xa0275, 25.10.2003, p.\\xa032).\\n\\n(28)\\xa0\\xa0Commission Recommendation 2013/179/EU of 9\\xa0April 2013 on the use of common methods to measure and communicate the life cycle environmental performance of products and organisations (OJ\\xa0L\\xa0124, 4.5.2013, p.\\xa01).\\n\\n(29)\\xa0\\xa0Directive 2010/75/EU of the European Parliament and of the Council of 24\\xa0November 2010 on industrial emissions (integrated pollution prevention and control) (OJ\\xa0L\\xa0334,\\xa017.12.2010,\\xa0p.\\xa017).', metadata={'source': 'direct.htm', 'title': 'L_2022322EN.01001501.xml'}),\n",
              " '167bccf9-aa89-466d-846f-0cde22b676c2': Document(page_content='(30)\\xa0\\xa0Regulation (EU) 2021/783 of the European Parliament and of the Council of 29\\xa0April 2021 establishing a Programme for the Environment and Climate Action (LIFE), and repealing Regulation (EU) No\\xa01293/2013 (OJ\\xa0L\\xa0172, 17.5.2021, p.\\xa053).\\n\\n(31)\\xa0\\xa0Directive 2011/7/EU of the European Parliament and of the Council of 16\\xa0February 2011 on combating late payment in commercial transactions (OJ\\xa0L\\xa048, 23.2.2011, p.\\xa01).', metadata={'source': 'direct.htm', 'title': 'L_2022322EN.01001501.xml'}),\n",
              " '049d360b-cf89-42fb-aaa0-afa25bfdb57f': Document(page_content='(32)\\xa0\\xa0Regulation (EC) No\\xa01893/2006 of the European Parliament and of the Council of 20\\xa0December 2006 establishing the statistical classification of economic activities NACE Revision 2 and amending Council Regulation (EEC) No\\xa03037/90 as well as certain EC Regulations on specific statistical domains (OJ\\xa0L\\xa0393, 30.12.2006, p.\\xa01).\\n\\n(33)\\xa0\\xa0Commission Delegated Regulation (EU) 2019/815 of 17\\xa0December 2018 supplementing Directive 2004/109/EC of the European Parliament and of the Council with regard to regulatory technical standards on the specification of a single electronic reporting format (OJ\\xa0L\\xa0143, 29.5.2019, p.\\xa01).', metadata={'source': 'direct.htm', 'title': 'L_2022322EN.01001501.xml'}),\n",
              " 'cb92601d-c17a-47be-ac99-4fe15d231059': Document(page_content='(34)\\xa0\\xa0Regulation (EC) No\\xa0765/2008 of the European Parliament and of the Council of 9\\xa0July 2008 setting out the requirements for accreditation and repealing Regulation (EEC) No\\xa0339/93 (OJ\\xa0L\\xa0218, 13.8.2008, p.\\xa030).\\n\\n(35)\\xa0\\xa0Directive 2006/43/EC of the European Parliament and of the Council of 17\\xa0May 2006 on statutory audits of annual accounts and consolidated accounts, amending Council Directives 78/660/EEC and\\xa083/349/EEC and repealing Council Directive 84/253/EEC (OJ\\xa0L\\xa0157, 9.6.2006, p.\\xa087).\\n\\n(36)\\xa0\\xa0Directive 2007/36/EC of the European Parliament and of the Council of 11\\xa0July 2007 on the exercise of certain rights of shareholders in listed companies (OJ\\xa0L\\xa0184, 14.7.2007, p.\\xa017).', metadata={'source': 'direct.htm', 'title': 'L_2022322EN.01001501.xml'}),\n",
              " 'd489c039-3657-4b0b-a371-0a5f324d79da': Document(page_content='(37)\\xa0\\xa0Regulation (EU) No\\xa0537/2014 of the European Parliament and of the Council of 16\\xa0April 2014 on specific requirements regarding statutory audit of public-interest entities and repealing Commission Decision 2005/909/EC (OJ\\xa0L\\xa0158, 27.5.2014, p.\\xa077).\\n\\n(38)\\xa0\\xa0\\n            OJ\\xa0L\\xa0123, 12.5.2016, p.\\xa01.\\n\\n(39)\\xa0\\xa0Directive 2009/138/EC of the European Parliament and of the Council of 25\\xa0November 2009 on the taking-up and pursuit of the business of Insurance and Reinsurance (Solvency\\xa0II) (OJ\\xa0L\\xa0335, 17.12.2009, p.\\xa01).', metadata={'source': 'direct.htm', 'title': 'L_2022322EN.01001501.xml'})}"
            ]
          },
          "metadata": {},
          "execution_count": 10
        }
      ]
    },
    {
      "cell_type": "markdown",
      "source": [
        "Creating a Retriever to complete the index\n"
      ],
      "metadata": {
        "id": "Z7ht6bJX9PAY"
      }
    },
    {
      "cell_type": "code",
      "source": [
        "retriever = vector_store.as_retriever()"
      ],
      "metadata": {
        "id": "xne8P5dQTUiR"
      },
      "execution_count": 11,
      "outputs": []
    },
    {
      "cell_type": "markdown",
      "source": [
        "Testing the Retriever\n"
      ],
      "metadata": {
        "id": "sO_DFBVKNvNm"
      }
    },
    {
      "cell_type": "code",
      "source": [
        "retrieved_documents = retriever.invoke(\"What is Article 40b in Chapter 9a about?\")"
      ],
      "metadata": {
        "id": "I9_ONxpnN0n6"
      },
      "execution_count": 12,
      "outputs": []
    },
    {
      "cell_type": "code",
      "source": [
        "for doc in retrieved_documents:\n",
        "  print(doc)"
      ],
      "metadata": {
        "colab": {
          "base_uri": "https://localhost:8080/"
        },
        "id": "-Za12yt4OBy1",
        "outputId": "11856906-c323-470f-fcf3-f1dfd2c0e3a6"
      },
      "execution_count": 13,
      "outputs": [
        {
          "output_type": "stream",
          "name": "stdout",
          "text": [
            "page_content='(14)\\n\\n\\nthe following chapter is inserted:\\n\\n\\n                                       ‘CHAPTER 9a\\n\\n\\nREPORTING CONCERNING THIRD-COUNTRY UNDERTAKINGS\\n\\n\\n\\nArticle\\xa040a\\nSustainability reports concerning third-country undertakings' metadata={'source': 'direct.htm', 'title': 'L_2022322EN.01001501.xml'}\n",
            "page_content='(15)\\n\\n\\nthe title of Chapter 11 is replaced by the following:\\n\\n\\n                                       ‘CHAPTER 11\\n\\n\\nTRANSITIONAL AND FINAL PROVISIONS\\n                                       ’;\\n\\n\\n\\n\\n\\n\\n\\n\\n\\n\\n\\n\\n(16)\\n\\n\\nThe following article is inserted:\\n\\n‘Article\\xa048i\\nTransitional provisions' metadata={'source': 'direct.htm', 'title': 'L_2022322EN.01001501.xml'}\n",
            "page_content='5.\\xa0\\xa0\\xa0The coordination measures prescribed by Articles 40a to 40d shall also apply to the laws, regulations and administrative provisions of the Member States relating to subsidiary undertakings and branches of undertakings which are not governed by the law of a Member State but whose legal form is comparable with the types of undertakings listed in Annex I.\\n\\n\\n(*1)\\xa0\\xa0Council Directive 91/674/EEC of 19\\xa0December 1991 on the annual accounts and consolidated accounts of insurance undertakings (OJ\\xa0L\\xa0374, 31.12.1991, p.\\xa07).\"' metadata={'source': 'direct.htm', 'title': 'L_2022322EN.01001501.xml'}\n",
            "page_content='Article\\xa040c\\nResponsibility for drawing up, publishing and making accessible sustainability reports concerning third-country undertakings\\nMember States shall provide that the branches of third-country undertakings are responsible for ensuring, to the best of their knowledge and ability, that their sustainability report is drawn up in accordance with Article\\xa040a, and that that report is published and made accessible in accordance with Article\\xa040d.' metadata={'source': 'direct.htm', 'title': 'L_2022322EN.01001501.xml'}\n"
          ]
        }
      ]
    },
    {
      "cell_type": "markdown",
      "source": [
        "Setting up the RAG Chain\n",
        "\n"
      ],
      "metadata": {
        "id": "D8MKsT6JTgCU"
      }
    },
    {
      "cell_type": "markdown",
      "source": [
        "#### Creating a Prompt Template\n",
        "\n",
        "2 options below:\n",
        "- pull a prompt from the prompt hub\n",
        "- create a custom prompt template"
      ],
      "metadata": {
        "id": "zs7qBLaEQEic"
      }
    },
    {
      "cell_type": "code",
      "source": [
        "from langchain import hub\n",
        "\n",
        "retrieval_qa_prompt = hub.pull(\"langchain-ai/retrieval-qa-chat\")"
      ],
      "metadata": {
        "id": "eRCq_OKUQbKk"
      },
      "execution_count": 14,
      "outputs": []
    },
    {
      "cell_type": "code",
      "source": [
        "print(retrieval_qa_prompt.messages[0].prompt.template)"
      ],
      "metadata": {
        "colab": {
          "base_uri": "https://localhost:8080/"
        },
        "id": "FziTftV5Q1H-",
        "outputId": "da28f2bc-5224-4ef0-f4e7-d83a8636cf22"
      },
      "execution_count": 15,
      "outputs": [
        {
          "output_type": "stream",
          "name": "stdout",
          "text": [
            "Answer any use questions based solely on the context below:\n",
            "\n",
            "<context>\n",
            "{context}\n",
            "</context>\n"
          ]
        }
      ]
    },
    {
      "cell_type": "markdown",
      "source": [
        "Creating a custom prompt template to be more specific"
      ],
      "metadata": {
        "id": "iyq88IPFRGoT"
      }
    },
    {
      "cell_type": "code",
      "source": [
        "from langchain.prompts import ChatPromptTemplate\n",
        "\n",
        "template = \"\"\"Answer the question based only on the following context. If you cannot answer the question with the context, please respond with 'I don't know':\n",
        "\n",
        "Context:\n",
        "{context}\n",
        "\n",
        "Question:\n",
        "{question}\n",
        "\"\"\"\n",
        "\n",
        "prompt = ChatPromptTemplate.from_template(template)"
      ],
      "metadata": {
        "id": "ijSNkTAjTsep"
      },
      "execution_count": 16,
      "outputs": []
    },
    {
      "cell_type": "markdown",
      "source": [
        "#### Setting Up the QA Chain\n",
        "\n",
        "Instantiating a basic RAG chain LCEL\n",
        "\n",
        "Ensuring to pass-through the context which is critical for RAGAS."
      ],
      "metadata": {
        "id": "BYHnPaXl-cvJ"
      }
    },
    {
      "cell_type": "code",
      "source": [
        "from operator import itemgetter\n",
        "\n",
        "from langchain_openai import ChatOpenAI\n",
        "from langchain_core.output_parsers import StrOutputParser\n",
        "from langchain_core.runnables import RunnablePassthrough\n",
        "\n",
        "primary_qa_llm = ChatOpenAI(model_name=\"gpt-3.5-turbo\", temperature=0)\n",
        "\n",
        "retrieval_augmented_qa_chain = (\n",
        "    # INVOKE CHAIN WITH: {\"question\" : \"<<SOME USER QUESTION>>\"}\n",
        "    # \"question\" : populated by getting the value of the \"question\" key\n",
        "    # \"context\"  : populated by getting the value of the \"question\" key and chaining it into the base_retriever\n",
        "    {\"context\": itemgetter(\"question\") | retriever, \"question\": itemgetter(\"question\")}\n",
        "    # \"context\"  : is assigned to a RunnablePassthrough object (will not be called or considered in the next step)\n",
        "    #              by getting the value of the \"context\" key from the previous step\n",
        "    | RunnablePassthrough.assign(context=itemgetter(\"context\"))\n",
        "    # \"response\" : the \"context\" and \"question\" values are used to format our prompt object and then piped\n",
        "    #              into the LLM and stored in a key called \"response\"\n",
        "    # \"context\"  : populated by getting the value of the \"context\" key from the previous step\n",
        "    | {\"response\": prompt | primary_qa_llm, \"context\": itemgetter(\"context\")}\n",
        ")"
      ],
      "metadata": {
        "id": "-TsjUWjbUfbW"
      },
      "execution_count": 17,
      "outputs": []
    },
    {
      "cell_type": "markdown",
      "source": [
        "Testing the QA chain"
      ],
      "metadata": {
        "id": "zO69de-F-oMD"
      }
    },
    {
      "cell_type": "code",
      "source": [
        "question = \"what does CSRD stand for?\"\n",
        "\n",
        "result = retrieval_augmented_qa_chain.invoke({\"question\" : question})\n",
        "\n",
        "print(result[\"response\"].content)"
      ],
      "metadata": {
        "colab": {
          "base_uri": "https://localhost:8080/"
        },
        "id": "2FS5NxC6UyU2",
        "outputId": "ce8c4e95-c2a5-4078-e6b0-4e834081e871"
      },
      "execution_count": 18,
      "outputs": [
        {
          "output_type": "stream",
          "name": "stdout",
          "text": [
            "Carbon Disclosure Standards Board\n"
          ]
        }
      ]
    },
    {
      "cell_type": "code",
      "source": [
        "question = \"what are the key components of the CSRD?\"\n",
        "\n",
        "result = retrieval_augmented_qa_chain.invoke({\"question\" : question})\n",
        "\n",
        "print(result[\"response\"].content)\n",
        "print(result[\"context\"])"
      ],
      "metadata": {
        "colab": {
          "base_uri": "https://localhost:8080/"
        },
        "id": "tIuHVGPOO9P2",
        "outputId": "078d4698-77ab-432b-daa4-6e01b7fd7ecc"
      },
      "execution_count": 19,
      "outputs": [
        {
          "output_type": "stream",
          "name": "stdout",
          "text": [
            "I don't know.\n",
            "[Document(page_content='on Climate-related Financial Disclosures, the Carbon Disclosure Standards Board, and CDP, formerly known as the Carbon Disclosure Project.', metadata={'source': 'direct.htm', 'title': 'L_2022322EN.01001501.xml'}), Document(page_content='and key performance indicators relevant to the business.', metadata={'source': 'direct.htm', 'title': 'L_2022322EN.01001501.xml'}), Document(page_content='Sustainability reporting standards should also take account of internationally recognised principles and frameworks on responsible business conduct, corporate social responsibility, and sustainable development, including the SDGs, the UN Guiding Principles on Business and Human Rights, the OECD Guidelines for Multinational Enterprises, the OECD Due Diligence Guidance for Responsible Business Conduct and related sectoral guidelines, the Global Compact, the International Labour Organization’s (ILO) Tripartite Declaration of Principles concerning Multinational Enterprises and Social Policy, the ISO 26000 standard on social responsibility, and the UN Principles for Responsible Investment.', metadata={'source': 'direct.htm', 'title': 'L_2022322EN.01001501.xml'}), Document(page_content='Sustainability reporting standards should specify the information that undertakings should disclose on social factors, including working conditions, social partner involvement, collective bargaining, equality, non-discrimination, diversity and inclusion, and human rights. Such information should cover the impacts of the undertaking on people, including workers, and on human health. The information that undertakings disclose about human rights should include information about forced labour and child labour in their value chains where relevant. Sustainability reporting requirements concerning forced labour should not free public authorities of their responsibility to address, through trade', metadata={'source': 'direct.htm', 'title': 'L_2022322EN.01001501.xml'})]\n"
          ]
        }
      ]
    },
    {
      "cell_type": "markdown",
      "source": [
        "We can see that we could make some improvements."
      ],
      "metadata": {
        "id": "a-XYZueEP42k"
      }
    },
    {
      "cell_type": "markdown",
      "source": [
        "## Ragas Evaluation\n",
        "\n",
        "The Ragas library evaluates the RAG pipeline by collecting input/output/context triplets and calculating metrics relating  different aspects of the RAG pipeline.\n",
        "\n",
        "This notebook evaluates every core metric based on a test set created using a Ragas function and GPT."
      ],
      "metadata": {
        "id": "EOECHyzHRqDw"
      }
    },
    {
      "cell_type": "markdown",
      "source": [
        "#### Synthetic Test Set Generation\n",
        "\n",
        "Using the Ragas' [`Synthetic Test Data generation`](https://docs.ragas.io/en/stable/concepts/testset_generation.html) functionality to generate a synthetic QC pairs and a synthetic ground truth.\n",
        "\n",
        "This process uses `gpt-3.5-turbo-16k` as the base generator and `gpt-4` as the critic. If you're attempting to create a lot of samples please be aware of cost, as well as rate limits."
      ],
      "metadata": {
        "id": "KqXQ0jweWJOu"
      }
    },
    {
      "cell_type": "markdown",
      "source": [
        "Create a new set of documents to ensure that the sample test set created does not excessively favour the base model."
      ],
      "metadata": {
        "id": "MIscd7wSzeWF"
      }
    },
    {
      "cell_type": "code",
      "source": [
        "direct_documents = direct_bshtml_loader.load()\n",
        "text_splitter = RecursiveCharacterTextSplitter(\n",
        "    chunk_size = 1000,\n",
        "    chunk_overlap = 200\n",
        ")\n",
        "direct_documents = text_splitter.split_documents(direct_data)\n"
      ],
      "metadata": {
        "id": "nVk5SlU9znXe",
        "colab": {
          "base_uri": "https://localhost:8080/"
        },
        "outputId": "1ab28f3b-830f-4aa9-c6f6-07ff1bd6be04"
      },
      "execution_count": 20,
      "outputs": [
        {
          "output_type": "stream",
          "name": "stderr",
          "text": [
            "/usr/local/lib/python3.10/dist-packages/langchain_community/document_loaders/html_bs.py:51: XMLParsedAsHTMLWarning: It looks like you're parsing an XML document using an HTML parser. If this really is an HTML document (maybe it's XHTML?), you can ignore or filter this warning. If it's XML, you should know that using an XML parser will be more reliable. To parse this document as XML, make sure you have the lxml package installed, and pass the keyword argument `features=\"xml\"` into the BeautifulSoup constructor.\n",
            "  soup = BeautifulSoup(f, **self.bs_kwargs)\n"
          ]
        }
      ]
    },
    {
      "cell_type": "code",
      "source": [
        "len(direct_documents)"
      ],
      "metadata": {
        "colab": {
          "base_uri": "https://localhost:8080/"
        },
        "id": "EYuJu-rxZRUQ",
        "outputId": "789d3b35-c603-4ea2-eac2-dc62a352e8da"
      },
      "execution_count": 21,
      "outputs": [
        {
          "output_type": "execute_result",
          "data": {
            "text/plain": [
              "418"
            ]
          },
          "metadata": {},
          "execution_count": 21
        }
      ]
    },
    {
      "cell_type": "code",
      "source": [
        "from ragas.testset.generator import TestsetGenerator\n",
        "from ragas.testset.evolutions import simple, reasoning, multi_context\n",
        "\n",
        "generator = TestsetGenerator.with_openai()\n",
        "\n",
        "testset = generator.generate_with_langchain_docs(direct_documents, test_size=10, distributions={simple: 0.5, reasoning: 0.25, multi_context: 0.25})"
      ],
      "metadata": {
        "colab": {
          "base_uri": "https://localhost:8080/",
          "height": 123,
          "referenced_widgets": [
            "c660d9c7af9c43e5811ae08b071c15ed",
            "6a0bc937d32b466a8f3f7750070731ab",
            "e501e334a1b84a20b58b12a3e6729257",
            "b6f40c62b6fe491199479b9fee9d8908",
            "d583b07a121b42b9aa0ac29ecaa19ce9",
            "7c9619e90d8a4a07aef4e9be5e060f42",
            "b0afd566d868402baefc6d59730433ec",
            "20eec9ca7bb14688a5743cc86c62429a",
            "1be6e5a2655247d281a18b9c0f340d03",
            "492eaa87584f42e6b2ac86607789bf7d",
            "3fb95dfb6d98484cadcf698af6f6a44f",
            "7e312f3ede63459ebb71659c5739cbb9",
            "ab4e8cf8353e4d07b31a3b1f38b99ded",
            "8ae3621a83f6423cbb819ccdf7d93824",
            "d5381824173c43958ef02b6419ebe8a1",
            "c0fa600624cf43cebe847b33ffe90275",
            "a18eb219b4374971ae20abb320a44e51",
            "a89e41ce0cb04ff49799748cc42bb03f",
            "57d3dfecdc0a4acb825fee2faaee9a40",
            "f28ca793d1ba4b1d80d98d2532a3c692",
            "de74a870effe449ca4e8a9b3b7f4ca64",
            "c8dd01543d4b435c86e35d08464f888d"
          ]
        },
        "id": "IXc6sMglSej_",
        "outputId": "e7dc514b-b2db-4bf0-e942-b7a6eac32a6c"
      },
      "execution_count": 22,
      "outputs": [
        {
          "metadata": {
            "tags": null
          },
          "name": "stderr",
          "output_type": "stream",
          "text": [
            "<ipython-input-22-279f9b063f6f>:4: DeprecationWarning: The function with_openai was deprecated in 0.1.4, and will be removed in the 0.2.0 release. Use from_langchain instead.\n",
            "  generator = TestsetGenerator.with_openai()\n"
          ]
        },
        {
          "data": {
            "application/vnd.jupyter.widget-view+json": {
              "model_id": "c660d9c7af9c43e5811ae08b071c15ed",
              "version_major": 2,
              "version_minor": 0
            },
            "text/plain": [
              "embedding nodes:   0%|          | 0/836 [00:00<?, ?it/s]"
            ]
          },
          "metadata": {},
          "output_type": "display_data"
        },
        {
          "output_type": "stream",
          "name": "stderr",
          "text": [
            "WARNING:ragas.testset.docstore:Filename and doc_id are the same for all nodes.\n"
          ]
        },
        {
          "output_type": "display_data",
          "data": {
            "text/plain": [
              "Generating:   0%|          | 0/10 [00:00<?, ?it/s]"
            ],
            "application/vnd.jupyter.widget-view+json": {
              "version_major": 2,
              "version_minor": 0,
              "model_id": "7e312f3ede63459ebb71659c5739cbb9"
            }
          },
          "metadata": {}
        }
      ]
    },
    {
      "cell_type": "markdown",
      "source": [
        "Checking the output."
      ],
      "metadata": {
        "id": "MemL406rUzBu"
      }
    },
    {
      "cell_type": "code",
      "source": [
        "testset.test_data[0]"
      ],
      "metadata": {
        "colab": {
          "base_uri": "https://localhost:8080/"
        },
        "id": "RaCDdImVU15s",
        "outputId": "23f654dd-a17d-43a8-bc5a-1edb9d0dfb8e"
      },
      "execution_count": 23,
      "outputs": [
        {
          "output_type": "execute_result",
          "data": {
            "text/plain": [
              "DataRow(question='What is the definition of a \"company incorporated in a third country\"?', contexts=['4.\\n\\n\\n“third-country audit entity” means an entity, regardless of its legal form, which carries out audits of the annual or consolidated financial statements, or, where applicable, the assurance of sustainability reporting of a company incorporated in a third country, other than an entity which is registered as an audit firm in any Member State as a consequence of approval in accordance with Article\\xa03;\\n\\n\\n\\n\\n\\n\\n\\n\\n\\n\\n5.\\n\\n\\n“third-country auditor” means a natural person who carries out audits of the annual or consolidated financial statements or, where applicable, the assurance of sustainability reporting of a company incorporated in a third country, other than a person who is registered as a statutory auditor in any Member State as a consequence of approval in accordance with Articles 3 and\\xa044;\\n\\n\\n\\n\\n\\n\\n\\n\\n\\n\\n6.'], ground_truth='nan', evolution_type='simple', metadata=[{'source': 'direct.htm', 'title': 'L_2022322EN.01001501.xml'}])"
            ]
          },
          "metadata": {},
          "execution_count": 23
        }
      ]
    },
    {
      "cell_type": "markdown",
      "source": [
        "#### Generating Responses with RAG Pipeline\n",
        "\n",
        "Evaluating the RAG pipeline using Ragas.\n",
        "\n",
        "Extracting the questions and ground truths from the created testset.\n",
        "\n",
        "Converting the test dataset into a Pandas DataFrame."
      ],
      "metadata": {
        "id": "vrPsVwUAWFWB"
      }
    },
    {
      "cell_type": "code",
      "source": [
        "test_df = testset.to_pandas()"
      ],
      "metadata": {
        "id": "frvzu1YxX8kY"
      },
      "execution_count": 24,
      "outputs": []
    },
    {
      "cell_type": "code",
      "source": [
        "test_df"
      ],
      "metadata": {
        "colab": {
          "base_uri": "https://localhost:8080/",
          "height": 571
        },
        "id": "GFKMIY8IZU8m",
        "outputId": "2be86f4e-a7a8-4faf-f790-f1b88a891f61"
      },
      "execution_count": 25,
      "outputs": [
        {
          "output_type": "execute_result",
          "data": {
            "text/plain": [
              "                                            question  \\\n",
              "0  What is the definition of a \"company incorpora...   \n",
              "1  What rights do shareholders have regarding vot...   \n",
              "2  What are the consequences of the gap between u...   \n",
              "3  What information should be covered in a sustai...   \n",
              "4  What is the purpose of Directive 2004/109/EC a...   \n",
              "5  What challenges do undertakings face in gather...   \n",
              "6  Why is it important to consult experts during ...   \n",
              "7  What information should be included in sustain...   \n",
              "8  What is the role of Article 8 in the reporting...   \n",
              "9  What obligations should be extended to statuto...   \n",
              "\n",
              "                                            contexts  \\\n",
              "0  [4.\\n\\n\\n“third-country audit entity” means an...   \n",
              "1  [For undertakings subject to the sustainabilit...   \n",
              "2  [In the absence of policy action, the gap betw...   \n",
              "3  [A Member State shall require that a branch lo...   \n",
              "4  [Directive 2004/109/EC, as amended by this ame...   \n",
              "5  [4.   Sustainability reporting standards shall...   \n",
              "6  [(80)\\n\\n\\nIn order to specify the requirement...   \n",
              "7  [commercial position of the undertaking. Repor...   \n",
              "8  [Therefore, a progressive approach to enhancin...   \n",
              "9  [To ensure the independence of the statutory a...   \n",
              "\n",
              "                                        ground_truth evolution_type  \\\n",
              "0                                                nan         simple   \n",
              "1  Shareholders which represent more than 5% of t...         simple   \n",
              "2  The consequences of the gap between users' inf...         simple   \n",
              "3  The sustainability report at the group level o...         simple   \n",
              "4  Directive 2004/109/EC, as amended by this amen...         simple   \n",
              "5  Undertakings may face difficulties in gatherin...      reasoning   \n",
              "6  It is important to consult experts during the ...      reasoning   \n",
              "7  The sustainability reports for the undertaking...  multi_context   \n",
              "8  The role of Article 8 in the reporting require...  multi_context   \n",
              "9  Statutory auditors and audit firms should have...         simple   \n",
              "\n",
              "                                            metadata  episode_done  \n",
              "0  [{'source': 'direct.htm', 'title': 'L_2022322E...          True  \n",
              "1  [{'source': 'direct.htm', 'title': 'L_2022322E...          True  \n",
              "2  [{'source': 'direct.htm', 'title': 'L_2022322E...          True  \n",
              "3  [{'source': 'direct.htm', 'title': 'L_2022322E...          True  \n",
              "4  [{'source': 'direct.htm', 'title': 'L_2022322E...          True  \n",
              "5  [{'source': 'direct.htm', 'title': 'L_2022322E...          True  \n",
              "6  [{'source': 'direct.htm', 'title': 'L_2022322E...          True  \n",
              "7  [{'source': 'direct.htm', 'title': 'L_2022322E...          True  \n",
              "8  [{'source': 'direct.htm', 'title': 'L_2022322E...          True  \n",
              "9  [{'source': 'direct.htm', 'title': 'L_2022322E...          True  "
            ],
            "text/html": [
              "\n",
              "  <div id=\"df-b02db661-6f46-4fdf-aca9-98afc34d5678\" class=\"colab-df-container\">\n",
              "    <div>\n",
              "<style scoped>\n",
              "    .dataframe tbody tr th:only-of-type {\n",
              "        vertical-align: middle;\n",
              "    }\n",
              "\n",
              "    .dataframe tbody tr th {\n",
              "        vertical-align: top;\n",
              "    }\n",
              "\n",
              "    .dataframe thead th {\n",
              "        text-align: right;\n",
              "    }\n",
              "</style>\n",
              "<table border=\"1\" class=\"dataframe\">\n",
              "  <thead>\n",
              "    <tr style=\"text-align: right;\">\n",
              "      <th></th>\n",
              "      <th>question</th>\n",
              "      <th>contexts</th>\n",
              "      <th>ground_truth</th>\n",
              "      <th>evolution_type</th>\n",
              "      <th>metadata</th>\n",
              "      <th>episode_done</th>\n",
              "    </tr>\n",
              "  </thead>\n",
              "  <tbody>\n",
              "    <tr>\n",
              "      <th>0</th>\n",
              "      <td>What is the definition of a \"company incorpora...</td>\n",
              "      <td>[4.\\n\\n\\n“third-country audit entity” means an...</td>\n",
              "      <td>nan</td>\n",
              "      <td>simple</td>\n",
              "      <td>[{'source': 'direct.htm', 'title': 'L_2022322E...</td>\n",
              "      <td>True</td>\n",
              "    </tr>\n",
              "    <tr>\n",
              "      <th>1</th>\n",
              "      <td>What rights do shareholders have regarding vot...</td>\n",
              "      <td>[For undertakings subject to the sustainabilit...</td>\n",
              "      <td>Shareholders which represent more than 5% of t...</td>\n",
              "      <td>simple</td>\n",
              "      <td>[{'source': 'direct.htm', 'title': 'L_2022322E...</td>\n",
              "      <td>True</td>\n",
              "    </tr>\n",
              "    <tr>\n",
              "      <th>2</th>\n",
              "      <td>What are the consequences of the gap between u...</td>\n",
              "      <td>[In the absence of policy action, the gap betw...</td>\n",
              "      <td>The consequences of the gap between users' inf...</td>\n",
              "      <td>simple</td>\n",
              "      <td>[{'source': 'direct.htm', 'title': 'L_2022322E...</td>\n",
              "      <td>True</td>\n",
              "    </tr>\n",
              "    <tr>\n",
              "      <th>3</th>\n",
              "      <td>What information should be covered in a sustai...</td>\n",
              "      <td>[A Member State shall require that a branch lo...</td>\n",
              "      <td>The sustainability report at the group level o...</td>\n",
              "      <td>simple</td>\n",
              "      <td>[{'source': 'direct.htm', 'title': 'L_2022322E...</td>\n",
              "      <td>True</td>\n",
              "    </tr>\n",
              "    <tr>\n",
              "      <th>4</th>\n",
              "      <td>What is the purpose of Directive 2004/109/EC a...</td>\n",
              "      <td>[Directive 2004/109/EC, as amended by this ame...</td>\n",
              "      <td>Directive 2004/109/EC, as amended by this amen...</td>\n",
              "      <td>simple</td>\n",
              "      <td>[{'source': 'direct.htm', 'title': 'L_2022322E...</td>\n",
              "      <td>True</td>\n",
              "    </tr>\n",
              "    <tr>\n",
              "      <th>5</th>\n",
              "      <td>What challenges do undertakings face in gather...</td>\n",
              "      <td>[4.   Sustainability reporting standards shall...</td>\n",
              "      <td>Undertakings may face difficulties in gatherin...</td>\n",
              "      <td>reasoning</td>\n",
              "      <td>[{'source': 'direct.htm', 'title': 'L_2022322E...</td>\n",
              "      <td>True</td>\n",
              "    </tr>\n",
              "    <tr>\n",
              "      <th>6</th>\n",
              "      <td>Why is it important to consult experts during ...</td>\n",
              "      <td>[(80)\\n\\n\\nIn order to specify the requirement...</td>\n",
              "      <td>It is important to consult experts during the ...</td>\n",
              "      <td>reasoning</td>\n",
              "      <td>[{'source': 'direct.htm', 'title': 'L_2022322E...</td>\n",
              "      <td>True</td>\n",
              "    </tr>\n",
              "    <tr>\n",
              "      <th>7</th>\n",
              "      <td>What information should be included in sustain...</td>\n",
              "      <td>[commercial position of the undertaking. Repor...</td>\n",
              "      <td>The sustainability reports for the undertaking...</td>\n",
              "      <td>multi_context</td>\n",
              "      <td>[{'source': 'direct.htm', 'title': 'L_2022322E...</td>\n",
              "      <td>True</td>\n",
              "    </tr>\n",
              "    <tr>\n",
              "      <th>8</th>\n",
              "      <td>What is the role of Article 8 in the reporting...</td>\n",
              "      <td>[Therefore, a progressive approach to enhancin...</td>\n",
              "      <td>The role of Article 8 in the reporting require...</td>\n",
              "      <td>multi_context</td>\n",
              "      <td>[{'source': 'direct.htm', 'title': 'L_2022322E...</td>\n",
              "      <td>True</td>\n",
              "    </tr>\n",
              "    <tr>\n",
              "      <th>9</th>\n",
              "      <td>What obligations should be extended to statuto...</td>\n",
              "      <td>[To ensure the independence of the statutory a...</td>\n",
              "      <td>Statutory auditors and audit firms should have...</td>\n",
              "      <td>simple</td>\n",
              "      <td>[{'source': 'direct.htm', 'title': 'L_2022322E...</td>\n",
              "      <td>True</td>\n",
              "    </tr>\n",
              "  </tbody>\n",
              "</table>\n",
              "</div>\n",
              "    <div class=\"colab-df-buttons\">\n",
              "\n",
              "  <div class=\"colab-df-container\">\n",
              "    <button class=\"colab-df-convert\" onclick=\"convertToInteractive('df-b02db661-6f46-4fdf-aca9-98afc34d5678')\"\n",
              "            title=\"Convert this dataframe to an interactive table.\"\n",
              "            style=\"display:none;\">\n",
              "\n",
              "  <svg xmlns=\"http://www.w3.org/2000/svg\" height=\"24px\" viewBox=\"0 -960 960 960\">\n",
              "    <path d=\"M120-120v-720h720v720H120Zm60-500h600v-160H180v160Zm220 220h160v-160H400v160Zm0 220h160v-160H400v160ZM180-400h160v-160H180v160Zm440 0h160v-160H620v160ZM180-180h160v-160H180v160Zm440 0h160v-160H620v160Z\"/>\n",
              "  </svg>\n",
              "    </button>\n",
              "\n",
              "  <style>\n",
              "    .colab-df-container {\n",
              "      display:flex;\n",
              "      gap: 12px;\n",
              "    }\n",
              "\n",
              "    .colab-df-convert {\n",
              "      background-color: #E8F0FE;\n",
              "      border: none;\n",
              "      border-radius: 50%;\n",
              "      cursor: pointer;\n",
              "      display: none;\n",
              "      fill: #1967D2;\n",
              "      height: 32px;\n",
              "      padding: 0 0 0 0;\n",
              "      width: 32px;\n",
              "    }\n",
              "\n",
              "    .colab-df-convert:hover {\n",
              "      background-color: #E2EBFA;\n",
              "      box-shadow: 0px 1px 2px rgba(60, 64, 67, 0.3), 0px 1px 3px 1px rgba(60, 64, 67, 0.15);\n",
              "      fill: #174EA6;\n",
              "    }\n",
              "\n",
              "    .colab-df-buttons div {\n",
              "      margin-bottom: 4px;\n",
              "    }\n",
              "\n",
              "    [theme=dark] .colab-df-convert {\n",
              "      background-color: #3B4455;\n",
              "      fill: #D2E3FC;\n",
              "    }\n",
              "\n",
              "    [theme=dark] .colab-df-convert:hover {\n",
              "      background-color: #434B5C;\n",
              "      box-shadow: 0px 1px 3px 1px rgba(0, 0, 0, 0.15);\n",
              "      filter: drop-shadow(0px 1px 2px rgba(0, 0, 0, 0.3));\n",
              "      fill: #FFFFFF;\n",
              "    }\n",
              "  </style>\n",
              "\n",
              "    <script>\n",
              "      const buttonEl =\n",
              "        document.querySelector('#df-b02db661-6f46-4fdf-aca9-98afc34d5678 button.colab-df-convert');\n",
              "      buttonEl.style.display =\n",
              "        google.colab.kernel.accessAllowed ? 'block' : 'none';\n",
              "\n",
              "      async function convertToInteractive(key) {\n",
              "        const element = document.querySelector('#df-b02db661-6f46-4fdf-aca9-98afc34d5678');\n",
              "        const dataTable =\n",
              "          await google.colab.kernel.invokeFunction('convertToInteractive',\n",
              "                                                    [key], {});\n",
              "        if (!dataTable) return;\n",
              "\n",
              "        const docLinkHtml = 'Like what you see? Visit the ' +\n",
              "          '<a target=\"_blank\" href=https://colab.research.google.com/notebooks/data_table.ipynb>data table notebook</a>'\n",
              "          + ' to learn more about interactive tables.';\n",
              "        element.innerHTML = '';\n",
              "        dataTable['output_type'] = 'display_data';\n",
              "        await google.colab.output.renderOutput(dataTable, element);\n",
              "        const docLink = document.createElement('div');\n",
              "        docLink.innerHTML = docLinkHtml;\n",
              "        element.appendChild(docLink);\n",
              "      }\n",
              "    </script>\n",
              "  </div>\n",
              "\n",
              "\n",
              "<div id=\"df-b9435dc0-cc8c-4ea6-aa7e-827853b1a491\">\n",
              "  <button class=\"colab-df-quickchart\" onclick=\"quickchart('df-b9435dc0-cc8c-4ea6-aa7e-827853b1a491')\"\n",
              "            title=\"Suggest charts\"\n",
              "            style=\"display:none;\">\n",
              "\n",
              "<svg xmlns=\"http://www.w3.org/2000/svg\" height=\"24px\"viewBox=\"0 0 24 24\"\n",
              "     width=\"24px\">\n",
              "    <g>\n",
              "        <path d=\"M19 3H5c-1.1 0-2 .9-2 2v14c0 1.1.9 2 2 2h14c1.1 0 2-.9 2-2V5c0-1.1-.9-2-2-2zM9 17H7v-7h2v7zm4 0h-2V7h2v10zm4 0h-2v-4h2v4z\"/>\n",
              "    </g>\n",
              "</svg>\n",
              "  </button>\n",
              "\n",
              "<style>\n",
              "  .colab-df-quickchart {\n",
              "      --bg-color: #E8F0FE;\n",
              "      --fill-color: #1967D2;\n",
              "      --hover-bg-color: #E2EBFA;\n",
              "      --hover-fill-color: #174EA6;\n",
              "      --disabled-fill-color: #AAA;\n",
              "      --disabled-bg-color: #DDD;\n",
              "  }\n",
              "\n",
              "  [theme=dark] .colab-df-quickchart {\n",
              "      --bg-color: #3B4455;\n",
              "      --fill-color: #D2E3FC;\n",
              "      --hover-bg-color: #434B5C;\n",
              "      --hover-fill-color: #FFFFFF;\n",
              "      --disabled-bg-color: #3B4455;\n",
              "      --disabled-fill-color: #666;\n",
              "  }\n",
              "\n",
              "  .colab-df-quickchart {\n",
              "    background-color: var(--bg-color);\n",
              "    border: none;\n",
              "    border-radius: 50%;\n",
              "    cursor: pointer;\n",
              "    display: none;\n",
              "    fill: var(--fill-color);\n",
              "    height: 32px;\n",
              "    padding: 0;\n",
              "    width: 32px;\n",
              "  }\n",
              "\n",
              "  .colab-df-quickchart:hover {\n",
              "    background-color: var(--hover-bg-color);\n",
              "    box-shadow: 0 1px 2px rgba(60, 64, 67, 0.3), 0 1px 3px 1px rgba(60, 64, 67, 0.15);\n",
              "    fill: var(--button-hover-fill-color);\n",
              "  }\n",
              "\n",
              "  .colab-df-quickchart-complete:disabled,\n",
              "  .colab-df-quickchart-complete:disabled:hover {\n",
              "    background-color: var(--disabled-bg-color);\n",
              "    fill: var(--disabled-fill-color);\n",
              "    box-shadow: none;\n",
              "  }\n",
              "\n",
              "  .colab-df-spinner {\n",
              "    border: 2px solid var(--fill-color);\n",
              "    border-color: transparent;\n",
              "    border-bottom-color: var(--fill-color);\n",
              "    animation:\n",
              "      spin 1s steps(1) infinite;\n",
              "  }\n",
              "\n",
              "  @keyframes spin {\n",
              "    0% {\n",
              "      border-color: transparent;\n",
              "      border-bottom-color: var(--fill-color);\n",
              "      border-left-color: var(--fill-color);\n",
              "    }\n",
              "    20% {\n",
              "      border-color: transparent;\n",
              "      border-left-color: var(--fill-color);\n",
              "      border-top-color: var(--fill-color);\n",
              "    }\n",
              "    30% {\n",
              "      border-color: transparent;\n",
              "      border-left-color: var(--fill-color);\n",
              "      border-top-color: var(--fill-color);\n",
              "      border-right-color: var(--fill-color);\n",
              "    }\n",
              "    40% {\n",
              "      border-color: transparent;\n",
              "      border-right-color: var(--fill-color);\n",
              "      border-top-color: var(--fill-color);\n",
              "    }\n",
              "    60% {\n",
              "      border-color: transparent;\n",
              "      border-right-color: var(--fill-color);\n",
              "    }\n",
              "    80% {\n",
              "      border-color: transparent;\n",
              "      border-right-color: var(--fill-color);\n",
              "      border-bottom-color: var(--fill-color);\n",
              "    }\n",
              "    90% {\n",
              "      border-color: transparent;\n",
              "      border-bottom-color: var(--fill-color);\n",
              "    }\n",
              "  }\n",
              "</style>\n",
              "\n",
              "  <script>\n",
              "    async function quickchart(key) {\n",
              "      const quickchartButtonEl =\n",
              "        document.querySelector('#' + key + ' button');\n",
              "      quickchartButtonEl.disabled = true;  // To prevent multiple clicks.\n",
              "      quickchartButtonEl.classList.add('colab-df-spinner');\n",
              "      try {\n",
              "        const charts = await google.colab.kernel.invokeFunction(\n",
              "            'suggestCharts', [key], {});\n",
              "      } catch (error) {\n",
              "        console.error('Error during call to suggestCharts:', error);\n",
              "      }\n",
              "      quickchartButtonEl.classList.remove('colab-df-spinner');\n",
              "      quickchartButtonEl.classList.add('colab-df-quickchart-complete');\n",
              "    }\n",
              "    (() => {\n",
              "      let quickchartButtonEl =\n",
              "        document.querySelector('#df-b9435dc0-cc8c-4ea6-aa7e-827853b1a491 button');\n",
              "      quickchartButtonEl.style.display =\n",
              "        google.colab.kernel.accessAllowed ? 'block' : 'none';\n",
              "    })();\n",
              "  </script>\n",
              "</div>\n",
              "    </div>\n",
              "  </div>\n"
            ],
            "application/vnd.google.colaboratory.intrinsic+json": {
              "type": "dataframe",
              "variable_name": "test_df",
              "summary": "{\n  \"name\": \"test_df\",\n  \"rows\": 10,\n  \"fields\": [\n    {\n      \"column\": \"question\",\n      \"properties\": {\n        \"dtype\": \"string\",\n        \"num_unique_values\": 10,\n        \"samples\": [\n          \"What is the role of Article 8 in the reporting requirements for sustainability information, as assessed by the auditor?\",\n          \"What rights do shareholders have regarding voting rights in undertakings subject to sustainability reporting requirements?\",\n          \"What challenges do undertakings face in gathering information from suppliers in emerging markets and economies for sustainability reporting standards, given the challenges of obtaining information from actors throughout the value chain and limitations on disclosures for small and medium-sized undertakings?\"\n        ],\n        \"semantic_type\": \"\",\n        \"description\": \"\"\n      }\n    },\n    {\n      \"column\": \"contexts\",\n      \"properties\": {\n        \"dtype\": \"object\",\n        \"semantic_type\": \"\",\n        \"description\": \"\"\n      }\n    },\n    {\n      \"column\": \"ground_truth\",\n      \"properties\": {\n        \"dtype\": \"string\",\n        \"num_unique_values\": 10,\n        \"samples\": [\n          \"The role of Article 8 in the reporting requirements for sustainability information, as assessed by the auditor, is to ensure that the undertaking's reporting complies with the reporting requirements of Regulation (EU) 2020/852.\",\n          \"Shareholders which represent more than 5% of the voting rights or 5% of the capital of the undertaking, acting individually or collectively, should be given the right to table a draft resolution to be adopted in the general meeting.\",\n          \"Undertakings may face difficulties in gathering information from suppliers in emerging markets and economies for sustainability reporting standards. This is because they may encounter challenges in gathering information from actors throughout their value chain, especially those that are not subject to sustainability reporting requirements. Additionally, there are limitations on disclosures for small and medium-sized undertakings, which further restrict the information that can be obtained.\"\n        ],\n        \"semantic_type\": \"\",\n        \"description\": \"\"\n      }\n    },\n    {\n      \"column\": \"evolution_type\",\n      \"properties\": {\n        \"dtype\": \"category\",\n        \"num_unique_values\": 3,\n        \"samples\": [\n          \"simple\",\n          \"reasoning\",\n          \"multi_context\"\n        ],\n        \"semantic_type\": \"\",\n        \"description\": \"\"\n      }\n    },\n    {\n      \"column\": \"metadata\",\n      \"properties\": {\n        \"dtype\": \"object\",\n        \"semantic_type\": \"\",\n        \"description\": \"\"\n      }\n    },\n    {\n      \"column\": \"episode_done\",\n      \"properties\": {\n        \"dtype\": \"boolean\",\n        \"num_unique_values\": 1,\n        \"samples\": [\n          true\n        ],\n        \"semantic_type\": \"\",\n        \"description\": \"\"\n      }\n    }\n  ]\n}"
            }
          },
          "metadata": {},
          "execution_count": 25
        }
      ]
    },
    {
      "cell_type": "code",
      "source": [
        "test_questions = test_df[\"question\"].values.tolist()\n",
        "test_groundtruths = test_df[\"ground_truth\"].values.tolist()"
      ],
      "metadata": {
        "id": "xAiXbVmLYSoC"
      },
      "execution_count": 26,
      "outputs": []
    },
    {
      "cell_type": "markdown",
      "source": [
        "Generating responses using the RAG pipeline using the questions generated and collecting the retrieved contexts for each question."
      ],
      "metadata": {
        "id": "aE5rfMLfbqKH"
      }
    },
    {
      "cell_type": "code",
      "source": [
        "answers = []\n",
        "contexts = []\n",
        "\n",
        "for question in test_questions:\n",
        "  response = retrieval_augmented_qa_chain.invoke({\"question\" : question})\n",
        "  answers.append(response[\"response\"].content)\n",
        "  contexts.append([context.page_content for context in response[\"context\"]])"
      ],
      "metadata": {
        "id": "9_AayvT1dAQN"
      },
      "execution_count": 27,
      "outputs": []
    },
    {
      "cell_type": "markdown",
      "source": [
        "Wrapping the information in a Hugging Face dataset for use in the Ragas library."
      ],
      "metadata": {
        "id": "opHaHmYDeBfC"
      }
    },
    {
      "cell_type": "code",
      "source": [
        "from datasets import Dataset\n",
        "\n",
        "response_dataset = Dataset.from_dict({\n",
        "    \"question\" : test_questions,\n",
        "    \"answer\" : answers,\n",
        "    \"contexts\" : contexts,\n",
        "    \"ground_truth\" : test_groundtruths\n",
        "})"
      ],
      "metadata": {
        "id": "fY48YZITeHy-"
      },
      "execution_count": 28,
      "outputs": []
    },
    {
      "cell_type": "markdown",
      "source": [
        "Checking the data."
      ],
      "metadata": {
        "id": "mmeVvQaZeogE"
      }
    },
    {
      "cell_type": "code",
      "source": [
        "response_dataset[0]"
      ],
      "metadata": {
        "colab": {
          "base_uri": "https://localhost:8080/"
        },
        "id": "pOpydvc8eqNM",
        "outputId": "9a6280be-dc5b-42a8-af02-b3c7d1909763"
      },
      "execution_count": 29,
      "outputs": [
        {
          "output_type": "execute_result",
          "data": {
            "text/plain": [
              "{'question': 'What is the definition of a \"company incorporated in a third country\"?',\n",
              " 'answer': 'A company incorporated in a third country is defined as an entity, regardless of its legal form, which carries out audits of the annual or consolidated financial statements, or the assurance of sustainability reporting.',\n",
              " 'contexts': ['4.\\n\\n\\n“third-country audit entity” means an entity, regardless of its legal form, which carries out audits of the annual or consolidated financial statements, or, where applicable, the assurance of sustainability reporting of a company incorporated in a third country, other than an entity which is registered as an audit firm in any Member State as a consequence of approval in accordance with Article\\xa03;\\n\\n\\n\\n\\n\\n\\n\\n\\n\\n\\n5.',\n",
              "  'Article where such undertaking and its subsidiary undertakings are included in the consolidated sustainability reporting of that parent undertaking that is established in a third country and where that consolidated sustainability reporting is carried out in accordance with the sustainability reporting standards adopted pursuant to Article\\xa029b or in a manner equivalent to those sustainability reporting standards, as determined in accordance with an implementing act on the equivalence of sustainability reporting standards adopted pursuant to the third subparagraph of Article\\xa023(4) of Directive 2004/109/EC of the European Parliament and of the Council\\xa0(*11).',\n",
              "  'The rule referred to in the third subparagraph shall only apply to a branch where the third-country undertaking does not have a subsidiary undertaking as referred to in the first subparagraph, and where the branch generated a net turnover of more than EUR\\xa040 million in the preceding financial year.\\nThe first and third subparagraphs shall only apply to the subsidiary undertakings or branches referred to in those subparagraphs where the third-country undertaking, at its group level, or, if not applicable, the individual level, generated a net turnover of more than EUR\\xa0150\\xa0million in the Union for each of the last two consecutive financial years.',\n",
              "  '5 of this Article where such parent undertaking and its subsidiary undertakings are included in the consolidated sustainability reporting of that parent undertaking that is established in a third country and where that consolidated sustainability reporting is carried out in accordance with the sustainability reporting standards adopted pursuant to Article\\xa029b or in a manner equivalent to those sustainability reporting standards, as determined in accordance with an implementing act on the equivalence of sustainability reporting standards adopted pursuant to the third subparagraph of Article\\xa023(4) of Directive 2004/109/EC.'],\n",
              " 'ground_truth': 'nan'}"
            ]
          },
          "metadata": {},
          "execution_count": 29
        }
      ]
    },
    {
      "cell_type": "markdown",
      "source": [
        "#### Evaluating with Ragas\n",
        "\n",
        "Importing the desired metrics to use for evaluating the created dataset\n",
        "\n",
        "The following metrics are used:\n",
        "\n",
        "- Faithfulness\n",
        "- Answer Relevancy\n",
        "- Context Precision\n",
        "- Context Recall\n",
        "- Answer Correctness\n"
      ],
      "metadata": {
        "id": "xbsFm5FievJI"
      }
    },
    {
      "cell_type": "code",
      "source": [
        "from ragas import evaluate\n",
        "from ragas.metrics import (\n",
        "    faithfulness,\n",
        "    answer_relevancy,\n",
        "    answer_correctness,\n",
        "    context_recall,\n",
        "    context_precision,\n",
        ")\n",
        "\n",
        "metrics = [\n",
        "    faithfulness,\n",
        "    answer_relevancy,\n",
        "    context_recall,\n",
        "    context_precision,\n",
        "    answer_correctness,\n",
        "]"
      ],
      "metadata": {
        "id": "R2PXwyt8e5aW"
      },
      "execution_count": 30,
      "outputs": []
    },
    {
      "cell_type": "markdown",
      "source": [
        "Evaluating using the `evaluate` function."
      ],
      "metadata": {
        "id": "Kx-vlsx_hrtV"
      }
    },
    {
      "cell_type": "code",
      "source": [
        "results = evaluate(response_dataset, metrics)"
      ],
      "metadata": {
        "colab": {
          "base_uri": "https://localhost:8080/",
          "height": 49,
          "referenced_widgets": [
            "096ba289710c478284ced60c8002fe89",
            "4b58baf6aac74620919e73f18e92a1ca",
            "411ac84260384e64a575e6aad70cab59",
            "ceb2feaf90f44f7d9e72ef89976b571e",
            "a321657c04c648aeb60cc4b3fea33c8d",
            "819f157a9bcd424e8bdc7f0fe7b04b52",
            "9c30bb1375644a5d8c65175a306adde8",
            "06ea4c82187b4962852bb8a870629656",
            "05e32fc05d554adbb9f294f6250ca06d",
            "48dab8325fd34776a26fb77d678bd196",
            "e2692a80e31c4a0d8890ab2d35023777"
          ]
        },
        "id": "DhlcfJ4lgYVI",
        "outputId": "1040e3cd-9eaf-4eda-aa5f-4d88ab987c21"
      },
      "execution_count": 31,
      "outputs": [
        {
          "output_type": "display_data",
          "data": {
            "text/plain": [
              "Evaluating:   0%|          | 0/50 [00:00<?, ?it/s]"
            ],
            "application/vnd.jupyter.widget-view+json": {
              "version_major": 2,
              "version_minor": 0,
              "model_id": "096ba289710c478284ced60c8002fe89"
            }
          },
          "metadata": {}
        }
      ]
    },
    {
      "cell_type": "code",
      "source": [
        "results"
      ],
      "metadata": {
        "colab": {
          "base_uri": "https://localhost:8080/"
        },
        "id": "UqPArpSrgwDD",
        "outputId": "96799d38-750f-4670-e5ca-528809c205de"
      },
      "execution_count": 32,
      "outputs": [
        {
          "output_type": "execute_result",
          "data": {
            "text/plain": [
              "{'faithfulness': 0.9667, 'answer_relevancy': 0.9307, 'context_recall': 0.8583, 'context_precision': 0.8389, 'answer_correctness': 0.6832}"
            ]
          },
          "metadata": {},
          "execution_count": 32
        }
      ]
    },
    {
      "cell_type": "code",
      "source": [
        "results_df = results.to_pandas()\n",
        "results_df"
      ],
      "metadata": {
        "colab": {
          "base_uri": "https://localhost:8080/",
          "height": 1000
        },
        "id": "2nsGzj8DhP9E",
        "outputId": "30dab973-23f2-4688-fc54-bb67715619c3"
      },
      "execution_count": 33,
      "outputs": [
        {
          "output_type": "execute_result",
          "data": {
            "text/plain": [
              "                                            question  \\\n",
              "0  What is the definition of a \"company incorpora...   \n",
              "1  What rights do shareholders have regarding vot...   \n",
              "2  What are the consequences of the gap between u...   \n",
              "3  What information should be covered in a sustai...   \n",
              "4  What is the purpose of Directive 2004/109/EC a...   \n",
              "5  What challenges do undertakings face in gather...   \n",
              "6  Why is it important to consult experts during ...   \n",
              "7  What information should be included in sustain...   \n",
              "8  What is the role of Article 8 in the reporting...   \n",
              "9  What obligations should be extended to statuto...   \n",
              "\n",
              "                                              answer  \\\n",
              "0  A company incorporated in a third country is d...   \n",
              "1  Shareholders who represent more than 5% of the...   \n",
              "2  Investors are unable to take sufficient accoun...   \n",
              "3  The sustainability report at the group level o...   \n",
              "4  The purpose of Directive 2004/109/EC is to ens...   \n",
              "5  Undertakings face challenges in gathering info...   \n",
              "6  It is important to consult experts during the ...   \n",
              "7  The information that should be included in sus...   \n",
              "8  Article 8 of Regulation (EU) 2020/852 outlines...   \n",
              "9  The obligation to report irregularities to the...   \n",
              "\n",
              "                                            contexts  \\\n",
              "0  [4.\\n\\n\\n“third-country audit entity” means an...   \n",
              "1  [Member States shall ensure that shareholders ...   \n",
              "2  [In the absence of policy action, the gap betw...   \n",
              "3  [parent undertaking reporting at group level i...   \n",
              "4  [(23)\\n\\n\\nDirective 2004/109/EC of the Europe...   \n",
              "5  [Sustainability reporting standards should als...   \n",
              "6  [In order to specify the requirements set out ...   \n",
              "7  [comparable and based on uniform indicators wh...   \n",
              "8  [reporting. The auditor should also assess whe...   \n",
              "9  [The rules on the approval and recognition of ...   \n",
              "\n",
              "                                        ground_truth  faithfulness  \\\n",
              "0                                                nan      1.000000   \n",
              "1  Shareholders which represent more than 5% of t...      1.000000   \n",
              "2  The consequences of the gap between users' inf...      1.000000   \n",
              "3  The sustainability report at the group level o...      1.000000   \n",
              "4  Directive 2004/109/EC, as amended by this amen...      1.000000   \n",
              "5  Undertakings may face difficulties in gatherin...      1.000000   \n",
              "6  It is important to consult experts during the ...      0.666667   \n",
              "7  The sustainability reports for the undertaking...      1.000000   \n",
              "8  The role of Article 8 in the reporting require...      1.000000   \n",
              "9  Statutory auditors and audit firms should have...      1.000000   \n",
              "\n",
              "   answer_relevancy  context_recall  context_precision  answer_correctness  \n",
              "0          0.974557        0.250000           0.250000            0.181092  \n",
              "1          0.879029        1.000000           1.000000            0.737930  \n",
              "2          0.877619        0.666667           1.000000            0.735861  \n",
              "3          0.994279        1.000000           0.638889            0.999823  \n",
              "4          0.914347        0.666667           1.000000            0.669464  \n",
              "5          0.968744        1.000000           1.000000            0.547723  \n",
              "6          0.973681        1.000000           1.000000            0.490675  \n",
              "7          0.954948        1.000000           1.000000            0.743566  \n",
              "8          0.833371        1.000000           1.000000            0.736875  \n",
              "9          0.936387        1.000000           0.500000            0.989013  "
            ],
            "text/html": [
              "\n",
              "  <div id=\"df-2c51653c-ac08-4823-a920-a1605ee590bf\" class=\"colab-df-container\">\n",
              "    <div>\n",
              "<style scoped>\n",
              "    .dataframe tbody tr th:only-of-type {\n",
              "        vertical-align: middle;\n",
              "    }\n",
              "\n",
              "    .dataframe tbody tr th {\n",
              "        vertical-align: top;\n",
              "    }\n",
              "\n",
              "    .dataframe thead th {\n",
              "        text-align: right;\n",
              "    }\n",
              "</style>\n",
              "<table border=\"1\" class=\"dataframe\">\n",
              "  <thead>\n",
              "    <tr style=\"text-align: right;\">\n",
              "      <th></th>\n",
              "      <th>question</th>\n",
              "      <th>answer</th>\n",
              "      <th>contexts</th>\n",
              "      <th>ground_truth</th>\n",
              "      <th>faithfulness</th>\n",
              "      <th>answer_relevancy</th>\n",
              "      <th>context_recall</th>\n",
              "      <th>context_precision</th>\n",
              "      <th>answer_correctness</th>\n",
              "    </tr>\n",
              "  </thead>\n",
              "  <tbody>\n",
              "    <tr>\n",
              "      <th>0</th>\n",
              "      <td>What is the definition of a \"company incorpora...</td>\n",
              "      <td>A company incorporated in a third country is d...</td>\n",
              "      <td>[4.\\n\\n\\n“third-country audit entity” means an...</td>\n",
              "      <td>nan</td>\n",
              "      <td>1.000000</td>\n",
              "      <td>0.974557</td>\n",
              "      <td>0.250000</td>\n",
              "      <td>0.250000</td>\n",
              "      <td>0.181092</td>\n",
              "    </tr>\n",
              "    <tr>\n",
              "      <th>1</th>\n",
              "      <td>What rights do shareholders have regarding vot...</td>\n",
              "      <td>Shareholders who represent more than 5% of the...</td>\n",
              "      <td>[Member States shall ensure that shareholders ...</td>\n",
              "      <td>Shareholders which represent more than 5% of t...</td>\n",
              "      <td>1.000000</td>\n",
              "      <td>0.879029</td>\n",
              "      <td>1.000000</td>\n",
              "      <td>1.000000</td>\n",
              "      <td>0.737930</td>\n",
              "    </tr>\n",
              "    <tr>\n",
              "      <th>2</th>\n",
              "      <td>What are the consequences of the gap between u...</td>\n",
              "      <td>Investors are unable to take sufficient accoun...</td>\n",
              "      <td>[In the absence of policy action, the gap betw...</td>\n",
              "      <td>The consequences of the gap between users' inf...</td>\n",
              "      <td>1.000000</td>\n",
              "      <td>0.877619</td>\n",
              "      <td>0.666667</td>\n",
              "      <td>1.000000</td>\n",
              "      <td>0.735861</td>\n",
              "    </tr>\n",
              "    <tr>\n",
              "      <th>3</th>\n",
              "      <td>What information should be covered in a sustai...</td>\n",
              "      <td>The sustainability report at the group level o...</td>\n",
              "      <td>[parent undertaking reporting at group level i...</td>\n",
              "      <td>The sustainability report at the group level o...</td>\n",
              "      <td>1.000000</td>\n",
              "      <td>0.994279</td>\n",
              "      <td>1.000000</td>\n",
              "      <td>0.638889</td>\n",
              "      <td>0.999823</td>\n",
              "    </tr>\n",
              "    <tr>\n",
              "      <th>4</th>\n",
              "      <td>What is the purpose of Directive 2004/109/EC a...</td>\n",
              "      <td>The purpose of Directive 2004/109/EC is to ens...</td>\n",
              "      <td>[(23)\\n\\n\\nDirective 2004/109/EC of the Europe...</td>\n",
              "      <td>Directive 2004/109/EC, as amended by this amen...</td>\n",
              "      <td>1.000000</td>\n",
              "      <td>0.914347</td>\n",
              "      <td>0.666667</td>\n",
              "      <td>1.000000</td>\n",
              "      <td>0.669464</td>\n",
              "    </tr>\n",
              "    <tr>\n",
              "      <th>5</th>\n",
              "      <td>What challenges do undertakings face in gather...</td>\n",
              "      <td>Undertakings face challenges in gathering info...</td>\n",
              "      <td>[Sustainability reporting standards should als...</td>\n",
              "      <td>Undertakings may face difficulties in gatherin...</td>\n",
              "      <td>1.000000</td>\n",
              "      <td>0.968744</td>\n",
              "      <td>1.000000</td>\n",
              "      <td>1.000000</td>\n",
              "      <td>0.547723</td>\n",
              "    </tr>\n",
              "    <tr>\n",
              "      <th>6</th>\n",
              "      <td>Why is it important to consult experts during ...</td>\n",
              "      <td>It is important to consult experts during the ...</td>\n",
              "      <td>[In order to specify the requirements set out ...</td>\n",
              "      <td>It is important to consult experts during the ...</td>\n",
              "      <td>0.666667</td>\n",
              "      <td>0.973681</td>\n",
              "      <td>1.000000</td>\n",
              "      <td>1.000000</td>\n",
              "      <td>0.490675</td>\n",
              "    </tr>\n",
              "    <tr>\n",
              "      <th>7</th>\n",
              "      <td>What information should be included in sustain...</td>\n",
              "      <td>The information that should be included in sus...</td>\n",
              "      <td>[comparable and based on uniform indicators wh...</td>\n",
              "      <td>The sustainability reports for the undertaking...</td>\n",
              "      <td>1.000000</td>\n",
              "      <td>0.954948</td>\n",
              "      <td>1.000000</td>\n",
              "      <td>1.000000</td>\n",
              "      <td>0.743566</td>\n",
              "    </tr>\n",
              "    <tr>\n",
              "      <th>8</th>\n",
              "      <td>What is the role of Article 8 in the reporting...</td>\n",
              "      <td>Article 8 of Regulation (EU) 2020/852 outlines...</td>\n",
              "      <td>[reporting. The auditor should also assess whe...</td>\n",
              "      <td>The role of Article 8 in the reporting require...</td>\n",
              "      <td>1.000000</td>\n",
              "      <td>0.833371</td>\n",
              "      <td>1.000000</td>\n",
              "      <td>1.000000</td>\n",
              "      <td>0.736875</td>\n",
              "    </tr>\n",
              "    <tr>\n",
              "      <th>9</th>\n",
              "      <td>What obligations should be extended to statuto...</td>\n",
              "      <td>The obligation to report irregularities to the...</td>\n",
              "      <td>[The rules on the approval and recognition of ...</td>\n",
              "      <td>Statutory auditors and audit firms should have...</td>\n",
              "      <td>1.000000</td>\n",
              "      <td>0.936387</td>\n",
              "      <td>1.000000</td>\n",
              "      <td>0.500000</td>\n",
              "      <td>0.989013</td>\n",
              "    </tr>\n",
              "  </tbody>\n",
              "</table>\n",
              "</div>\n",
              "    <div class=\"colab-df-buttons\">\n",
              "\n",
              "  <div class=\"colab-df-container\">\n",
              "    <button class=\"colab-df-convert\" onclick=\"convertToInteractive('df-2c51653c-ac08-4823-a920-a1605ee590bf')\"\n",
              "            title=\"Convert this dataframe to an interactive table.\"\n",
              "            style=\"display:none;\">\n",
              "\n",
              "  <svg xmlns=\"http://www.w3.org/2000/svg\" height=\"24px\" viewBox=\"0 -960 960 960\">\n",
              "    <path d=\"M120-120v-720h720v720H120Zm60-500h600v-160H180v160Zm220 220h160v-160H400v160Zm0 220h160v-160H400v160ZM180-400h160v-160H180v160Zm440 0h160v-160H620v160ZM180-180h160v-160H180v160Zm440 0h160v-160H620v160Z\"/>\n",
              "  </svg>\n",
              "    </button>\n",
              "\n",
              "  <style>\n",
              "    .colab-df-container {\n",
              "      display:flex;\n",
              "      gap: 12px;\n",
              "    }\n",
              "\n",
              "    .colab-df-convert {\n",
              "      background-color: #E8F0FE;\n",
              "      border: none;\n",
              "      border-radius: 50%;\n",
              "      cursor: pointer;\n",
              "      display: none;\n",
              "      fill: #1967D2;\n",
              "      height: 32px;\n",
              "      padding: 0 0 0 0;\n",
              "      width: 32px;\n",
              "    }\n",
              "\n",
              "    .colab-df-convert:hover {\n",
              "      background-color: #E2EBFA;\n",
              "      box-shadow: 0px 1px 2px rgba(60, 64, 67, 0.3), 0px 1px 3px 1px rgba(60, 64, 67, 0.15);\n",
              "      fill: #174EA6;\n",
              "    }\n",
              "\n",
              "    .colab-df-buttons div {\n",
              "      margin-bottom: 4px;\n",
              "    }\n",
              "\n",
              "    [theme=dark] .colab-df-convert {\n",
              "      background-color: #3B4455;\n",
              "      fill: #D2E3FC;\n",
              "    }\n",
              "\n",
              "    [theme=dark] .colab-df-convert:hover {\n",
              "      background-color: #434B5C;\n",
              "      box-shadow: 0px 1px 3px 1px rgba(0, 0, 0, 0.15);\n",
              "      filter: drop-shadow(0px 1px 2px rgba(0, 0, 0, 0.3));\n",
              "      fill: #FFFFFF;\n",
              "    }\n",
              "  </style>\n",
              "\n",
              "    <script>\n",
              "      const buttonEl =\n",
              "        document.querySelector('#df-2c51653c-ac08-4823-a920-a1605ee590bf button.colab-df-convert');\n",
              "      buttonEl.style.display =\n",
              "        google.colab.kernel.accessAllowed ? 'block' : 'none';\n",
              "\n",
              "      async function convertToInteractive(key) {\n",
              "        const element = document.querySelector('#df-2c51653c-ac08-4823-a920-a1605ee590bf');\n",
              "        const dataTable =\n",
              "          await google.colab.kernel.invokeFunction('convertToInteractive',\n",
              "                                                    [key], {});\n",
              "        if (!dataTable) return;\n",
              "\n",
              "        const docLinkHtml = 'Like what you see? Visit the ' +\n",
              "          '<a target=\"_blank\" href=https://colab.research.google.com/notebooks/data_table.ipynb>data table notebook</a>'\n",
              "          + ' to learn more about interactive tables.';\n",
              "        element.innerHTML = '';\n",
              "        dataTable['output_type'] = 'display_data';\n",
              "        await google.colab.output.renderOutput(dataTable, element);\n",
              "        const docLink = document.createElement('div');\n",
              "        docLink.innerHTML = docLinkHtml;\n",
              "        element.appendChild(docLink);\n",
              "      }\n",
              "    </script>\n",
              "  </div>\n",
              "\n",
              "\n",
              "<div id=\"df-6385ecb8-a9cc-46cb-893d-9d47897d0568\">\n",
              "  <button class=\"colab-df-quickchart\" onclick=\"quickchart('df-6385ecb8-a9cc-46cb-893d-9d47897d0568')\"\n",
              "            title=\"Suggest charts\"\n",
              "            style=\"display:none;\">\n",
              "\n",
              "<svg xmlns=\"http://www.w3.org/2000/svg\" height=\"24px\"viewBox=\"0 0 24 24\"\n",
              "     width=\"24px\">\n",
              "    <g>\n",
              "        <path d=\"M19 3H5c-1.1 0-2 .9-2 2v14c0 1.1.9 2 2 2h14c1.1 0 2-.9 2-2V5c0-1.1-.9-2-2-2zM9 17H7v-7h2v7zm4 0h-2V7h2v10zm4 0h-2v-4h2v4z\"/>\n",
              "    </g>\n",
              "</svg>\n",
              "  </button>\n",
              "\n",
              "<style>\n",
              "  .colab-df-quickchart {\n",
              "      --bg-color: #E8F0FE;\n",
              "      --fill-color: #1967D2;\n",
              "      --hover-bg-color: #E2EBFA;\n",
              "      --hover-fill-color: #174EA6;\n",
              "      --disabled-fill-color: #AAA;\n",
              "      --disabled-bg-color: #DDD;\n",
              "  }\n",
              "\n",
              "  [theme=dark] .colab-df-quickchart {\n",
              "      --bg-color: #3B4455;\n",
              "      --fill-color: #D2E3FC;\n",
              "      --hover-bg-color: #434B5C;\n",
              "      --hover-fill-color: #FFFFFF;\n",
              "      --disabled-bg-color: #3B4455;\n",
              "      --disabled-fill-color: #666;\n",
              "  }\n",
              "\n",
              "  .colab-df-quickchart {\n",
              "    background-color: var(--bg-color);\n",
              "    border: none;\n",
              "    border-radius: 50%;\n",
              "    cursor: pointer;\n",
              "    display: none;\n",
              "    fill: var(--fill-color);\n",
              "    height: 32px;\n",
              "    padding: 0;\n",
              "    width: 32px;\n",
              "  }\n",
              "\n",
              "  .colab-df-quickchart:hover {\n",
              "    background-color: var(--hover-bg-color);\n",
              "    box-shadow: 0 1px 2px rgba(60, 64, 67, 0.3), 0 1px 3px 1px rgba(60, 64, 67, 0.15);\n",
              "    fill: var(--button-hover-fill-color);\n",
              "  }\n",
              "\n",
              "  .colab-df-quickchart-complete:disabled,\n",
              "  .colab-df-quickchart-complete:disabled:hover {\n",
              "    background-color: var(--disabled-bg-color);\n",
              "    fill: var(--disabled-fill-color);\n",
              "    box-shadow: none;\n",
              "  }\n",
              "\n",
              "  .colab-df-spinner {\n",
              "    border: 2px solid var(--fill-color);\n",
              "    border-color: transparent;\n",
              "    border-bottom-color: var(--fill-color);\n",
              "    animation:\n",
              "      spin 1s steps(1) infinite;\n",
              "  }\n",
              "\n",
              "  @keyframes spin {\n",
              "    0% {\n",
              "      border-color: transparent;\n",
              "      border-bottom-color: var(--fill-color);\n",
              "      border-left-color: var(--fill-color);\n",
              "    }\n",
              "    20% {\n",
              "      border-color: transparent;\n",
              "      border-left-color: var(--fill-color);\n",
              "      border-top-color: var(--fill-color);\n",
              "    }\n",
              "    30% {\n",
              "      border-color: transparent;\n",
              "      border-left-color: var(--fill-color);\n",
              "      border-top-color: var(--fill-color);\n",
              "      border-right-color: var(--fill-color);\n",
              "    }\n",
              "    40% {\n",
              "      border-color: transparent;\n",
              "      border-right-color: var(--fill-color);\n",
              "      border-top-color: var(--fill-color);\n",
              "    }\n",
              "    60% {\n",
              "      border-color: transparent;\n",
              "      border-right-color: var(--fill-color);\n",
              "    }\n",
              "    80% {\n",
              "      border-color: transparent;\n",
              "      border-right-color: var(--fill-color);\n",
              "      border-bottom-color: var(--fill-color);\n",
              "    }\n",
              "    90% {\n",
              "      border-color: transparent;\n",
              "      border-bottom-color: var(--fill-color);\n",
              "    }\n",
              "  }\n",
              "</style>\n",
              "\n",
              "  <script>\n",
              "    async function quickchart(key) {\n",
              "      const quickchartButtonEl =\n",
              "        document.querySelector('#' + key + ' button');\n",
              "      quickchartButtonEl.disabled = true;  // To prevent multiple clicks.\n",
              "      quickchartButtonEl.classList.add('colab-df-spinner');\n",
              "      try {\n",
              "        const charts = await google.colab.kernel.invokeFunction(\n",
              "            'suggestCharts', [key], {});\n",
              "      } catch (error) {\n",
              "        console.error('Error during call to suggestCharts:', error);\n",
              "      }\n",
              "      quickchartButtonEl.classList.remove('colab-df-spinner');\n",
              "      quickchartButtonEl.classList.add('colab-df-quickchart-complete');\n",
              "    }\n",
              "    (() => {\n",
              "      let quickchartButtonEl =\n",
              "        document.querySelector('#df-6385ecb8-a9cc-46cb-893d-9d47897d0568 button');\n",
              "      quickchartButtonEl.style.display =\n",
              "        google.colab.kernel.accessAllowed ? 'block' : 'none';\n",
              "    })();\n",
              "  </script>\n",
              "</div>\n",
              "    </div>\n",
              "  </div>\n"
            ],
            "application/vnd.google.colaboratory.intrinsic+json": {
              "type": "dataframe",
              "variable_name": "results_df",
              "summary": "{\n  \"name\": \"results_df\",\n  \"rows\": 10,\n  \"fields\": [\n    {\n      \"column\": \"question\",\n      \"properties\": {\n        \"dtype\": \"string\",\n        \"num_unique_values\": 10,\n        \"samples\": [\n          \"What is the role of Article 8 in the reporting requirements for sustainability information, as assessed by the auditor?\",\n          \"What rights do shareholders have regarding voting rights in undertakings subject to sustainability reporting requirements?\",\n          \"What challenges do undertakings face in gathering information from suppliers in emerging markets and economies for sustainability reporting standards, given the challenges of obtaining information from actors throughout the value chain and limitations on disclosures for small and medium-sized undertakings?\"\n        ],\n        \"semantic_type\": \"\",\n        \"description\": \"\"\n      }\n    },\n    {\n      \"column\": \"answer\",\n      \"properties\": {\n        \"dtype\": \"string\",\n        \"num_unique_values\": 10,\n        \"samples\": [\n          \"Article 8 of Regulation (EU) 2020/852 outlines the reporting requirements for sustainability information, and the role of the auditor is to assess whether the undertaking's reporting complies with these requirements. The auditor should express an opinion based on a reasonable assurance engagement about the compliance of the sustainability reporting with Union requirements.\",\n          \"Shareholders who represent more than 5% of the voting rights or 5% of the capital of the undertaking have the right to table a draft resolution to be adopted in the general meeting, requiring an accredited third party to prepare a report on certain elements of the sustainability reporting.\",\n          \"Undertakings face challenges in gathering information from suppliers in emerging markets and economies for sustainability reporting standards due to difficulties in obtaining information from actors throughout the value chain, especially from small or medium-sized undertakings, and limitations on disclosures for such undertakings.\"\n        ],\n        \"semantic_type\": \"\",\n        \"description\": \"\"\n      }\n    },\n    {\n      \"column\": \"contexts\",\n      \"properties\": {\n        \"dtype\": \"object\",\n        \"semantic_type\": \"\",\n        \"description\": \"\"\n      }\n    },\n    {\n      \"column\": \"ground_truth\",\n      \"properties\": {\n        \"dtype\": \"string\",\n        \"num_unique_values\": 10,\n        \"samples\": [\n          \"The role of Article 8 in the reporting requirements for sustainability information, as assessed by the auditor, is to ensure that the undertaking's reporting complies with the reporting requirements of Regulation (EU) 2020/852.\",\n          \"Shareholders which represent more than 5% of the voting rights or 5% of the capital of the undertaking, acting individually or collectively, should be given the right to table a draft resolution to be adopted in the general meeting.\",\n          \"Undertakings may face difficulties in gathering information from suppliers in emerging markets and economies for sustainability reporting standards. This is because they may encounter challenges in gathering information from actors throughout their value chain, especially those that are not subject to sustainability reporting requirements. Additionally, there are limitations on disclosures for small and medium-sized undertakings, which further restrict the information that can be obtained.\"\n        ],\n        \"semantic_type\": \"\",\n        \"description\": \"\"\n      }\n    },\n    {\n      \"column\": \"faithfulness\",\n      \"properties\": {\n        \"dtype\": \"number\",\n        \"std\": 0.10540925533894599,\n        \"min\": 0.6666666666666666,\n        \"max\": 1.0,\n        \"num_unique_values\": 2,\n        \"samples\": [\n          0.6666666666666666,\n          1.0\n        ],\n        \"semantic_type\": \"\",\n        \"description\": \"\"\n      }\n    },\n    {\n      \"column\": \"answer_relevancy\",\n      \"properties\": {\n        \"dtype\": \"number\",\n        \"std\": 0.05281874545787811,\n        \"min\": 0.83337134531814,\n        \"max\": 0.9942785477397048,\n        \"num_unique_values\": 10,\n        \"samples\": [\n          0.83337134531814,\n          0.8790288015965114\n        ],\n        \"semantic_type\": \"\",\n        \"description\": \"\"\n      }\n    },\n    {\n      \"column\": \"context_recall\",\n      \"properties\": {\n        \"dtype\": \"number\",\n        \"std\": 0.2547390337357861,\n        \"min\": 0.25,\n        \"max\": 1.0,\n        \"num_unique_values\": 3,\n        \"samples\": [\n          0.25,\n          1.0\n        ],\n        \"semantic_type\": \"\",\n        \"description\": \"\"\n      }\n    },\n    {\n      \"column\": \"context_precision\",\n      \"properties\": {\n        \"dtype\": \"number\",\n        \"std\": 0.27554659483895944,\n        \"min\": 0.249999999975,\n        \"max\": 0.999999999975,\n        \"num_unique_values\": 5,\n        \"samples\": [\n          0.9999999999666667,\n          0.49999999995\n        ],\n        \"semantic_type\": \"\",\n        \"description\": \"\"\n      }\n    },\n    {\n      \"column\": \"answer_correctness\",\n      \"properties\": {\n        \"dtype\": \"number\",\n        \"std\": 0.23892950624766027,\n        \"min\": 0.18109224414888472,\n        \"max\": 0.9998226471714048,\n        \"num_unique_values\": 10,\n        \"samples\": [\n          0.7368754382538982,\n          0.7379300509648976\n        ],\n        \"semantic_type\": \"\",\n        \"description\": \"\"\n      }\n    }\n  ]\n}"
            }
          },
          "metadata": {},
          "execution_count": 33
        }
      ]
    },
    {
      "cell_type": "markdown",
      "source": [
        "## Testing a More Performant Retriever\n",
        "\n",
        "Testing how a different retriver impacts the Ragas metrics."
      ],
      "metadata": {
        "id": "MWfiu_pLh3JL"
      }
    },
    {
      "cell_type": "code",
      "source": [
        "from langchain.retrievers import MultiQueryRetriever\n",
        "\n",
        "advanced_retriever = MultiQueryRetriever.from_llm(retriever=retriever, llm=primary_qa_llm)"
      ],
      "metadata": {
        "id": "nKIuM336isBL"
      },
      "execution_count": 34,
      "outputs": []
    },
    {
      "cell_type": "markdown",
      "source": [
        "Re-creating the RAG pipeline using the abstractions in LangChain v0.1.0\n",
        "\n",
        "Creating a chain to \"stuff\" our documents into our context."
      ],
      "metadata": {
        "id": "82rcj3L-i_c8"
      }
    },
    {
      "cell_type": "code",
      "source": [
        "from langchain.chains.combine_documents import create_stuff_documents_chain\n",
        "\n",
        "document_chain = create_stuff_documents_chain(primary_qa_llm, retrieval_qa_prompt)"
      ],
      "metadata": {
        "id": "EfdCgTw7jC4i"
      },
      "execution_count": 35,
      "outputs": []
    },
    {
      "cell_type": "markdown",
      "source": [
        "Creating the retrieval chain."
      ],
      "metadata": {
        "id": "ozYl5WdPnvLu"
      }
    },
    {
      "cell_type": "code",
      "source": [
        "from langchain.chains import create_retrieval_chain\n",
        "\n",
        "retrieval_chain = create_retrieval_chain(advanced_retriever, document_chain)"
      ],
      "metadata": {
        "id": "9AK7wHVnn0U3"
      },
      "execution_count": 36,
      "outputs": []
    },
    {
      "cell_type": "code",
      "source": [
        "response = retrieval_chain.invoke({\"input\": \"What does the acronym CSRD stand for?\"})"
      ],
      "metadata": {
        "id": "cmKORMfMoCjL"
      },
      "execution_count": 40,
      "outputs": []
    },
    {
      "cell_type": "code",
      "source": [
        "print(response[\"answer\"])"
      ],
      "metadata": {
        "colab": {
          "base_uri": "https://localhost:8080/"
        },
        "id": "ICMsUWbWoOpf",
        "outputId": "37633273-15eb-444e-d5d1-abdfa7f8f43b"
      },
      "execution_count": 41,
      "outputs": [
        {
          "output_type": "stream",
          "name": "stdout",
          "text": [
            "The context provided does not mention the specific acronym \"CSRD.\"\n"
          ]
        }
      ]
    },
    {
      "cell_type": "code",
      "source": [
        "response = retrieval_chain.invoke({\"input\": \"What is article 29a about?\"})"
      ],
      "metadata": {
        "id": "5s8ZGasYoVi6"
      },
      "execution_count": 43,
      "outputs": []
    },
    {
      "cell_type": "code",
      "source": [
        "print(response[\"answer\"])"
      ],
      "metadata": {
        "colab": {
          "base_uri": "https://localhost:8080/"
        },
        "id": "ADNCdW4hoYT8",
        "outputId": "98b5d27e-ce2d-4652-8a24-5038ea174624"
      },
      "execution_count": 44,
      "outputs": [
        {
          "output_type": "stream",
          "name": "stdout",
          "text": [
            "Article 29a of Directive 2013/34/EU pertains to the disclosure of non-financial information by undertakings. It requires undertakings to include references to and additional explanations of amounts reported in their annual financial statements. Additionally, it specifies reporting areas that must be covered in the non-financial reporting, such as business model, policies, outcomes of policies, risks and risk management, and key performance indicators relevant to the business. The article aims to ensure consistency in the information disclosed in the management report.\n"
          ]
        }
      ]
    },
    {
      "cell_type": "markdown",
      "source": [
        "Evaluating the new chain.\n",
        "\n",
        "Collecting the pipeline's contexts and answers."
      ],
      "metadata": {
        "id": "OxkU0HdpoaiE"
      }
    },
    {
      "cell_type": "code",
      "source": [
        "answers = []\n",
        "contexts = []\n",
        "\n",
        "for question in test_questions:\n",
        "  response = retrieval_chain.invoke({\"input\" : question})\n",
        "  answers.append(response[\"answer\"])\n",
        "  contexts.append([context.page_content for context in response[\"context\"]])"
      ],
      "metadata": {
        "id": "kO8cWxn2oinT"
      },
      "execution_count": 45,
      "outputs": []
    },
    {
      "cell_type": "markdown",
      "source": [
        "Converting it into a dataset."
      ],
      "metadata": {
        "id": "tgagfhPUtM2j"
      }
    },
    {
      "cell_type": "code",
      "source": [
        "response_dataset_advanced_retrieval = Dataset.from_dict({\n",
        "    \"question\" : test_questions,\n",
        "    \"answer\" : answers,\n",
        "    \"contexts\" : contexts,\n",
        "    \"ground_truth\" : test_groundtruths\n",
        "})"
      ],
      "metadata": {
        "id": "5FcllGeSovP8"
      },
      "execution_count": 46,
      "outputs": []
    },
    {
      "cell_type": "markdown",
      "source": [
        "Evaluating on the same metrics as the first pipeline."
      ],
      "metadata": {
        "id": "dELYabwktR2C"
      }
    },
    {
      "cell_type": "code",
      "source": [
        "advanced_retrieval_results = evaluate(response_dataset_advanced_retrieval, metrics)"
      ],
      "metadata": {
        "colab": {
          "base_uri": "https://localhost:8080/",
          "height": 49,
          "referenced_widgets": [
            "6e750563509e41328409874b2f9901c3",
            "b6e8ff46631848a39bab1cf642820399",
            "4690b663cf9b43159f58464e44ce1898",
            "f5f408dd33f846f4abfb2edc3ef20d9f",
            "2c8d176cd50e46dc9d70b9b00b0be0e7",
            "09e4cb3956e247089e87a21ae37936a1",
            "5939aa9faa7c4f8b870005e94fac1d93",
            "cf5b4b61b55045059a7b255eed13a681",
            "e7239a9b137a4effb42de561aa918ff3",
            "9d7de26886f246d7a1afc615ebe7f47a",
            "3d6672a10eda45d0818c48ebb28a246c"
          ]
        },
        "id": "d7uHseWJo2TU",
        "outputId": "c1be7a1e-8eb7-4461-b36f-2bee7102b677"
      },
      "execution_count": 47,
      "outputs": [
        {
          "output_type": "display_data",
          "data": {
            "text/plain": [
              "Evaluating:   0%|          | 0/50 [00:00<?, ?it/s]"
            ],
            "application/vnd.jupyter.widget-view+json": {
              "version_major": 2,
              "version_minor": 0,
              "model_id": "6e750563509e41328409874b2f9901c3"
            }
          },
          "metadata": {}
        }
      ]
    },
    {
      "cell_type": "markdown",
      "source": [
        "### Comparing Results\n",
        "\n",
        "Comparing results and see what directional changes occured.\n",
        "\n",
        "Initial metrics from the first pipeline."
      ],
      "metadata": {
        "id": "J0hzqq5VtZ2a"
      }
    },
    {
      "cell_type": "code",
      "source": [
        "results"
      ],
      "metadata": {
        "colab": {
          "base_uri": "https://localhost:8080/"
        },
        "id": "_WWGRaF5qx3V",
        "outputId": "ea1fd91b-0e62-4ce2-f050-0a360bbddbcb"
      },
      "execution_count": 48,
      "outputs": [
        {
          "output_type": "execute_result",
          "data": {
            "text/plain": [
              "{'faithfulness': 0.9667, 'answer_relevancy': 0.9307, 'context_recall': 0.8583, 'context_precision': 0.8389, 'answer_correctness': 0.6832}"
            ]
          },
          "metadata": {},
          "execution_count": 48
        }
      ]
    },
    {
      "cell_type": "markdown",
      "source": [
        "Metrics from the advanced retrieval chain."
      ],
      "metadata": {
        "id": "oFv_yAeotmFs"
      }
    },
    {
      "cell_type": "code",
      "source": [
        "advanced_retrieval_results"
      ],
      "metadata": {
        "colab": {
          "base_uri": "https://localhost:8080/"
        },
        "id": "rpV11dxJo7xa",
        "outputId": "9069936d-9fdb-4792-d527-cb44a16b9bfe"
      },
      "execution_count": 49,
      "outputs": [
        {
          "output_type": "execute_result",
          "data": {
            "text/plain": [
              "{'faithfulness': 1.0000, 'answer_relevancy': 0.9561, 'context_recall': 0.9333, 'context_precision': 0.8511, 'answer_correctness': 0.6545}"
            ]
          },
          "metadata": {},
          "execution_count": 49
        }
      ]
    },
    {
      "cell_type": "code",
      "source": [
        "import pandas as pd\n",
        "\n",
        "df_original = pd.DataFrame(list(results.items()), columns=['Metric', 'Baseline'])\n",
        "df_comparison = pd.DataFrame(list(advanced_retrieval_results.items()), columns=['Metric', 'MultiQueryRetriever with Document Stuffing'])\n",
        "\n",
        "df_merged = pd.merge(df_original, df_comparison, on='Metric')\n",
        "\n",
        "df_merged['Delta'] = df_merged['MultiQueryRetriever with Document Stuffing'] - df_merged['Baseline']\n",
        "\n",
        "df_merged"
      ],
      "metadata": {
        "colab": {
          "base_uri": "https://localhost:8080/",
          "height": 206
        },
        "id": "62NYn3iAvTjM",
        "outputId": "98792d55-5d8b-471b-ce4a-4b269121629e"
      },
      "execution_count": 50,
      "outputs": [
        {
          "output_type": "execute_result",
          "data": {
            "text/plain": [
              "               Metric  Baseline  MultiQueryRetriever with Document Stuffing  \\\n",
              "0        faithfulness  0.966667                                    1.000000   \n",
              "1    answer_relevancy  0.930696                                    0.956124   \n",
              "2      context_recall  0.858333                                    0.933333   \n",
              "3   context_precision  0.838889                                    0.851052   \n",
              "4  answer_correctness  0.683202                                    0.654532   \n",
              "\n",
              "      Delta  \n",
              "0  0.033333  \n",
              "1  0.025428  \n",
              "2  0.075000  \n",
              "3  0.012163  \n",
              "4 -0.028671  "
            ],
            "text/html": [
              "\n",
              "  <div id=\"df-6f5a0a02-7eda-4600-b535-8700b512a508\" class=\"colab-df-container\">\n",
              "    <div>\n",
              "<style scoped>\n",
              "    .dataframe tbody tr th:only-of-type {\n",
              "        vertical-align: middle;\n",
              "    }\n",
              "\n",
              "    .dataframe tbody tr th {\n",
              "        vertical-align: top;\n",
              "    }\n",
              "\n",
              "    .dataframe thead th {\n",
              "        text-align: right;\n",
              "    }\n",
              "</style>\n",
              "<table border=\"1\" class=\"dataframe\">\n",
              "  <thead>\n",
              "    <tr style=\"text-align: right;\">\n",
              "      <th></th>\n",
              "      <th>Metric</th>\n",
              "      <th>Baseline</th>\n",
              "      <th>MultiQueryRetriever with Document Stuffing</th>\n",
              "      <th>Delta</th>\n",
              "    </tr>\n",
              "  </thead>\n",
              "  <tbody>\n",
              "    <tr>\n",
              "      <th>0</th>\n",
              "      <td>faithfulness</td>\n",
              "      <td>0.966667</td>\n",
              "      <td>1.000000</td>\n",
              "      <td>0.033333</td>\n",
              "    </tr>\n",
              "    <tr>\n",
              "      <th>1</th>\n",
              "      <td>answer_relevancy</td>\n",
              "      <td>0.930696</td>\n",
              "      <td>0.956124</td>\n",
              "      <td>0.025428</td>\n",
              "    </tr>\n",
              "    <tr>\n",
              "      <th>2</th>\n",
              "      <td>context_recall</td>\n",
              "      <td>0.858333</td>\n",
              "      <td>0.933333</td>\n",
              "      <td>0.075000</td>\n",
              "    </tr>\n",
              "    <tr>\n",
              "      <th>3</th>\n",
              "      <td>context_precision</td>\n",
              "      <td>0.838889</td>\n",
              "      <td>0.851052</td>\n",
              "      <td>0.012163</td>\n",
              "    </tr>\n",
              "    <tr>\n",
              "      <th>4</th>\n",
              "      <td>answer_correctness</td>\n",
              "      <td>0.683202</td>\n",
              "      <td>0.654532</td>\n",
              "      <td>-0.028671</td>\n",
              "    </tr>\n",
              "  </tbody>\n",
              "</table>\n",
              "</div>\n",
              "    <div class=\"colab-df-buttons\">\n",
              "\n",
              "  <div class=\"colab-df-container\">\n",
              "    <button class=\"colab-df-convert\" onclick=\"convertToInteractive('df-6f5a0a02-7eda-4600-b535-8700b512a508')\"\n",
              "            title=\"Convert this dataframe to an interactive table.\"\n",
              "            style=\"display:none;\">\n",
              "\n",
              "  <svg xmlns=\"http://www.w3.org/2000/svg\" height=\"24px\" viewBox=\"0 -960 960 960\">\n",
              "    <path d=\"M120-120v-720h720v720H120Zm60-500h600v-160H180v160Zm220 220h160v-160H400v160Zm0 220h160v-160H400v160ZM180-400h160v-160H180v160Zm440 0h160v-160H620v160ZM180-180h160v-160H180v160Zm440 0h160v-160H620v160Z\"/>\n",
              "  </svg>\n",
              "    </button>\n",
              "\n",
              "  <style>\n",
              "    .colab-df-container {\n",
              "      display:flex;\n",
              "      gap: 12px;\n",
              "    }\n",
              "\n",
              "    .colab-df-convert {\n",
              "      background-color: #E8F0FE;\n",
              "      border: none;\n",
              "      border-radius: 50%;\n",
              "      cursor: pointer;\n",
              "      display: none;\n",
              "      fill: #1967D2;\n",
              "      height: 32px;\n",
              "      padding: 0 0 0 0;\n",
              "      width: 32px;\n",
              "    }\n",
              "\n",
              "    .colab-df-convert:hover {\n",
              "      background-color: #E2EBFA;\n",
              "      box-shadow: 0px 1px 2px rgba(60, 64, 67, 0.3), 0px 1px 3px 1px rgba(60, 64, 67, 0.15);\n",
              "      fill: #174EA6;\n",
              "    }\n",
              "\n",
              "    .colab-df-buttons div {\n",
              "      margin-bottom: 4px;\n",
              "    }\n",
              "\n",
              "    [theme=dark] .colab-df-convert {\n",
              "      background-color: #3B4455;\n",
              "      fill: #D2E3FC;\n",
              "    }\n",
              "\n",
              "    [theme=dark] .colab-df-convert:hover {\n",
              "      background-color: #434B5C;\n",
              "      box-shadow: 0px 1px 3px 1px rgba(0, 0, 0, 0.15);\n",
              "      filter: drop-shadow(0px 1px 2px rgba(0, 0, 0, 0.3));\n",
              "      fill: #FFFFFF;\n",
              "    }\n",
              "  </style>\n",
              "\n",
              "    <script>\n",
              "      const buttonEl =\n",
              "        document.querySelector('#df-6f5a0a02-7eda-4600-b535-8700b512a508 button.colab-df-convert');\n",
              "      buttonEl.style.display =\n",
              "        google.colab.kernel.accessAllowed ? 'block' : 'none';\n",
              "\n",
              "      async function convertToInteractive(key) {\n",
              "        const element = document.querySelector('#df-6f5a0a02-7eda-4600-b535-8700b512a508');\n",
              "        const dataTable =\n",
              "          await google.colab.kernel.invokeFunction('convertToInteractive',\n",
              "                                                    [key], {});\n",
              "        if (!dataTable) return;\n",
              "\n",
              "        const docLinkHtml = 'Like what you see? Visit the ' +\n",
              "          '<a target=\"_blank\" href=https://colab.research.google.com/notebooks/data_table.ipynb>data table notebook</a>'\n",
              "          + ' to learn more about interactive tables.';\n",
              "        element.innerHTML = '';\n",
              "        dataTable['output_type'] = 'display_data';\n",
              "        await google.colab.output.renderOutput(dataTable, element);\n",
              "        const docLink = document.createElement('div');\n",
              "        docLink.innerHTML = docLinkHtml;\n",
              "        element.appendChild(docLink);\n",
              "      }\n",
              "    </script>\n",
              "  </div>\n",
              "\n",
              "\n",
              "<div id=\"df-b19826c9-98cb-47be-8e44-01a38d27f9be\">\n",
              "  <button class=\"colab-df-quickchart\" onclick=\"quickchart('df-b19826c9-98cb-47be-8e44-01a38d27f9be')\"\n",
              "            title=\"Suggest charts\"\n",
              "            style=\"display:none;\">\n",
              "\n",
              "<svg xmlns=\"http://www.w3.org/2000/svg\" height=\"24px\"viewBox=\"0 0 24 24\"\n",
              "     width=\"24px\">\n",
              "    <g>\n",
              "        <path d=\"M19 3H5c-1.1 0-2 .9-2 2v14c0 1.1.9 2 2 2h14c1.1 0 2-.9 2-2V5c0-1.1-.9-2-2-2zM9 17H7v-7h2v7zm4 0h-2V7h2v10zm4 0h-2v-4h2v4z\"/>\n",
              "    </g>\n",
              "</svg>\n",
              "  </button>\n",
              "\n",
              "<style>\n",
              "  .colab-df-quickchart {\n",
              "      --bg-color: #E8F0FE;\n",
              "      --fill-color: #1967D2;\n",
              "      --hover-bg-color: #E2EBFA;\n",
              "      --hover-fill-color: #174EA6;\n",
              "      --disabled-fill-color: #AAA;\n",
              "      --disabled-bg-color: #DDD;\n",
              "  }\n",
              "\n",
              "  [theme=dark] .colab-df-quickchart {\n",
              "      --bg-color: #3B4455;\n",
              "      --fill-color: #D2E3FC;\n",
              "      --hover-bg-color: #434B5C;\n",
              "      --hover-fill-color: #FFFFFF;\n",
              "      --disabled-bg-color: #3B4455;\n",
              "      --disabled-fill-color: #666;\n",
              "  }\n",
              "\n",
              "  .colab-df-quickchart {\n",
              "    background-color: var(--bg-color);\n",
              "    border: none;\n",
              "    border-radius: 50%;\n",
              "    cursor: pointer;\n",
              "    display: none;\n",
              "    fill: var(--fill-color);\n",
              "    height: 32px;\n",
              "    padding: 0;\n",
              "    width: 32px;\n",
              "  }\n",
              "\n",
              "  .colab-df-quickchart:hover {\n",
              "    background-color: var(--hover-bg-color);\n",
              "    box-shadow: 0 1px 2px rgba(60, 64, 67, 0.3), 0 1px 3px 1px rgba(60, 64, 67, 0.15);\n",
              "    fill: var(--button-hover-fill-color);\n",
              "  }\n",
              "\n",
              "  .colab-df-quickchart-complete:disabled,\n",
              "  .colab-df-quickchart-complete:disabled:hover {\n",
              "    background-color: var(--disabled-bg-color);\n",
              "    fill: var(--disabled-fill-color);\n",
              "    box-shadow: none;\n",
              "  }\n",
              "\n",
              "  .colab-df-spinner {\n",
              "    border: 2px solid var(--fill-color);\n",
              "    border-color: transparent;\n",
              "    border-bottom-color: var(--fill-color);\n",
              "    animation:\n",
              "      spin 1s steps(1) infinite;\n",
              "  }\n",
              "\n",
              "  @keyframes spin {\n",
              "    0% {\n",
              "      border-color: transparent;\n",
              "      border-bottom-color: var(--fill-color);\n",
              "      border-left-color: var(--fill-color);\n",
              "    }\n",
              "    20% {\n",
              "      border-color: transparent;\n",
              "      border-left-color: var(--fill-color);\n",
              "      border-top-color: var(--fill-color);\n",
              "    }\n",
              "    30% {\n",
              "      border-color: transparent;\n",
              "      border-left-color: var(--fill-color);\n",
              "      border-top-color: var(--fill-color);\n",
              "      border-right-color: var(--fill-color);\n",
              "    }\n",
              "    40% {\n",
              "      border-color: transparent;\n",
              "      border-right-color: var(--fill-color);\n",
              "      border-top-color: var(--fill-color);\n",
              "    }\n",
              "    60% {\n",
              "      border-color: transparent;\n",
              "      border-right-color: var(--fill-color);\n",
              "    }\n",
              "    80% {\n",
              "      border-color: transparent;\n",
              "      border-right-color: var(--fill-color);\n",
              "      border-bottom-color: var(--fill-color);\n",
              "    }\n",
              "    90% {\n",
              "      border-color: transparent;\n",
              "      border-bottom-color: var(--fill-color);\n",
              "    }\n",
              "  }\n",
              "</style>\n",
              "\n",
              "  <script>\n",
              "    async function quickchart(key) {\n",
              "      const quickchartButtonEl =\n",
              "        document.querySelector('#' + key + ' button');\n",
              "      quickchartButtonEl.disabled = true;  // To prevent multiple clicks.\n",
              "      quickchartButtonEl.classList.add('colab-df-spinner');\n",
              "      try {\n",
              "        const charts = await google.colab.kernel.invokeFunction(\n",
              "            'suggestCharts', [key], {});\n",
              "      } catch (error) {\n",
              "        console.error('Error during call to suggestCharts:', error);\n",
              "      }\n",
              "      quickchartButtonEl.classList.remove('colab-df-spinner');\n",
              "      quickchartButtonEl.classList.add('colab-df-quickchart-complete');\n",
              "    }\n",
              "    (() => {\n",
              "      let quickchartButtonEl =\n",
              "        document.querySelector('#df-b19826c9-98cb-47be-8e44-01a38d27f9be button');\n",
              "      quickchartButtonEl.style.display =\n",
              "        google.colab.kernel.accessAllowed ? 'block' : 'none';\n",
              "    })();\n",
              "  </script>\n",
              "</div>\n",
              "    </div>\n",
              "  </div>\n"
            ],
            "application/vnd.google.colaboratory.intrinsic+json": {
              "type": "dataframe",
              "variable_name": "df_merged",
              "summary": "{\n  \"name\": \"df_merged\",\n  \"rows\": 5,\n  \"fields\": [\n    {\n      \"column\": \"Metric\",\n      \"properties\": {\n        \"dtype\": \"string\",\n        \"num_unique_values\": 5,\n        \"samples\": [\n          \"answer_relevancy\",\n          \"answer_correctness\",\n          \"context_recall\"\n        ],\n        \"semantic_type\": \"\",\n        \"description\": \"\"\n      }\n    },\n    {\n      \"column\": \"Baseline\",\n      \"properties\": {\n        \"dtype\": \"number\",\n        \"std\": 0.109525004829165,\n        \"min\": 0.6832023576470354,\n        \"max\": 0.9666666666666666,\n        \"num_unique_values\": 5,\n        \"samples\": [\n          0.9306961509756775,\n          0.6832023576470354,\n          0.8583333333333332\n        ],\n        \"semantic_type\": \"\",\n        \"description\": \"\"\n      }\n    },\n    {\n      \"column\": \"MultiQueryRetriever with Document Stuffing\",\n      \"properties\": {\n        \"dtype\": \"number\",\n        \"std\": 0.13666411486301103,\n        \"min\": 0.6545316556750123,\n        \"max\": 1.0,\n        \"num_unique_values\": 5,\n        \"samples\": [\n          0.9561236604437889,\n          0.6545316556750123,\n          0.9333333333333332\n        ],\n        \"semantic_type\": \"\",\n        \"description\": \"\"\n      }\n    },\n    {\n      \"column\": \"Delta\",\n      \"properties\": {\n        \"dtype\": \"number\",\n        \"std\": 0.037426474823678856,\n        \"min\": -0.02867070197202315,\n        \"max\": 0.07500000000000007,\n        \"num_unique_values\": 5,\n        \"samples\": [\n          0.025427509468111453,\n          -0.02867070197202315,\n          0.07500000000000007\n        ],\n        \"semantic_type\": \"\",\n        \"description\": \"\"\n      }\n    }\n  ]\n}"
            }
          },
          "metadata": {},
          "execution_count": 50
        }
      ]
    },
    {
      "cell_type": "markdown",
      "source": [
        "Faithfulness, answer relevancy, context recall and context precision have improved but answer correctness has deteriorated.\n",
        "\n",
        "More experimentation is needed to improve the pipeline."
      ],
      "metadata": {
        "id": "hjFwUsN9tuNV"
      }
    },
    {
      "cell_type": "markdown",
      "source": [
        "This notebook is adapted from the notebook developed by AI Makerspace"
      ],
      "metadata": {
        "id": "kCf8RoQlIosF"
      }
    }
  ]
}